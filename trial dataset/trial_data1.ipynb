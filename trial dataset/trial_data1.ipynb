{
 "cells": [
  {
   "cell_type": "markdown",
   "metadata": {},
   "source": [
    "# Data analysis on the Dataset\n",
    "This is a very general data analysis part on the dataset"
   ]
  },
  {
   "cell_type": "code",
   "execution_count": 1,
   "metadata": {},
   "outputs": [
    {
     "data": {
      "application/javascript": [
       "IPython.notebook.set_autosave_interval(20000)"
      ]
     },
     "metadata": {},
     "output_type": "display_data"
    },
    {
     "name": "stdout",
     "output_type": "stream",
     "text": [
      "Autosaving every 20 seconds\n"
     ]
    }
   ],
   "source": [
    "%autosave 20\n",
    "import pandas as pd"
   ]
  },
  {
   "cell_type": "markdown",
   "metadata": {},
   "source": [
    "### Load the data set\n",
    "The file is in '*.txt', but the format of the data inside the file is in 'csv'. So load the data directly as 'csv' "
   ]
  },
  {
   "cell_type": "code",
   "execution_count": 2,
   "metadata": {},
   "outputs": [],
   "source": [
    "df=pd.read_csv(\"Sample dataset values.txt\")"
   ]
  },
  {
   "cell_type": "code",
   "execution_count": 3,
   "metadata": {},
   "outputs": [
    {
     "data": {
      "text/html": [
       "<div>\n",
       "<style scoped>\n",
       "    .dataframe tbody tr th:only-of-type {\n",
       "        vertical-align: middle;\n",
       "    }\n",
       "\n",
       "    .dataframe tbody tr th {\n",
       "        vertical-align: top;\n",
       "    }\n",
       "\n",
       "    .dataframe thead th {\n",
       "        text-align: right;\n",
       "    }\n",
       "</style>\n",
       "<table border=\"1\" class=\"dataframe\">\n",
       "  <thead>\n",
       "    <tr style=\"text-align: right;\">\n",
       "      <th></th>\n",
       "      <th>Sr No</th>\n",
       "      <th>Sensor</th>\n",
       "      <th>Name</th>\n",
       "      <th>Variable</th>\n",
       "      <th>Units</th>\n",
       "      <th>Timestamp</th>\n",
       "      <th>Value</th>\n",
       "      <th>Flagged as Suspect Reading</th>\n",
       "    </tr>\n",
       "  </thead>\n",
       "  <tbody>\n",
       "    <tr>\n",
       "      <th>0</th>\n",
       "      <td>1586958692652188245</td>\n",
       "      <td>sensor03</td>\n",
       "      <td>PER_AIRMON_MESH1976150</td>\n",
       "      <td>PM10</td>\n",
       "      <td>ugm -3</td>\n",
       "      <td>2018-12-13 03:16:00</td>\n",
       "      <td>16.12200</td>\n",
       "      <td>False</td>\n",
       "    </tr>\n",
       "    <tr>\n",
       "      <th>1</th>\n",
       "      <td>1586958692652348737</td>\n",
       "      <td>sensor01</td>\n",
       "      <td>PER_AIRMON_MESH1976150</td>\n",
       "      <td>PM 4</td>\n",
       "      <td>ugm -3</td>\n",
       "      <td>2018-12-14 12:46:00</td>\n",
       "      <td>5.19000</td>\n",
       "      <td>False</td>\n",
       "    </tr>\n",
       "    <tr>\n",
       "      <th>2</th>\n",
       "      <td>1586958692652681524</td>\n",
       "      <td>sensor02</td>\n",
       "      <td>PER_AIRMON_MESH1976150</td>\n",
       "      <td>NO</td>\n",
       "      <td>ugm -3</td>\n",
       "      <td>2018-12-14 00:30:00</td>\n",
       "      <td>0.08875</td>\n",
       "      <td>False</td>\n",
       "    </tr>\n",
       "    <tr>\n",
       "      <th>3</th>\n",
       "      <td>1586958692653617146</td>\n",
       "      <td>sensor01</td>\n",
       "      <td>PER_AIRMON_MESH1976150</td>\n",
       "      <td>PM2.5</td>\n",
       "      <td>ugm -3</td>\n",
       "      <td>2018-12-14 12:46:00</td>\n",
       "      <td>13.84500</td>\n",
       "      <td>False</td>\n",
       "    </tr>\n",
       "    <tr>\n",
       "      <th>4</th>\n",
       "      <td>1586958692655668348</td>\n",
       "      <td>sensor02</td>\n",
       "      <td>PER_AIRMON_MESH1976150</td>\n",
       "      <td>PM 4</td>\n",
       "      <td>ugm -3</td>\n",
       "      <td>2018-12-14 00:30:00</td>\n",
       "      <td>1.76000</td>\n",
       "      <td>False</td>\n",
       "    </tr>\n",
       "    <tr>\n",
       "      <th>...</th>\n",
       "      <td>...</td>\n",
       "      <td>...</td>\n",
       "      <td>...</td>\n",
       "      <td>...</td>\n",
       "      <td>...</td>\n",
       "      <td>...</td>\n",
       "      <td>...</td>\n",
       "      <td>...</td>\n",
       "    </tr>\n",
       "    <tr>\n",
       "      <th>262</th>\n",
       "      <td>1586958692890648280</td>\n",
       "      <td>sensor02</td>\n",
       "      <td>PER_AIRMON_MESH1976150</td>\n",
       "      <td>PM10</td>\n",
       "      <td>ugm -3</td>\n",
       "      <td>2018-12-14 00:42:00</td>\n",
       "      <td>7.38800</td>\n",
       "      <td>False</td>\n",
       "    </tr>\n",
       "    <tr>\n",
       "      <th>263</th>\n",
       "      <td>1586958692890824556</td>\n",
       "      <td>sensor01</td>\n",
       "      <td>PER_AIRMON_MESH1976150</td>\n",
       "      <td>PM 4</td>\n",
       "      <td>ugm -3</td>\n",
       "      <td>2018-12-14 13:03:00</td>\n",
       "      <td>4.21000</td>\n",
       "      <td>False</td>\n",
       "    </tr>\n",
       "    <tr>\n",
       "      <th>264</th>\n",
       "      <td>1586958692892191120</td>\n",
       "      <td>sensor03</td>\n",
       "      <td>PER_AIRMON_MESH1976150</td>\n",
       "      <td>O3</td>\n",
       "      <td>ppb</td>\n",
       "      <td>2018-12-13 03:20:00</td>\n",
       "      <td>23.01300</td>\n",
       "      <td>False</td>\n",
       "    </tr>\n",
       "    <tr>\n",
       "      <th>265</th>\n",
       "      <td>1586958692892201991</td>\n",
       "      <td>sensor01</td>\n",
       "      <td>PER_AIRMON_MESH1976150</td>\n",
       "      <td>NO</td>\n",
       "      <td>ugm -3</td>\n",
       "      <td>2018-12-14 13:04:00</td>\n",
       "      <td>5.38375</td>\n",
       "      <td>False</td>\n",
       "    </tr>\n",
       "    <tr>\n",
       "      <th>266</th>\n",
       "      <td>1586958692893048364</td>\n",
       "      <td>sensor02</td>\n",
       "      <td>PER_AIRMON_MESH1976150</td>\n",
       "      <td>PM2.5</td>\n",
       "      <td>ugm -3</td>\n",
       "      <td>2018-12-14 00:42:00</td>\n",
       "      <td>3.51300</td>\n",
       "      <td>False</td>\n",
       "    </tr>\n",
       "  </tbody>\n",
       "</table>\n",
       "<p>267 rows × 8 columns</p>\n",
       "</div>"
      ],
      "text/plain": [
       "                   Sr No    Sensor                    Name Variable   Units  \\\n",
       "0    1586958692652188245  sensor03  PER_AIRMON_MESH1976150     PM10  ugm -3   \n",
       "1    1586958692652348737  sensor01  PER_AIRMON_MESH1976150     PM 4  ugm -3   \n",
       "2    1586958692652681524  sensor02  PER_AIRMON_MESH1976150       NO  ugm -3   \n",
       "3    1586958692653617146  sensor01  PER_AIRMON_MESH1976150    PM2.5  ugm -3   \n",
       "4    1586958692655668348  sensor02  PER_AIRMON_MESH1976150     PM 4  ugm -3   \n",
       "..                   ...       ...                     ...      ...     ...   \n",
       "262  1586958692890648280  sensor02  PER_AIRMON_MESH1976150     PM10  ugm -3   \n",
       "263  1586958692890824556  sensor01  PER_AIRMON_MESH1976150     PM 4  ugm -3   \n",
       "264  1586958692892191120  sensor03  PER_AIRMON_MESH1976150       O3     ppb   \n",
       "265  1586958692892201991  sensor01  PER_AIRMON_MESH1976150       NO  ugm -3   \n",
       "266  1586958692893048364  sensor02  PER_AIRMON_MESH1976150    PM2.5  ugm -3   \n",
       "\n",
       "               Timestamp     Value  Flagged as Suspect Reading  \n",
       "0    2018-12-13 03:16:00  16.12200                       False  \n",
       "1    2018-12-14 12:46:00   5.19000                       False  \n",
       "2    2018-12-14 00:30:00   0.08875                       False  \n",
       "3    2018-12-14 12:46:00  13.84500                       False  \n",
       "4    2018-12-14 00:30:00   1.76000                       False  \n",
       "..                   ...       ...                         ...  \n",
       "262  2018-12-14 00:42:00   7.38800                       False  \n",
       "263  2018-12-14 13:03:00   4.21000                       False  \n",
       "264  2018-12-13 03:20:00  23.01300                       False  \n",
       "265  2018-12-14 13:04:00   5.38375                       False  \n",
       "266  2018-12-14 00:42:00   3.51300                       False  \n",
       "\n",
       "[267 rows x 8 columns]"
      ]
     },
     "execution_count": 3,
     "metadata": {},
     "output_type": "execute_result"
    }
   ],
   "source": [
    "df"
   ]
  },
  {
   "cell_type": "markdown",
   "metadata": {},
   "source": [
    "See  that the first coulmn is the serial number and will not add anything to the analysis"
   ]
  },
  {
   "cell_type": "code",
   "execution_count": 14,
   "metadata": {},
   "outputs": [
    {
     "data": {
      "text/plain": [
       "Index(['Sensor', 'Name', 'Variable', 'Units', 'Timestamp', 'Value',\n",
       "       'Flagged as Suspect Reading'],\n",
       "      dtype='object')"
      ]
     },
     "execution_count": 14,
     "metadata": {},
     "output_type": "execute_result"
    },
    {
     "data": {
      "text/plain": [
       "Index(['Sensor', 'Name', 'Variable', 'Units', 'Flagged as Suspect Reading'], dtype='object')"
      ]
     },
     "execution_count": 14,
     "metadata": {},
     "output_type": "execute_result"
    }
   ],
   "source": [
    "df.columns[1:8,]"
   ]
  },
  {
   "cell_type": "markdown",
   "metadata": {},
   "source": [
    "### Description of the objects and  not of the numerics"
   ]
  },
  {
   "cell_type": "code",
   "execution_count": 5,
   "metadata": {},
   "outputs": [
    {
     "data": {
      "text/html": [
       "<div>\n",
       "<style scoped>\n",
       "    .dataframe tbody tr th:only-of-type {\n",
       "        vertical-align: middle;\n",
       "    }\n",
       "\n",
       "    .dataframe tbody tr th {\n",
       "        vertical-align: top;\n",
       "    }\n",
       "\n",
       "    .dataframe thead th {\n",
       "        text-align: right;\n",
       "    }\n",
       "</style>\n",
       "<table border=\"1\" class=\"dataframe\">\n",
       "  <thead>\n",
       "    <tr style=\"text-align: right;\">\n",
       "      <th></th>\n",
       "      <th>Sensor</th>\n",
       "      <th>Name</th>\n",
       "      <th>Variable</th>\n",
       "      <th>Units</th>\n",
       "      <th>Timestamp</th>\n",
       "    </tr>\n",
       "  </thead>\n",
       "  <tbody>\n",
       "    <tr>\n",
       "      <th>count</th>\n",
       "      <td>267</td>\n",
       "      <td>267</td>\n",
       "      <td>267</td>\n",
       "      <td>267</td>\n",
       "      <td>267</td>\n",
       "    </tr>\n",
       "    <tr>\n",
       "      <th>unique</th>\n",
       "      <td>3</td>\n",
       "      <td>1</td>\n",
       "      <td>8</td>\n",
       "      <td>3</td>\n",
       "      <td>37</td>\n",
       "    </tr>\n",
       "    <tr>\n",
       "      <th>top</th>\n",
       "      <td>sensor01</td>\n",
       "      <td>PER_AIRMON_MESH1976150</td>\n",
       "      <td>NO</td>\n",
       "      <td>ugm -3</td>\n",
       "      <td>2018-12-14 13:00:00</td>\n",
       "    </tr>\n",
       "    <tr>\n",
       "      <th>freq</th>\n",
       "      <td>145</td>\n",
       "      <td>267</td>\n",
       "      <td>36</td>\n",
       "      <td>200</td>\n",
       "      <td>8</td>\n",
       "    </tr>\n",
       "  </tbody>\n",
       "</table>\n",
       "</div>"
      ],
      "text/plain": [
       "          Sensor                    Name Variable   Units            Timestamp\n",
       "count        267                     267      267     267                  267\n",
       "unique         3                       1        8       3                   37\n",
       "top     sensor01  PER_AIRMON_MESH1976150       NO  ugm -3  2018-12-14 13:00:00\n",
       "freq         145                     267       36     200                    8"
      ]
     },
     "execution_count": 5,
     "metadata": {},
     "output_type": "execute_result"
    }
   ],
   "source": [
    "df.describe(include='O')"
   ]
  },
  {
   "cell_type": "markdown",
   "metadata": {},
   "source": [
    "### Unique elements of the columns\n",
    "The dataset has 8 columns and 267 records. Among these 'Sr No' , 'Timestamp' and 'Value' are numerics. Two of these fields are unique. 'Sr No' and 'Timestamp' are unique to each record. The column 'Values' are different for different sensors. The other columns there are repetitons."
   ]
  },
  {
   "cell_type": "code",
   "execution_count": 6,
   "metadata": {},
   "outputs": [],
   "source": [
    "def uni(col):\n",
    "    print(\"There are \",len(df[col].unique()),\" unique elements  of column \", col,\" and they are \", df[col].unique())"
   ]
  },
  {
   "cell_type": "code",
   "execution_count": 7,
   "metadata": {},
   "outputs": [
    {
     "name": "stdout",
     "output_type": "stream",
     "text": [
      "There are  3  unique elements  of column  Sensor  and they are  ['sensor03' 'sensor01' 'sensor02']\n",
      "There are  1  unique elements  of column  Name  and they are  ['PER_AIRMON_MESH1976150']\n",
      "There are  8  unique elements  of column  Variable  and they are  ['PM10' 'PM 4' 'NO' 'PM2.5' 'PM1' 'Particle Count' 'O3' 'NO2']\n",
      "There are  3  unique elements  of column  Units  and they are  ['ugm -3' 'Kgm -3' 'ppb']\n",
      "There are  2  unique elements  of column  Flagged as Suspect Reading  and they are  [False  True]\n"
     ]
    },
    {
     "data": {
      "text/plain": [
       "[None, None, None, None, None]"
      ]
     },
     "execution_count": 7,
     "metadata": {},
     "output_type": "execute_result"
    }
   ],
   "source": [
    "list(map(uni,df[['Sensor', 'Name', 'Variable', 'Units','Flagged as Suspect Reading']]))"
   ]
  },
  {
   "cell_type": "code",
   "execution_count": null,
   "metadata": {},
   "outputs": [],
   "source": []
  }
 ],
 "metadata": {
  "kernelspec": {
   "display_name": "Python 3",
   "language": "python",
   "name": "python3"
  },
  "language_info": {
   "codemirror_mode": {
    "name": "ipython",
    "version": 3
   },
   "file_extension": ".py",
   "mimetype": "text/x-python",
   "name": "python",
   "nbconvert_exporter": "python",
   "pygments_lexer": "ipython3",
   "version": "3.7.5"
  }
 },
 "nbformat": 4,
 "nbformat_minor": 2
}
