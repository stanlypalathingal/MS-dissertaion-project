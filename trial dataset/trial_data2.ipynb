{
 "cells": [
  {
   "cell_type": "markdown",
   "metadata": {},
   "source": [
    "# Decision tree\n",
    "This is a trial on working of the decision tree"
   ]
  },
  {
   "cell_type": "code",
   "execution_count": 25,
   "metadata": {},
   "outputs": [
    {
     "data": {
      "application/javascript": [
       "IPython.notebook.set_autosave_interval(20000)"
      ]
     },
     "metadata": {},
     "output_type": "display_data"
    },
    {
     "name": "stdout",
     "output_type": "stream",
     "text": [
      "Autosaving every 20 seconds\n"
     ]
    }
   ],
   "source": [
    "%autosave 20\n",
    "import math \n",
    "import pandas as pd"
   ]
  },
  {
   "cell_type": "code",
   "execution_count": 26,
   "metadata": {
    "scrolled": true
   },
   "outputs": [
    {
     "data": {
      "text/html": [
       "<div>\n",
       "<style scoped>\n",
       "    .dataframe tbody tr th:only-of-type {\n",
       "        vertical-align: middle;\n",
       "    }\n",
       "\n",
       "    .dataframe tbody tr th {\n",
       "        vertical-align: top;\n",
       "    }\n",
       "\n",
       "    .dataframe thead th {\n",
       "        text-align: right;\n",
       "    }\n",
       "</style>\n",
       "<table border=\"1\" class=\"dataframe\">\n",
       "  <thead>\n",
       "    <tr style=\"text-align: right;\">\n",
       "      <th></th>\n",
       "      <th>Sr No</th>\n",
       "      <th>Sensor</th>\n",
       "      <th>Name</th>\n",
       "      <th>Variable</th>\n",
       "      <th>Units</th>\n",
       "      <th>Timestamp</th>\n",
       "      <th>Value</th>\n",
       "      <th>Flagged as Suspect Reading</th>\n",
       "    </tr>\n",
       "  </thead>\n",
       "  <tbody>\n",
       "    <tr>\n",
       "      <th>0</th>\n",
       "      <td>1586958692652188245</td>\n",
       "      <td>sensor03</td>\n",
       "      <td>PER_AIRMON_MESH1976150</td>\n",
       "      <td>PM10</td>\n",
       "      <td>ugm -3</td>\n",
       "      <td>2018-12-13 03:16:00</td>\n",
       "      <td>16.12200</td>\n",
       "      <td>False</td>\n",
       "    </tr>\n",
       "    <tr>\n",
       "      <th>1</th>\n",
       "      <td>1586958692652348737</td>\n",
       "      <td>sensor01</td>\n",
       "      <td>PER_AIRMON_MESH1976150</td>\n",
       "      <td>PM 4</td>\n",
       "      <td>ugm -3</td>\n",
       "      <td>2018-12-14 12:46:00</td>\n",
       "      <td>5.19000</td>\n",
       "      <td>False</td>\n",
       "    </tr>\n",
       "    <tr>\n",
       "      <th>2</th>\n",
       "      <td>1586958692652681524</td>\n",
       "      <td>sensor02</td>\n",
       "      <td>PER_AIRMON_MESH1976150</td>\n",
       "      <td>NO</td>\n",
       "      <td>ugm -3</td>\n",
       "      <td>2018-12-14 00:30:00</td>\n",
       "      <td>0.08875</td>\n",
       "      <td>False</td>\n",
       "    </tr>\n",
       "    <tr>\n",
       "      <th>3</th>\n",
       "      <td>1586958692653617146</td>\n",
       "      <td>sensor01</td>\n",
       "      <td>PER_AIRMON_MESH1976150</td>\n",
       "      <td>PM2.5</td>\n",
       "      <td>ugm -3</td>\n",
       "      <td>2018-12-14 12:46:00</td>\n",
       "      <td>13.84500</td>\n",
       "      <td>False</td>\n",
       "    </tr>\n",
       "    <tr>\n",
       "      <th>4</th>\n",
       "      <td>1586958692655668348</td>\n",
       "      <td>sensor02</td>\n",
       "      <td>PER_AIRMON_MESH1976150</td>\n",
       "      <td>PM 4</td>\n",
       "      <td>ugm -3</td>\n",
       "      <td>2018-12-14 00:30:00</td>\n",
       "      <td>1.76000</td>\n",
       "      <td>False</td>\n",
       "    </tr>\n",
       "    <tr>\n",
       "      <th>...</th>\n",
       "      <td>...</td>\n",
       "      <td>...</td>\n",
       "      <td>...</td>\n",
       "      <td>...</td>\n",
       "      <td>...</td>\n",
       "      <td>...</td>\n",
       "      <td>...</td>\n",
       "      <td>...</td>\n",
       "    </tr>\n",
       "    <tr>\n",
       "      <th>262</th>\n",
       "      <td>1586958692890648280</td>\n",
       "      <td>sensor02</td>\n",
       "      <td>PER_AIRMON_MESH1976150</td>\n",
       "      <td>PM10</td>\n",
       "      <td>ugm -3</td>\n",
       "      <td>2018-12-14 00:42:00</td>\n",
       "      <td>7.38800</td>\n",
       "      <td>False</td>\n",
       "    </tr>\n",
       "    <tr>\n",
       "      <th>263</th>\n",
       "      <td>1586958692890824556</td>\n",
       "      <td>sensor01</td>\n",
       "      <td>PER_AIRMON_MESH1976150</td>\n",
       "      <td>PM 4</td>\n",
       "      <td>ugm -3</td>\n",
       "      <td>2018-12-14 13:03:00</td>\n",
       "      <td>4.21000</td>\n",
       "      <td>False</td>\n",
       "    </tr>\n",
       "    <tr>\n",
       "      <th>264</th>\n",
       "      <td>1586958692892191120</td>\n",
       "      <td>sensor03</td>\n",
       "      <td>PER_AIRMON_MESH1976150</td>\n",
       "      <td>O3</td>\n",
       "      <td>ppb</td>\n",
       "      <td>2018-12-13 03:20:00</td>\n",
       "      <td>23.01300</td>\n",
       "      <td>False</td>\n",
       "    </tr>\n",
       "    <tr>\n",
       "      <th>265</th>\n",
       "      <td>1586958692892201991</td>\n",
       "      <td>sensor01</td>\n",
       "      <td>PER_AIRMON_MESH1976150</td>\n",
       "      <td>NO</td>\n",
       "      <td>ugm -3</td>\n",
       "      <td>2018-12-14 13:04:00</td>\n",
       "      <td>5.38375</td>\n",
       "      <td>False</td>\n",
       "    </tr>\n",
       "    <tr>\n",
       "      <th>266</th>\n",
       "      <td>1586958692893048364</td>\n",
       "      <td>sensor02</td>\n",
       "      <td>PER_AIRMON_MESH1976150</td>\n",
       "      <td>PM2.5</td>\n",
       "      <td>ugm -3</td>\n",
       "      <td>2018-12-14 00:42:00</td>\n",
       "      <td>3.51300</td>\n",
       "      <td>False</td>\n",
       "    </tr>\n",
       "  </tbody>\n",
       "</table>\n",
       "<p>267 rows × 8 columns</p>\n",
       "</div>"
      ],
      "text/plain": [
       "                   Sr No    Sensor                    Name Variable   Units  \\\n",
       "0    1586958692652188245  sensor03  PER_AIRMON_MESH1976150     PM10  ugm -3   \n",
       "1    1586958692652348737  sensor01  PER_AIRMON_MESH1976150     PM 4  ugm -3   \n",
       "2    1586958692652681524  sensor02  PER_AIRMON_MESH1976150       NO  ugm -3   \n",
       "3    1586958692653617146  sensor01  PER_AIRMON_MESH1976150    PM2.5  ugm -3   \n",
       "4    1586958692655668348  sensor02  PER_AIRMON_MESH1976150     PM 4  ugm -3   \n",
       "..                   ...       ...                     ...      ...     ...   \n",
       "262  1586958692890648280  sensor02  PER_AIRMON_MESH1976150     PM10  ugm -3   \n",
       "263  1586958692890824556  sensor01  PER_AIRMON_MESH1976150     PM 4  ugm -3   \n",
       "264  1586958692892191120  sensor03  PER_AIRMON_MESH1976150       O3     ppb   \n",
       "265  1586958692892201991  sensor01  PER_AIRMON_MESH1976150       NO  ugm -3   \n",
       "266  1586958692893048364  sensor02  PER_AIRMON_MESH1976150    PM2.5  ugm -3   \n",
       "\n",
       "               Timestamp     Value  Flagged as Suspect Reading  \n",
       "0    2018-12-13 03:16:00  16.12200                       False  \n",
       "1    2018-12-14 12:46:00   5.19000                       False  \n",
       "2    2018-12-14 00:30:00   0.08875                       False  \n",
       "3    2018-12-14 12:46:00  13.84500                       False  \n",
       "4    2018-12-14 00:30:00   1.76000                       False  \n",
       "..                   ...       ...                         ...  \n",
       "262  2018-12-14 00:42:00   7.38800                       False  \n",
       "263  2018-12-14 13:03:00   4.21000                       False  \n",
       "264  2018-12-13 03:20:00  23.01300                       False  \n",
       "265  2018-12-14 13:04:00   5.38375                       False  \n",
       "266  2018-12-14 00:42:00   3.51300                       False  \n",
       "\n",
       "[267 rows x 8 columns]"
      ]
     },
     "execution_count": 26,
     "metadata": {},
     "output_type": "execute_result"
    }
   ],
   "source": [
    "#Load the dataset weather\n",
    "df=pd.read_csv(\"Sample dataset values.txt\")\n",
    "df"
   ]
  },
  {
   "cell_type": "code",
   "execution_count": 27,
   "metadata": {},
   "outputs": [],
   "source": [
    "def uni(col):\n",
    "    print(\"There are \",len(df[col].unique()),\" unique elements  of column \", col,\" and they are \", df[col].unique())"
   ]
  },
  {
   "cell_type": "code",
   "execution_count": 28,
   "metadata": {
    "scrolled": true
   },
   "outputs": [
    {
     "name": "stdout",
     "output_type": "stream",
     "text": [
      "There are  3  unique elements  of column  Sensor  and they are  ['sensor03' 'sensor01' 'sensor02']\n",
      "There are  1  unique elements  of column  Name  and they are  ['PER_AIRMON_MESH1976150']\n",
      "There are  8  unique elements  of column  Variable  and they are  ['PM10' 'PM 4' 'NO' 'PM2.5' 'PM1' 'Particle Count' 'O3' 'NO2']\n",
      "There are  3  unique elements  of column  Units  and they are  ['ugm -3' 'Kgm -3' 'ppb']\n",
      "There are  2  unique elements  of column  Flagged as Suspect Reading  and they are  [False  True]\n"
     ]
    },
    {
     "data": {
      "text/plain": [
       "[None, None, None, None, None]"
      ]
     },
     "execution_count": 28,
     "metadata": {},
     "output_type": "execute_result"
    }
   ],
   "source": [
    "list(map(uni,df[['Sensor', 'Name', 'Variable', 'Units','Flagged as Suspect Reading']]))"
   ]
  },
  {
   "cell_type": "code",
   "execution_count": 29,
   "metadata": {},
   "outputs": [],
   "source": [
    "df.loc[df['Sensor']=='sensor01','Sensor']=0\n",
    "df.loc[df['Sensor']=='sensor02','Sensor']=1\n",
    "df.loc[df['Sensor']=='sensor03','Sensor']=2"
   ]
  },
  {
   "cell_type": "code",
   "execution_count": 30,
   "metadata": {},
   "outputs": [],
   "source": [
    "df.loc[df['Variable']=='PM10','Variable']=0\n",
    "df.loc[df['Variable']=='PM 4','Variable']=1\n",
    "df.loc[df['Variable']=='NO','Variable']=2\n",
    "df.loc[df['Variable']=='PM2.5','Variable']=3\n",
    "df.loc[df['Variable']=='PM1','Variable']=4\n",
    "df.loc[df['Variable']=='Particle Count','Variable']=5\n",
    "df.loc[df['Variable']=='O3','Variable']=6\n",
    "df.loc[df['Variable']=='NO2','Variable']=7"
   ]
  },
  {
   "cell_type": "code",
   "execution_count": 31,
   "metadata": {},
   "outputs": [],
   "source": [
    "df.loc[df['Name']=='PER_AIRMON_MESH1976150','Name']=0"
   ]
  },
  {
   "cell_type": "code",
   "execution_count": 32,
   "metadata": {},
   "outputs": [],
   "source": [
    "df.loc[df['Units']=='ugm -3','Units']=0\n",
    "df.loc[df['Units']=='Kgm -3','Units']=1\n",
    "df.loc[df['Units']=='ppb','Units']=2"
   ]
  },
  {
   "cell_type": "code",
   "execution_count": 33,
   "metadata": {},
   "outputs": [],
   "source": [
    "df.loc[df['Flagged as Suspect Reading']==False,'Flagged as Suspect Reading']=0\n",
    "df.loc[df['Flagged as Suspect Reading']==True,'Flagged as Suspect Reading']=1"
   ]
  },
  {
   "cell_type": "code",
   "execution_count": 34,
   "metadata": {},
   "outputs": [
    {
     "name": "stdout",
     "output_type": "stream",
     "text": [
      "correct : 255\n",
      "incorrect : 12\n"
     ]
    }
   ],
   "source": [
    "P,N=df['Flagged as Suspect Reading'].value_counts()\n",
    "print(\"correct :\",P)\n",
    "print(\"incorrect :\",N)"
   ]
  },
  {
   "cell_type": "code",
   "execution_count": 35,
   "metadata": {},
   "outputs": [
    {
     "data": {
      "text/plain": [
       "['Flagged as Suspect Reading']"
      ]
     },
     "execution_count": 35,
     "metadata": {},
     "output_type": "execute_result"
    },
    {
     "data": {
      "text/html": [
       "<div>\n",
       "<style scoped>\n",
       "    .dataframe tbody tr th:only-of-type {\n",
       "        vertical-align: middle;\n",
       "    }\n",
       "\n",
       "    .dataframe tbody tr th {\n",
       "        vertical-align: top;\n",
       "    }\n",
       "\n",
       "    .dataframe thead th {\n",
       "        text-align: right;\n",
       "    }\n",
       "</style>\n",
       "<table border=\"1\" class=\"dataframe\">\n",
       "  <thead>\n",
       "    <tr style=\"text-align: right;\">\n",
       "      <th></th>\n",
       "      <th>Sensor</th>\n",
       "      <th>Name</th>\n",
       "      <th>Variable</th>\n",
       "      <th>Units</th>\n",
       "      <th>Value</th>\n",
       "      <th>Flagged as Suspect Reading</th>\n",
       "    </tr>\n",
       "  </thead>\n",
       "  <tbody>\n",
       "    <tr>\n",
       "      <th>0</th>\n",
       "      <td>2</td>\n",
       "      <td>0</td>\n",
       "      <td>0</td>\n",
       "      <td>0</td>\n",
       "      <td>16.12200</td>\n",
       "      <td>0</td>\n",
       "    </tr>\n",
       "    <tr>\n",
       "      <th>1</th>\n",
       "      <td>0</td>\n",
       "      <td>0</td>\n",
       "      <td>1</td>\n",
       "      <td>0</td>\n",
       "      <td>5.19000</td>\n",
       "      <td>0</td>\n",
       "    </tr>\n",
       "    <tr>\n",
       "      <th>2</th>\n",
       "      <td>1</td>\n",
       "      <td>0</td>\n",
       "      <td>2</td>\n",
       "      <td>0</td>\n",
       "      <td>0.08875</td>\n",
       "      <td>0</td>\n",
       "    </tr>\n",
       "    <tr>\n",
       "      <th>3</th>\n",
       "      <td>0</td>\n",
       "      <td>0</td>\n",
       "      <td>3</td>\n",
       "      <td>0</td>\n",
       "      <td>13.84500</td>\n",
       "      <td>0</td>\n",
       "    </tr>\n",
       "    <tr>\n",
       "      <th>4</th>\n",
       "      <td>1</td>\n",
       "      <td>0</td>\n",
       "      <td>1</td>\n",
       "      <td>0</td>\n",
       "      <td>1.76000</td>\n",
       "      <td>0</td>\n",
       "    </tr>\n",
       "  </tbody>\n",
       "</table>\n",
       "</div>"
      ],
      "text/plain": [
       "   Sensor  Name  Variable  Units     Value  Flagged as Suspect Reading\n",
       "0       2     0         0      0  16.12200                           0\n",
       "1       0     0         1      0   5.19000                           0\n",
       "2       1     0         2      0   0.08875                           0\n",
       "3       0     0         3      0  13.84500                           0\n",
       "4       1     0         1      0   1.76000                           0"
      ]
     },
     "execution_count": 35,
     "metadata": {},
     "output_type": "execute_result"
    }
   ],
   "source": [
    "xtrain=['Sensor', 'Name', 'Variable', 'Units','Value']\n",
    "ytrain=['Flagged as Suspect Reading']\n",
    "ytrain\n",
    "df=df[xtrain+ytrain]\n",
    "df.head()"
   ]
  },
  {
   "cell_type": "code",
   "execution_count": 36,
   "metadata": {},
   "outputs": [],
   "source": [
    "IG = pd.DataFrame(columns=['column', 'Info_gain'])"
   ]
  },
  {
   "cell_type": "code",
   "execution_count": 37,
   "metadata": {},
   "outputs": [],
   "source": [
    "# Function to calculate information gain\n",
    "def informationGain(p,n):\n",
    "    if(p==0):\n",
    "        return 0\n",
    "    elif(n==0):\n",
    "        return 0    \n",
    "    IG= -(p/(p+n))*math.log2(p/(p+n)) - (n/(p+n))*math.log2(n/(p+n))\n",
    "    return round(IG,3)"
   ]
  },
  {
   "cell_type": "code",
   "execution_count": 38,
   "metadata": {},
   "outputs": [
    {
     "name": "stdout",
     "output_type": "stream",
     "text": [
      "Total Information Gain :  0.265\n"
     ]
    }
   ],
   "source": [
    "IG=informationGain(P,N)\n",
    "print(\"Total Information Gain : \",IG)"
   ]
  },
  {
   "cell_type": "code",
   "execution_count": 39,
   "metadata": {},
   "outputs": [],
   "source": [
    "Gain = pd.DataFrame(columns=['column', 'gain'])\n",
    "dependent=''.join(ytrain)"
   ]
  },
  {
   "cell_type": "code",
   "execution_count": 40,
   "metadata": {},
   "outputs": [],
   "source": [
    "def find_gain(new_df,Gain):\n",
    "    for col in range(0,len(new_df.columns)-1):\n",
    "        b=new_df.columns[col]\n",
    "#         print(b)\n",
    "        cmn=[]\n",
    "\n",
    "        cmn=new_df.iloc[:,col].unique()\n",
    "        ig=[]\n",
    "        p1=[]\n",
    "        n1=[]\n",
    "\n",
    "\n",
    "        for col1 in range(0,len(cmn)):\n",
    "            p=n=0\n",
    "#             print(cmn[col1])\n",
    "            s=new_df.groupby(b).get_group(cmn[col1])\n",
    "#             print(s)\n",
    "            p=len(s[s[dependent]==1])\n",
    "            n=len(s[s[dependent]==0])    \n",
    "#             print(p)\n",
    "#             print(n)\n",
    "            ig.append(informationGain(p,n))\n",
    "            p1.append(p)\n",
    "            n1.append(n)\n",
    "#             print(\"information gain of \",cmn[col1], \"is \",ig[col1])\n",
    "\n",
    "        E=0.0\n",
    "        for i in range(0,len(cmn)):\n",
    "            E=E+(((p1[i]+n1[i])/(P+N))*ig[i])\n",
    "\n",
    "        print(\"Entropy of \", b, \"is \",round(E,3))\n",
    "        print(\"Gain of \",b, \"is \",round(IG-E,3))\n",
    "        Gain=Gain.append([{'column':b,'gain':round(IG-E,3)}], ignore_index=True)\n",
    "\n",
    "#         print(Gain)\n",
    "        print(\"***********\")  \n",
    "    \n",
    "    return Gain\n"
   ]
  },
  {
   "cell_type": "code",
   "execution_count": 41,
   "metadata": {},
   "outputs": [
    {
     "name": "stdout",
     "output_type": "stream",
     "text": [
      "Entropy of  Sensor is  0.227\n",
      "Gain of  Sensor is  0.038\n",
      "***********\n",
      "Entropy of  Name is  0.265\n",
      "Gain of  Name is  0.0\n",
      "***********\n",
      "Entropy of  Variable is  0.124\n",
      "Gain of  Variable is  0.141\n",
      "***********\n",
      "Entropy of  Units is  0.245\n",
      "Gain of  Units is  0.02\n",
      "***********\n",
      "Entropy of  Value is  0.0\n",
      "Gain of  Value is  0.265\n",
      "***********\n",
      "     column   gain\n",
      "4     Value  0.265\n",
      "2  Variable  0.141\n",
      "0    Sensor  0.038\n",
      "3     Units  0.020\n",
      "1      Name  0.000\n"
     ]
    }
   ],
   "source": [
    "Gain=find_gain(df,Gain)\n",
    "print(Gain.sort_values(by=['gain'],ascending=False))"
   ]
  },
  {
   "cell_type": "code",
   "execution_count": 42,
   "metadata": {},
   "outputs": [
    {
     "name": "stdout",
     "output_type": "stream",
     "text": [
      "     column   gain\n",
      "4     Value  0.265\n",
      "2  Variable  0.141\n",
      "0    Sensor  0.038\n",
      "3     Units  0.020\n",
      "1      Name  0.000\n"
     ]
    },
    {
     "data": {
      "text/plain": [
       "['Value', 'Variable', 'Sensor', 'Units', 'Name', 'Flagged as Suspect Reading']"
      ]
     },
     "execution_count": 42,
     "metadata": {},
     "output_type": "execute_result"
    }
   ],
   "source": [
    "print(Gain.sort_values(by=['gain'],ascending=False))\n",
    "c=Gain.sort_values(by=['gain'],ascending=False).column.tolist()\n",
    "c.append(dependent)\n",
    "c"
   ]
  },
  {
   "cell_type": "code",
   "execution_count": 43,
   "metadata": {},
   "outputs": [
    {
     "data": {
      "text/html": [
       "<div>\n",
       "<style scoped>\n",
       "    .dataframe tbody tr th:only-of-type {\n",
       "        vertical-align: middle;\n",
       "    }\n",
       "\n",
       "    .dataframe tbody tr th {\n",
       "        vertical-align: top;\n",
       "    }\n",
       "\n",
       "    .dataframe thead th {\n",
       "        text-align: right;\n",
       "    }\n",
       "</style>\n",
       "<table border=\"1\" class=\"dataframe\">\n",
       "  <thead>\n",
       "    <tr style=\"text-align: right;\">\n",
       "      <th></th>\n",
       "      <th>Value</th>\n",
       "      <th>Variable</th>\n",
       "      <th>Sensor</th>\n",
       "      <th>Units</th>\n",
       "      <th>Name</th>\n",
       "      <th>Flagged as Suspect Reading</th>\n",
       "    </tr>\n",
       "  </thead>\n",
       "  <tbody>\n",
       "    <tr>\n",
       "      <th>0</th>\n",
       "      <td>16.12200</td>\n",
       "      <td>0</td>\n",
       "      <td>2</td>\n",
       "      <td>0</td>\n",
       "      <td>0</td>\n",
       "      <td>0</td>\n",
       "    </tr>\n",
       "    <tr>\n",
       "      <th>1</th>\n",
       "      <td>5.19000</td>\n",
       "      <td>1</td>\n",
       "      <td>0</td>\n",
       "      <td>0</td>\n",
       "      <td>0</td>\n",
       "      <td>0</td>\n",
       "    </tr>\n",
       "    <tr>\n",
       "      <th>2</th>\n",
       "      <td>0.08875</td>\n",
       "      <td>2</td>\n",
       "      <td>1</td>\n",
       "      <td>0</td>\n",
       "      <td>0</td>\n",
       "      <td>0</td>\n",
       "    </tr>\n",
       "    <tr>\n",
       "      <th>3</th>\n",
       "      <td>13.84500</td>\n",
       "      <td>3</td>\n",
       "      <td>0</td>\n",
       "      <td>0</td>\n",
       "      <td>0</td>\n",
       "      <td>0</td>\n",
       "    </tr>\n",
       "    <tr>\n",
       "      <th>4</th>\n",
       "      <td>1.76000</td>\n",
       "      <td>1</td>\n",
       "      <td>1</td>\n",
       "      <td>0</td>\n",
       "      <td>0</td>\n",
       "      <td>0</td>\n",
       "    </tr>\n",
       "    <tr>\n",
       "      <th>...</th>\n",
       "      <td>...</td>\n",
       "      <td>...</td>\n",
       "      <td>...</td>\n",
       "      <td>...</td>\n",
       "      <td>...</td>\n",
       "      <td>...</td>\n",
       "    </tr>\n",
       "    <tr>\n",
       "      <th>262</th>\n",
       "      <td>7.38800</td>\n",
       "      <td>0</td>\n",
       "      <td>1</td>\n",
       "      <td>0</td>\n",
       "      <td>0</td>\n",
       "      <td>0</td>\n",
       "    </tr>\n",
       "    <tr>\n",
       "      <th>263</th>\n",
       "      <td>4.21000</td>\n",
       "      <td>1</td>\n",
       "      <td>0</td>\n",
       "      <td>0</td>\n",
       "      <td>0</td>\n",
       "      <td>0</td>\n",
       "    </tr>\n",
       "    <tr>\n",
       "      <th>264</th>\n",
       "      <td>23.01300</td>\n",
       "      <td>6</td>\n",
       "      <td>2</td>\n",
       "      <td>2</td>\n",
       "      <td>0</td>\n",
       "      <td>0</td>\n",
       "    </tr>\n",
       "    <tr>\n",
       "      <th>265</th>\n",
       "      <td>5.38375</td>\n",
       "      <td>2</td>\n",
       "      <td>0</td>\n",
       "      <td>0</td>\n",
       "      <td>0</td>\n",
       "      <td>0</td>\n",
       "    </tr>\n",
       "    <tr>\n",
       "      <th>266</th>\n",
       "      <td>3.51300</td>\n",
       "      <td>3</td>\n",
       "      <td>1</td>\n",
       "      <td>0</td>\n",
       "      <td>0</td>\n",
       "      <td>0</td>\n",
       "    </tr>\n",
       "  </tbody>\n",
       "</table>\n",
       "<p>267 rows × 6 columns</p>\n",
       "</div>"
      ],
      "text/plain": [
       "        Value  Variable  Sensor  Units  Name  Flagged as Suspect Reading\n",
       "0    16.12200         0       2      0     0                           0\n",
       "1     5.19000         1       0      0     0                           0\n",
       "2     0.08875         2       1      0     0                           0\n",
       "3    13.84500         3       0      0     0                           0\n",
       "4     1.76000         1       1      0     0                           0\n",
       "..        ...       ...     ...    ...   ...                         ...\n",
       "262   7.38800         0       1      0     0                           0\n",
       "263   4.21000         1       0      0     0                           0\n",
       "264  23.01300         6       2      2     0                           0\n",
       "265   5.38375         2       0      0     0                           0\n",
       "266   3.51300         3       1      0     0                           0\n",
       "\n",
       "[267 rows x 6 columns]"
      ]
     },
     "execution_count": 43,
     "metadata": {},
     "output_type": "execute_result"
    }
   ],
   "source": [
    "df=df[c]\n",
    "df"
   ]
  },
  {
   "cell_type": "code",
   "execution_count": null,
   "metadata": {},
   "outputs": [],
   "source": []
  },
  {
   "cell_type": "code",
   "execution_count": null,
   "metadata": {},
   "outputs": [],
   "source": []
  }
 ],
 "metadata": {
  "kernelspec": {
   "display_name": "Python 3",
   "language": "python",
   "name": "python3"
  },
  "language_info": {
   "codemirror_mode": {
    "name": "ipython",
    "version": 3
   },
   "file_extension": ".py",
   "mimetype": "text/x-python",
   "name": "python",
   "nbconvert_exporter": "python",
   "pygments_lexer": "ipython3",
   "version": "3.7.5"
  }
 },
 "nbformat": 4,
 "nbformat_minor": 2
}
