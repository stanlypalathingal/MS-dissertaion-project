{
 "cells": [
  {
   "cell_type": "code",
   "execution_count": 1,
   "metadata": {},
   "outputs": [
    {
     "data": {
      "application/javascript": [
       "IPython.notebook.set_autosave_interval(20000)"
      ]
     },
     "metadata": {},
     "output_type": "display_data"
    },
    {
     "name": "stdout",
     "output_type": "stream",
     "text": [
      "Autosaving every 20 seconds\n"
     ]
    }
   ],
   "source": [
    "%autosave 20\n",
    "import math \n",
    "import pandas as pd\n",
    "\n",
    "#import numpy as np\n",
    "import matplotlib.pyplot as plt\n",
    "\n",
    "from matplotlib.colors import ListedColormap\n",
    "%matplotlib inline\n",
    "from sklearn import tree\n",
    "\n",
    "from sklearn.tree import DecisionTreeClassifier\n",
    "\n",
    "from sklearn.metrics import accuracy_score\n",
    "from sklearn.metrics import f1_score\n",
    "from sklearn.metrics import confusion_matrix\n",
    "from sklearn.metrics import precision_score\n",
    "from sklearn.metrics import recall_score"
   ]
  },
  {
   "cell_type": "code",
   "execution_count": 2,
   "metadata": {},
   "outputs": [
    {
     "data": {
      "text/html": [
       "<div>\n",
       "<style scoped>\n",
       "    .dataframe tbody tr th:only-of-type {\n",
       "        vertical-align: middle;\n",
       "    }\n",
       "\n",
       "    .dataframe tbody tr th {\n",
       "        vertical-align: top;\n",
       "    }\n",
       "\n",
       "    .dataframe thead th {\n",
       "        text-align: right;\n",
       "    }\n",
       "</style>\n",
       "<table border=\"1\" class=\"dataframe\">\n",
       "  <thead>\n",
       "    <tr style=\"text-align: right;\">\n",
       "      <th></th>\n",
       "      <th>Sr No</th>\n",
       "      <th>Sensor</th>\n",
       "      <th>Name</th>\n",
       "      <th>Variable</th>\n",
       "      <th>Units</th>\n",
       "      <th>Timestamp</th>\n",
       "      <th>Value</th>\n",
       "      <th>Flagged as Suspect Reading</th>\n",
       "    </tr>\n",
       "  </thead>\n",
       "  <tbody>\n",
       "    <tr>\n",
       "      <th>0</th>\n",
       "      <td>1586958692652188245</td>\n",
       "      <td>sensor03</td>\n",
       "      <td>PER_AIRMON_MESH1976150</td>\n",
       "      <td>PM10</td>\n",
       "      <td>ugm -3</td>\n",
       "      <td>2018-12-13 03:16:00</td>\n",
       "      <td>16.12200</td>\n",
       "      <td>False</td>\n",
       "    </tr>\n",
       "    <tr>\n",
       "      <th>1</th>\n",
       "      <td>1586958692652348737</td>\n",
       "      <td>sensor01</td>\n",
       "      <td>PER_AIRMON_MESH1976150</td>\n",
       "      <td>PM 4</td>\n",
       "      <td>ugm -3</td>\n",
       "      <td>2018-12-14 12:46:00</td>\n",
       "      <td>5.19000</td>\n",
       "      <td>False</td>\n",
       "    </tr>\n",
       "    <tr>\n",
       "      <th>2</th>\n",
       "      <td>1586958692652681524</td>\n",
       "      <td>sensor02</td>\n",
       "      <td>PER_AIRMON_MESH1976150</td>\n",
       "      <td>NO</td>\n",
       "      <td>ugm -3</td>\n",
       "      <td>2018-12-14 00:30:00</td>\n",
       "      <td>0.08875</td>\n",
       "      <td>False</td>\n",
       "    </tr>\n",
       "  </tbody>\n",
       "</table>\n",
       "</div>"
      ],
      "text/plain": [
       "                 Sr No    Sensor                    Name Variable   Units  \\\n",
       "0  1586958692652188245  sensor03  PER_AIRMON_MESH1976150     PM10  ugm -3   \n",
       "1  1586958692652348737  sensor01  PER_AIRMON_MESH1976150     PM 4  ugm -3   \n",
       "2  1586958692652681524  sensor02  PER_AIRMON_MESH1976150       NO  ugm -3   \n",
       "\n",
       "             Timestamp     Value  Flagged as Suspect Reading  \n",
       "0  2018-12-13 03:16:00  16.12200                       False  \n",
       "1  2018-12-14 12:46:00   5.19000                       False  \n",
       "2  2018-12-14 00:30:00   0.08875                       False  "
      ]
     },
     "execution_count": 2,
     "metadata": {},
     "output_type": "execute_result"
    },
    {
     "data": {
      "text/plain": [
       "(267, 8)"
      ]
     },
     "execution_count": 2,
     "metadata": {},
     "output_type": "execute_result"
    },
    {
     "name": "stdout",
     "output_type": "stream",
     "text": [
      "total rows\n"
     ]
    }
   ],
   "source": [
    "df=pd.read_csv(\"Sample dataset values.txt\")\n",
    "df.head(3)\n",
    "df.shape\n",
    "total_row=df.shape[0]\n",
    "trial_row=int(total_row-(total_row*0.25))\n",
    "print(\"total rows\")"
   ]
  },
  {
   "cell_type": "code",
   "execution_count": 3,
   "metadata": {},
   "outputs": [],
   "source": [
    "def uni(col):\n",
    "    print(\"There are \",len(df[col].unique()),\" unique elements  of column \", col,\" and they are \", df[col].unique())"
   ]
  },
  {
   "cell_type": "code",
   "execution_count": 4,
   "metadata": {},
   "outputs": [
    {
     "name": "stdout",
     "output_type": "stream",
     "text": [
      "There are  3  unique elements  of column  Sensor  and they are  ['sensor03' 'sensor01' 'sensor02']\n",
      "There are  1  unique elements  of column  Name  and they are  ['PER_AIRMON_MESH1976150']\n",
      "There are  8  unique elements  of column  Variable  and they are  ['PM10' 'PM 4' 'NO' 'PM2.5' 'PM1' 'Particle Count' 'O3' 'NO2']\n",
      "There are  3  unique elements  of column  Units  and they are  ['ugm -3' 'Kgm -3' 'ppb']\n",
      "There are  2  unique elements  of column  Flagged as Suspect Reading  and they are  [False  True]\n"
     ]
    },
    {
     "data": {
      "text/plain": [
       "[None, None, None, None, None]"
      ]
     },
     "execution_count": 4,
     "metadata": {},
     "output_type": "execute_result"
    }
   ],
   "source": [
    "list(map(uni,df[['Sensor', 'Name', 'Variable', 'Units','Flagged as Suspect Reading']]))"
   ]
  },
  {
   "cell_type": "code",
   "execution_count": 5,
   "metadata": {},
   "outputs": [],
   "source": [
    "df.loc[df['Sensor']=='sensor01','Sensor']=0\n",
    "df.loc[df['Sensor']=='sensor02','Sensor']=1\n",
    "df.loc[df['Sensor']=='sensor03','Sensor']=2"
   ]
  },
  {
   "cell_type": "code",
   "execution_count": 6,
   "metadata": {},
   "outputs": [],
   "source": [
    "df.loc[df['Variable']=='PM10','Variable']=0\n",
    "df.loc[df['Variable']=='PM 4','Variable']=1\n",
    "df.loc[df['Variable']=='NO','Variable']=2\n",
    "df.loc[df['Variable']=='PM2.5','Variable']=3\n",
    "df.loc[df['Variable']=='PM1','Variable']=4\n",
    "df.loc[df['Variable']=='Particle Count','Variable']=5\n",
    "df.loc[df['Variable']=='O3','Variable']=6\n",
    "df.loc[df['Variable']=='NO2','Variable']=7"
   ]
  },
  {
   "cell_type": "code",
   "execution_count": 7,
   "metadata": {},
   "outputs": [],
   "source": [
    "df.loc[df['Name']=='PER_AIRMON_MESH1976150','Name']=0"
   ]
  },
  {
   "cell_type": "code",
   "execution_count": 8,
   "metadata": {},
   "outputs": [],
   "source": [
    "df.loc[df['Units']=='ugm -3','Units']=0\n",
    "df.loc[df['Units']=='Kgm -3','Units']=1\n",
    "df.loc[df['Units']=='ppb','Units']=2"
   ]
  },
  {
   "cell_type": "code",
   "execution_count": 9,
   "metadata": {},
   "outputs": [],
   "source": [
    "df.loc[df['Flagged as Suspect Reading']==False,'Flagged as Suspect Reading']=0\n",
    "df.loc[df['Flagged as Suspect Reading']==True,'Flagged as Suspect Reading']=1"
   ]
  },
  {
   "cell_type": "code",
   "execution_count": 10,
   "metadata": {},
   "outputs": [],
   "source": [
    "x=['Sensor', 'Name', 'Variable', 'Units','Value']\n",
    "y=['Flagged as Suspect Reading']\n",
    "train=df.loc[1:trial_row,]\n",
    "test=df.loc[trial_row+1:total_row,]"
   ]
  },
  {
   "cell_type": "code",
   "execution_count": 11,
   "metadata": {},
   "outputs": [],
   "source": [
    "# train[['Value']]=train[['Value']].astype(int)\n",
    "# test[['Value']]=test[['Value']].astype(int)"
   ]
  },
  {
   "cell_type": "code",
   "execution_count": 12,
   "metadata": {},
   "outputs": [],
   "source": [
    "x_train,y_train,x_test,y_test = train[x],train[y],test[x],test[y]"
   ]
  },
  {
   "cell_type": "code",
   "execution_count": 13,
   "metadata": {},
   "outputs": [
    {
     "data": {
      "text/html": [
       "<div>\n",
       "<style scoped>\n",
       "    .dataframe tbody tr th:only-of-type {\n",
       "        vertical-align: middle;\n",
       "    }\n",
       "\n",
       "    .dataframe tbody tr th {\n",
       "        vertical-align: top;\n",
       "    }\n",
       "\n",
       "    .dataframe thead th {\n",
       "        text-align: right;\n",
       "    }\n",
       "</style>\n",
       "<table border=\"1\" class=\"dataframe\">\n",
       "  <thead>\n",
       "    <tr style=\"text-align: right;\">\n",
       "      <th></th>\n",
       "      <th>Sensor</th>\n",
       "      <th>Name</th>\n",
       "      <th>Variable</th>\n",
       "      <th>Units</th>\n",
       "      <th>Value</th>\n",
       "    </tr>\n",
       "  </thead>\n",
       "  <tbody>\n",
       "    <tr>\n",
       "      <th>1</th>\n",
       "      <td>0</td>\n",
       "      <td>0</td>\n",
       "      <td>1</td>\n",
       "      <td>0</td>\n",
       "      <td>5.19000</td>\n",
       "    </tr>\n",
       "    <tr>\n",
       "      <th>2</th>\n",
       "      <td>1</td>\n",
       "      <td>0</td>\n",
       "      <td>2</td>\n",
       "      <td>0</td>\n",
       "      <td>0.08875</td>\n",
       "    </tr>\n",
       "    <tr>\n",
       "      <th>3</th>\n",
       "      <td>0</td>\n",
       "      <td>0</td>\n",
       "      <td>3</td>\n",
       "      <td>0</td>\n",
       "      <td>13.84500</td>\n",
       "    </tr>\n",
       "    <tr>\n",
       "      <th>4</th>\n",
       "      <td>1</td>\n",
       "      <td>0</td>\n",
       "      <td>1</td>\n",
       "      <td>0</td>\n",
       "      <td>1.76000</td>\n",
       "    </tr>\n",
       "    <tr>\n",
       "      <th>5</th>\n",
       "      <td>0</td>\n",
       "      <td>0</td>\n",
       "      <td>0</td>\n",
       "      <td>0</td>\n",
       "      <td>26.34600</td>\n",
       "    </tr>\n",
       "  </tbody>\n",
       "</table>\n",
       "</div>"
      ],
      "text/plain": [
       "   Sensor  Name  Variable  Units     Value\n",
       "1       0     0         1      0   5.19000\n",
       "2       1     0         2      0   0.08875\n",
       "3       0     0         3      0  13.84500\n",
       "4       1     0         1      0   1.76000\n",
       "5       0     0         0      0  26.34600"
      ]
     },
     "execution_count": 13,
     "metadata": {},
     "output_type": "execute_result"
    },
    {
     "data": {
      "text/html": [
       "<div>\n",
       "<style scoped>\n",
       "    .dataframe tbody tr th:only-of-type {\n",
       "        vertical-align: middle;\n",
       "    }\n",
       "\n",
       "    .dataframe tbody tr th {\n",
       "        vertical-align: top;\n",
       "    }\n",
       "\n",
       "    .dataframe thead th {\n",
       "        text-align: right;\n",
       "    }\n",
       "</style>\n",
       "<table border=\"1\" class=\"dataframe\">\n",
       "  <thead>\n",
       "    <tr style=\"text-align: right;\">\n",
       "      <th></th>\n",
       "      <th>Flagged as Suspect Reading</th>\n",
       "    </tr>\n",
       "  </thead>\n",
       "  <tbody>\n",
       "    <tr>\n",
       "      <th>1</th>\n",
       "      <td>0</td>\n",
       "    </tr>\n",
       "    <tr>\n",
       "      <th>2</th>\n",
       "      <td>0</td>\n",
       "    </tr>\n",
       "    <tr>\n",
       "      <th>3</th>\n",
       "      <td>0</td>\n",
       "    </tr>\n",
       "    <tr>\n",
       "      <th>4</th>\n",
       "      <td>0</td>\n",
       "    </tr>\n",
       "    <tr>\n",
       "      <th>5</th>\n",
       "      <td>0</td>\n",
       "    </tr>\n",
       "  </tbody>\n",
       "</table>\n",
       "</div>"
      ],
      "text/plain": [
       "   Flagged as Suspect Reading\n",
       "1                           0\n",
       "2                           0\n",
       "3                           0\n",
       "4                           0\n",
       "5                           0"
      ]
     },
     "execution_count": 13,
     "metadata": {},
     "output_type": "execute_result"
    },
    {
     "data": {
      "text/html": [
       "<div>\n",
       "<style scoped>\n",
       "    .dataframe tbody tr th:only-of-type {\n",
       "        vertical-align: middle;\n",
       "    }\n",
       "\n",
       "    .dataframe tbody tr th {\n",
       "        vertical-align: top;\n",
       "    }\n",
       "\n",
       "    .dataframe thead th {\n",
       "        text-align: right;\n",
       "    }\n",
       "</style>\n",
       "<table border=\"1\" class=\"dataframe\">\n",
       "  <thead>\n",
       "    <tr style=\"text-align: right;\">\n",
       "      <th></th>\n",
       "      <th>Sensor</th>\n",
       "      <th>Name</th>\n",
       "      <th>Variable</th>\n",
       "      <th>Units</th>\n",
       "      <th>Value</th>\n",
       "    </tr>\n",
       "  </thead>\n",
       "  <tbody>\n",
       "    <tr>\n",
       "      <th>201</th>\n",
       "      <td>0</td>\n",
       "      <td>0</td>\n",
       "      <td>0</td>\n",
       "      <td>0</td>\n",
       "      <td>19.250</td>\n",
       "    </tr>\n",
       "    <tr>\n",
       "      <th>202</th>\n",
       "      <td>0</td>\n",
       "      <td>0</td>\n",
       "      <td>3</td>\n",
       "      <td>0</td>\n",
       "      <td>13.845</td>\n",
       "    </tr>\n",
       "    <tr>\n",
       "      <th>203</th>\n",
       "      <td>1</td>\n",
       "      <td>0</td>\n",
       "      <td>1</td>\n",
       "      <td>0</td>\n",
       "      <td>1.330</td>\n",
       "    </tr>\n",
       "    <tr>\n",
       "      <th>204</th>\n",
       "      <td>0</td>\n",
       "      <td>0</td>\n",
       "      <td>1</td>\n",
       "      <td>0</td>\n",
       "      <td>5.200</td>\n",
       "    </tr>\n",
       "    <tr>\n",
       "      <th>205</th>\n",
       "      <td>1</td>\n",
       "      <td>0</td>\n",
       "      <td>2</td>\n",
       "      <td>0</td>\n",
       "      <td>1.940</td>\n",
       "    </tr>\n",
       "  </tbody>\n",
       "</table>\n",
       "</div>"
      ],
      "text/plain": [
       "     Sensor  Name  Variable  Units   Value\n",
       "201       0     0         0      0  19.250\n",
       "202       0     0         3      0  13.845\n",
       "203       1     0         1      0   1.330\n",
       "204       0     0         1      0   5.200\n",
       "205       1     0         2      0   1.940"
      ]
     },
     "execution_count": 13,
     "metadata": {},
     "output_type": "execute_result"
    },
    {
     "data": {
      "text/html": [
       "<div>\n",
       "<style scoped>\n",
       "    .dataframe tbody tr th:only-of-type {\n",
       "        vertical-align: middle;\n",
       "    }\n",
       "\n",
       "    .dataframe tbody tr th {\n",
       "        vertical-align: top;\n",
       "    }\n",
       "\n",
       "    .dataframe thead th {\n",
       "        text-align: right;\n",
       "    }\n",
       "</style>\n",
       "<table border=\"1\" class=\"dataframe\">\n",
       "  <thead>\n",
       "    <tr style=\"text-align: right;\">\n",
       "      <th></th>\n",
       "      <th>Flagged as Suspect Reading</th>\n",
       "    </tr>\n",
       "  </thead>\n",
       "  <tbody>\n",
       "    <tr>\n",
       "      <th>201</th>\n",
       "      <td>0</td>\n",
       "    </tr>\n",
       "    <tr>\n",
       "      <th>202</th>\n",
       "      <td>0</td>\n",
       "    </tr>\n",
       "    <tr>\n",
       "      <th>203</th>\n",
       "      <td>0</td>\n",
       "    </tr>\n",
       "    <tr>\n",
       "      <th>204</th>\n",
       "      <td>0</td>\n",
       "    </tr>\n",
       "    <tr>\n",
       "      <th>205</th>\n",
       "      <td>0</td>\n",
       "    </tr>\n",
       "  </tbody>\n",
       "</table>\n",
       "</div>"
      ],
      "text/plain": [
       "     Flagged as Suspect Reading\n",
       "201                           0\n",
       "202                           0\n",
       "203                           0\n",
       "204                           0\n",
       "205                           0"
      ]
     },
     "execution_count": 13,
     "metadata": {},
     "output_type": "execute_result"
    }
   ],
   "source": [
    "x_train.head()\n",
    "y_train.head()\n",
    "x_test.head()\n",
    "y_test.head()"
   ]
  },
  {
   "cell_type": "code",
   "execution_count": 14,
   "metadata": {},
   "outputs": [
    {
     "data": {
      "text/plain": [
       "0    191\n",
       "1      9\n",
       "Name: Flagged as Suspect Reading, dtype: int64"
      ]
     },
     "execution_count": 14,
     "metadata": {},
     "output_type": "execute_result"
    },
    {
     "data": {
      "text/plain": [
       "0    63\n",
       "1     3\n",
       "Name: Flagged as Suspect Reading, dtype: int64"
      ]
     },
     "execution_count": 14,
     "metadata": {},
     "output_type": "execute_result"
    }
   ],
   "source": [
    "train['Flagged as Suspect Reading'].value_counts()\n",
    "test['Flagged as Suspect Reading'].value_counts()"
   ]
  },
  {
   "cell_type": "code",
   "execution_count": 15,
   "metadata": {},
   "outputs": [
    {
     "name": "stdout",
     "output_type": "stream",
     "text": [
      "<class 'pandas.core.frame.DataFrame'>\n",
      "RangeIndex: 200 entries, 1 to 200\n",
      "Data columns (total 5 columns):\n",
      "Sensor      200 non-null int64\n",
      "Name        200 non-null int64\n",
      "Variable    200 non-null int64\n",
      "Units       200 non-null int64\n",
      "Value       200 non-null float64\n",
      "dtypes: float64(1), int64(4)\n",
      "memory usage: 7.9 KB\n",
      "<class 'pandas.core.frame.DataFrame'>\n",
      "RangeIndex: 200 entries, 1 to 200\n",
      "Data columns (total 1 columns):\n",
      "Flagged as Suspect Reading    200 non-null int64\n",
      "dtypes: int64(1)\n",
      "memory usage: 1.7 KB\n",
      "<class 'pandas.core.frame.DataFrame'>\n",
      "RangeIndex: 66 entries, 201 to 266\n",
      "Data columns (total 5 columns):\n",
      "Sensor      66 non-null int64\n",
      "Name        66 non-null int64\n",
      "Variable    66 non-null int64\n",
      "Units       66 non-null int64\n",
      "Value       66 non-null float64\n",
      "dtypes: float64(1), int64(4)\n",
      "memory usage: 2.7 KB\n",
      "<class 'pandas.core.frame.DataFrame'>\n",
      "RangeIndex: 66 entries, 201 to 266\n",
      "Data columns (total 1 columns):\n",
      "Flagged as Suspect Reading    66 non-null int64\n",
      "dtypes: int64(1)\n",
      "memory usage: 660.0 bytes\n"
     ]
    }
   ],
   "source": [
    "x_train.info()\n",
    "y_train.info()\n",
    "x_test.info()\n",
    "y_test.info()"
   ]
  },
  {
   "cell_type": "code",
   "execution_count": 16,
   "metadata": {},
   "outputs": [
    {
     "data": {
      "text/plain": [
       "(200, 5)"
      ]
     },
     "execution_count": 16,
     "metadata": {},
     "output_type": "execute_result"
    },
    {
     "data": {
      "text/plain": [
       "(200, 1)"
      ]
     },
     "execution_count": 16,
     "metadata": {},
     "output_type": "execute_result"
    },
    {
     "data": {
      "text/plain": [
       "(66, 5)"
      ]
     },
     "execution_count": 16,
     "metadata": {},
     "output_type": "execute_result"
    },
    {
     "data": {
      "text/plain": [
       "(66, 1)"
      ]
     },
     "execution_count": 16,
     "metadata": {},
     "output_type": "execute_result"
    }
   ],
   "source": [
    "x_train.shape\n",
    "y_train.shape\n",
    "x_test.shape\n",
    "y_test.shape"
   ]
  },
  {
   "cell_type": "code",
   "execution_count": 17,
   "metadata": {},
   "outputs": [
    {
     "data": {
      "text/plain": [
       "pandas.core.frame.DataFrame"
      ]
     },
     "execution_count": 17,
     "metadata": {},
     "output_type": "execute_result"
    },
    {
     "data": {
      "text/plain": [
       "pandas.core.frame.DataFrame"
      ]
     },
     "execution_count": 17,
     "metadata": {},
     "output_type": "execute_result"
    },
    {
     "data": {
      "text/plain": [
       "pandas.core.frame.DataFrame"
      ]
     },
     "execution_count": 17,
     "metadata": {},
     "output_type": "execute_result"
    },
    {
     "data": {
      "text/plain": [
       "pandas.core.frame.DataFrame"
      ]
     },
     "execution_count": 17,
     "metadata": {},
     "output_type": "execute_result"
    }
   ],
   "source": [
    "type(x_train)\n",
    "type(y_train)\n",
    "type(x_test)\n",
    "type(y_test)"
   ]
  },
  {
   "cell_type": "code",
   "execution_count": 18,
   "metadata": {},
   "outputs": [
    {
     "data": {
      "text/plain": [
       "array([[ 0.     ,  0.     ,  1.     ,  0.     ,  5.19   ],\n",
       "       [ 1.     ,  0.     ,  2.     ,  0.     ,  0.08875],\n",
       "       [ 0.     ,  0.     ,  3.     ,  0.     , 13.845  ],\n",
       "       [ 1.     ,  0.     ,  1.     ,  0.     ,  1.76   ],\n",
       "       [ 0.     ,  0.     ,  0.     ,  0.     , 26.346  ],\n",
       "       [ 0.     ,  0.     ,  4.     ,  0.     , 10.727  ],\n",
       "       [ 1.     ,  0.     ,  5.     ,  1.     ,  2.69   ],\n",
       "       [ 0.     ,  0.     ,  6.     ,  2.     , 10.323  ],\n",
       "       [ 0.     ,  0.     ,  7.     ,  0.     , 34.48484],\n",
       "       [ 1.     ,  0.     ,  1.     ,  0.     ,  1.81   ],\n",
       "       [ 2.     ,  0.     ,  2.     ,  0.     , -3.985  ],\n",
       "       [ 0.     ,  0.     ,  2.     ,  0.     ,  7.5225 ],\n",
       "       [ 1.     ,  0.     ,  3.     ,  0.     ,  3.859  ],\n",
       "       [ 0.     ,  0.     ,  5.     ,  1.     ,  3.6    ],\n",
       "       [ 0.     ,  0.     ,  2.     ,  0.     , 21.49625],\n",
       "       [ 1.     ,  0.     ,  0.     ,  0.     , 13.319  ],\n",
       "       [ 0.     ,  0.     ,  7.     ,  0.     , 32.48828],\n",
       "       [ 1.     ,  0.     ,  4.     ,  0.     ,  2.279  ],\n",
       "       [ 0.     ,  0.     ,  6.     ,  2.     , 14.257  ],\n",
       "       [ 0.     ,  0.     ,  5.     ,  1.     ,  2.25   ],\n",
       "       [ 1.     ,  0.     ,  7.     ,  0.     , 22.18212],\n",
       "       [ 2.     ,  0.     ,  7.     ,  0.     , 11.8816 ],\n",
       "       [ 0.     ,  0.     ,  4.     ,  0.     , 10.992  ],\n",
       "       [ 1.     ,  0.     ,  2.     ,  0.     ,  2.22625],\n",
       "       [ 0.     ,  0.     ,  0.     ,  0.     , 21.341  ],\n",
       "       [ 0.     ,  0.     ,  1.     ,  0.     ,  5.2    ],\n",
       "       [ 1.     ,  0.     ,  6.     ,  2.     , 20.182  ],\n",
       "       [ 0.     ,  0.     ,  3.     ,  0.     , 13.465  ],\n",
       "       [ 1.     ,  0.     ,  2.     ,  0.     ,  6.49125],\n",
       "       [ 0.     ,  0.     ,  2.     ,  0.     , 20.415  ],\n",
       "       [ 0.     ,  0.     ,  7.     ,  0.     , 40.03836],\n",
       "       [ 1.     ,  0.     ,  7.     ,  0.     , 21.76852],\n",
       "       [ 2.     ,  0.     ,  6.     ,  2.     , 26.933  ],\n",
       "       [ 0.     ,  0.     ,  6.     ,  2.     ,  6.419  ],\n",
       "       [ 1.     ,  0.     ,  6.     ,  2.     , 17.286  ],\n",
       "       [ 0.     ,  0.     ,  5.     ,  1.     ,  1.8    ],\n",
       "       [ 1.     ,  0.     ,  5.     ,  1.     ,  1.36   ],\n",
       "       [ 0.     ,  0.     ,  4.     ,  0.     , 10.408  ],\n",
       "       [ 0.     ,  0.     ,  0.     ,  0.     , 17.947  ],\n",
       "       [ 1.     ,  0.     ,  4.     ,  0.     ,  2.12   ],\n",
       "       [ 0.     ,  0.     ,  1.     ,  0.     ,  3.97   ],\n",
       "       [ 1.     ,  0.     ,  0.     ,  0.     ,  8.314  ],\n",
       "       [ 0.     ,  0.     ,  3.     ,  0.     , 11.599  ],\n",
       "       [ 0.     ,  0.     ,  2.     ,  0.     ,  7.5225 ],\n",
       "       [ 2.     ,  0.     ,  5.     ,  1.     ,  6.297  ],\n",
       "       [ 0.     ,  0.     ,  7.     ,  0.     , 40.98024],\n",
       "       [ 1.     ,  0.     ,  3.     ,  0.     ,  3.41   ],\n",
       "       [ 0.     ,  0.     ,  6.     ,  2.     ,  7.031  ],\n",
       "       [ 1.     ,  0.     ,  1.     ,  0.     ,  1.64   ],\n",
       "       [ 0.     ,  0.     ,  5.     ,  1.     ,  2.84   ],\n",
       "       [ 1.     ,  0.     ,  2.     ,  0.     , -3.72875],\n",
       "       [ 0.     ,  0.     ,  4.     ,  0.     , 11.152  ],\n",
       "       [ 0.     ,  0.     ,  0.     ,  0.     , 24.118  ],\n",
       "       [ 1.     ,  0.     ,  7.     ,  0.     , 23.58272],\n",
       "       [ 2.     ,  0.     ,  0.     ,  0.     , 22.291  ],\n",
       "       [ 0.     ,  0.     ,  1.     ,  0.     ,  5.49   ],\n",
       "       [ 1.     ,  0.     ,  6.     ,  2.     , 18.521  ],\n",
       "       [ 0.     ,  0.     ,  3.     ,  0.     , 14.19   ],\n",
       "       [ 0.     ,  0.     ,  2.     ,  0.     , 33.74125],\n",
       "       [ 1.     ,  0.     ,  5.     ,  1.     ,  0.85   ],\n",
       "       [ 0.     ,  0.     ,  7.     ,  0.     , 55.04828],\n",
       "       [ 1.     ,  0.     ,  4.     ,  0.     ,  2.279  ],\n",
       "       [ 0.     ,  0.     ,  6.     ,  2.     ,  6.497  ],\n",
       "       [ 0.     ,  0.     ,  5.     ,  1.     ,  1.93   ],\n",
       "       [ 1.     ,  0.     ,  0.     ,  0.     ,  6.737  ],\n",
       "       [ 2.     ,  0.     ,  3.     ,  0.     ,  9.679  ],\n",
       "       [ 0.     ,  0.     ,  4.     ,  0.     , 11.152  ],\n",
       "       [ 1.     ,  0.     ,  3.     ,  0.     ,  3.582  ],\n",
       "       [ 0.     ,  0.     ,  0.     ,  0.     , 20.176  ],\n",
       "       [ 0.     ,  0.     ,  3.     ,  0.     , 13.396  ],\n",
       "       [ 1.     ,  0.     ,  1.     ,  0.     ,  1.43   ],\n",
       "       [ 0.     ,  0.     ,  1.     ,  0.     ,  4.81   ],\n",
       "       [ 1.     ,  0.     ,  2.     ,  0.     ,  0.51125],\n",
       "       [ 0.     ,  0.     ,  2.     ,  0.     , 18.62375],\n",
       "       [ 0.     ,  0.     ,  7.     ,  0.     , 59.31776],\n",
       "       [ 1.     ,  0.     ,  7.     ,  0.     , 17.66072],\n",
       "       [ 2.     ,  0.     ,  4.     ,  0.     ,  6.469  ],\n",
       "       [ 0.     ,  0.     ,  6.     ,  2.     , -0.418  ],\n",
       "       [ 1.     ,  0.     ,  6.     ,  2.     , 21.909  ],\n",
       "       [ 0.     ,  0.     ,  5.     ,  1.     ,  2.47   ],\n",
       "       [ 1.     ,  0.     ,  5.     ,  1.     ,  1.18   ],\n",
       "       [ 0.     ,  0.     ,  4.     ,  0.     , 10.302  ],\n",
       "       [ 0.     ,  0.     ,  0.     ,  0.     , 21.067  ],\n",
       "       [ 1.     ,  0.     ,  4.     ,  0.     ,  1.961  ],\n",
       "       [ 0.     ,  0.     ,  3.     ,  0.     , 12.428  ],\n",
       "       [ 0.     ,  0.     ,  1.     ,  0.     ,  4.89   ],\n",
       "       [ 1.     ,  0.     ,  0.     ,  0.     ,  7.628  ],\n",
       "       [ 2.     ,  0.     ,  2.     ,  0.     , -3.77875],\n",
       "       [ 0.     ,  0.     ,  3.     ,  0.     , 15.814  ],\n",
       "       [ 1.     ,  0.     ,  3.     ,  0.     ,  3.34   ],\n",
       "       [ 0.     ,  0.     ,  2.     ,  0.     ,  8.70375],\n",
       "       [ 0.     ,  0.     ,  7.     ,  0.     , 48.94392],\n",
       "       [ 1.     ,  0.     ,  1.     ,  0.     ,  1.24   ],\n",
       "       [ 0.     ,  0.     ,  6.     ,  2.     ,  7.055  ],\n",
       "       [ 1.     ,  0.     ,  2.     ,  0.     , -3.70375],\n",
       "       [ 0.     ,  0.     ,  5.     ,  1.     ,  3.87   ],\n",
       "       [ 0.     ,  0.     ,  4.     ,  0.     , 12.108  ],\n",
       "       [ 1.     ,  0.     ,  7.     ,  0.     , 12.8404 ],\n",
       "       [ 2.     ,  0.     ,  7.     ,  0.     , 14.852  ],\n",
       "       [ 0.     ,  0.     ,  0.     ,  0.     , 29.226  ],\n",
       "       [ 1.     ,  0.     ,  6.     ,  2.     , 24.308  ],\n",
       "       [ 0.     ,  0.     ,  1.     ,  0.     ,  6.14   ],\n",
       "       [ 0.     ,  0.     ,  2.     ,  0.     , 22.42875],\n",
       "       [ 1.     ,  0.     ,  5.     ,  1.     ,  1.87   ],\n",
       "       [ 0.     ,  0.     ,  7.     ,  0.     , 50.84836],\n",
       "       [ 1.     ,  0.     ,  4.     ,  0.     ,  2.12   ],\n",
       "       [ 0.     ,  0.     ,  6.     ,  2.     ,  7.265  ],\n",
       "       [ 0.     ,  0.     ,  5.     ,  1.     ,  3.15   ],\n",
       "       [ 1.     ,  0.     ,  0.     ,  0.     , 10.131  ],\n",
       "       [ 2.     ,  0.     ,  6.     ,  2.     , 15.308  ],\n",
       "       [ 0.     ,  0.     ,  4.     ,  0.     , 10.514  ],\n",
       "       [ 1.     ,  0.     ,  3.     ,  0.     ,  3.479  ],\n",
       "       [ 0.     ,  0.     ,  0.     ,  0.     , 24.255  ],\n",
       "       [ 0.     ,  0.     ,  1.     ,  0.     ,  5.52   ],\n",
       "       [ 1.     ,  0.     ,  1.     ,  0.     ,  1.47   ],\n",
       "       [ 0.     ,  0.     ,  3.     ,  0.     , 13.326  ],\n",
       "       [ 0.     ,  0.     ,  2.     ,  0.     , 24.0575 ],\n",
       "       [ 1.     ,  0.     ,  2.     ,  0.     ,  0.48625],\n",
       "       [ 0.     ,  0.     ,  7.     ,  0.     , 47.97948],\n",
       "       [ 1.     ,  0.     ,  7.     ,  0.     , 16.92752],\n",
       "       [ 2.     ,  0.     ,  5.     ,  1.     ,  4.055  ],\n",
       "       [ 0.     ,  0.     ,  6.     ,  2.     ,  8.218  ],\n",
       "       [ 1.     ,  0.     ,  6.     ,  2.     , 17.747  ],\n",
       "       [ 0.     ,  0.     ,  4.     ,  0.     , 11.577  ],\n",
       "       [ 0.     ,  0.     ,  0.     ,  0.     , 27.512  ],\n",
       "       [ 1.     ,  0.     ,  5.     ,  1.     ,  1.94   ],\n",
       "       [ 0.     ,  0.     ,  3.     ,  0.     , 14.743  ],\n",
       "       [ 1.     ,  0.     ,  4.     ,  0.     ,  2.226  ],\n",
       "       [ 0.     ,  0.     ,  1.     ,  0.     ,  5.67   ],\n",
       "       [ 0.     ,  0.     ,  5.     ,  1.     ,  3.68   ],\n",
       "       [ 1.     ,  0.     ,  0.     ,  0.     , 10.577  ],\n",
       "       [ 2.     ,  0.     ,  0.     ,  0.     , 14.604  ],\n",
       "       [ 0.     ,  0.     ,  2.     ,  0.     , 12.98   ],\n",
       "       [ 1.     ,  0.     ,  3.     ,  0.     ,  3.651  ],\n",
       "       [ 0.     ,  0.     ,  7.     ,  0.     , 52.70768],\n",
       "       [ 0.     ,  0.     ,  6.     ,  2.     ,  2.461  ],\n",
       "       [ 1.     ,  0.     ,  1.     ,  0.     ,  1.52   ],\n",
       "       [ 0.     ,  0.     ,  5.     ,  1.     ,  2.96   ],\n",
       "       [ 1.     ,  0.     ,  2.     ,  0.     , -3.62875],\n",
       "       [ 0.     ,  0.     ,  4.     ,  0.     , 10.939  ],\n",
       "       [ 0.     ,  0.     ,  0.     ,  0.     , 24.049  ],\n",
       "       [ 1.     ,  0.     ,  7.     ,  0.     , 13.78228],\n",
       "       [ 2.     ,  0.     ,  3.     ,  0.     ,  8.542  ],\n",
       "       [ 0.     ,  0.     ,  1.     ,  0.     ,  5.18   ],\n",
       "       [ 1.     ,  0.     ,  6.     ,  2.     , 17.807  ],\n",
       "       [ 0.     ,  0.     ,  3.     ,  0.     , 13.741  ],\n",
       "       [ 1.     ,  0.     ,  5.     ,  1.     ,  1.54   ],\n",
       "       [ 0.     ,  0.     ,  2.     ,  0.     , 15.16875],\n",
       "       [ 0.     ,  0.     ,  6.     ,  2.     ,  1.442  ],\n",
       "       [ 1.     ,  0.     ,  4.     ,  0.     ,  2.332  ],\n",
       "       [ 0.     ,  0.     ,  5.     ,  1.     ,  2.3    ],\n",
       "       [ 0.     ,  0.     ,  4.     ,  0.     , 11.152  ],\n",
       "       [ 1.     ,  0.     ,  0.     ,  0.     , 10.337  ],\n",
       "       [ 2.     ,  0.     ,  4.     ,  0.     ,  6.463  ],\n",
       "       [ 0.     ,  0.     ,  0.     ,  0.     , 21.753  ],\n",
       "       [ 1.     ,  0.     ,  3.     ,  0.     ,  4.792  ],\n",
       "       [ 0.     ,  0.     ,  3.     ,  0.     , 13.707  ],\n",
       "       [ 1.     ,  0.     ,  1.     ,  0.     ,  2.26   ],\n",
       "       [ 0.     ,  0.     ,  1.     ,  0.     ,  5.3    ],\n",
       "       [ 0.     ,  0.     ,  7.     ,  0.     , 57.82692],\n",
       "       [ 1.     ,  0.     ,  2.     ,  0.     , -3.8025 ],\n",
       "       [ 0.     ,  0.     ,  6.     ,  2.     ,  4.686  ],\n",
       "       [ 0.     ,  0.     ,  2.     ,  0.     ,  1.6675 ],\n",
       "       [ 1.     ,  0.     ,  7.     ,  0.     , 11.16532],\n",
       "       [ 0.     ,  0.     ,  7.     ,  0.     , 46.44164],\n",
       "       [ 2.     ,  0.     ,  2.     ,  0.     , -4.90125],\n",
       "       [ 1.     ,  0.     ,  6.     ,  2.     , 22.839  ],\n",
       "       [ 0.     ,  0.     ,  5.     ,  1.     ,  2.54   ],\n",
       "       [ 0.     ,  0.     ,  4.     ,  0.     , 11.311  ],\n",
       "       [ 1.     ,  0.     ,  5.     ,  1.     ,  1.02   ],\n",
       "       [ 0.     ,  0.     ,  0.     ,  0.     , 22.747  ],\n",
       "       [ 1.     ,  0.     ,  4.     ,  0.     ,  2.439  ],\n",
       "       [ 0.     ,  0.     ,  3.     ,  0.     , 13.845  ],\n",
       "       [ 0.     ,  0.     ,  1.     ,  0.     ,  5.13   ],\n",
       "       [ 1.     ,  0.     ,  0.     ,  0.     ,  7.594  ],\n",
       "       [ 2.     ,  0.     ,  7.     ,  0.     , 12.96448],\n",
       "       [ 0.     ,  0.     ,  1.     ,  0.     ,  5.55   ],\n",
       "       [ 1.     ,  0.     ,  3.     ,  0.     ,  3.893  ],\n",
       "       [ 0.     ,  0.     ,  2.     ,  0.     , 20.675  ],\n",
       "       [ 0.     ,  0.     ,  7.     ,  0.     , 46.671  ],\n",
       "       [ 1.     ,  0.     ,  1.     ,  0.     ,  1.57   ],\n",
       "       [ 0.     ,  0.     ,  6.     ,  2.     ,  8.968  ],\n",
       "       [ 1.     ,  0.     ,  2.     ,  0.     , -4.02625],\n",
       "       [ 0.     ,  0.     ,  5.     ,  1.     ,  2.82   ],\n",
       "       [ 0.     ,  0.     ,  4.     ,  0.     , 10.833  ],\n",
       "       [ 1.     ,  0.     ,  7.     ,  0.     , 16.6286 ],\n",
       "       [ 2.     ,  0.     ,  6.     ,  2.     , 21.749  ],\n",
       "       [ 0.     ,  0.     ,  0.     ,  0.     , 23.707  ],\n",
       "       [ 1.     ,  0.     ,  6.     ,  2.     , 21.429  ],\n",
       "       [ 0.     ,  0.     ,  3.     ,  0.     , 13.879  ],\n",
       "       [ 1.     ,  0.     ,  5.     ,  1.     ,  1.63   ],\n",
       "       [ 0.     ,  0.     ,  2.     ,  0.     , -3.75375],\n",
       "       [ 0.     ,  0.     ,  7.     ,  0.     , 48.99092],\n",
       "       [ 1.     ,  0.     ,  4.     ,  0.     ,  2.173  ],\n",
       "       [ 0.     ,  0.     ,  6.     ,  2.     ,  9.262  ],\n",
       "       [ 0.     ,  0.     ,  5.     ,  1.     ,  1.53   ],\n",
       "       [ 1.     ,  0.     ,  0.     ,  0.     ,  9.103  ],\n",
       "       [ 2.     ,  0.     ,  5.     ,  1.     ,  6.153  ],\n",
       "       [ 0.     ,  0.     ,  4.     ,  0.     , 10.939  ],\n",
       "       [ 1.     ,  0.     ,  3.     ,  0.     ,  3.271  ]])"
      ]
     },
     "execution_count": 18,
     "metadata": {},
     "output_type": "execute_result"
    }
   ],
   "source": [
    "x_train.values"
   ]
  },
  {
   "cell_type": "code",
   "execution_count": 19,
   "metadata": {},
   "outputs": [],
   "source": [
    "#confusion Matrix\n",
    "def ConfusionMatrix(x,y):\n",
    "    a = confusion_matrix(x,y)\n",
    "    print(a)\n",
    "    b = (a[0][0]+a[1][1])/(a[1][1]+a[0][1]+a[0][0]+a[1][0])\n",
    "    return round(b*100,2)"
   ]
  },
  {
   "cell_type": "code",
   "execution_count": 20,
   "metadata": {},
   "outputs": [
    {
     "name": "stdout",
     "output_type": "stream",
     "text": [
      "1.0\n",
      "[[63  0]\n",
      " [ 0  3]]\n",
      "100.0\n"
     ]
    },
    {
     "data": {
      "text/plain": [
       "100.0"
      ]
     },
     "execution_count": 20,
     "metadata": {},
     "output_type": "execute_result"
    },
    {
     "name": "stdout",
     "output_type": "stream",
     "text": [
      "100.0\n",
      "100.0\n"
     ]
    }
   ],
   "source": [
    "#Decision Tree\n",
    "decision = DecisionTreeClassifier(max_depth=5).fit(x_train, y_train)\n",
    "decision_yhat = decision.predict(x_test)\n",
    "\n",
    "print(decision.score(x_test,y_test))\n",
    "\n",
    "decision_acc= ConfusionMatrix(decision_yhat,y_test)\n",
    "print(decision_acc)\n",
    "\n",
    "f1_score(decision_yhat,y_test) *100\n",
    "\n",
    "print(precision_score(decision_yhat,y_test) *100)\n",
    "print(recall_score(decision_yhat,y_test) *100)"
   ]
  },
  {
   "cell_type": "code",
   "execution_count": 21,
   "metadata": {},
   "outputs": [],
   "source": [
    "# dt=DecisionTreeClassifier()\n",
    "# dt.fit(x_train,y_train)\n",
    "# dt.predict(x_test)\n",
    "# a=dt.predict_proba(x_test)\n",
    "# list(a)"
   ]
  },
  {
   "cell_type": "code",
   "execution_count": 22,
   "metadata": {},
   "outputs": [],
   "source": [
    "# tree.plot_tree(dt.fit(x_train,y_train))"
   ]
  },
  {
   "cell_type": "code",
   "execution_count": null,
   "metadata": {},
   "outputs": [],
   "source": []
  }
 ],
 "metadata": {
  "kernelspec": {
   "display_name": "Python 3",
   "language": "python",
   "name": "python3"
  },
  "language_info": {
   "codemirror_mode": {
    "name": "ipython",
    "version": 3
   },
   "file_extension": ".py",
   "mimetype": "text/x-python",
   "name": "python",
   "nbconvert_exporter": "python",
   "pygments_lexer": "ipython3",
   "version": "3.7.5"
  }
 },
 "nbformat": 4,
 "nbformat_minor": 2
}
