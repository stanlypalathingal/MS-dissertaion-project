{
 "cells": [
  {
   "cell_type": "code",
   "execution_count": 10,
   "metadata": {},
   "outputs": [],
   "source": [
    "import pandas as pd\n",
    "pd.options.mode.chained_assignment = None\n",
    "from datetime import datetime"
   ]
  },
  {
   "cell_type": "code",
   "execution_count": 11,
   "metadata": {},
   "outputs": [
    {
     "data": {
      "text/html": [
       "<div>\n",
       "<style scoped>\n",
       "    .dataframe tbody tr th:only-of-type {\n",
       "        vertical-align: middle;\n",
       "    }\n",
       "\n",
       "    .dataframe tbody tr th {\n",
       "        vertical-align: top;\n",
       "    }\n",
       "\n",
       "    .dataframe thead th {\n",
       "        text-align: right;\n",
       "    }\n",
       "</style>\n",
       "<table border=\"1\" class=\"dataframe\">\n",
       "  <thead>\n",
       "    <tr style=\"text-align: right;\">\n",
       "      <th></th>\n",
       "      <th>public</th>\n",
       "      <th>time</th>\n",
       "    </tr>\n",
       "  </thead>\n",
       "  <tbody>\n",
       "    <tr>\n",
       "      <th>0</th>\n",
       "      <td>ThisIsMyPublicKey</td>\n",
       "      <td>2020-06-12 19:44:03.876590</td>\n",
       "    </tr>\n",
       "  </tbody>\n",
       "</table>\n",
       "</div>"
      ],
      "text/plain": [
       "              public                       time\n",
       "0  ThisIsMyPublicKey 2020-06-12 19:44:03.876590"
      ]
     },
     "execution_count": 11,
     "metadata": {},
     "output_type": "execute_result"
    }
   ],
   "source": [
    "df1=pd.read_csv(\"register_dc.csv\",delimiter=\",\",names=[\"public\",\"time\"])\n",
    "df1[\"time\"]=pd.to_datetime(df1[\"time\"],infer_datetime_format=True)\n",
    "df1"
   ]
  },
  {
   "cell_type": "code",
   "execution_count": 12,
   "metadata": {},
   "outputs": [
    {
     "data": {
      "text/html": [
       "<div>\n",
       "<style scoped>\n",
       "    .dataframe tbody tr th:only-of-type {\n",
       "        vertical-align: middle;\n",
       "    }\n",
       "\n",
       "    .dataframe tbody tr th {\n",
       "        vertical-align: top;\n",
       "    }\n",
       "\n",
       "    .dataframe thead th {\n",
       "        text-align: right;\n",
       "    }\n",
       "</style>\n",
       "<table border=\"1\" class=\"dataframe\">\n",
       "  <thead>\n",
       "    <tr style=\"text-align: right;\">\n",
       "      <th></th>\n",
       "      <th>public</th>\n",
       "      <th>time</th>\n",
       "    </tr>\n",
       "  </thead>\n",
       "  <tbody>\n",
       "    <tr>\n",
       "      <th>0</th>\n",
       "      <td>ThisIsMyPublicKey</td>\n",
       "      <td>2020-06-12 19:45:03.876590</td>\n",
       "    </tr>\n",
       "    <tr>\n",
       "      <th>1</th>\n",
       "      <td>ThisIsMyPublicKey</td>\n",
       "      <td>2020-06-12 19:46:03.876590</td>\n",
       "    </tr>\n",
       "    <tr>\n",
       "      <th>2</th>\n",
       "      <td>ThisIsMyPublicKey</td>\n",
       "      <td>2020-06-12 19:47:03.876590</td>\n",
       "    </tr>\n",
       "    <tr>\n",
       "      <th>3</th>\n",
       "      <td>ThisIsMyPublicKey</td>\n",
       "      <td>2020-06-12 19:48:03.876590</td>\n",
       "    </tr>\n",
       "    <tr>\n",
       "      <th>4</th>\n",
       "      <td>ThisIsMyPublicKey</td>\n",
       "      <td>2020-06-12 19:49:03.876590</td>\n",
       "    </tr>\n",
       "    <tr>\n",
       "      <th>5</th>\n",
       "      <td>ThisIsMyPublicKey</td>\n",
       "      <td>2020-06-12 19:50:03.876590</td>\n",
       "    </tr>\n",
       "    <tr>\n",
       "      <th>6</th>\n",
       "      <td>ThisIsMyPublicKey</td>\n",
       "      <td>2020-06-12 19:51:03.876590</td>\n",
       "    </tr>\n",
       "    <tr>\n",
       "      <th>7</th>\n",
       "      <td>ThisIsMyPublicKey</td>\n",
       "      <td>2020-06-12 19:52:03.876590</td>\n",
       "    </tr>\n",
       "    <tr>\n",
       "      <th>8</th>\n",
       "      <td>ThisIsMyPublicKey</td>\n",
       "      <td>2020-06-12 19:53:03.876590</td>\n",
       "    </tr>\n",
       "    <tr>\n",
       "      <th>9</th>\n",
       "      <td>ThisIsMyPublicKey</td>\n",
       "      <td>2020-06-12 19:54:03.876590</td>\n",
       "    </tr>\n",
       "    <tr>\n",
       "      <th>10</th>\n",
       "      <td>ThisIsMyPublicKey</td>\n",
       "      <td>2020-06-12 19:55:03.876590</td>\n",
       "    </tr>\n",
       "    <tr>\n",
       "      <th>11</th>\n",
       "      <td>ThisIsMyPublicKey</td>\n",
       "      <td>2020-06-12 19:56:03.876590</td>\n",
       "    </tr>\n",
       "    <tr>\n",
       "      <th>12</th>\n",
       "      <td>ThisIsMyPublicKey</td>\n",
       "      <td>2020-06-12 19:57:03.876590</td>\n",
       "    </tr>\n",
       "    <tr>\n",
       "      <th>13</th>\n",
       "      <td>ThisIsMyPublicKey</td>\n",
       "      <td>2020-06-12 19:58:03.876590</td>\n",
       "    </tr>\n",
       "  </tbody>\n",
       "</table>\n",
       "</div>"
      ],
      "text/plain": [
       "               public                       time\n",
       "0   ThisIsMyPublicKey 2020-06-12 19:45:03.876590\n",
       "1   ThisIsMyPublicKey 2020-06-12 19:46:03.876590\n",
       "2   ThisIsMyPublicKey 2020-06-12 19:47:03.876590\n",
       "3   ThisIsMyPublicKey 2020-06-12 19:48:03.876590\n",
       "4   ThisIsMyPublicKey 2020-06-12 19:49:03.876590\n",
       "5   ThisIsMyPublicKey 2020-06-12 19:50:03.876590\n",
       "6   ThisIsMyPublicKey 2020-06-12 19:51:03.876590\n",
       "7   ThisIsMyPublicKey 2020-06-12 19:52:03.876590\n",
       "8   ThisIsMyPublicKey 2020-06-12 19:53:03.876590\n",
       "9   ThisIsMyPublicKey 2020-06-12 19:54:03.876590\n",
       "10  ThisIsMyPublicKey 2020-06-12 19:55:03.876590\n",
       "11  ThisIsMyPublicKey 2020-06-12 19:56:03.876590\n",
       "12  ThisIsMyPublicKey 2020-06-12 19:57:03.876590\n",
       "13  ThisIsMyPublicKey 2020-06-12 19:58:03.876590"
      ]
     },
     "execution_count": 12,
     "metadata": {},
     "output_type": "execute_result"
    }
   ],
   "source": [
    "df2=pd.read_csv(\"data_request.csv\",delimiter=\",\",names=[\"public\",\"time\"])\n",
    "df2[\"time\"]=pd.to_datetime(df2[\"time\"],infer_datetime_format=True)\n",
    "df2"
   ]
  },
  {
   "cell_type": "code",
   "execution_count": 13,
   "metadata": {},
   "outputs": [
    {
     "data": {
      "text/plain": [
       "Timestamp('2020-06-12 19:44:03.876590')"
      ]
     },
     "execution_count": 13,
     "metadata": {},
     "output_type": "execute_result"
    },
    {
     "data": {
      "text/plain": [
       "Timestamp('2020-06-12 19:45:03.876590')"
      ]
     },
     "execution_count": 13,
     "metadata": {},
     "output_type": "execute_result"
    },
    {
     "name": "stdout",
     "output_type": "stream",
     "text": [
      "ThisIsMyPublicKey\n"
     ]
    }
   ],
   "source": [
    "l=len(df1)\n",
    "# a=df2.public[0]\n",
    "for i in range(0,l):\n",
    "    if(df1[\"public\"][i]==df2.public[0]):\n",
    "        df1.time[i]\n",
    "        df2.time[0]\n",
    "        if(df1.time[i] < df2.time[0]):\n",
    "#             publish()\n",
    "            df1.time[i]=df2.time[0] \n",
    "            df1.to_csv(\"register_dc.csv\",index=False,header=False)\n",
    "            df2=df2.drop(df2.index[[0]])\n",
    "            df2.to_csv(\"data_request.csv\",index=False,header=False)\n",
    "            df1=pd.read_csv(\"pub_Key_store.csv\",delimiter=\",\",names=[\"public\"])\n",
    "            a=df1.public[0]\n",
    "            print(a)\n",
    "    else:\n",
    "        pass"
   ]
  },
  {
   "cell_type": "code",
   "execution_count": 5,
   "metadata": {},
   "outputs": [
    {
     "data": {
      "text/html": [
       "<div>\n",
       "<style scoped>\n",
       "    .dataframe tbody tr th:only-of-type {\n",
       "        vertical-align: middle;\n",
       "    }\n",
       "\n",
       "    .dataframe tbody tr th {\n",
       "        vertical-align: top;\n",
       "    }\n",
       "\n",
       "    .dataframe thead th {\n",
       "        text-align: right;\n",
       "    }\n",
       "</style>\n",
       "<table border=\"1\" class=\"dataframe\">\n",
       "  <thead>\n",
       "    <tr style=\"text-align: right;\">\n",
       "      <th></th>\n",
       "      <th>public</th>\n",
       "      <th>time</th>\n",
       "    </tr>\n",
       "  </thead>\n",
       "  <tbody>\n",
       "    <tr>\n",
       "      <th>0</th>\n",
       "      <td>ThisIsMyPublicKey</td>\n",
       "      <td>2020-06-12 19:43:03.876590</td>\n",
       "    </tr>\n",
       "    <tr>\n",
       "      <th>1</th>\n",
       "      <td>ThisIsMyPublicKey</td>\n",
       "      <td>2020-06-12 19:44:03.876590</td>\n",
       "    </tr>\n",
       "    <tr>\n",
       "      <th>2</th>\n",
       "      <td>ThisIsMyPublicKey</td>\n",
       "      <td>2020-06-12 19:45:03.876590</td>\n",
       "    </tr>\n",
       "    <tr>\n",
       "      <th>3</th>\n",
       "      <td>ThisIsMyPublicKey</td>\n",
       "      <td>2020-06-12 19:46:03.876590</td>\n",
       "    </tr>\n",
       "    <tr>\n",
       "      <th>4</th>\n",
       "      <td>ThisIsMyPublicKey</td>\n",
       "      <td>2020-06-12 19:47:03.876590</td>\n",
       "    </tr>\n",
       "    <tr>\n",
       "      <th>5</th>\n",
       "      <td>ThisIsMyPublicKey</td>\n",
       "      <td>2020-06-12 19:48:03.876590</td>\n",
       "    </tr>\n",
       "    <tr>\n",
       "      <th>6</th>\n",
       "      <td>ThisIsMyPublicKey</td>\n",
       "      <td>2020-06-12 19:49:03.876590</td>\n",
       "    </tr>\n",
       "    <tr>\n",
       "      <th>7</th>\n",
       "      <td>ThisIsMyPublicKey</td>\n",
       "      <td>2020-06-12 19:50:03.876590</td>\n",
       "    </tr>\n",
       "    <tr>\n",
       "      <th>8</th>\n",
       "      <td>ThisIsMyPublicKey</td>\n",
       "      <td>2020-06-12 19:51:03.876590</td>\n",
       "    </tr>\n",
       "    <tr>\n",
       "      <th>9</th>\n",
       "      <td>ThisIsMyPublicKey</td>\n",
       "      <td>2020-06-12 19:52:03.876590</td>\n",
       "    </tr>\n",
       "    <tr>\n",
       "      <th>10</th>\n",
       "      <td>ThisIsMyPublicKey</td>\n",
       "      <td>2020-06-12 19:53:03.876590</td>\n",
       "    </tr>\n",
       "    <tr>\n",
       "      <th>11</th>\n",
       "      <td>ThisIsMyPublicKey</td>\n",
       "      <td>2020-06-12 19:54:03.876590</td>\n",
       "    </tr>\n",
       "    <tr>\n",
       "      <th>12</th>\n",
       "      <td>ThisIsMyPublicKey</td>\n",
       "      <td>2020-06-12 19:55:03.876590</td>\n",
       "    </tr>\n",
       "    <tr>\n",
       "      <th>13</th>\n",
       "      <td>ThisIsMyPublicKey</td>\n",
       "      <td>2020-06-12 19:56:03.876590</td>\n",
       "    </tr>\n",
       "    <tr>\n",
       "      <th>14</th>\n",
       "      <td>ThisIsMyPublicKey</td>\n",
       "      <td>2020-06-12 19:57:03.876590</td>\n",
       "    </tr>\n",
       "    <tr>\n",
       "      <th>15</th>\n",
       "      <td>ThisIsMyPublicKey</td>\n",
       "      <td>2020-06-12 19:58:03.876590</td>\n",
       "    </tr>\n",
       "  </tbody>\n",
       "</table>\n",
       "</div>"
      ],
      "text/plain": [
       "               public                       time\n",
       "0   ThisIsMyPublicKey 2020-06-12 19:43:03.876590\n",
       "1   ThisIsMyPublicKey 2020-06-12 19:44:03.876590\n",
       "2   ThisIsMyPublicKey 2020-06-12 19:45:03.876590\n",
       "3   ThisIsMyPublicKey 2020-06-12 19:46:03.876590\n",
       "4   ThisIsMyPublicKey 2020-06-12 19:47:03.876590\n",
       "5   ThisIsMyPublicKey 2020-06-12 19:48:03.876590\n",
       "6   ThisIsMyPublicKey 2020-06-12 19:49:03.876590\n",
       "7   ThisIsMyPublicKey 2020-06-12 19:50:03.876590\n",
       "8   ThisIsMyPublicKey 2020-06-12 19:51:03.876590\n",
       "9   ThisIsMyPublicKey 2020-06-12 19:52:03.876590\n",
       "10  ThisIsMyPublicKey 2020-06-12 19:53:03.876590\n",
       "11  ThisIsMyPublicKey 2020-06-12 19:54:03.876590\n",
       "12  ThisIsMyPublicKey 2020-06-12 19:55:03.876590\n",
       "13  ThisIsMyPublicKey 2020-06-12 19:56:03.876590\n",
       "14  ThisIsMyPublicKey 2020-06-12 19:57:03.876590\n",
       "15  ThisIsMyPublicKey 2020-06-12 19:58:03.876590"
      ]
     },
     "execution_count": 5,
     "metadata": {},
     "output_type": "execute_result"
    }
   ],
   "source": [
    "df2"
   ]
  },
  {
   "cell_type": "code",
   "execution_count": null,
   "metadata": {},
   "outputs": [],
   "source": [
    "df1"
   ]
  },
  {
   "cell_type": "code",
   "execution_count": null,
   "metadata": {},
   "outputs": [],
   "source": []
  }
 ],
 "metadata": {
  "kernelspec": {
   "display_name": "Python 3",
   "language": "python",
   "name": "python3"
  },
  "language_info": {
   "codemirror_mode": {
    "name": "ipython",
    "version": 3
   },
   "file_extension": ".py",
   "mimetype": "text/x-python",
   "name": "python",
   "nbconvert_exporter": "python",
   "pygments_lexer": "ipython3",
   "version": "3.7.5"
  }
 },
 "nbformat": 4,
 "nbformat_minor": 2
}
