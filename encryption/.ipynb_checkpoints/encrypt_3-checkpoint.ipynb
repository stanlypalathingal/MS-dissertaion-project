{
 "cells": [
  {
   "cell_type": "code",
   "execution_count": 1,
   "metadata": {},
   "outputs": [],
   "source": [
    "import math \n",
    "import pandas as pd"
   ]
  },
  {
   "cell_type": "code",
   "execution_count": 2,
   "metadata": {
    "scrolled": true
   },
   "outputs": [
    {
     "data": {
      "text/html": [
       "<div>\n",
       "<style scoped>\n",
       "    .dataframe tbody tr th:only-of-type {\n",
       "        vertical-align: middle;\n",
       "    }\n",
       "\n",
       "    .dataframe tbody tr th {\n",
       "        vertical-align: top;\n",
       "    }\n",
       "\n",
       "    .dataframe thead th {\n",
       "        text-align: right;\n",
       "    }\n",
       "</style>\n",
       "<table border=\"1\" class=\"dataframe\">\n",
       "  <thead>\n",
       "    <tr style=\"text-align: right;\">\n",
       "      <th></th>\n",
       "      <th>public</th>\n",
       "      <th>private</th>\n",
       "    </tr>\n",
       "  </thead>\n",
       "  <tbody>\n",
       "  </tbody>\n",
       "</table>\n",
       "</div>"
      ],
      "text/plain": [
       "Empty DataFrame\n",
       "Columns: [public, private]\n",
       "Index: []"
      ]
     },
     "execution_count": 2,
     "metadata": {},
     "output_type": "execute_result"
    }
   ],
   "source": [
    "d=pd.read_csv(\"key.csv\",delimiter=\",\",names=[\"public\",\"private\"])\n",
    "d.head()"
   ]
  },
  {
   "cell_type": "code",
   "execution_count": 3,
   "metadata": {
    "scrolled": true
   },
   "outputs": [],
   "source": [
    "from Crypto.PublicKey import RSA\n",
    "# from Crypto.Util import asn1\n",
    "# from base64 import b64decode\n",
    "from cryptography.fernet import Fernet\n",
    "import pandas as pd\n",
    "import time\n",
    "\n",
    "key = RSA.generate(2048)\n",
    "\n",
    "\n",
    "def get_pub_key():\n",
    "    pub_key =  key.publickey().exportKey('DER')\n",
    "    return pub_key\n",
    "\n",
    "def get_pvt_key():\n",
    "    pvt_key = key.exportKey('DER')\n",
    "    return(pvt_key)\n",
    "\n",
    "def get_sym_key():\n",
    "    sym_key=Fernet.generate_key()\n",
    "    print(sym_key)\n",
    "    return sym_key\n",
    "\n",
    "# print(get_pub_key())\n",
    "# print(get_pvt_key())\n",
    "# print(get_sym_key())\n",
    "\n",
    "pub=get_pub_key()\n",
    "pvt=get_pvt_key()\n",
    "\n",
    "df1=[]\n",
    "# df=pd.DataFrame(columns=['Topic', 'port', 'public_key', 'time', 'private_key'])\n",
    "df=pd.read_csv(\"pub_key.csv\")\n",
    "f1=[\"DC6\",\"eclipse.mqtt.org\",pub,time.strftime(\"%H:%M:%S\",time.localtime()),pvt]\n",
    "df.loc[len(df)+1]=f1\n",
    "df.to_csv(\"pub_key.csv\",index=False)"
   ]
  },
  {
   "cell_type": "code",
   "execution_count": 4,
   "metadata": {},
   "outputs": [
    {
     "data": {
      "text/html": [
       "<div>\n",
       "<style scoped>\n",
       "    .dataframe tbody tr th:only-of-type {\n",
       "        vertical-align: middle;\n",
       "    }\n",
       "\n",
       "    .dataframe tbody tr th {\n",
       "        vertical-align: top;\n",
       "    }\n",
       "\n",
       "    .dataframe thead th {\n",
       "        text-align: right;\n",
       "    }\n",
       "</style>\n",
       "<table border=\"1\" class=\"dataframe\">\n",
       "  <thead>\n",
       "    <tr style=\"text-align: right;\">\n",
       "      <th></th>\n",
       "      <th>Topic</th>\n",
       "      <th>port</th>\n",
       "      <th>public_key</th>\n",
       "      <th>time</th>\n",
       "      <th>private_key</th>\n",
       "    </tr>\n",
       "  </thead>\n",
       "  <tbody>\n",
       "    <tr>\n",
       "      <th>0</th>\n",
       "      <td>DC1</td>\n",
       "      <td>eclipse.mqtt.org</td>\n",
       "      <td>b'0\\x82\\x01\"0\\r\\x06\\t*\\x86H\\x86\\xf7\\r\\x01\\x01\\...</td>\n",
       "      <td>10:58:06</td>\n",
       "      <td>b'0\\x82\\x04\\xa2\\x02\\x01\\x00\\x02\\x82\\x01\\x01\\x0...</td>\n",
       "    </tr>\n",
       "    <tr>\n",
       "      <th>1</th>\n",
       "      <td>DC2</td>\n",
       "      <td>eclipse.mqtt.org</td>\n",
       "      <td>b'0\\x82\\x01\"0\\r\\x06\\t*\\x86H\\x86\\xf7\\r\\x01\\x01\\...</td>\n",
       "      <td>11:35:16</td>\n",
       "      <td>b'0\\x82\\x04\\xa2\\x02\\x01\\x00\\x02\\x82\\x01\\x01\\x0...</td>\n",
       "    </tr>\n",
       "    <tr>\n",
       "      <th>2</th>\n",
       "      <td>DC3</td>\n",
       "      <td>eclipse.mqtt.org</td>\n",
       "      <td>b'0\\x82\\x01\"0\\r\\x06\\t*\\x86H\\x86\\xf7\\r\\x01\\x01\\...</td>\n",
       "      <td>11:35:20</td>\n",
       "      <td>b'0\\x82\\x04\\xa3\\x02\\x01\\x00\\x02\\x82\\x01\\x01\\x0...</td>\n",
       "    </tr>\n",
       "    <tr>\n",
       "      <th>3</th>\n",
       "      <td>DC4</td>\n",
       "      <td>eclipse.mqtt.org</td>\n",
       "      <td>b'0\\x82\\x01\"0\\r\\x06\\t*\\x86H\\x86\\xf7\\r\\x01\\x01\\...</td>\n",
       "      <td>11:35:22</td>\n",
       "      <td>b'0\\x82\\x04\\xa3\\x02\\x01\\x00\\x02\\x82\\x01\\x01\\x0...</td>\n",
       "    </tr>\n",
       "    <tr>\n",
       "      <th>4</th>\n",
       "      <td>DC5</td>\n",
       "      <td>eclipse.mqtt.org</td>\n",
       "      <td>b'0\\x82\\x01\"0\\r\\x06\\t*\\x86H\\x86\\xf7\\r\\x01\\x01\\...</td>\n",
       "      <td>11:35:26</td>\n",
       "      <td>b'0\\x82\\x04\\xa3\\x02\\x01\\x00\\x02\\x82\\x01\\x01\\x0...</td>\n",
       "    </tr>\n",
       "  </tbody>\n",
       "</table>\n",
       "</div>"
      ],
      "text/plain": [
       "  Topic              port                                         public_key  \\\n",
       "0   DC1  eclipse.mqtt.org  b'0\\x82\\x01\"0\\r\\x06\\t*\\x86H\\x86\\xf7\\r\\x01\\x01\\...   \n",
       "1   DC2  eclipse.mqtt.org  b'0\\x82\\x01\"0\\r\\x06\\t*\\x86H\\x86\\xf7\\r\\x01\\x01\\...   \n",
       "2   DC3  eclipse.mqtt.org  b'0\\x82\\x01\"0\\r\\x06\\t*\\x86H\\x86\\xf7\\r\\x01\\x01\\...   \n",
       "3   DC4  eclipse.mqtt.org  b'0\\x82\\x01\"0\\r\\x06\\t*\\x86H\\x86\\xf7\\r\\x01\\x01\\...   \n",
       "4   DC5  eclipse.mqtt.org  b'0\\x82\\x01\"0\\r\\x06\\t*\\x86H\\x86\\xf7\\r\\x01\\x01\\...   \n",
       "\n",
       "       time                                        private_key  \n",
       "0  10:58:06  b'0\\x82\\x04\\xa2\\x02\\x01\\x00\\x02\\x82\\x01\\x01\\x0...  \n",
       "1  11:35:16  b'0\\x82\\x04\\xa2\\x02\\x01\\x00\\x02\\x82\\x01\\x01\\x0...  \n",
       "2  11:35:20  b'0\\x82\\x04\\xa3\\x02\\x01\\x00\\x02\\x82\\x01\\x01\\x0...  \n",
       "3  11:35:22  b'0\\x82\\x04\\xa3\\x02\\x01\\x00\\x02\\x82\\x01\\x01\\x0...  \n",
       "4  11:35:26  b'0\\x82\\x04\\xa3\\x02\\x01\\x00\\x02\\x82\\x01\\x01\\x0...  "
      ]
     },
     "execution_count": 4,
     "metadata": {},
     "output_type": "execute_result"
    }
   ],
   "source": [
    "df.head()"
   ]
  },
  {
   "cell_type": "code",
   "execution_count": 5,
   "metadata": {},
   "outputs": [
    {
     "data": {
      "text/plain": [
       "'b\\'0\\\\x82\\\\x01\"0\\\\r\\\\x06\\\\t*\\\\x86H\\\\x86\\\\xf7\\\\r\\\\x01\\\\x01\\\\x01\\\\x05\\\\x00\\\\x03\\\\x82\\\\x01\\\\x0f\\\\x000\\\\x82\\\\x01\\\\n\\\\x02\\\\x82\\\\x01\\\\x01\\\\x00\\\\xa3;?S\\\\x8dn\\\\xc1F\\\\x14\\\\xc6d\\\\xdam\\\\xdf\\\\x13\\\\x9c\\\\x12Vh\\\\x0f\\\\xb1B\\\\xdd\\\\x02\\\\xef\\\\xb9,@.\\\\x03>\\\\xa1\\\\x05\\\\xda\\\\x87\\\\x84\\\\xb5\\\\x8c3\\\\x97\\\\xb4\\\\x87\\\\xcf~\\\\xcfp\\\\xa4:\\\\xd6\\\\xcc\\\\x9aIYq\\\\xe1\\\\x9f\\\\xb5\\\\x98\\\\xa0Q\\\\xf4e\\\\xce\\\\xc2\\\\x050\\\\xd8M\\\\xca\\\\xa4\\\\x9a~\\\\xe1\\\\x0e\\\\xc9D\\\\xbc\\\\x1b\\\\xb0i\\\\x9d\\\\x96n\\\\x01\\\\xfeU\\\\xd1\\\\xf5*\\\\x98\\\\x813\\\\xaf\\\\xc4\\\\xf2\\\\xf35L\\\\x93\\\\x07\\\\xb2\\\\xf6\\\\xdd\\\\xed\\\\xeb\\\\xd5\\\\x82\\\\xbe4/\\\\xe5\\\\xda\\\\x92\\\\x83\\\\x8f\\\\xa8\\\\xccTdH\\\\xfe\\\\xe9~\\\\xba\\\\xc3\\\\xff\\\\xdb\\\\xec\\\\xee\\\\xaag%?\\\\x81X\\\\x0bv\\\\x8d\\\\xad\\\\xb1?26\\\\xfdd\\\\x05\\\\xcc@\\\\xbb1\\\\xb2\\\\x11\\\\x0f\\\\\\'&\\\\x19\\\\xfdP|R\\\\xaf\\\\x85\\\\xd6\\\\x94\\\\x91e\\\\xc2\\\\xe0\\\\xf0#\\\\xe0P^\"\\\\x17\\\\x93be\\\\xaa|f\\\\x98\\\\x00@\\\\xb4\\\\xb1a\\\\xa6/\\\\x12j\\\\xd3@\\\\x00\\\\xa9V\\\\x0c\\\\x81\\\\x18\\\\xfa\\\\xe3^u\\\\xe0Y!&\\\\x91\\\\xbfds\\\\xd2Bym\\\\x9e\\\\xa8\\\\x87\\\\xe7\\\\x16N\\\\xa3~\\\\xc8L\\\\xdej\\\\x89\\\\xc7>b\\\\xb7S\\\\xf8\\\\xf98\\\\xab`G|\\\\xcc\\\\rZ\\\\xd6CC\\\\x1b\\\\xb5F\\\\xc1\\\\xdd|\\\\x05\\\\x19H\\\\xfb\\\\x02\\\\x03\\\\x01\\\\x00\\\\x01\\''"
      ]
     },
     "execution_count": 5,
     "metadata": {},
     "output_type": "execute_result"
    }
   ],
   "source": [
    "df.public_key[3]"
   ]
  },
  {
   "cell_type": "code",
   "execution_count": 6,
   "metadata": {},
   "outputs": [],
   "source": [
    "a=df.public_key[4]"
   ]
  },
  {
   "cell_type": "code",
   "execution_count": 7,
   "metadata": {},
   "outputs": [
    {
     "data": {
      "text/plain": [
       "8"
      ]
     },
     "execution_count": 7,
     "metadata": {},
     "output_type": "execute_result"
    },
    {
     "name": "stdout",
     "output_type": "stream",
     "text": [
      "DC5\n",
      "11:35:26\n"
     ]
    }
   ],
   "source": [
    "df=pd.read_csv(\"pub_key.csv\",delimiter=\",\",names=['Topic', 'port', 'public_key', 'time', 'private_key'])\n",
    "l=len(df)\n",
    "l\n",
    "for i in range(0,l):\n",
    "    if(df[\"public_key\"][i]==a):\n",
    "        print(df.Topic[i])\n",
    "        print(df.time[i])\n",
    "        \n",
    "\t#print(data[obj].unique())\n"
   ]
  },
  {
   "cell_type": "code",
   "execution_count": 8,
   "metadata": {},
   "outputs": [
    {
     "data": {
      "text/html": [
       "<div>\n",
       "<style scoped>\n",
       "    .dataframe tbody tr th:only-of-type {\n",
       "        vertical-align: middle;\n",
       "    }\n",
       "\n",
       "    .dataframe tbody tr th {\n",
       "        vertical-align: top;\n",
       "    }\n",
       "\n",
       "    .dataframe thead th {\n",
       "        text-align: right;\n",
       "    }\n",
       "</style>\n",
       "<table border=\"1\" class=\"dataframe\">\n",
       "  <thead>\n",
       "    <tr style=\"text-align: right;\">\n",
       "      <th></th>\n",
       "      <th>Topic</th>\n",
       "      <th>port</th>\n",
       "      <th>public_key</th>\n",
       "      <th>time</th>\n",
       "      <th>private_key</th>\n",
       "    </tr>\n",
       "  </thead>\n",
       "  <tbody>\n",
       "    <tr>\n",
       "      <th>0</th>\n",
       "      <td>Topic</td>\n",
       "      <td>port</td>\n",
       "      <td>public_key</td>\n",
       "      <td>time</td>\n",
       "      <td>private_key</td>\n",
       "    </tr>\n",
       "    <tr>\n",
       "      <th>1</th>\n",
       "      <td>DC1</td>\n",
       "      <td>eclipse.mqtt.org</td>\n",
       "      <td>b'0\\x82\\x01\"0\\r\\x06\\t*\\x86H\\x86\\xf7\\r\\x01\\x01\\...</td>\n",
       "      <td>10:58:06</td>\n",
       "      <td>b'0\\x82\\x04\\xa2\\x02\\x01\\x00\\x02\\x82\\x01\\x01\\x0...</td>\n",
       "    </tr>\n",
       "    <tr>\n",
       "      <th>2</th>\n",
       "      <td>DC2</td>\n",
       "      <td>eclipse.mqtt.org</td>\n",
       "      <td>b'0\\x82\\x01\"0\\r\\x06\\t*\\x86H\\x86\\xf7\\r\\x01\\x01\\...</td>\n",
       "      <td>11:35:16</td>\n",
       "      <td>b'0\\x82\\x04\\xa2\\x02\\x01\\x00\\x02\\x82\\x01\\x01\\x0...</td>\n",
       "    </tr>\n",
       "    <tr>\n",
       "      <th>3</th>\n",
       "      <td>DC3</td>\n",
       "      <td>eclipse.mqtt.org</td>\n",
       "      <td>b'0\\x82\\x01\"0\\r\\x06\\t*\\x86H\\x86\\xf7\\r\\x01\\x01\\...</td>\n",
       "      <td>11:35:20</td>\n",
       "      <td>b'0\\x82\\x04\\xa3\\x02\\x01\\x00\\x02\\x82\\x01\\x01\\x0...</td>\n",
       "    </tr>\n",
       "    <tr>\n",
       "      <th>4</th>\n",
       "      <td>DC4</td>\n",
       "      <td>eclipse.mqtt.org</td>\n",
       "      <td>b'0\\x82\\x01\"0\\r\\x06\\t*\\x86H\\x86\\xf7\\r\\x01\\x01\\...</td>\n",
       "      <td>11:35:22</td>\n",
       "      <td>b'0\\x82\\x04\\xa3\\x02\\x01\\x00\\x02\\x82\\x01\\x01\\x0...</td>\n",
       "    </tr>\n",
       "    <tr>\n",
       "      <th>5</th>\n",
       "      <td>DC5</td>\n",
       "      <td>eclipse.mqtt.org</td>\n",
       "      <td>b'0\\x82\\x01\"0\\r\\x06\\t*\\x86H\\x86\\xf7\\r\\x01\\x01\\...</td>\n",
       "      <td>11:35:26</td>\n",
       "      <td>b'0\\x82\\x04\\xa3\\x02\\x01\\x00\\x02\\x82\\x01\\x01\\x0...</td>\n",
       "    </tr>\n",
       "    <tr>\n",
       "      <th>6</th>\n",
       "      <td>DC6</td>\n",
       "      <td>eclipse.mqtt.org</td>\n",
       "      <td>b'0\\x82\\x01\"0\\r\\x06\\t*\\x86H\\x86\\xf7\\r\\x01\\x01\\...</td>\n",
       "      <td>11:35:29</td>\n",
       "      <td>b'0\\x82\\x04\\xa3\\x02\\x01\\x00\\x02\\x82\\x01\\x01\\x0...</td>\n",
       "    </tr>\n",
       "    <tr>\n",
       "      <th>7</th>\n",
       "      <td>DC6</td>\n",
       "      <td>eclipse.mqtt.org</td>\n",
       "      <td>b'0\\x82\\x01\"0\\r\\x06\\t*\\x86H\\x86\\xf7\\r\\x01\\x01\\...</td>\n",
       "      <td>13:35:32</td>\n",
       "      <td>b'0\\x82\\x04\\xa5\\x02\\x01\\x00\\x02\\x82\\x01\\x01\\x0...</td>\n",
       "    </tr>\n",
       "  </tbody>\n",
       "</table>\n",
       "</div>"
      ],
      "text/plain": [
       "   Topic              port                                         public_key  \\\n",
       "0  Topic              port                                         public_key   \n",
       "1    DC1  eclipse.mqtt.org  b'0\\x82\\x01\"0\\r\\x06\\t*\\x86H\\x86\\xf7\\r\\x01\\x01\\...   \n",
       "2    DC2  eclipse.mqtt.org  b'0\\x82\\x01\"0\\r\\x06\\t*\\x86H\\x86\\xf7\\r\\x01\\x01\\...   \n",
       "3    DC3  eclipse.mqtt.org  b'0\\x82\\x01\"0\\r\\x06\\t*\\x86H\\x86\\xf7\\r\\x01\\x01\\...   \n",
       "4    DC4  eclipse.mqtt.org  b'0\\x82\\x01\"0\\r\\x06\\t*\\x86H\\x86\\xf7\\r\\x01\\x01\\...   \n",
       "5    DC5  eclipse.mqtt.org  b'0\\x82\\x01\"0\\r\\x06\\t*\\x86H\\x86\\xf7\\r\\x01\\x01\\...   \n",
       "6    DC6  eclipse.mqtt.org  b'0\\x82\\x01\"0\\r\\x06\\t*\\x86H\\x86\\xf7\\r\\x01\\x01\\...   \n",
       "7    DC6  eclipse.mqtt.org  b'0\\x82\\x01\"0\\r\\x06\\t*\\x86H\\x86\\xf7\\r\\x01\\x01\\...   \n",
       "\n",
       "       time                                        private_key  \n",
       "0      time                                        private_key  \n",
       "1  10:58:06  b'0\\x82\\x04\\xa2\\x02\\x01\\x00\\x02\\x82\\x01\\x01\\x0...  \n",
       "2  11:35:16  b'0\\x82\\x04\\xa2\\x02\\x01\\x00\\x02\\x82\\x01\\x01\\x0...  \n",
       "3  11:35:20  b'0\\x82\\x04\\xa3\\x02\\x01\\x00\\x02\\x82\\x01\\x01\\x0...  \n",
       "4  11:35:22  b'0\\x82\\x04\\xa3\\x02\\x01\\x00\\x02\\x82\\x01\\x01\\x0...  \n",
       "5  11:35:26  b'0\\x82\\x04\\xa3\\x02\\x01\\x00\\x02\\x82\\x01\\x01\\x0...  \n",
       "6  11:35:29  b'0\\x82\\x04\\xa3\\x02\\x01\\x00\\x02\\x82\\x01\\x01\\x0...  \n",
       "7  13:35:32  b'0\\x82\\x04\\xa5\\x02\\x01\\x00\\x02\\x82\\x01\\x01\\x0...  "
      ]
     },
     "execution_count": 8,
     "metadata": {},
     "output_type": "execute_result"
    }
   ],
   "source": [
    "df"
   ]
  },
  {
   "cell_type": "code",
   "execution_count": 129,
   "metadata": {},
   "outputs": [
    {
     "data": {
      "text/plain": [
       "4420"
      ]
     },
     "execution_count": 129,
     "metadata": {},
     "output_type": "execute_result"
    }
   ],
   "source": [
    "f1=\"DC6\"+\",\"+\"eclipse.mqtt.org\"+\",\"+time.strftime(\"%H:%M:%S\",time.localtime())+\",\"+str(pub)+\",\"+str(pvt)\n",
    "with open('pub_key.csv','a+') as f:\n",
    "    f.write(\"\\n\"+str(f1))\n",
    "f.close()"
   ]
  },
  {
   "cell_type": "code",
   "execution_count": 106,
   "metadata": {},
   "outputs": [
    {
     "data": {
      "text/html": [
       "<div>\n",
       "<style scoped>\n",
       "    .dataframe tbody tr th:only-of-type {\n",
       "        vertical-align: middle;\n",
       "    }\n",
       "\n",
       "    .dataframe tbody tr th {\n",
       "        vertical-align: top;\n",
       "    }\n",
       "\n",
       "    .dataframe thead th {\n",
       "        text-align: right;\n",
       "    }\n",
       "</style>\n",
       "<table border=\"1\" class=\"dataframe\">\n",
       "  <thead>\n",
       "    <tr style=\"text-align: right;\">\n",
       "      <th></th>\n",
       "      <th>Topic</th>\n",
       "      <th>port</th>\n",
       "      <th>time</th>\n",
       "      <th>public_key</th>\n",
       "      <th>private_key</th>\n",
       "    </tr>\n",
       "  </thead>\n",
       "  <tbody>\n",
       "    <tr>\n",
       "      <th>0</th>\n",
       "      <td>Topic</td>\n",
       "      <td>port</td>\n",
       "      <td>time</td>\n",
       "      <td>public_key</td>\n",
       "      <td>private_key</td>\n",
       "    </tr>\n",
       "    <tr>\n",
       "      <th>1</th>\n",
       "      <td>DC1</td>\n",
       "      <td>eclipse.mqtt.org</td>\n",
       "      <td>14:03:43</td>\n",
       "      <td>b'0\\x82\\x01\"0\\r\\x06\\t*\\x86H\\x86\\xf7\\r\\x01\\x01\\...</td>\n",
       "      <td>r\\x11\\x95\\xd1\\x9bK\\xa7\\x8a\\xd8</td>\n",
       "    </tr>\n",
       "    <tr>\n",
       "      <th>2</th>\n",
       "      <td>DC2</td>\n",
       "      <td>eclipse.mqtt.org</td>\n",
       "      <td>14:03:47</td>\n",
       "      <td>b'0\\x82\\x01\"0\\r\\x06\\t*\\x86H\\x86\\xf7\\r\\x01\\x01\\...</td>\n",
       "      <td>r\\x11\\x95\\xd1\\x9bK\\xa7\\x8a\\xd8</td>\n",
       "    </tr>\n",
       "  </tbody>\n",
       "</table>\n",
       "</div>"
      ],
      "text/plain": [
       "   Topic              port      time  \\\n",
       "0  Topic              port      time   \n",
       "1    DC1  eclipse.mqtt.org  14:03:43   \n",
       "2    DC2  eclipse.mqtt.org  14:03:47   \n",
       "\n",
       "                                          public_key  \\\n",
       "0                                         public_key   \n",
       "1  b'0\\x82\\x01\"0\\r\\x06\\t*\\x86H\\x86\\xf7\\r\\x01\\x01\\...   \n",
       "2  b'0\\x82\\x01\"0\\r\\x06\\t*\\x86H\\x86\\xf7\\r\\x01\\x01\\...   \n",
       "\n",
       "                      private_key  \n",
       "0                     private_key  \n",
       "1  r\\x11\\x95\\xd1\\x9bK\\xa7\\x8a\\xd8  \n",
       "2  r\\x11\\x95\\xd1\\x9bK\\xa7\\x8a\\xd8  "
      ]
     },
     "execution_count": 106,
     "metadata": {},
     "output_type": "execute_result"
    }
   ],
   "source": [
    "# f1=pd.DataFrame(columns=['Topic','port','time','public_key','private_key'])\n",
    "# f1.to_csv(\"key.csv\",index=False)\n",
    "\n",
    "df=pd.read_csv(\"key.csv\",delimiter=\",\",names=['Topic','port','time','public_key','private_key'])\n",
    "df.head()\n",
    "\n",
    "# df=pd.read_csv(\"pub_key.csv\")\n",
    "# for i in range(0,l):\n",
    "#     if(df[\"public_key\"][i]==a):\n",
    "#         print(df.Topic[i])\n",
    "#         print(df.time[i])\n",
    "# df.loc[len(df)+1]=f1\n",
    "# df.to_csv(\"pub_key.csv\",index=False)"
   ]
  },
  {
   "cell_type": "code",
   "execution_count": 89,
   "metadata": {},
   "outputs": [
    {
     "data": {
      "text/html": [
       "<div>\n",
       "<style scoped>\n",
       "    .dataframe tbody tr th:only-of-type {\n",
       "        vertical-align: middle;\n",
       "    }\n",
       "\n",
       "    .dataframe tbody tr th {\n",
       "        vertical-align: top;\n",
       "    }\n",
       "\n",
       "    .dataframe thead th {\n",
       "        text-align: right;\n",
       "    }\n",
       "</style>\n",
       "<table border=\"1\" class=\"dataframe\">\n",
       "  <thead>\n",
       "    <tr style=\"text-align: right;\">\n",
       "      <th></th>\n",
       "      <th>Topic</th>\n",
       "      <th>port</th>\n",
       "      <th>public_key</th>\n",
       "      <th>time</th>\n",
       "      <th>private_key</th>\n",
       "    </tr>\n",
       "  </thead>\n",
       "  <tbody>\n",
       "  </tbody>\n",
       "</table>\n",
       "</div>"
      ],
      "text/plain": [
       "Empty DataFrame\n",
       "Columns: [Topic, port, public_key, time, private_key]\n",
       "Index: []"
      ]
     },
     "execution_count": 89,
     "metadata": {},
     "output_type": "execute_result"
    }
   ],
   "source": [
    "f1.head()"
   ]
  },
  {
   "cell_type": "code",
   "execution_count": 107,
   "metadata": {},
   "outputs": [
    {
     "name": "stdout",
     "output_type": "stream",
     "text": [
      "DC1\n",
      "14:03:43\n",
      "DC2\n",
      "14:03:47\n"
     ]
    }
   ],
   "source": [
    "l=len(df)\n",
    "a=df.public_key[2]\n",
    "for i in range(0,l):\n",
    "    if(df[\"public_key\"][i]==a):\n",
    "        print(df.Topic[i])\n",
    "        print(df.time[i])"
   ]
  },
  {
   "cell_type": "code",
   "execution_count": 131,
   "metadata": {},
   "outputs": [
    {
     "data": {
      "text/html": [
       "<div>\n",
       "<style scoped>\n",
       "    .dataframe tbody tr th:only-of-type {\n",
       "        vertical-align: middle;\n",
       "    }\n",
       "\n",
       "    .dataframe tbody tr th {\n",
       "        vertical-align: top;\n",
       "    }\n",
       "\n",
       "    .dataframe thead th {\n",
       "        text-align: right;\n",
       "    }\n",
       "</style>\n",
       "<table border=\"1\" class=\"dataframe\">\n",
       "  <thead>\n",
       "    <tr style=\"text-align: right;\">\n",
       "      <th></th>\n",
       "      <th>Topic</th>\n",
       "      <th>port</th>\n",
       "      <th>time</th>\n",
       "      <th>public_key</th>\n",
       "      <th>private_key</th>\n",
       "    </tr>\n",
       "  </thead>\n",
       "  <tbody>\n",
       "    <tr>\n",
       "      <th>0</th>\n",
       "      <td>Topic</td>\n",
       "      <td>port</td>\n",
       "      <td>time</td>\n",
       "      <td>public_key</td>\n",
       "      <td>private_key</td>\n",
       "    </tr>\n",
       "    <tr>\n",
       "      <th>1</th>\n",
       "      <td>DC5</td>\n",
       "      <td>eclipse.mqtt.org</td>\n",
       "      <td>15:25:41</td>\n",
       "      <td>b'0\\x82\\x01\"0\\r\\x06\\t*\\x86H\\x86\\xf7\\r\\x01\\x01\\...</td>\n",
       "      <td>b'0\\x82\\x04\\xa4\\x02\\x01\\x00\\x02\\x82\\x01\\x01\\x0...</td>\n",
       "    </tr>\n",
       "    <tr>\n",
       "      <th>2</th>\n",
       "      <td>DC2</td>\n",
       "      <td>eclipse.mqtt.org</td>\n",
       "      <td>15:26:04</td>\n",
       "      <td>b'0\\x82\\x01\"0\\r\\x06\\t*\\x86H\\x86\\xf7\\r\\x01\\x01\\...</td>\n",
       "      <td>\\xd9\\xdbF\\xd7\\x93Y\\x96\\x92\\x82\\xbb\\xaf\\xfb\\xd4...</td>\n",
       "    </tr>\n",
       "    <tr>\n",
       "      <th>3</th>\n",
       "      <td>DC4</td>\n",
       "      <td>eclipse.mqtt.org</td>\n",
       "      <td>15:29:13</td>\n",
       "      <td>b'0\\x82\\x01\"0\\r\\x06\\t*\\x86H\\x86\\xf7\\r\\x01\\x01\\...</td>\n",
       "      <td>\\xb0\\x08\\xf1eB\\xa1\\xec\\xb38\\xa0\\xa1\\x80\\xde\\xa...</td>\n",
       "    </tr>\n",
       "    <tr>\n",
       "      <th>4</th>\n",
       "      <td>DC1</td>\n",
       "      <td>eclipse.mqtt.org</td>\n",
       "      <td>15:30:39</td>\n",
       "      <td>b'0\\x82\\x01\"0\\r\\x06\\t*\\x86H\\x86\\xf7\\r\\x01\\x01\\...</td>\n",
       "      <td>\\xdc\\xe1\\xce\\xf2\\xf9{\\x8f\\xeb\\xd6\\xee\\x910-\\xa...</td>\n",
       "    </tr>\n",
       "    <tr>\n",
       "      <th>5</th>\n",
       "      <td>DC3</td>\n",
       "      <td>eclipse.mqtt.org</td>\n",
       "      <td>15:32:24</td>\n",
       "      <td>b'0\\x82\\x01\"0\\r\\x06\\t*\\x86H\\x86\\xf7\\r\\x01\\x01\\...</td>\n",
       "      <td>\\xea;@\\\\N\\xde\\xa4i\\xc4i\\xd9\\x9b\\x95a\\rq?\\x9d\\x...</td>\n",
       "    </tr>\n",
       "    <tr>\n",
       "      <th>6</th>\n",
       "      <td>DC6</td>\n",
       "      <td>eclipse.mqtt.org</td>\n",
       "      <td>15:53:37</td>\n",
       "      <td>b'0\\x82\\x01\"0\\r\\x06\\t*\\x86H\\x86\\xf7\\r\\x01\\x01\\...</td>\n",
       "      <td>r\\x11\\x95\\xd1\\x9bK\\xa7\\x8a\\xd8</td>\n",
       "    </tr>\n",
       "    <tr>\n",
       "      <th>7</th>\n",
       "      <td>DC6</td>\n",
       "      <td>eclipse.mqtt.org</td>\n",
       "      <td>15:54:04</td>\n",
       "      <td>b'0\\x82\\x01\"0\\r\\x06\\t*\\x86H\\x86\\xf7\\r\\x01\\x01\\...</td>\n",
       "      <td>r\\x11\\x95\\xd1\\x9bK\\xa7\\x8a\\xd8</td>\n",
       "    </tr>\n",
       "  </tbody>\n",
       "</table>\n",
       "</div>"
      ],
      "text/plain": [
       "   Topic              port      time  \\\n",
       "0  Topic              port      time   \n",
       "1    DC5  eclipse.mqtt.org  15:25:41   \n",
       "2    DC2  eclipse.mqtt.org  15:26:04   \n",
       "3    DC4  eclipse.mqtt.org  15:29:13   \n",
       "4    DC1  eclipse.mqtt.org  15:30:39   \n",
       "5    DC3  eclipse.mqtt.org  15:32:24   \n",
       "6    DC6  eclipse.mqtt.org  15:53:37   \n",
       "7    DC6  eclipse.mqtt.org  15:54:04   \n",
       "\n",
       "                                          public_key  \\\n",
       "0                                         public_key   \n",
       "1  b'0\\x82\\x01\"0\\r\\x06\\t*\\x86H\\x86\\xf7\\r\\x01\\x01\\...   \n",
       "2  b'0\\x82\\x01\"0\\r\\x06\\t*\\x86H\\x86\\xf7\\r\\x01\\x01\\...   \n",
       "3  b'0\\x82\\x01\"0\\r\\x06\\t*\\x86H\\x86\\xf7\\r\\x01\\x01\\...   \n",
       "4  b'0\\x82\\x01\"0\\r\\x06\\t*\\x86H\\x86\\xf7\\r\\x01\\x01\\...   \n",
       "5  b'0\\x82\\x01\"0\\r\\x06\\t*\\x86H\\x86\\xf7\\r\\x01\\x01\\...   \n",
       "6  b'0\\x82\\x01\"0\\r\\x06\\t*\\x86H\\x86\\xf7\\r\\x01\\x01\\...   \n",
       "7  b'0\\x82\\x01\"0\\r\\x06\\t*\\x86H\\x86\\xf7\\r\\x01\\x01\\...   \n",
       "\n",
       "                                         private_key  \n",
       "0                                        private_key  \n",
       "1  b'0\\x82\\x04\\xa4\\x02\\x01\\x00\\x02\\x82\\x01\\x01\\x0...  \n",
       "2  \\xd9\\xdbF\\xd7\\x93Y\\x96\\x92\\x82\\xbb\\xaf\\xfb\\xd4...  \n",
       "3  \\xb0\\x08\\xf1eB\\xa1\\xec\\xb38\\xa0\\xa1\\x80\\xde\\xa...  \n",
       "4  \\xdc\\xe1\\xce\\xf2\\xf9{\\x8f\\xeb\\xd6\\xee\\x910-\\xa...  \n",
       "5  \\xea;@\\\\N\\xde\\xa4i\\xc4i\\xd9\\x9b\\x95a\\rq?\\x9d\\x...  \n",
       "6                     r\\x11\\x95\\xd1\\x9bK\\xa7\\x8a\\xd8  \n",
       "7                     r\\x11\\x95\\xd1\\x9bK\\xa7\\x8a\\xd8  "
      ]
     },
     "execution_count": 131,
     "metadata": {},
     "output_type": "execute_result"
    }
   ],
   "source": [
    "df1=pd.read_csv(\"pub_key.csv\",delimiter=\",\",names=['Topic','port','time','public_key','private_key'])\n",
    "df1.head(10)"
   ]
  },
  {
   "cell_type": "code",
   "execution_count": 132,
   "metadata": {},
   "outputs": [
    {
     "name": "stdout",
     "output_type": "stream",
     "text": [
      "DC6\n",
      "15:53:37\n",
      "DC6\n",
      "15:54:04\n"
     ]
    }
   ],
   "source": [
    "l=len(df1)\n",
    "a=df1.public_key[6]\n",
    "for i in range(0,l):\n",
    "    if(df1[\"public_key\"][i]==a):\n",
    "        print(df1.Topic[i])\n",
    "        df1.time=\n",
    "        print(df1.time[i])"
   ]
  },
  {
   "cell_type": "code",
   "execution_count": 124,
   "metadata": {},
   "outputs": [
    {
     "data": {
      "text/plain": [
       "False"
      ]
     },
     "execution_count": 124,
     "metadata": {},
     "output_type": "execute_result"
    }
   ],
   "source": [
    "(df1[\"public_key\"][4]==df1[\"public_key\"][2])"
   ]
  },
  {
   "cell_type": "code",
   "execution_count": 233,
   "metadata": {},
   "outputs": [
    {
     "data": {
      "text/plain": [
       "908"
      ]
     },
     "execution_count": 233,
     "metadata": {},
     "output_type": "execute_result"
    }
   ],
   "source": [
    "f1=pd.DataFrame(columns=['time','key'])\n",
    "f1.to_csv(\"key.csv\",index=False)\n",
    "f1=(time.strftime(\"%H:%M:%S\",time.localtime()))+str(\",\")+str(pub)\n",
    "with open('key.csv','a+') as f:\n",
    "    f.write(\"\\n\"+str(f1))\n",
    "f.close()"
   ]
  },
  {
   "cell_type": "code",
   "execution_count": 234,
   "metadata": {},
   "outputs": [],
   "source": [
    "df3=pd.read_csv(\"key.csv\",delimiter=\",\")"
   ]
  },
  {
   "cell_type": "code",
   "execution_count": 235,
   "metadata": {},
   "outputs": [
    {
     "data": {
      "text/html": [
       "<div>\n",
       "<style scoped>\n",
       "    .dataframe tbody tr th:only-of-type {\n",
       "        vertical-align: middle;\n",
       "    }\n",
       "\n",
       "    .dataframe tbody tr th {\n",
       "        vertical-align: top;\n",
       "    }\n",
       "\n",
       "    .dataframe thead th {\n",
       "        text-align: right;\n",
       "    }\n",
       "</style>\n",
       "<table border=\"1\" class=\"dataframe\">\n",
       "  <thead>\n",
       "    <tr style=\"text-align: right;\">\n",
       "      <th></th>\n",
       "      <th>time</th>\n",
       "      <th>key</th>\n",
       "    </tr>\n",
       "  </thead>\n",
       "  <tbody>\n",
       "    <tr>\n",
       "      <th>0</th>\n",
       "      <td>time,key</td>\n",
       "      <td>NaN</td>\n",
       "    </tr>\n",
       "    <tr>\n",
       "      <th>1</th>\n",
       "      <td>16:48:38,b'0\\x82\\x01\"0\\r\\x06\\t*\\x86H\\x86\\xf7\\r...</td>\n",
       "      <td>\\x17X{\\xe7&gt;\\rvI\\x9dU(\\x00WeR\\xe7:\\xf72\"L\\x8f8\\...</td>\n",
       "    </tr>\n",
       "  </tbody>\n",
       "</table>\n",
       "</div>"
      ],
      "text/plain": [
       "                                                time  \\\n",
       "0                                           time,key   \n",
       "1  16:48:38,b'0\\x82\\x01\"0\\r\\x06\\t*\\x86H\\x86\\xf7\\r...   \n",
       "\n",
       "                                                 key  \n",
       "0                                                NaN  \n",
       "1  \\x17X{\\xe7>\\rvI\\x9dU(\\x00WeR\\xe7:\\xf72\"L\\x8f8\\...  "
      ]
     },
     "execution_count": 235,
     "metadata": {},
     "output_type": "execute_result"
    }
   ],
   "source": [
    "df3.head()"
   ]
  },
  {
   "cell_type": "code",
   "execution_count": 236,
   "metadata": {},
   "outputs": [
    {
     "data": {
      "text/html": [
       "<div>\n",
       "<style scoped>\n",
       "    .dataframe tbody tr th:only-of-type {\n",
       "        vertical-align: middle;\n",
       "    }\n",
       "\n",
       "    .dataframe tbody tr th {\n",
       "        vertical-align: top;\n",
       "    }\n",
       "\n",
       "    .dataframe thead th {\n",
       "        text-align: right;\n",
       "    }\n",
       "</style>\n",
       "<table border=\"1\" class=\"dataframe\">\n",
       "  <thead>\n",
       "    <tr style=\"text-align: right;\">\n",
       "      <th></th>\n",
       "      <th>time</th>\n",
       "      <th>key</th>\n",
       "    </tr>\n",
       "  </thead>\n",
       "  <tbody>\n",
       "    <tr>\n",
       "      <th>0</th>\n",
       "      <td>time,key</td>\n",
       "      <td>NaN</td>\n",
       "    </tr>\n",
       "    <tr>\n",
       "      <th>1</th>\n",
       "      <td>16:48:38,b'0\\x82\\x01\"0\\r\\x06\\t*\\x86H\\x86\\xf7\\r...</td>\n",
       "      <td>\\x17X{\\xe7&gt;\\rvI\\x9dU(\\x00WeR\\xe7:\\xf72\"L\\x8f8\\...</td>\n",
       "    </tr>\n",
       "  </tbody>\n",
       "</table>\n",
       "</div>"
      ],
      "text/plain": [
       "                                                time  \\\n",
       "0                                           time,key   \n",
       "1  16:48:38,b'0\\x82\\x01\"0\\r\\x06\\t*\\x86H\\x86\\xf7\\r...   \n",
       "\n",
       "                                                 key  \n",
       "0                                                NaN  \n",
       "1  \\x17X{\\xe7>\\rvI\\x9dU(\\x00WeR\\xe7:\\xf72\"L\\x8f8\\...  "
      ]
     },
     "execution_count": 236,
     "metadata": {},
     "output_type": "execute_result"
    }
   ],
   "source": [
    "df3"
   ]
  },
  {
   "cell_type": "code",
   "execution_count": null,
   "metadata": {},
   "outputs": [],
   "source": []
  }
 ],
 "metadata": {
  "kernelspec": {
   "display_name": "Python 3",
   "language": "python",
   "name": "python3"
  },
  "language_info": {
   "codemirror_mode": {
    "name": "ipython",
    "version": 3
   },
   "file_extension": ".py",
   "mimetype": "text/x-python",
   "name": "python",
   "nbconvert_exporter": "python",
   "pygments_lexer": "ipython3",
   "version": "3.7.5"
  }
 },
 "nbformat": 4,
 "nbformat_minor": 2
}
