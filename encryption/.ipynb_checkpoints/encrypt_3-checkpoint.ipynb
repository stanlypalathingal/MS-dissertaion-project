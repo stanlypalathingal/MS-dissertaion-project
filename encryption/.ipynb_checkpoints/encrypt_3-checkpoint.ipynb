{
 "cells": [
  {
   "cell_type": "code",
   "execution_count": 1,
   "metadata": {},
   "outputs": [],
   "source": [
    "import math \n",
    "import pandas as pd"
   ]
  },
  {
   "cell_type": "code",
   "execution_count": 2,
   "metadata": {
    "scrolled": true
   },
   "outputs": [
    {
     "data": {
      "text/html": [
       "<div>\n",
       "<style scoped>\n",
       "    .dataframe tbody tr th:only-of-type {\n",
       "        vertical-align: middle;\n",
       "    }\n",
       "\n",
       "    .dataframe tbody tr th {\n",
       "        vertical-align: top;\n",
       "    }\n",
       "\n",
       "    .dataframe thead th {\n",
       "        text-align: right;\n",
       "    }\n",
       "</style>\n",
       "<table border=\"1\" class=\"dataframe\">\n",
       "  <thead>\n",
       "    <tr style=\"text-align: right;\">\n",
       "      <th></th>\n",
       "      <th>time</th>\n",
       "      <th>key</th>\n",
       "    </tr>\n",
       "  </thead>\n",
       "  <tbody>\n",
       "    <tr>\n",
       "      <th>0</th>\n",
       "      <td>time</td>\n",
       "      <td>key</td>\n",
       "    </tr>\n",
       "    <tr>\n",
       "      <th>1</th>\n",
       "      <td>21:40:27</td>\n",
       "      <td>b'0\\x82\\x01\"0\\r\\x06\\t*\\x86H\\x86\\xf7\\r\\x01\\x01\\...</td>\n",
       "    </tr>\n",
       "    <tr>\n",
       "      <th>2</th>\n",
       "      <td>22:07:33</td>\n",
       "      <td>b'0\\x82\\x01\"0\\r\\x06\\t*\\x86H\\x86\\xf7\\r\\x01\\x01\\...</td>\n",
       "    </tr>\n",
       "    <tr>\n",
       "      <th>3</th>\n",
       "      <td>22:10:34</td>\n",
       "      <td>b'0\\x82\\x01\"0\\r\\x06\\t*\\x86H\\x86\\xf7\\r\\x01\\x01\\...</td>\n",
       "    </tr>\n",
       "    <tr>\n",
       "      <th>4</th>\n",
       "      <td>22:39:44</td>\n",
       "      <td>b'0\\x82\\x01\"0\\r\\x06\\t*\\x86H\\x86\\xf7\\r\\x01\\x01\\...</td>\n",
       "    </tr>\n",
       "  </tbody>\n",
       "</table>\n",
       "</div>"
      ],
      "text/plain": [
       "       time                                                key\n",
       "0      time                                                key\n",
       "1  21:40:27  b'0\\x82\\x01\"0\\r\\x06\\t*\\x86H\\x86\\xf7\\r\\x01\\x01\\...\n",
       "2  22:07:33  b'0\\x82\\x01\"0\\r\\x06\\t*\\x86H\\x86\\xf7\\r\\x01\\x01\\...\n",
       "3  22:10:34  b'0\\x82\\x01\"0\\r\\x06\\t*\\x86H\\x86\\xf7\\r\\x01\\x01\\...\n",
       "4  22:39:44  b'0\\x82\\x01\"0\\r\\x06\\t*\\x86H\\x86\\xf7\\r\\x01\\x01\\..."
      ]
     },
     "execution_count": 2,
     "metadata": {},
     "output_type": "execute_result"
    }
   ],
   "source": [
    "d=pd.read_csv(\"key.csv\",delimiter=\",\",names=[\"time\",\"key\"])\n",
    "d.head()"
   ]
  },
  {
   "cell_type": "code",
   "execution_count": 8,
   "metadata": {
    "scrolled": true
   },
   "outputs": [
    {
     "name": "stdout",
     "output_type": "stream",
     "text": [
      "<_RSAobj @0x2dc96493948 n(1024),e,d,p,q,u,private>\n"
     ]
    },
    {
     "data": {
      "text/plain": [
       "b'0\\x81\\x9f0\\r\\x06\\t*\\x86H\\x86\\xf7\\r\\x01\\x01\\x01\\x05\\x00\\x03\\x81\\x8d\\x000\\x81\\x89\\x02\\x81\\x81\\x00\\xaa\\xdc\\xa9\\xbd\\xeeO}\\xe9\\x97\\xf7\\xfa\\xdav\\xec91\\x81\\xc1O\\xdc\\x80\\xf9ws\\xbb\\xd3\\x07*\\xb9\\x96S\\x89~\\xc3\\xcc\\x9ah\\x7f\\x08V\\xb3\\xfcj\\xf0\\xb3\\x1e\\x89\\x044-m\\xd7!\\r;\\x0e\\xb2\\xb9\\x12\\x89\\xc3|\\x1e,_Q\\x802oxK\\x7f\\xd6a\\x1d\\x86\\xf1\\xb7\\x13\\xc0E\\x1c*\\x99\\xfbP\\xb3p\\xed\\xe6x\\xbe\\xed\\xe7\\r\\xe8h\\x84\\xab\\xd9\\x05J)\\x8f\\xa4\\xa7\\xe9\\xbc\\xcc\\xd6\\x85I\\xd5\\x99\\x87\\xee\\x16\\xac\\xcb\\xde \\x1bc\\xa1S\\xb6\\xae\\xcb\\x02\\x03\\x01\\x00\\x01'"
      ]
     },
     "execution_count": 8,
     "metadata": {},
     "output_type": "execute_result"
    }
   ],
   "source": [
    "from Crypto.PublicKey import RSA\n",
    "# from Crypto.Util import asn1\n",
    "# from base64 import b64decode\n",
    "from cryptography.fernet import Fernet\n",
    "import pandas as pd\n",
    "import time\n",
    "\n",
    "key = RSA.generate(1024)\n",
    "print(key)\n",
    "\n",
    "def get_pub_key():\n",
    "    pub_key =  key.publickey().exportKey('DER')\n",
    "    return pub_key\n",
    "\n",
    "def get_pvt_key():\n",
    "    pvt_key = key.exportKey('DER')\n",
    "    return(pvt_key)\n",
    "\n",
    "def get_sym_key():\n",
    "    sym_key=Fernet.generate_key()\n",
    "    print(sym_key)\n",
    "    return sym_key\n",
    "\n",
    "# print(get_pub_key())\n",
    "# print(get_pvt_key())\n",
    "# print(get_sym_key())\n",
    "\n",
    "pub=get_pub_key()\n",
    "pub\n",
    "pvt=get_pvt_key()\n",
    "\n",
    "# df=pd.DataFrame(columns=['Topic', 'port', 'public_key', 'time', 'private_key'])\n",
    "# df1=[]\n",
    "\n",
    "# df=pd.read_csv(\"pub_key.csv\")\n",
    "# f1=[\"DC6\",\"eclipse.mqtt.org\",pub,time.strftime(\"%H:%M:%S\",time.localtime()),pvt]\n",
    "# df.loc[len(df)+1]=f1\n",
    "# df.to_csv(\"pub_key.csv\",index=False)"
   ]
  },
  {
   "cell_type": "code",
   "execution_count": 5,
   "metadata": {},
   "outputs": [],
   "source": [
    "# df.head()"
   ]
  },
  {
   "cell_type": "code",
   "execution_count": 6,
   "metadata": {},
   "outputs": [],
   "source": [
    "# df.public_key[3]"
   ]
  },
  {
   "cell_type": "code",
   "execution_count": 7,
   "metadata": {},
   "outputs": [],
   "source": [
    "# a=df.public_key[4]"
   ]
  },
  {
   "cell_type": "code",
   "execution_count": 8,
   "metadata": {},
   "outputs": [],
   "source": [
    "# df=pd.read_csv(\"pub_key.csv\",delimiter=\",\",names=['Topic', 'port', 'public_key', 'time', 'private_key'])\n",
    "# l=len(df)\n",
    "# l\n",
    "# for i in range(0,l):\n",
    "#     if(df[\"public_key\"][i]==a):\n",
    "#         print(df.Topic[i])\n",
    "#         print(df.time[i])\n",
    "        \n",
    "\t#print(data[obj].unique())\n"
   ]
  },
  {
   "cell_type": "code",
   "execution_count": 9,
   "metadata": {},
   "outputs": [],
   "source": [
    "# df"
   ]
  },
  {
   "cell_type": "code",
   "execution_count": 13,
   "metadata": {},
   "outputs": [
    {
     "data": {
      "text/plain": [
       "849"
      ]
     },
     "execution_count": 13,
     "metadata": {},
     "output_type": "execute_result"
    }
   ],
   "source": [
    "# f1=\"DC7\"+\",\"+\"eclipse.mqtt.org\"+\",\"+time.strftime(\"%H:%M:%S\",time.localtime())+\",\"+str(pub)+\",\"+str(pvt)\n",
    "f1=pub\n",
    "with open('pub_key.csv','a+') as f:\n",
    "    f.write(\"\\n\"+str(f1))\n",
    "f.close()"
   ]
  },
  {
   "cell_type": "code",
   "execution_count": 11,
   "metadata": {},
   "outputs": [],
   "source": [
    "# f1=pd.DataFrame(columns=['Topic','port','time','public_key','private_key'])\n",
    "# f1.to_csv(\"key.csv\",index=False)\n",
    "\n",
    "# df=pd.read_csv(\"key.csv\",delimiter=\",\",names=['Topic','port','time','public_key','private_key'])\n",
    "# df.head()\n",
    "\n",
    "# df=pd.read_csv(\"pub_key.csv\")\n",
    "# for i in range(0,l):\n",
    "#     if(df[\"public_key\"][i]==a):\n",
    "#         print(df.Topic[i])\n",
    "#         print(df.time[i])\n",
    "# df.loc[len(df)+1]=f1\n",
    "# df.to_csv(\"pub_key.csv\",index=False)"
   ]
  },
  {
   "cell_type": "code",
   "execution_count": null,
   "metadata": {},
   "outputs": [],
   "source": [
    "# f1.head()"
   ]
  },
  {
   "cell_type": "code",
   "execution_count": null,
   "metadata": {},
   "outputs": [],
   "source": [
    "# l=len(df)\n",
    "# a=df.public_key[2]\n",
    "# for i in range(0,l):\n",
    "#     if(df[\"public_key\"][i]==a):\n",
    "#         print(df.Topic[i])\n",
    "#         print(df.time[i])"
   ]
  },
  {
   "cell_type": "code",
   "execution_count": 17,
   "metadata": {
    "scrolled": false
   },
   "outputs": [
    {
     "data": {
      "text/html": [
       "<div>\n",
       "<style scoped>\n",
       "    .dataframe tbody tr th:only-of-type {\n",
       "        vertical-align: middle;\n",
       "    }\n",
       "\n",
       "    .dataframe tbody tr th {\n",
       "        vertical-align: top;\n",
       "    }\n",
       "\n",
       "    .dataframe thead th {\n",
       "        text-align: right;\n",
       "    }\n",
       "</style>\n",
       "<table border=\"1\" class=\"dataframe\">\n",
       "  <thead>\n",
       "    <tr style=\"text-align: right;\">\n",
       "      <th></th>\n",
       "      <th>Topic</th>\n",
       "      <th>port</th>\n",
       "      <th>time</th>\n",
       "      <th>public_key</th>\n",
       "      <th>private_key</th>\n",
       "    </tr>\n",
       "  </thead>\n",
       "  <tbody>\n",
       "    <tr>\n",
       "      <th>0</th>\n",
       "      <td>Topic</td>\n",
       "      <td>port</td>\n",
       "      <td>time</td>\n",
       "      <td>public_key</td>\n",
       "      <td>private_key</td>\n",
       "    </tr>\n",
       "    <tr>\n",
       "      <th>1</th>\n",
       "      <td>DC5</td>\n",
       "      <td>eclipse.mqtt.org</td>\n",
       "      <td>15:25:41</td>\n",
       "      <td>b'0\\x82\\x01\"0\\r\\x06\\t*\\x86H\\x86\\xf7\\r\\x01\\x01\\...</td>\n",
       "      <td>b'0\\x82\\x04\\xa4\\x02\\x01\\x00\\x02\\x82\\x01\\x01\\x0...</td>\n",
       "    </tr>\n",
       "    <tr>\n",
       "      <th>2</th>\n",
       "      <td>DC2</td>\n",
       "      <td>eclipse.mqtt.org</td>\n",
       "      <td>15:26:04</td>\n",
       "      <td>b'0\\x82\\x01\"0\\r\\x06\\t*\\x86H\\x86\\xf7\\r\\x01\\x01\\...</td>\n",
       "      <td>\\xd9\\xdbF\\xd7\\x93Y\\x96\\x92\\x82\\xbb\\xaf\\xfb\\xd4...</td>\n",
       "    </tr>\n",
       "    <tr>\n",
       "      <th>3</th>\n",
       "      <td>DC4</td>\n",
       "      <td>eclipse.mqtt.org</td>\n",
       "      <td>15:29:13</td>\n",
       "      <td>b'0\\x82\\x01\"0\\r\\x06\\t*\\x86H\\x86\\xf7\\r\\x01\\x01\\...</td>\n",
       "      <td>\\xb0\\x08\\xf1eB\\xa1\\xec\\xb38\\xa0\\xa1\\x80\\xde\\xa...</td>\n",
       "    </tr>\n",
       "    <tr>\n",
       "      <th>4</th>\n",
       "      <td>DC1</td>\n",
       "      <td>eclipse.mqtt.org</td>\n",
       "      <td>15:30:39</td>\n",
       "      <td>b'0\\x82\\x01\"0\\r\\x06\\t*\\x86H\\x86\\xf7\\r\\x01\\x01\\...</td>\n",
       "      <td>\\xdc\\xe1\\xce\\xf2\\xf9{\\x8f\\xeb\\xd6\\xee\\x910-\\xa...</td>\n",
       "    </tr>\n",
       "    <tr>\n",
       "      <th>5</th>\n",
       "      <td>DC3</td>\n",
       "      <td>eclipse.mqtt.org</td>\n",
       "      <td>15:32:24</td>\n",
       "      <td>b'0\\x82\\x01\"0\\r\\x06\\t*\\x86H\\x86\\xf7\\r\\x01\\x01\\...</td>\n",
       "      <td>\\xea;@\\\\N\\xde\\xa4i\\xc4i\\xd9\\x9b\\x95a\\rq?\\x9d\\x...</td>\n",
       "    </tr>\n",
       "    <tr>\n",
       "      <th>6</th>\n",
       "      <td>DC7</td>\n",
       "      <td>eclipse.mqtt.org</td>\n",
       "      <td>22:40:04</td>\n",
       "      <td>b'0\\x82\\x01\"0\\r\\x06\\t*\\x86H\\x86\\xf7\\r\\x01\\x01\\...</td>\n",
       "      <td>b'0\\x82\\x04\\xa4\\x02\\x01\\x00\\x02\\x82\\x01\\x01\\x0...</td>\n",
       "    </tr>\n",
       "  </tbody>\n",
       "</table>\n",
       "</div>"
      ],
      "text/plain": [
       "   Topic              port      time  \\\n",
       "0  Topic              port      time   \n",
       "1    DC5  eclipse.mqtt.org  15:25:41   \n",
       "2    DC2  eclipse.mqtt.org  15:26:04   \n",
       "3    DC4  eclipse.mqtt.org  15:29:13   \n",
       "4    DC1  eclipse.mqtt.org  15:30:39   \n",
       "5    DC3  eclipse.mqtt.org  15:32:24   \n",
       "6    DC7  eclipse.mqtt.org  22:40:04   \n",
       "\n",
       "                                          public_key  \\\n",
       "0                                         public_key   \n",
       "1  b'0\\x82\\x01\"0\\r\\x06\\t*\\x86H\\x86\\xf7\\r\\x01\\x01\\...   \n",
       "2  b'0\\x82\\x01\"0\\r\\x06\\t*\\x86H\\x86\\xf7\\r\\x01\\x01\\...   \n",
       "3  b'0\\x82\\x01\"0\\r\\x06\\t*\\x86H\\x86\\xf7\\r\\x01\\x01\\...   \n",
       "4  b'0\\x82\\x01\"0\\r\\x06\\t*\\x86H\\x86\\xf7\\r\\x01\\x01\\...   \n",
       "5  b'0\\x82\\x01\"0\\r\\x06\\t*\\x86H\\x86\\xf7\\r\\x01\\x01\\...   \n",
       "6  b'0\\x82\\x01\"0\\r\\x06\\t*\\x86H\\x86\\xf7\\r\\x01\\x01\\...   \n",
       "\n",
       "                                         private_key  \n",
       "0                                        private_key  \n",
       "1  b'0\\x82\\x04\\xa4\\x02\\x01\\x00\\x02\\x82\\x01\\x01\\x0...  \n",
       "2  \\xd9\\xdbF\\xd7\\x93Y\\x96\\x92\\x82\\xbb\\xaf\\xfb\\xd4...  \n",
       "3  \\xb0\\x08\\xf1eB\\xa1\\xec\\xb38\\xa0\\xa1\\x80\\xde\\xa...  \n",
       "4  \\xdc\\xe1\\xce\\xf2\\xf9{\\x8f\\xeb\\xd6\\xee\\x910-\\xa...  \n",
       "5  \\xea;@\\\\N\\xde\\xa4i\\xc4i\\xd9\\x9b\\x95a\\rq?\\x9d\\x...  \n",
       "6  b'0\\x82\\x04\\xa4\\x02\\x01\\x00\\x02\\x82\\x01\\x01\\x0...  "
      ]
     },
     "execution_count": 17,
     "metadata": {},
     "output_type": "execute_result"
    }
   ],
   "source": [
    "df1=pd.read_csv(\"pub_key.csv\",delimiter=\",\",names=['Topic','port','time','public_key','private_key'])\n",
    "df1.head(10)"
   ]
  },
  {
   "cell_type": "code",
   "execution_count": 18,
   "metadata": {},
   "outputs": [],
   "source": [
    "# df1=df1.drop(index=[6,7,8])"
   ]
  },
  {
   "cell_type": "code",
   "execution_count": 19,
   "metadata": {},
   "outputs": [
    {
     "name": "stdout",
     "output_type": "stream",
     "text": [
      "DC3\n",
      "15:32:24\n"
     ]
    }
   ],
   "source": [
    "l=len(df1)\n",
    "a=df1.public_key[5]\n",
    "for i in range(0,l):\n",
    "    if(df1[\"public_key\"][i]==a):\n",
    "        print(df1.Topic[i])\n",
    "#         df1.time=\n",
    "        print(df1.time[i])"
   ]
  },
  {
   "cell_type": "code",
   "execution_count": 20,
   "metadata": {},
   "outputs": [
    {
     "data": {
      "text/plain": [
       "False"
      ]
     },
     "execution_count": 20,
     "metadata": {},
     "output_type": "execute_result"
    }
   ],
   "source": [
    "(df1[\"public_key\"][4]==df1[\"public_key\"][2])"
   ]
  },
  {
   "cell_type": "code",
   "execution_count": 21,
   "metadata": {},
   "outputs": [
    {
     "data": {
      "text/plain": [
       "919"
      ]
     },
     "execution_count": 21,
     "metadata": {},
     "output_type": "execute_result"
    }
   ],
   "source": [
    "# f1=pd.DataFrame(columns=['time','key'])\n",
    "# f1.to_csv(\"key.csv\",index=False)\n",
    "f1=(time.strftime(\"%H:%M:%S\",time.localtime()))+str(\",\")+str(pub)\n",
    "with open('key.csv','a+') as f:\n",
    "    f.write(\"\\n\"+str(f1))\n",
    "f.close()"
   ]
  },
  {
   "cell_type": "code",
   "execution_count": 22,
   "metadata": {},
   "outputs": [],
   "source": [
    "df3=pd.read_csv(\"key.csv\",delimiter=\",\",names=['time','key'])"
   ]
  },
  {
   "cell_type": "code",
   "execution_count": 23,
   "metadata": {},
   "outputs": [
    {
     "data": {
      "text/html": [
       "<div>\n",
       "<style scoped>\n",
       "    .dataframe tbody tr th:only-of-type {\n",
       "        vertical-align: middle;\n",
       "    }\n",
       "\n",
       "    .dataframe tbody tr th {\n",
       "        vertical-align: top;\n",
       "    }\n",
       "\n",
       "    .dataframe thead th {\n",
       "        text-align: right;\n",
       "    }\n",
       "</style>\n",
       "<table border=\"1\" class=\"dataframe\">\n",
       "  <thead>\n",
       "    <tr style=\"text-align: right;\">\n",
       "      <th></th>\n",
       "      <th>time</th>\n",
       "      <th>key</th>\n",
       "    </tr>\n",
       "  </thead>\n",
       "  <tbody>\n",
       "    <tr>\n",
       "      <th>0</th>\n",
       "      <td>time</td>\n",
       "      <td>key</td>\n",
       "    </tr>\n",
       "    <tr>\n",
       "      <th>1</th>\n",
       "      <td>21:40:27</td>\n",
       "      <td>b'0\\x82\\x01\"0\\r\\x06\\t*\\x86H\\x86\\xf7\\r\\x01\\x01\\...</td>\n",
       "    </tr>\n",
       "    <tr>\n",
       "      <th>2</th>\n",
       "      <td>22:07:33</td>\n",
       "      <td>b'0\\x82\\x01\"0\\r\\x06\\t*\\x86H\\x86\\xf7\\r\\x01\\x01\\...</td>\n",
       "    </tr>\n",
       "    <tr>\n",
       "      <th>3</th>\n",
       "      <td>22:10:34</td>\n",
       "      <td>b'0\\x82\\x01\"0\\r\\x06\\t*\\x86H\\x86\\xf7\\r\\x01\\x01\\...</td>\n",
       "    </tr>\n",
       "    <tr>\n",
       "      <th>4</th>\n",
       "      <td>22:39:44</td>\n",
       "      <td>b'0\\x82\\x01\"0\\r\\x06\\t*\\x86H\\x86\\xf7\\r\\x01\\x01\\...</td>\n",
       "    </tr>\n",
       "    <tr>\n",
       "      <th>5</th>\n",
       "      <td>22:40:44</td>\n",
       "      <td>b'0\\x82\\x01\"0\\r\\x06\\t*\\x86H\\x86\\xf7\\r\\x01\\x01\\...</td>\n",
       "    </tr>\n",
       "  </tbody>\n",
       "</table>\n",
       "</div>"
      ],
      "text/plain": [
       "       time                                                key\n",
       "0      time                                                key\n",
       "1  21:40:27  b'0\\x82\\x01\"0\\r\\x06\\t*\\x86H\\x86\\xf7\\r\\x01\\x01\\...\n",
       "2  22:07:33  b'0\\x82\\x01\"0\\r\\x06\\t*\\x86H\\x86\\xf7\\r\\x01\\x01\\...\n",
       "3  22:10:34  b'0\\x82\\x01\"0\\r\\x06\\t*\\x86H\\x86\\xf7\\r\\x01\\x01\\...\n",
       "4  22:39:44  b'0\\x82\\x01\"0\\r\\x06\\t*\\x86H\\x86\\xf7\\r\\x01\\x01\\...\n",
       "5  22:40:44  b'0\\x82\\x01\"0\\r\\x06\\t*\\x86H\\x86\\xf7\\r\\x01\\x01\\..."
      ]
     },
     "execution_count": 23,
     "metadata": {},
     "output_type": "execute_result"
    }
   ],
   "source": [
    "df3"
   ]
  },
  {
   "cell_type": "code",
   "execution_count": null,
   "metadata": {},
   "outputs": [],
   "source": [
    "# f1=\"DC6\"+\",\"+\"eclipse.mqtt.org\"+\",\"+time.strftime(\"%H:%M:%S\",time.localtime())+\",\"+str(pub)+\",\"+str(pvt)\n",
    "# with open('pub_key.csv','a+') as f:\n",
    "#     f.write(\"\\n\"+str(f1))\n",
    "# f.close()"
   ]
  },
  {
   "cell_type": "code",
   "execution_count": 24,
   "metadata": {},
   "outputs": [
    {
     "data": {
      "text/plain": [
       "'b\\'0\\\\x82\\\\x01\"0\\\\r\\\\x06\\\\t*\\\\x86H\\\\x86\\\\xf7\\\\r\\\\x01\\\\x01\\\\x01\\\\x05\\\\x00\\\\x03\\\\x82\\\\x01\\\\x0f\\\\x000\\\\x82\\\\x01\\\\n\\\\x02\\\\x82\\\\x01\\\\x01\\\\x00\\\\xae\\\\xf8\\\\x1c\\\\xd57\\\\xf2P\\\\xcfD\\\\xb1\\\\xc1\\\\xfc\\\\x95\\\\x87\\\\xa8@\\\\x9eh\\\\x02\\\\x9djoj\\\\x0f\\\\x7f\\\\xfcuS\\\\xb1\\\\xa9\\\\xf11Th\\\\x01\\\\x992e;\\\\xb4bo\\\\xf8\\\\x94C\\\\x8dH\\\\xb6\\\\xe3\\\\xc1Eh\\\\x04\\\\xe8(\\\\xac\\\\xf7\\\\xf3[svh\\\\xb5\\\\x17PU\\\\xdf\\\\xaa\\\\xa6\\\\xb7\\\\x9d\\\\xce\\\\xd7\\\\x0c\\\\xae\\\\xee\\\\x86>\\\\xf0\\\\xbf\\\\x96\\\\xae:\\\\x1f\\\\x8d<^\\\\x87\\\\x8c\\\\xd8\\\\xffgQ\\\\xd5az\\\\x9b\\\\xc4>\\\\x1b-\\\\xdd\\\\x96\\\\x7f\\\\x80\\\\xce\\\\x86\\\\x98\\\\x10\\\\x14Y\\\\x12\\\\xe7\\\\xda\\\\xb4\\\\xdb\\\\xbaH\\\\xa7\\\\x1f=\\\\x9d\\\\xa4\\\\x19\\\\xbf\\\\x0e\\\\x13\\\\x14\\\\x08\\\\xb3\\\\xe2\\\\xe3\\\\x95\\\\xdc\\\\xc1\\\\xf5\\\\xcd\\\\xa50\\\\xf9\\\\x97t6\\\\x9ba\\\\xb9IH\\\\xdb\\\\x7f\\\\x07\\\\x19l\\\\xb3\\\\x8eM\\\\x82  \\\\x10\\\\xd0\\\\x12\\\\xcf\\\\xda\\\\xc1sG\\\\x84\\\\xcf\\\\xea_<\\\\x17\\\\x84\\\\xad\\\\xc6-\\\\xb5E\\\\xfc\\\\xac\\\\x137\\\\xdd>c\\\\xfbh\\\\x98\\\\xe9\\\\x9aI\\\\xae\\\\xc3\\\\x99\\\\x7f\\\\xde*\\\\xee\\\\x17\\\\xbd\\\\xcdU\\\\xa6\\\\x0c\\\\x83\\\\xe6\\\\xc6\\\\xde\\\\xc6\\\\x96\\\\x1f\\\\x1c\\\\x8f+\\\\xaf\\\\x9br\\\\xccQ\\\\xe0\\\\xd7;\\\\xc8\\\\xb8\\\\xe3\\\\x1e\\\\xf5\\\\xde\\\\x8b\\\\xad[6\\\\x13\\\\x10;E\\\\xc5/\\\\xa2R\\\\xac\\\\r\\\\x90\\\\\\\\\\\\xc0\\\\xe9\\\\x92\\\\xf1r|C\\\\xdeCL\\\\xfd\\\\x02\\\\x03\\\\x01\\\\x00\\\\x01\\''"
      ]
     },
     "execution_count": 24,
     "metadata": {},
     "output_type": "execute_result"
    },
    {
     "data": {
      "text/plain": [
       "'22:40:44'"
      ]
     },
     "execution_count": 24,
     "metadata": {},
     "output_type": "execute_result"
    }
   ],
   "source": [
    "# df3.key[5]\n",
    "df3.time[5]"
   ]
  },
  {
   "cell_type": "code",
   "execution_count": 32,
   "metadata": {},
   "outputs": [
    {
     "name": "stdout",
     "output_type": "stream",
     "text": [
      "DC7\n",
      "22:40:04\n"
     ]
    },
    {
     "data": {
      "text/plain": [
       "'22:40:44'"
      ]
     },
     "execution_count": 32,
     "metadata": {},
     "output_type": "execute_result"
    },
    {
     "data": {
      "text/plain": [
       "'22:40:04'"
      ]
     },
     "execution_count": 32,
     "metadata": {},
     "output_type": "execute_result"
    },
    {
     "name": "stdout",
     "output_type": "stream",
     "text": [
      "good\n"
     ]
    }
   ],
   "source": [
    "from datetime import datetime\n",
    "l=len(df1)\n",
    "a=df3.key[5]\n",
    "for i in range(0,l):\n",
    "    if(df1[\"public_key\"][i]==a):\n",
    "        print(df1.Topic[i])\n",
    "#         df1.time=df3.time[1]\n",
    "        print(df1.time[i])\n",
    "        df3.time[5]\n",
    "        df1.time[i]\n",
    "        if(datetime.strptime(df3.time[5], FMT) > datetime.strptime(df1.time[i], FMT)):\n",
    "            print(\"good\")"
   ]
  },
  {
   "cell_type": "code",
   "execution_count": 26,
   "metadata": {},
   "outputs": [
    {
     "data": {
      "text/plain": [
       "'22:41:59'"
      ]
     },
     "execution_count": 26,
     "metadata": {},
     "output_type": "execute_result"
    },
    {
     "name": "stdout",
     "output_type": "stream",
     "text": [
      "<class 'pandas.core.frame.DataFrame'>\n",
      "RangeIndex: 6 entries, 0 to 5\n",
      "Data columns (total 2 columns):\n",
      "time    6 non-null object\n",
      "key     6 non-null object\n",
      "dtypes: object(2)\n",
      "memory usage: 224.0+ bytes\n"
     ]
    }
   ],
   "source": [
    "(time.strftime(\"%H:%M:%S\",time.localtime()))\n",
    "df3.info()"
   ]
  },
  {
   "cell_type": "code",
   "execution_count": null,
   "metadata": {},
   "outputs": [],
   "source": [
    "df3.time[5]\n",
    "df1.time[5]"
   ]
  },
  {
   "cell_type": "code",
   "execution_count": 29,
   "metadata": {},
   "outputs": [
    {
     "data": {
      "text/plain": [
       "False"
      ]
     },
     "execution_count": 29,
     "metadata": {},
     "output_type": "execute_result"
    }
   ],
   "source": [
    "\n",
    "FMT = '%H:%M:%S'\n",
    "datetime.strptime(df1.time[5], FMT) > datetime.strptime(df3.time[2], FMT)"
   ]
  },
  {
   "cell_type": "code",
   "execution_count": 5,
   "metadata": {},
   "outputs": [
    {
     "data": {
      "text/plain": [
       "b'0\\x82\\x04\\xa5\\x02\\x01\\x00\\x02\\x82\\x01\\x01\\x00\\xb9\\x8bB\\x10\\xd7\\xab\\x0e\\x85\\xeb\\xd3(\\xb8#\\x9c\\xb3\\xf8\\xba\\x97\\xf0\\xd6a\\x1d\\x05\\x9d\\x1e\\x0f\\xf6H\\x91\\xb4\\xe0\\x7f\\xd6\\x02L@A-\\x918\\x98u\\xe0\\xf4U\\xa1\\xf9\\xa0.r^i\\x8f\\x02\\xfa\\xfd\\x9c\\x82\\xd9:R\\x05\\x8a\\xc2\\xcc\\xd4*Iq\\x12g\\'q\\xaa\\'\\x1em\\xf6O\\x92\\xd2\\n\\xa1\\x8b\\x8d6#\\xd4\\x90\\xa6\\xde\\xad\"\\xebV\\x8a]\\xe8/8T/\\t\\xdfpT\\xb9\\x8cY\\xa6\\x82\\xb1\\x99\\r\\x1dv\\xec\\x8c&c\\xad\\xc7\\xeb\\xcb\\x1b-\\xb8\\xbf\\x1b\\xcb\\xa6\\xe3\\x99\\x82z\\x02I\\xc3y\\xde8\\xb5U\\x1c\\xa1\\xd5\\x80\\xdc\\xe4Z\\xf4!\\x91\\x0b\\xa0\\xa9\\xaf\\x0b\\xf3\\x1b\\x90\\x0f8\\xa7\\xba\\xff\\xd2X\\xf7\\x8fq\\x19$\\x92\\xcd\\xb3\\xee\\xd5\\xd0\\xf5CL\\xc2\\xb2\\xb4A$%8\\xe6p\\xc4\\x10\\x11o\\xee\\x90nQu\\xf6\\xe3\\xdb\\x0b0\\x95\\xed\\xf7=f\\xb8\\xf34\\x14dpO\\x89\\xf6\\xab{\\xb7\\x154\\xf2\\xe1\\xcc\\xe6m\\x91\\xa1\\x80\\x1d\\x93\\xda\\xa6x\\xbb\\x97U(\\xa9\\x9e\\xf8\\x80\\x96I\\x13\\x994|\\xd62\\xe7us\\x02\\x03\\x01\\x00\\x01\\x02\\x82\\x01\\x00\\x04VY\\t\\x03\\xc1\\x9f\\xe9I\\x85\\xfa!\\xb3\\xd3i\\xf1\\x9a\\x8b\\n\\xba82\\xf1z\\xa6\\xc5@\\xc0\\x99\\x87\\\\\\xe8 \\x1c\\x95\\xa3\\xba\\xe2Q\\xce\\xbc\\xe1\\xa4\\x8c\\x91\\xa3\\xe3\\xad\\xf6\\xe7\\xfd\\x85\\x02.\\xd3\\xa72\\rl\\xfe\\x8c\\x04M&\\x18\\x9b\\xad\\x11boG\\xb2\\x08Z-\\xe7\\xec2!\\xd2\\x10\\xce\\xe6\\xcf\\xd8Q7\\xad4dr8!\\xe4\\xd6u\\r\\x94\\xeb\\xe5\\xa92 L\\xf4\\xd7F/\\x1d\\xb9b\\xbc\\xbc\\x13.i%FqoK\\x14\\xadRf$?yM\\xf7H\\x84\\xc6\\x15\\xab\\xbcY\\x0e2L\\x0b\\xb2/0\\xc1\\xdc\\x989A!\\x91^\\xc9^\\x08\\x8a\\xc2(\\xaa\\xe1\\x97)L\\x92*^\\xfa\\xb3\\x97\"\\xd0\\x0fC\\tE\\xa6\\xaa\\xcd=\\x90\\x9d\\xb5r\\x10\\xfd\\x9d\\xc2\\xf1\\xe8\\xbc\\xd7\\xf2w\\xc7i\\\\\\xd0\\x18\\xbe\\xce\\xd7\\xaaP%\\x9f\\xd8\\xf2\\xef\\xd9h\\xc6\\xf9\\xd4\\x05\\x9d\\xcf\\xf5u\\x80\\xf3\\xcb\\xbbHY%\\xc5\\xe7\\xcfj\\x0c\\xdf\\xd76\\xf7#MGJ\\x80b^\\xf2\\x96\\x86J\\x80)\\xdc\\x079\\xb0tNZ\\xa1\\x81\\x02\\x81\\x81\\x00\\xc8Z2\\xdb\\xf1\\xca\\'M\\xa10\\xe1\\xa3\\x12\\xf6wJ\"S\\x95\\x8b\\x12\\xbe\\xf0|\\xe4\\x7f\\xb1\\xde\\xb8t\\x90A7\\xed\\xe0\\x83\\xe4\\xa8\\xd5*K\\xcc\\xdc\\x02&\\xe74\\t\\xa2l\\x9b4\\x05\\xe5\\xe4\\x8f}\\xb2\\x97\\xfb\\x07\\xd0\\xcf!\\xa9\\xbf\\x7f\\x1a\\xb8\\x18\\x84\\x02\\xadooc\\xa6\\x91\\xf7\\xc5c\\x83kw\\x93\\xa3\\xa3\\x8ev\\xd7DX\\x08J\\xb8D\\x8e>\\xd7\\xc2\\xe4\\x05\\x1d\\xa6\\x16\\xb6N\\x8f\\x80\\xa1\\x88\\'\\x95PX\\x9f\\xd4]\\x8fO\\xef\\xd8E\\n:\\xf3\\xb3\\xd1\\x02\\x81\\x81\\x00\\xed\\x14!#K\\x12@\\xfda\\xf6\\xf6\\xc5,\\xb9\\xb4\\x8e\\xd0(\\xac.*\\xb4S\\xca\\xfb\\xf37\\x84TC\\xa9S\\xa70\\x18\\x0f\\xf6;g\\xb2\\xb5bwUM\\xca;n\\x10\\xf0*\\xc0\\x06?x!\\xed\\xe8\\xb0PX\\x0f\\x80T=\\xe6\\xce\\x08g\\xc8H\\x81\\x94\\x1f\\x90mc|zg\\xef,\\x18>L\\xfby\\xc4\\x8e\\xed\\xc8*\\x90Q\\x9d\\x08\\xc5\\x0b\\xa2\\t(\\x94\\xe3kEMu\\xf6s\\xcb=\\xd2\\x1d\\x8c\\x7f\\x03\\x9d\\x1bAk@\"\\x1e\\xbbu\\x1f:\\x03\\x02\\x81\\x81\\x00\\xbb4,\\x99~\\xcfX\\xf2\\x1cODE\\xcf\\x8e#\\xe0M:\\xb4\\\\\\x82c\\x8e\\xe9\\xe3\\xc7\\xbd7R:\\xf8\\x1f8W8\\x95\\x84\\xae\\x8c\\x9f<\\xbcjFH{x\\x10\\x18\\x88Jl\\xcd\\xa6\\x05n^\\x10\\xe6\\x19U02\\x9aM\\xb5\\xf4\\xd9\\xcery\\xc6\\xd6\\xafl\\xf1;\\xce\\xe0(\\xbb\\xd7,/J\\xf0w\\xfe\\xc1\\xe4Z\\xa3\\xb6\\xfb\\xba9\\xb4\\x7f\\xdb\\xb2\\xea\\xc4,\\xf3\\xe7\\xfc\\xe8c\\x05\\xd9\\xe9\\x12\\xb3]\\xa3\\xb1\\x94\\x08\\xe7\\xc3\\xd5c\\xca\\xfe\\xc8\\x1e\\xb6A\\x02\\x81\\x81\\x00\\xea6\\xad\\xba9K\\x12K\\x80\\xc1\\xc3\\xee\\xed\\x8d\\x954U\\xaf(\\xd2\\xff;a`\\xb2b\\x08\\xa1\\xc1\\xc1\\x8a\\x81\\xeb4\\x97A\\x05\\xa8\\x90|\\xbb\\xb7H_L\\xd7\\x92\\xb8\\xdd \\xf7\\x8a\\xf7a2\\xa4\\x8an\\x0b\\xe9\\x83\\xe5\\xe4\\x88\\xd5\\x12\\xb4\\xcf\\x17\\x00\\x85\\xa9\\x06\\x15\\xdc\\xd0D\\xad\\xd0\\x1b\\xe7\\xec/\\x135hgV\\xe9A>3\\xd6\\x99\\xdaB\\xb4\\xb0\\x16gg\\xe1\\x17\\x7f}Z\\xd6D!\\x07S\\xce\\xc5\\x84lb\\xbc\\x8e\\x15\\xa6\\x08\\x18\\xed5\\x92\\xb2\\xc3\\xd3\\x02\\x81\\x81\\x00\\xb5t\\x9d|E\\xac\\xafgpX\\x00\\xce\\xd1\\x1f\\x8a\\x94\\xe7\\xd6\\x80\\xa6\\xb9\\xaf\\x83\\xe0\\xc5f\\xdd^Y\\x87\\x1b\\x9f\\xc6\\xcdkA\\x18c\\xfc\\x92\\x01Q\\x9fUp\\x04\\\\\\xab<e\\x84\\x9e\\x9c\\xc3k\\xfbv\\x84\\xd8\\xfc*9\\x14B\\xe4\\xba\\x11\\x01%R\\x90d\\xce\\x05_}\\x08\\x0b\\xf6\\xc5\\xb2\\n\\xee@\\x98\\xcb\\xa0\\xd3go\\x0f\\xa0\\x9c\\x04\\x02\\xd9\\x8c\\xb6\\xc0u\\tPM\\xd5\\xde|\\xe4w\\x01\\x81\\x01\\x08\\xcf\\xe7\\x13*g\\x1f\\xde\\xa5\\xb6q\\x08\\xf3D\\x1c0\\xf5'"
      ]
     },
     "execution_count": 5,
     "metadata": {},
     "output_type": "execute_result"
    }
   ],
   "source": [
    "pvt"
   ]
  },
  {
   "cell_type": "code",
   "execution_count": 184,
   "metadata": {},
   "outputs": [
    {
     "data": {
      "text/plain": [
       "bytes"
      ]
     },
     "execution_count": 184,
     "metadata": {},
     "output_type": "execute_result"
    },
    {
     "data": {
      "text/plain": [
       "b'whnoodDL62ii3u6cTscqwTPnkDWOkkt3zS--HcEno18='"
      ]
     },
     "execution_count": 184,
     "metadata": {},
     "output_type": "execute_result"
    },
    {
     "data": {
      "text/plain": [
       "b'whnoodDL62ii3u6cTscqwTPnkDWOkkt3zS--HcEno18='"
      ]
     },
     "execution_count": 184,
     "metadata": {},
     "output_type": "execute_result"
    },
    {
     "data": {
      "text/plain": [
       "4277"
      ]
     },
     "execution_count": 184,
     "metadata": {},
     "output_type": "execute_result"
    },
    {
     "data": {
      "text/plain": [
       "858"
      ]
     },
     "execution_count": 184,
     "metadata": {},
     "output_type": "execute_result"
    }
   ],
   "source": [
    "from Crypto.PublicKey import RSA\n",
    "from cryptography.fernet import Fernet\n",
    "import pandas as pd\n",
    "import time\n",
    "\n",
    "import math\n",
    "import base64\n",
    "\n",
    "key = RSA.generate(2048)\n",
    "\n",
    "# public and private key generation\n",
    "private_key = key.exportKey('DER')\n",
    "public_key = key.publickey().exportKey('DER')\n",
    "\n",
    "# private_key\n",
    "# public_key\n",
    "type(public_key)\n",
    "# creating hte objects from the key\n",
    "private_key_object = RSA.importKey(private_key)\n",
    "public_key_object =  RSA.importKey(public_key)\n",
    "\n",
    "symmetric_key=Fernet.generate_key() # this is the symmetric key\n",
    "\n",
    "# encrypt\n",
    "encrypt = public_key_object.encrypt(symmetric_key, 'x')[0]\n",
    "\n",
    "#decrypt\n",
    "decrypt = private_key_object.decrypt(encrypt)\n",
    "\n",
    "symmetric_key\n",
    "decrypt\n",
    "\n",
    "f1=\"DC1\"+\"  \"+time.strftime(\"%H:%M:%S\",time.localtime())+\"  \"+str(public_key)+\"  \"+str(private_key)\n",
    "with open('register_dc1.csv','w') as f:\n",
    "    f.write(\"\\n\"+str(f1))\n",
    "f.close()\n",
    "\n",
    "f1=time.strftime(\"%H:%M:%S\",time.localtime())+\",\"+str(public_key)\n",
    "with open('data_request1.csv','w') as f:\n",
    "    f.write(\"\\n\"+str(f1))\n",
    "f.close()\n",
    "# public_key\n",
    "assert(symmetric_key==decrypt)"
   ]
  },
  {
   "cell_type": "code",
   "execution_count": 185,
   "metadata": {},
   "outputs": [],
   "source": [
    "from base64 import b64decode"
   ]
  },
  {
   "cell_type": "code",
   "execution_count": 186,
   "metadata": {},
   "outputs": [
    {
     "name": "stdout",
     "output_type": "stream",
     "text": [
      "<class 'str'>\n"
     ]
    },
    {
     "data": {
      "text/html": [
       "<div>\n",
       "<style scoped>\n",
       "    .dataframe tbody tr th:only-of-type {\n",
       "        vertical-align: middle;\n",
       "    }\n",
       "\n",
       "    .dataframe tbody tr th {\n",
       "        vertical-align: top;\n",
       "    }\n",
       "\n",
       "    .dataframe thead th {\n",
       "        text-align: right;\n",
       "    }\n",
       "</style>\n",
       "<table border=\"1\" class=\"dataframe\">\n",
       "  <thead>\n",
       "    <tr style=\"text-align: right;\">\n",
       "      <th></th>\n",
       "      <th>time</th>\n",
       "      <th>public_key</th>\n",
       "    </tr>\n",
       "  </thead>\n",
       "  <tbody>\n",
       "    <tr>\n",
       "      <th>0</th>\n",
       "      <td>15:24:54</td>\n",
       "      <td>b'0\\x82\\x01\"0\\r\\x06\\t*\\x86H\\x86\\xf7\\r\\x01\\x01\\...</td>\n",
       "    </tr>\n",
       "  </tbody>\n",
       "</table>\n",
       "</div>"
      ],
      "text/plain": [
       "       time                                         public_key\n",
       "0  15:24:54  b'0\\x82\\x01\"0\\r\\x06\\t*\\x86H\\x86\\xf7\\r\\x01\\x01\\..."
      ]
     },
     "execution_count": 186,
     "metadata": {},
     "output_type": "execute_result"
    },
    {
     "data": {
      "text/plain": [
       "'b\\'0\\\\x82\\\\x01\"0\\\\r\\\\x06\\\\t*\\\\x86H\\\\x86\\\\xf7\\\\r\\\\x01\\\\x01\\\\x01\\\\x05\\\\x00\\\\x03\\\\x82\\\\x01\\\\x0f\\\\x000\\\\x82\\\\x01\\\\n\\\\x02\\\\x82\\\\x01\\\\x01\\\\x00\\\\xe8\\\\x19\\\\\\\\\\\\x06\\\\x99\\\\x1c@\\\\xc7\\\\xec;\\\\x9a\\\\xf8bE\\\\xd0\\\\x976\\\\xef\\\\x16\\\\xaawh\\\\xd3s\\\\x82\\\\xc2\\\\xd6=/(\\\\xbdL\\\\x00\\\\xf3\\\\xd4.\\\\xa9<q\\\\xe6\\\\xe0\\\\x93_\\\\x99\\\\xed\\\\xa7%\\\\xc0\\\\r\\\\x8d\\\\xe9\\\\xba^\\\\xb3\\\\x10\\\\x04\\\\xcb%*L\\\\x85\\\\xc4\\\\xe6\\\\xf9f(Q\\\\xf3\\\\xb5\\\\xa2p\\\\x03\\\\xb2\\\\x90i\\\\xa6\\\\x91i\\\\xd4\\\\xab|P\\\\x11\\\\to)#\\\\xebgW}R\\\\xffa\\\\x12\\\\xe4Qy\\\\xe50\\\\xb7\\\\x15\\\\x1ab\\\\xd9\\\\x11\\\\x12\\\\xa6!\\\\xbc\\\\xdd\\\\x82\\\\xfc\\\\xe9\\\\xd6\\\\xdfVc\\\\x06\\\\x91\\\\xa1\\\\x93\\\\xeaG\\\\x1c\\\\xa2\\\\x88\\\\xec\\\\xc0\\\\x18K\"\\\\x1c\\\\x02\\\\xfc&\\\\x04cw\\\\xbe\\\\xedg\\\\xfc]\\\\tx\\\\x8b\\\\x0bWV;\\\\x15\\\\xa1\\\\x84\\\\x1f\\\\x98v\\\\xcf%\\\\x9c\\\\xc8\\\\xef\\\\x07\\\\x1d\\\\xd1?::\\\\xe1\\\\x05I\\\\xfaKC0\\\\xb9\\\\x97\\\\xdf\\\\xb4_\\\\xff\\\\x92/\\\\x02f\\\\t;\\\\xac9\\\\xc7>\\\\xc8\\\\x1f]$\\\\xcc\\\\xaf\\\\x8f\\\\xc0\\\\x0bI\\\\xd5x\\\\xd9fvM/\\\\x9e\\\\x04\\\\xd1\\\\x93FW\\\\x03\\\\xed\\\\xae\\\\x1f\\\\x83\\\\x85y \\\\x96\\\\x11s\\\\x18P\\\\xac\\\\xd4r\\\\rs\\\\xe3U[\\\\xf6\\\\x9c\\\\x15\\\\x080Zh\\\\xf7X\\\\x93\\\\xd5\\\\xa3\\\\xd5\\\\x18K\\\\xce\\\\n`3\\\\xc41\\\\x02\\\\x03\\\\x01\\\\x00\\\\x01\\''"
      ]
     },
     "execution_count": 186,
     "metadata": {},
     "output_type": "execute_result"
    }
   ],
   "source": [
    "df1=pd.read_csv(\"data_request1.csv\",sep=\" \",names=['time','public_key'])\n",
    "print(type(df1.public_key[0]))\n",
    "df1.head(10)\n",
    "a=df1.public_key[0]\n",
    "a"
   ]
  },
  {
   "cell_type": "code",
   "execution_count": 187,
   "metadata": {},
   "outputs": [],
   "source": [
    "# import ast\n",
    "\n",
    "# # key = r\"b'\\x81*u\\x11\\xe8k\\xef\\xbc\\xc6\\xef\\x9d\\x83\\x9f!\\x0ej'\"\n",
    "# print(ast.literal_eval(a))"
   ]
  },
  {
   "cell_type": "code",
   "execution_count": 189,
   "metadata": {},
   "outputs": [
    {
     "data": {
      "text/html": [
       "<div>\n",
       "<style scoped>\n",
       "    .dataframe tbody tr th:only-of-type {\n",
       "        vertical-align: middle;\n",
       "    }\n",
       "\n",
       "    .dataframe tbody tr th {\n",
       "        vertical-align: top;\n",
       "    }\n",
       "\n",
       "    .dataframe thead th {\n",
       "        text-align: right;\n",
       "    }\n",
       "</style>\n",
       "<table border=\"1\" class=\"dataframe\">\n",
       "  <thead>\n",
       "    <tr style=\"text-align: right;\">\n",
       "      <th></th>\n",
       "      <th>Topic</th>\n",
       "      <th>time</th>\n",
       "      <th>public_key</th>\n",
       "      <th>private_key</th>\n",
       "    </tr>\n",
       "  </thead>\n",
       "  <tbody>\n",
       "    <tr>\n",
       "      <th>0</th>\n",
       "      <td>topic</td>\n",
       "      <td>time</td>\n",
       "      <td>public_key</td>\n",
       "      <td>private_key</td>\n",
       "    </tr>\n",
       "    <tr>\n",
       "      <th>1</th>\n",
       "      <td>DC1</td>\n",
       "      <td>15:24:54</td>\n",
       "      <td>b'0\\x82\\x01\"0\\r\\x06\\t*\\x86H\\x86\\xf7\\r\\x01\\x01...</td>\n",
       "      <td>b'0\\x82\\x04\\xa5\\x02\\x01\\x00\\x02\\x82\\x01\\x01\\x...</td>\n",
       "    </tr>\n",
       "  </tbody>\n",
       "</table>\n",
       "</div>"
      ],
      "text/plain": [
       "   Topic        time                                         public_key  \\\n",
       "0  topic        time                                         public_key   \n",
       "1   DC1    15:24:54    b'0\\x82\\x01\"0\\r\\x06\\t*\\x86H\\x86\\xf7\\r\\x01\\x01...   \n",
       "\n",
       "                                         private_key  \n",
       "0                                        private_key  \n",
       "1   b'0\\x82\\x04\\xa5\\x02\\x01\\x00\\x02\\x82\\x01\\x01\\x...  "
      ]
     },
     "execution_count": 189,
     "metadata": {},
     "output_type": "execute_result"
    },
    {
     "data": {
      "text/plain": [
       "' b\\'0\\\\x82\\\\x04\\\\xa5\\\\x02\\\\x01\\\\x00\\\\x02\\\\x82\\\\x01\\\\x01\\\\x00\\\\xe8\\\\x19\\\\\\\\\\\\x06\\\\x99\\\\x1c@\\\\xc7\\\\xec;\\\\x9a\\\\xf8bE\\\\xd0\\\\x976\\\\xef\\\\x16\\\\xaawh\\\\xd3s\\\\x82\\\\xc2\\\\xd6=/(\\\\xbdL\\\\x00\\\\xf3\\\\xd4.\\\\xa9<q\\\\xe6\\\\xe0\\\\x93_\\\\x99\\\\xed\\\\xa7%\\\\xc0\\\\r\\\\x8d\\\\xe9\\\\xba^\\\\xb3\\\\x10\\\\x04\\\\xcb%*L\\\\x85\\\\xc4\\\\xe6\\\\xf9f(Q\\\\xf3\\\\xb5\\\\xa2p\\\\x03\\\\xb2\\\\x90i\\\\xa6\\\\x91i\\\\xd4\\\\xab|P\\\\x11\\\\to)#\\\\xebgW}R\\\\xffa\\\\x12\\\\xe4Qy\\\\xe50\\\\xb7\\\\x15\\\\x1ab\\\\xd9\\\\x11\\\\x12\\\\xa6!\\\\xbc\\\\xdd\\\\x82\\\\xfc\\\\xe9\\\\xd6\\\\xdfVc\\\\x06\\\\x91\\\\xa1\\\\x93\\\\xeaG\\\\x1c\\\\xa2\\\\x88\\\\xec\\\\xc0\\\\x18K\"\\\\x1c\\\\x02\\\\xfc&\\\\x04cw\\\\xbe\\\\xedg\\\\xfc]\\\\tx\\\\x8b\\\\x0bWV;\\\\x15\\\\xa1\\\\x84\\\\x1f\\\\x98v\\\\xcf%\\\\x9c\\\\xc8\\\\xef\\\\x07\\\\x1d\\\\xd1?::\\\\xe1\\\\x05I\\\\xfaKC0\\\\xb9\\\\x97\\\\xdf\\\\xb4_\\\\xff\\\\x92/\\\\x02f\\\\t;\\\\xac9\\\\xc7>\\\\xc8\\\\x1f]$\\\\xcc\\\\xaf\\\\x8f\\\\xc0\\\\x0bI\\\\xd5x\\\\xd9fvM/\\\\x9e\\\\x04\\\\xd1\\\\x93FW\\\\x03\\\\xed\\\\xae\\\\x1f\\\\x83\\\\x85y \\\\x96\\\\x11s\\\\x18P\\\\xac\\\\xd4r\\\\rs\\\\xe3U[\\\\xf6\\\\x9c\\\\x15\\\\x080Zh\\\\xf7X\\\\x93\\\\xd5\\\\xa3\\\\xd5\\\\x18K\\\\xce\\\\n`3\\\\xc41\\\\x02\\\\x03\\\\x01\\\\x00\\\\x01\\\\x02\\\\x82\\\\x01\\\\x01\\\\x00\\\\xdc\\\\xc1r\\\\x14\\\\x1c\\\\x81\\\\x10\\\\xe4\\\\x96\\\\xbeB\\\\xb1\\\\xc8\\\\xd6\\\\xda\\\\x85Y\\\\x0c\\\\xa3$T\\\\x1a\\\\xf23\\\\xc5\\\\xc5\\\\x87{\\\\xfed\\\\xe3Wl\\\\xf8}r<)o\\\\xb4\\\\xc7\\\\x19\\\\xa5.\\\\x85*\\\\x1b\\\\xef\\\\xc5t\\\\x9b@V^=\\\\xf818\\\\x129bj[\\\\xbe\\\\x0e\\\\xfa~\\\\xa8'"
      ]
     },
     "execution_count": 189,
     "metadata": {},
     "output_type": "execute_result"
    }
   ],
   "source": [
    "df2=pd.read_csv(\"register_dc1.csv\",delimiter=\",\",names=['Topic','time','public_key','private_key'])\n",
    "df2.head(10)\n",
    "df2.private_key\t[1]"
   ]
  },
  {
   "cell_type": "code",
   "execution_count": 10,
   "metadata": {},
   "outputs": [
    {
     "data": {
      "text/html": [
       "<div>\n",
       "<style scoped>\n",
       "    .dataframe tbody tr th:only-of-type {\n",
       "        vertical-align: middle;\n",
       "    }\n",
       "\n",
       "    .dataframe tbody tr th {\n",
       "        vertical-align: top;\n",
       "    }\n",
       "\n",
       "    .dataframe thead th {\n",
       "        text-align: right;\n",
       "    }\n",
       "</style>\n",
       "<table border=\"1\" class=\"dataframe\">\n",
       "  <thead>\n",
       "    <tr style=\"text-align: right;\">\n",
       "      <th></th>\n",
       "      <th>Topic</th>\n",
       "      <th>time</th>\n",
       "      <th>public_key</th>\n",
       "      <th>private_key</th>\n",
       "    </tr>\n",
       "  </thead>\n",
       "  <tbody>\n",
       "    <tr>\n",
       "      <th>count</th>\n",
       "      <td>2</td>\n",
       "      <td>2</td>\n",
       "      <td>2</td>\n",
       "      <td>2</td>\n",
       "    </tr>\n",
       "    <tr>\n",
       "      <th>unique</th>\n",
       "      <td>2</td>\n",
       "      <td>2</td>\n",
       "      <td>2</td>\n",
       "      <td>2</td>\n",
       "    </tr>\n",
       "    <tr>\n",
       "      <th>top</th>\n",
       "      <td>11:25:09</td>\n",
       "      <td>b'0\\x81\\x9f0\\r\\x06\\t*\\x86H\\x86\\xf7\\r\\x01\\x01\\x...</td>\n",
       "      <td>b'0\\x82\\x02^\\x02\\x01\\x00\\x02\\x81\\x81\\x00\\xdd\\x...</td>\n",
       "      <td>\\x08eb\\xc1\\x05\\x02A\\x00\\x92\\t\\\\\\x01X\\xef-\\xd8d...</td>\n",
       "    </tr>\n",
       "    <tr>\n",
       "      <th>freq</th>\n",
       "      <td>1</td>\n",
       "      <td>1</td>\n",
       "      <td>1</td>\n",
       "      <td>1</td>\n",
       "    </tr>\n",
       "  </tbody>\n",
       "</table>\n",
       "</div>"
      ],
      "text/plain": [
       "           Topic                                               time  \\\n",
       "count          2                                                  2   \n",
       "unique         2                                                  2   \n",
       "top     11:25:09  b'0\\x81\\x9f0\\r\\x06\\t*\\x86H\\x86\\xf7\\r\\x01\\x01\\x...   \n",
       "freq           1                                                  1   \n",
       "\n",
       "                                               public_key  \\\n",
       "count                                                   2   \n",
       "unique                                                  2   \n",
       "top     b'0\\x82\\x02^\\x02\\x01\\x00\\x02\\x81\\x81\\x00\\xdd\\x...   \n",
       "freq                                                    1   \n",
       "\n",
       "                                              private_key  \n",
       "count                                                   2  \n",
       "unique                                                  2  \n",
       "top     \\x08eb\\xc1\\x05\\x02A\\x00\\x92\\t\\\\\\x01X\\xef-\\xd8d...  \n",
       "freq                                                    1  "
      ]
     },
     "execution_count": 10,
     "metadata": {},
     "output_type": "execute_result"
    }
   ],
   "source": [
    "df1.describe()"
   ]
  },
  {
   "cell_type": "code",
   "execution_count": 103,
   "metadata": {},
   "outputs": [
    {
     "name": "stdout",
     "output_type": "stream",
     "text": [
      "<class 'str'>\n",
      "El niño come camarón\n"
     ]
    }
   ],
   "source": [
    "x = b'El ni\\xc3\\xb1o come camar\\xc3\\xb3n'\n",
    "s = x.decode()\n",
    "print(type(s))\n",
    "print(s)"
   ]
  },
  {
   "cell_type": "code",
   "execution_count": null,
   "metadata": {},
   "outputs": [],
   "source": []
  },
  {
   "cell_type": "code",
   "execution_count": null,
   "metadata": {},
   "outputs": [],
   "source": []
  }
 ],
 "metadata": {
  "kernelspec": {
   "display_name": "Python 3",
   "language": "python",
   "name": "python3"
  },
  "language_info": {
   "codemirror_mode": {
    "name": "ipython",
    "version": 3
   },
   "file_extension": ".py",
   "mimetype": "text/x-python",
   "name": "python",
   "nbconvert_exporter": "python",
   "pygments_lexer": "ipython3",
   "version": "3.7.5"
  }
 },
 "nbformat": 4,
 "nbformat_minor": 2
}
