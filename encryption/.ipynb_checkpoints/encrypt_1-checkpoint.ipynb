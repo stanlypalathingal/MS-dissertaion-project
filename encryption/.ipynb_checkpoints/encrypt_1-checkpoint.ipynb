{
 "cells": [
  {
   "cell_type": "code",
   "execution_count": 4,
   "metadata": {},
   "outputs": [],
   "source": [
    "import cryptography"
   ]
  },
  {
   "cell_type": "code",
   "execution_count": 2,
   "metadata": {},
   "outputs": [
    {
     "data": {
      "text/plain": [
       "'.rehpic esrever nialpxe ot margorp si sihT'"
      ]
     },
     "execution_count": 2,
     "metadata": {},
     "output_type": "execute_result"
    }
   ],
   "source": [
    "message = 'This is program to explain reverse cipher.'\n",
    "message[::-1]"
   ]
  },
  {
   "cell_type": "code",
   "execution_count": 15,
   "metadata": {},
   "outputs": [],
   "source": [
    "# # =================Other Configuration================\n",
    "# # Usages :\n",
    "# usage = \"usage: %prog [options] \"\n",
    "# # Version\n",
    "# Version=\"%prog 0.0.1\"\n",
    "# # ====================================================\n",
    "# # Import Modules\n",
    "# # import pycrypto\n",
    "# import optparse, sys,os\n",
    "# # from toolkit import processor as ps\n",
    "# def main():\n",
    "#    parser = optparse.OptionParser(usage = usage,version = Version)\n",
    "#    parser.add_option(\n",
    "#       '-i','--input',type = 'string',dest = 'inputfile',\n",
    "#       help = \"File Input Path For Encryption\", default = None)\n",
    "   \n",
    "#    parser.add_option(\n",
    "#       '-o','--output',type = \"string\",dest = 'outputfile',\n",
    "#       help = \"File Output Path For Saving Encrypter Cipher\",default = \".\")\n",
    "\t\n",
    "#    parser.add_option(\n",
    "#       '-p','--password',type = \"string\",dest = 'password',\n",
    "#       help = \"Provide Password For Encrypting File\",default = None)\n",
    "\t\n",
    "#    parser.add_option(\n",
    "#       '-p','--password',type = \"string\",dest = 'password',\n",
    "#       help = \"Provide Password For Encrypting File\",default = None)\n",
    "\t\n",
    "#    (options, args)= parser.parse_args()\n",
    "\t\n",
    "#    # Input Conditions Checkings\n",
    "#    if not options.inputfile or not os.path.isfile(options.inputfile):\n",
    "#       print (\" [Error] Please Specify Input File Path\")\n",
    "#       exit(0)\n",
    "#    if not options.outputfile or not os.path.isdir(options.outputfile):\n",
    "#       print (\" [Error] Please Specify Output Path\")\n",
    "#       exit(0)\n",
    "#    if not options.password:\n",
    "#       print (\" [Error] No Password Input\")\n",
    "#       exit(0)\n",
    "#    inputfile = options.inputfile\n",
    "\n",
    "#    outputfile = os.path.join(\n",
    "#       options.outputfile,os.path.basename(options.inputfile).split('.')[0]+'.ssb')\n",
    "#    password = options.password\n",
    "#    base = os.path.basename(inputfile).split('.')[1]\n",
    "#    work = \"E\"\n",
    "\n",
    "#    ps.FileCipher(inputfile,outputfile,password,work)\n",
    "#    return\n",
    "\n",
    "# if __name__ == '__main__':\n",
    "#     main()"
   ]
  },
  {
   "cell_type": "code",
   "execution_count": 98,
   "metadata": {},
   "outputs": [
    {
     "name": "stdout",
     "output_type": "stream",
     "text": [
      "b'P19RjSyHxsN46_Cs4e2VKVdjIK06w_a5oFf3a2re91A='\n"
     ]
    },
    {
     "data": {
      "text/plain": [
       "44"
      ]
     },
     "execution_count": 98,
     "metadata": {},
     "output_type": "execute_result"
    }
   ],
   "source": [
    "from cryptography.fernet import Fernet\n",
    "key=Fernet.generate_key()\n",
    "print(key)\n",
    "\n",
    "f=open(\"key.key\",\"wb\")\n",
    "# f.write(\"\\n\\n\")\n",
    "f.write(key)\n",
    "f.close()"
   ]
  },
  {
   "cell_type": "code",
   "execution_count": 97,
   "metadata": {},
   "outputs": [],
   "source": [
    "# message=\" hello world\".encode()\n",
    "# key=Fernet(key)\n",
    "# encypted = key.encypt(message)\n",
    "# f = Fernet(key)\n",
    "# encrypted = f.encrypt(message)"
   ]
  },
  {
   "cell_type": "code",
   "execution_count": 78,
   "metadata": {},
   "outputs": [],
   "source": [
    "# import base64\n",
    "# import os\n",
    "# from cryptography.hazmat.backends import default_backend\n",
    "# from cryptography.hazmat.primitives import hashes\n",
    "# from cryptography.hazmat.primitives.kdf.pbkdf2 import PBKDF2HMAC\n",
    "\n",
    "# password_provided = \"password\" # This is input in the form of a string\n",
    "# password = password_provided.encode() # Convert to type bytes\n",
    "# salt = b'salt_' # CHANGE THIS - recommend using a key from os.urandom(16), must be of type bytes\n",
    "# kdf = PBKDF2HMAC(\n",
    "#     algorithm=hashes.SHA256(),\n",
    "#     length=32,\n",
    "#     salt=salt,\n",
    "#     iterations=100000,\n",
    "#     backend=default_backend()\n",
    "# )\n",
    "# key = base64.urlsafe_b64encode(kdf.derive(password)) # Can only use kdf once"
   ]
  },
  {
   "cell_type": "code",
   "execution_count": 86,
   "metadata": {},
   "outputs": [],
   "source": [
    "from cryptography.fernet import Fernet\n",
    "message = \"my deep dark secret and it is unknown\".encode()\n",
    "\n",
    "f = Fernet(key)\n",
    "encrypted = f.encrypt(message)"
   ]
  },
  {
   "cell_type": "code",
   "execution_count": 87,
   "metadata": {},
   "outputs": [
    {
     "data": {
      "text/plain": [
       "b'gAAAAABe2kOUqbWISMveyF5GY8qx8S9YXZLr5mG3DopSG8gMa8KKUiQR20IwWzx-GA-T8tNi6GhE_e2qX9UAVU2tidTW96BIMlvoRV6YX0EgqNOrSVXfKNFvklzUI3qHVXvQcEBD2hO3'"
      ]
     },
     "execution_count": 87,
     "metadata": {},
     "output_type": "execute_result"
    }
   ],
   "source": [
    "encrypted"
   ]
  },
  {
   "cell_type": "code",
   "execution_count": 88,
   "metadata": {},
   "outputs": [
    {
     "data": {
      "text/plain": [
       "b'my deep dark secret and it is unknown'"
      ]
     },
     "execution_count": 88,
     "metadata": {},
     "output_type": "execute_result"
    }
   ],
   "source": [
    "decrypted = f.decrypt(encrypted)\n",
    "decrypted"
   ]
  },
  {
   "cell_type": "code",
   "execution_count": 90,
   "metadata": {},
   "outputs": [
    {
     "data": {
      "text/plain": [
       "847992"
      ]
     },
     "execution_count": 90,
     "metadata": {},
     "output_type": "execute_result"
    }
   ],
   "source": [
    "from cryptography.fernet import Fernet\n",
    "# key = b'' # Use one of the methods to get a key (it must be the same when decrypting)\n",
    "key=Fernet.generate_key()\n",
    "input_file = 'test_fake.csv'\n",
    "output_file = 'test.encrypted'\n",
    "\n",
    "with open(input_file, 'rb') as f:\n",
    "    data = f.read()\n",
    "\n",
    "fernet = Fernet(key)\n",
    "encrypted = fernet.encrypt(data)\n",
    "\n",
    "with open(output_file, 'wb') as f:\n",
    "    f.write(encrypted)\n"
   ]
  },
  {
   "cell_type": "code",
   "execution_count": 91,
   "metadata": {},
   "outputs": [
    {
     "data": {
      "text/plain": [
       "635929"
      ]
     },
     "execution_count": 91,
     "metadata": {},
     "output_type": "execute_result"
    }
   ],
   "source": [
    "# key = b'' # Use one of the methods to get a key (it must be the same as used in encrypting)\n",
    "input_file = 'test.encrypted'\n",
    "output_file = 'test.csv'\n",
    "\n",
    "with open(input_file, 'rb') as f:\n",
    "    data = f.read()\n",
    "\n",
    "# fernet = Fernet(key)\n",
    "encrypted = fernet.decrypt(data)\n",
    "\n",
    "with open(output_file, 'wb') as f:\n",
    "    f.write(encrypted)"
   ]
  },
  {
   "cell_type": "code",
   "execution_count": null,
   "metadata": {},
   "outputs": [],
   "source": []
  }
 ],
 "metadata": {
  "kernelspec": {
   "display_name": "Python 3",
   "language": "python",
   "name": "python3"
  },
  "language_info": {
   "codemirror_mode": {
    "name": "ipython",
    "version": 3
   },
   "file_extension": ".py",
   "mimetype": "text/x-python",
   "name": "python",
   "nbconvert_exporter": "python",
   "pygments_lexer": "ipython3",
   "version": "3.7.5"
  }
 },
 "nbformat": 4,
 "nbformat_minor": 2
}
