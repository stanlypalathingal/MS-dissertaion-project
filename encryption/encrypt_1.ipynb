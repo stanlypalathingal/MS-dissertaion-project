{
 "cells": [
  {
   "cell_type": "code",
   "execution_count": 5,
   "metadata": {},
   "outputs": [],
   "source": [
    "import cryptography\n",
    "import os"
   ]
  },
  {
   "cell_type": "code",
   "execution_count": 6,
   "metadata": {},
   "outputs": [
    {
     "data": {
      "text/plain": [
       "'.rehpic esrever nialpxe ot margorp si sihT'"
      ]
     },
     "execution_count": 6,
     "metadata": {},
     "output_type": "execute_result"
    }
   ],
   "source": [
    "message = 'This is program to explain reverse cipher.'\n",
    "message[::-1]"
   ]
  },
  {
   "cell_type": "code",
   "execution_count": 8,
   "metadata": {},
   "outputs": [
    {
     "name": "stdout",
     "output_type": "stream",
     "text": [
      "SKqZW7e6rlZmdt0a22aXB_fJDipgj2EZFHbXeAU97bo=\n"
     ]
    },
    {
     "data": {
      "text/plain": [
       "44"
      ]
     },
     "execution_count": 8,
     "metadata": {},
     "output_type": "execute_result"
    }
   ],
   "source": [
    "from cryptography.fernet import Fernet\n",
    "key=Fernet.generate_key()\n",
    "print(key.decode())\n",
    "# key2=os.urandom(16)\n",
    "# key2\n",
    "f=open(\"key.key\",\"wb\")\n",
    "# f.write(\"\\n\\n\")\n",
    "f.write(key)\n",
    "f.close()"
   ]
  },
  {
   "cell_type": "code",
   "execution_count": 8,
   "metadata": {},
   "outputs": [
    {
     "data": {
      "text/plain": [
       "b'gAAAAABe3jv7Cild-SHGLacQFtNw7SZ2R4VkymH3QxStLK6g3YNiC-sGG5iq29Mno0OUOi2ufbTglihc0ZVOVYaijPYLr9fCw_YG4SorM5K8sFkPR71o8So='"
      ]
     },
     "execution_count": 8,
     "metadata": {},
     "output_type": "execute_result"
    }
   ],
   "source": [
    "message=\" hello world abcd\".encode()\n",
    "# key=Fernet(key)\n",
    "# encypted = key.encypt(message)\n",
    "f = Fernet(key)\n",
    "encrypted = f.encrypt(message)\n",
    "encrypted"
   ]
  },
  {
   "cell_type": "markdown",
   "metadata": {},
   "source": [
    "# Symmetric Key"
   ]
  },
  {
   "cell_type": "code",
   "execution_count": 9,
   "metadata": {},
   "outputs": [
    {
     "data": {
      "text/plain": [
       "b'\\x9aN\\x15\\xa1\\x08\\t\\x1d\\x86\\x80q)\\x94\\xc2d\\xd8\\x17'"
      ]
     },
     "execution_count": 9,
     "metadata": {},
     "output_type": "execute_result"
    },
    {
     "data": {
      "text/plain": [
       "'w1UEcNjAFEySEFHf9-wBsgGhRkHgShcqCwZuiYxOIoY='"
      ]
     },
     "execution_count": 9,
     "metadata": {},
     "output_type": "execute_result"
    }
   ],
   "source": [
    "import base64\n",
    "from cryptography.hazmat.backends import default_backend\n",
    "from cryptography.hazmat.primitives import hashes\n",
    "from cryptography.hazmat.primitives.kdf.pbkdf2 import PBKDF2HMAC\n",
    "\n",
    "password_provided = \"password\" # This is input in the form of a string\n",
    "password = password_provided.encode() # Convert to type bytes\n",
    "salt = os.urandom(16) # CHANGE THIS - recommend using a key from os.urandom(16), must be of type bytes\n",
    "salt\n",
    "kdf = PBKDF2HMAC(\n",
    "    algorithm=hashes.SHA256(),\n",
    "    length=32,\n",
    "    salt=salt,\n",
    "    iterations=100000,\n",
    "    backend=default_backend()\n",
    ")\n",
    "key = base64.urlsafe_b64encode(kdf.derive(password)) # Can only use kdf once\n",
    "key.decode()"
   ]
  },
  {
   "cell_type": "code",
   "execution_count": 11,
   "metadata": {},
   "outputs": [
    {
     "name": "stdout",
     "output_type": "stream",
     "text": [
      "<cryptography.fernet.Fernet object at 0x000001BAD06C7088>\n"
     ]
    }
   ],
   "source": [
    "from cryptography.fernet import Fernet\n",
    "message = \"my deep dark secret and it is unknown. Can anyone decode it please let me know\".encode()\n",
    "\n",
    "f = Fernet(key)\n",
    "print(f)\n",
    "encrypted = f.encrypt(message)"
   ]
  },
  {
   "cell_type": "code",
   "execution_count": 12,
   "metadata": {},
   "outputs": [
    {
     "data": {
      "text/plain": [
       "b'gAAAAABe3jwz0ft61gJaw-1zn9Od2iBZ48N1_lHne4o7UbKCMxniWFzGHTAcFaDIFnV8id0yhQbmW88dubUBMouwWoVlfejUpZlVLX6He7KzGPlW2kvZVQPFI98rqkI8Kv6gndc9GZRuTRg_qqpgrd6l97xryOM2-AQKn2gqjeM6ZtUA0exBSm0='"
      ]
     },
     "execution_count": 12,
     "metadata": {},
     "output_type": "execute_result"
    }
   ],
   "source": [
    "encrypted"
   ]
  },
  {
   "cell_type": "code",
   "execution_count": 13,
   "metadata": {},
   "outputs": [
    {
     "data": {
      "text/plain": [
       "b'my deep dark secret and it is unknown. Can anyone decode it please let me know'"
      ]
     },
     "execution_count": 13,
     "metadata": {},
     "output_type": "execute_result"
    }
   ],
   "source": [
    "decrypted = f.decrypt(encrypted)\n",
    "decrypted"
   ]
  },
  {
   "cell_type": "markdown",
   "metadata": {},
   "source": [
    "# Encrypt and decrypt files"
   ]
  },
  {
   "cell_type": "code",
   "execution_count": 14,
   "metadata": {},
   "outputs": [
    {
     "data": {
      "text/plain": [
       "847992"
      ]
     },
     "execution_count": 14,
     "metadata": {},
     "output_type": "execute_result"
    }
   ],
   "source": [
    "from cryptography.fernet import Fernet\n",
    "# key = b'' # Use one of the methods to get a key (it must be the same when decrypting)\n",
    "key=Fernet.generate_key()\n",
    "input_file = 'test_fake.csv'\n",
    "output_file = 'test.encrypted'\n",
    "\n",
    "with open(input_file, 'rb') as f:\n",
    "    data = f.read()\n",
    "\n",
    "fernet = Fernet(key)\n",
    "encrypted = fernet.encrypt(data)\n",
    "\n",
    "with open(output_file, 'wb') as f:\n",
    "    f.write(encrypted)\n"
   ]
  },
  {
   "cell_type": "code",
   "execution_count": 15,
   "metadata": {},
   "outputs": [
    {
     "data": {
      "text/plain": [
       "635929"
      ]
     },
     "execution_count": 15,
     "metadata": {},
     "output_type": "execute_result"
    }
   ],
   "source": [
    "# key = b'' # Use one of the methods to get a key (it must be the same as used in encrypting)\n",
    "input_file = 'test.encrypted'\n",
    "output_file = 'test.csv'\n",
    "\n",
    "with open(input_file, 'rb') as f:\n",
    "    data = f.read()\n",
    "\n",
    "# fernet = Fernet(key)\n",
    "encrypted = fernet.decrypt(data)\n",
    "\n",
    "with open(output_file, 'wb') as f:\n",
    "    f.write(encrypted)"
   ]
  },
  {
   "cell_type": "code",
   "execution_count": 25,
   "metadata": {},
   "outputs": [
    {
     "name": "stdout",
     "output_type": "stream",
     "text": [
      "b'\\r$\\x97\\x80\\x84\\xa6)\\xcah\\xbc\\x10\\x10gR\\xa8g'\n"
     ]
    }
   ],
   "source": [
    "# import pycrypto\n",
    "from Crypto.Cipher import AES\n",
    "import os\n",
    "key=os.urandom(16)\n",
    "iv = 16 * b'\\0'\n",
    "\n",
    "aes = AES.new(key, AES.MODE_CBC, iv)\n",
    "data = 'hello world 1234' # <- 16 bytes\n",
    "encd = aes.encrypt(data)\n",
    "print(encd)"
   ]
  },
  {
   "cell_type": "code",
   "execution_count": 26,
   "metadata": {},
   "outputs": [
    {
     "data": {
      "text/plain": [
       "b'eA\\xfb\\xec\\xeb\\x86^\\xa5\\x1a\\xd0t0V`\\x9bS'"
      ]
     },
     "execution_count": 26,
     "metadata": {},
     "output_type": "execute_result"
    }
   ],
   "source": [
    "dec=aes.decrypt(encd)\n",
    "dec"
   ]
  },
  {
   "cell_type": "code",
   "execution_count": null,
   "metadata": {},
   "outputs": [],
   "source": []
  }
 ],
 "metadata": {
  "kernelspec": {
   "display_name": "Python 3",
   "language": "python",
   "name": "python3"
  },
  "language_info": {
   "codemirror_mode": {
    "name": "ipython",
    "version": 3
   },
   "file_extension": ".py",
   "mimetype": "text/x-python",
   "name": "python",
   "nbconvert_exporter": "python",
   "pygments_lexer": "ipython3",
   "version": "3.7.5"
  }
 },
 "nbformat": 4,
 "nbformat_minor": 2
}
