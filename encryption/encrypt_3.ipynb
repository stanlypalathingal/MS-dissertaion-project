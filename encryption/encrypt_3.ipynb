{
 "cells": [
  {
   "cell_type": "code",
   "execution_count": 1,
   "metadata": {},
   "outputs": [],
   "source": [
    "import math \n",
    "import pandas as pd"
   ]
  },
  {
   "cell_type": "code",
   "execution_count": 3,
   "metadata": {
    "scrolled": true
   },
   "outputs": [
    {
     "data": {
      "text/html": [
       "<div>\n",
       "<style scoped>\n",
       "    .dataframe tbody tr th:only-of-type {\n",
       "        vertical-align: middle;\n",
       "    }\n",
       "\n",
       "    .dataframe tbody tr th {\n",
       "        vertical-align: top;\n",
       "    }\n",
       "\n",
       "    .dataframe thead th {\n",
       "        text-align: right;\n",
       "    }\n",
       "</style>\n",
       "<table border=\"1\" class=\"dataframe\">\n",
       "  <thead>\n",
       "    <tr style=\"text-align: right;\">\n",
       "      <th></th>\n",
       "      <th>time</th>\n",
       "      <th>key</th>\n",
       "    </tr>\n",
       "  </thead>\n",
       "  <tbody>\n",
       "    <tr>\n",
       "      <th>0</th>\n",
       "      <td>time</td>\n",
       "      <td>key</td>\n",
       "    </tr>\n",
       "    <tr>\n",
       "      <th>1</th>\n",
       "      <td>21:40:27</td>\n",
       "      <td>b'0\\x82\\x01\"0\\r\\x06\\t*\\x86H\\x86\\xf7\\r\\x01\\x01\\...</td>\n",
       "    </tr>\n",
       "    <tr>\n",
       "      <th>2</th>\n",
       "      <td>22:07:33</td>\n",
       "      <td>b'0\\x82\\x01\"0\\r\\x06\\t*\\x86H\\x86\\xf7\\r\\x01\\x01\\...</td>\n",
       "    </tr>\n",
       "    <tr>\n",
       "      <th>3</th>\n",
       "      <td>22:10:34</td>\n",
       "      <td>b'0\\x82\\x01\"0\\r\\x06\\t*\\x86H\\x86\\xf7\\r\\x01\\x01\\...</td>\n",
       "    </tr>\n",
       "    <tr>\n",
       "      <th>4</th>\n",
       "      <td>22:39:44</td>\n",
       "      <td>b'0\\x82\\x01\"0\\r\\x06\\t*\\x86H\\x86\\xf7\\r\\x01\\x01\\...</td>\n",
       "    </tr>\n",
       "  </tbody>\n",
       "</table>\n",
       "</div>"
      ],
      "text/plain": [
       "       time                                                key\n",
       "0      time                                                key\n",
       "1  21:40:27  b'0\\x82\\x01\"0\\r\\x06\\t*\\x86H\\x86\\xf7\\r\\x01\\x01\\...\n",
       "2  22:07:33  b'0\\x82\\x01\"0\\r\\x06\\t*\\x86H\\x86\\xf7\\r\\x01\\x01\\...\n",
       "3  22:10:34  b'0\\x82\\x01\"0\\r\\x06\\t*\\x86H\\x86\\xf7\\r\\x01\\x01\\...\n",
       "4  22:39:44  b'0\\x82\\x01\"0\\r\\x06\\t*\\x86H\\x86\\xf7\\r\\x01\\x01\\..."
      ]
     },
     "execution_count": 3,
     "metadata": {},
     "output_type": "execute_result"
    }
   ],
   "source": [
    "d=pd.read_csv(\"key.csv\",delimiter=\",\",names=[\"time\",\"key\"])\n",
    "d.head()"
   ]
  },
  {
   "cell_type": "code",
   "execution_count": 4,
   "metadata": {
    "scrolled": true
   },
   "outputs": [],
   "source": [
    "from Crypto.PublicKey import RSA\n",
    "# from Crypto.Util import asn1\n",
    "# from base64 import b64decode\n",
    "from cryptography.fernet import Fernet\n",
    "import pandas as pd\n",
    "import time\n",
    "\n",
    "key = RSA.generate(2048)\n",
    "\n",
    "\n",
    "def get_pub_key():\n",
    "    pub_key =  key.publickey().exportKey('DER')\n",
    "    return pub_key\n",
    "\n",
    "def get_pvt_key():\n",
    "    pvt_key = key.exportKey('DER')\n",
    "    return(pvt_key)\n",
    "\n",
    "def get_sym_key():\n",
    "    sym_key=Fernet.generate_key()\n",
    "    print(sym_key)\n",
    "    return sym_key\n",
    "\n",
    "# print(get_pub_key())\n",
    "# print(get_pvt_key())\n",
    "# print(get_sym_key())\n",
    "\n",
    "pub=get_pub_key()\n",
    "pvt=get_pvt_key()\n",
    "\n",
    "# df=pd.DataFrame(columns=['Topic', 'port', 'public_key', 'time', 'private_key'])\n",
    "# df1=[]\n",
    "\n",
    "# df=pd.read_csv(\"pub_key.csv\")\n",
    "# f1=[\"DC6\",\"eclipse.mqtt.org\",pub,time.strftime(\"%H:%M:%S\",time.localtime()),pvt]\n",
    "# df.loc[len(df)+1]=f1\n",
    "# df.to_csv(\"pub_key.csv\",index=False)"
   ]
  },
  {
   "cell_type": "code",
   "execution_count": 5,
   "metadata": {},
   "outputs": [],
   "source": [
    "# df.head()"
   ]
  },
  {
   "cell_type": "code",
   "execution_count": 6,
   "metadata": {},
   "outputs": [],
   "source": [
    "# df.public_key[3]"
   ]
  },
  {
   "cell_type": "code",
   "execution_count": 7,
   "metadata": {},
   "outputs": [],
   "source": [
    "# a=df.public_key[4]"
   ]
  },
  {
   "cell_type": "code",
   "execution_count": 8,
   "metadata": {},
   "outputs": [],
   "source": [
    "# df=pd.read_csv(\"pub_key.csv\",delimiter=\",\",names=['Topic', 'port', 'public_key', 'time', 'private_key'])\n",
    "# l=len(df)\n",
    "# l\n",
    "# for i in range(0,l):\n",
    "#     if(df[\"public_key\"][i]==a):\n",
    "#         print(df.Topic[i])\n",
    "#         print(df.time[i])\n",
    "        \n",
    "\t#print(data[obj].unique())\n"
   ]
  },
  {
   "cell_type": "code",
   "execution_count": 9,
   "metadata": {},
   "outputs": [],
   "source": [
    "# df"
   ]
  },
  {
   "cell_type": "code",
   "execution_count": 13,
   "metadata": {},
   "outputs": [
    {
     "data": {
      "text/plain": [
       "849"
      ]
     },
     "execution_count": 13,
     "metadata": {},
     "output_type": "execute_result"
    }
   ],
   "source": [
    "# f1=\"DC7\"+\",\"+\"eclipse.mqtt.org\"+\",\"+time.strftime(\"%H:%M:%S\",time.localtime())+\",\"+str(pub)+\",\"+str(pvt)\n",
    "f1=pub\n",
    "with open('pub_key.csv','a+') as f:\n",
    "    f.write(\"\\n\"+str(f1))\n",
    "f.close()"
   ]
  },
  {
   "cell_type": "code",
   "execution_count": 11,
   "metadata": {},
   "outputs": [],
   "source": [
    "# f1=pd.DataFrame(columns=['Topic','port','time','public_key','private_key'])\n",
    "# f1.to_csv(\"key.csv\",index=False)\n",
    "\n",
    "# df=pd.read_csv(\"key.csv\",delimiter=\",\",names=['Topic','port','time','public_key','private_key'])\n",
    "# df.head()\n",
    "\n",
    "# df=pd.read_csv(\"pub_key.csv\")\n",
    "# for i in range(0,l):\n",
    "#     if(df[\"public_key\"][i]==a):\n",
    "#         print(df.Topic[i])\n",
    "#         print(df.time[i])\n",
    "# df.loc[len(df)+1]=f1\n",
    "# df.to_csv(\"pub_key.csv\",index=False)"
   ]
  },
  {
   "cell_type": "code",
   "execution_count": null,
   "metadata": {},
   "outputs": [],
   "source": [
    "# f1.head()"
   ]
  },
  {
   "cell_type": "code",
   "execution_count": null,
   "metadata": {},
   "outputs": [],
   "source": [
    "# l=len(df)\n",
    "# a=df.public_key[2]\n",
    "# for i in range(0,l):\n",
    "#     if(df[\"public_key\"][i]==a):\n",
    "#         print(df.Topic[i])\n",
    "#         print(df.time[i])"
   ]
  },
  {
   "cell_type": "code",
   "execution_count": 17,
   "metadata": {
    "scrolled": false
   },
   "outputs": [
    {
     "data": {
      "text/html": [
       "<div>\n",
       "<style scoped>\n",
       "    .dataframe tbody tr th:only-of-type {\n",
       "        vertical-align: middle;\n",
       "    }\n",
       "\n",
       "    .dataframe tbody tr th {\n",
       "        vertical-align: top;\n",
       "    }\n",
       "\n",
       "    .dataframe thead th {\n",
       "        text-align: right;\n",
       "    }\n",
       "</style>\n",
       "<table border=\"1\" class=\"dataframe\">\n",
       "  <thead>\n",
       "    <tr style=\"text-align: right;\">\n",
       "      <th></th>\n",
       "      <th>Topic</th>\n",
       "      <th>port</th>\n",
       "      <th>time</th>\n",
       "      <th>public_key</th>\n",
       "      <th>private_key</th>\n",
       "    </tr>\n",
       "  </thead>\n",
       "  <tbody>\n",
       "    <tr>\n",
       "      <th>0</th>\n",
       "      <td>Topic</td>\n",
       "      <td>port</td>\n",
       "      <td>time</td>\n",
       "      <td>public_key</td>\n",
       "      <td>private_key</td>\n",
       "    </tr>\n",
       "    <tr>\n",
       "      <th>1</th>\n",
       "      <td>DC5</td>\n",
       "      <td>eclipse.mqtt.org</td>\n",
       "      <td>15:25:41</td>\n",
       "      <td>b'0\\x82\\x01\"0\\r\\x06\\t*\\x86H\\x86\\xf7\\r\\x01\\x01\\...</td>\n",
       "      <td>b'0\\x82\\x04\\xa4\\x02\\x01\\x00\\x02\\x82\\x01\\x01\\x0...</td>\n",
       "    </tr>\n",
       "    <tr>\n",
       "      <th>2</th>\n",
       "      <td>DC2</td>\n",
       "      <td>eclipse.mqtt.org</td>\n",
       "      <td>15:26:04</td>\n",
       "      <td>b'0\\x82\\x01\"0\\r\\x06\\t*\\x86H\\x86\\xf7\\r\\x01\\x01\\...</td>\n",
       "      <td>\\xd9\\xdbF\\xd7\\x93Y\\x96\\x92\\x82\\xbb\\xaf\\xfb\\xd4...</td>\n",
       "    </tr>\n",
       "    <tr>\n",
       "      <th>3</th>\n",
       "      <td>DC4</td>\n",
       "      <td>eclipse.mqtt.org</td>\n",
       "      <td>15:29:13</td>\n",
       "      <td>b'0\\x82\\x01\"0\\r\\x06\\t*\\x86H\\x86\\xf7\\r\\x01\\x01\\...</td>\n",
       "      <td>\\xb0\\x08\\xf1eB\\xa1\\xec\\xb38\\xa0\\xa1\\x80\\xde\\xa...</td>\n",
       "    </tr>\n",
       "    <tr>\n",
       "      <th>4</th>\n",
       "      <td>DC1</td>\n",
       "      <td>eclipse.mqtt.org</td>\n",
       "      <td>15:30:39</td>\n",
       "      <td>b'0\\x82\\x01\"0\\r\\x06\\t*\\x86H\\x86\\xf7\\r\\x01\\x01\\...</td>\n",
       "      <td>\\xdc\\xe1\\xce\\xf2\\xf9{\\x8f\\xeb\\xd6\\xee\\x910-\\xa...</td>\n",
       "    </tr>\n",
       "    <tr>\n",
       "      <th>5</th>\n",
       "      <td>DC3</td>\n",
       "      <td>eclipse.mqtt.org</td>\n",
       "      <td>15:32:24</td>\n",
       "      <td>b'0\\x82\\x01\"0\\r\\x06\\t*\\x86H\\x86\\xf7\\r\\x01\\x01\\...</td>\n",
       "      <td>\\xea;@\\\\N\\xde\\xa4i\\xc4i\\xd9\\x9b\\x95a\\rq?\\x9d\\x...</td>\n",
       "    </tr>\n",
       "    <tr>\n",
       "      <th>6</th>\n",
       "      <td>DC7</td>\n",
       "      <td>eclipse.mqtt.org</td>\n",
       "      <td>22:40:04</td>\n",
       "      <td>b'0\\x82\\x01\"0\\r\\x06\\t*\\x86H\\x86\\xf7\\r\\x01\\x01\\...</td>\n",
       "      <td>b'0\\x82\\x04\\xa4\\x02\\x01\\x00\\x02\\x82\\x01\\x01\\x0...</td>\n",
       "    </tr>\n",
       "  </tbody>\n",
       "</table>\n",
       "</div>"
      ],
      "text/plain": [
       "   Topic              port      time  \\\n",
       "0  Topic              port      time   \n",
       "1    DC5  eclipse.mqtt.org  15:25:41   \n",
       "2    DC2  eclipse.mqtt.org  15:26:04   \n",
       "3    DC4  eclipse.mqtt.org  15:29:13   \n",
       "4    DC1  eclipse.mqtt.org  15:30:39   \n",
       "5    DC3  eclipse.mqtt.org  15:32:24   \n",
       "6    DC7  eclipse.mqtt.org  22:40:04   \n",
       "\n",
       "                                          public_key  \\\n",
       "0                                         public_key   \n",
       "1  b'0\\x82\\x01\"0\\r\\x06\\t*\\x86H\\x86\\xf7\\r\\x01\\x01\\...   \n",
       "2  b'0\\x82\\x01\"0\\r\\x06\\t*\\x86H\\x86\\xf7\\r\\x01\\x01\\...   \n",
       "3  b'0\\x82\\x01\"0\\r\\x06\\t*\\x86H\\x86\\xf7\\r\\x01\\x01\\...   \n",
       "4  b'0\\x82\\x01\"0\\r\\x06\\t*\\x86H\\x86\\xf7\\r\\x01\\x01\\...   \n",
       "5  b'0\\x82\\x01\"0\\r\\x06\\t*\\x86H\\x86\\xf7\\r\\x01\\x01\\...   \n",
       "6  b'0\\x82\\x01\"0\\r\\x06\\t*\\x86H\\x86\\xf7\\r\\x01\\x01\\...   \n",
       "\n",
       "                                         private_key  \n",
       "0                                        private_key  \n",
       "1  b'0\\x82\\x04\\xa4\\x02\\x01\\x00\\x02\\x82\\x01\\x01\\x0...  \n",
       "2  \\xd9\\xdbF\\xd7\\x93Y\\x96\\x92\\x82\\xbb\\xaf\\xfb\\xd4...  \n",
       "3  \\xb0\\x08\\xf1eB\\xa1\\xec\\xb38\\xa0\\xa1\\x80\\xde\\xa...  \n",
       "4  \\xdc\\xe1\\xce\\xf2\\xf9{\\x8f\\xeb\\xd6\\xee\\x910-\\xa...  \n",
       "5  \\xea;@\\\\N\\xde\\xa4i\\xc4i\\xd9\\x9b\\x95a\\rq?\\x9d\\x...  \n",
       "6  b'0\\x82\\x04\\xa4\\x02\\x01\\x00\\x02\\x82\\x01\\x01\\x0...  "
      ]
     },
     "execution_count": 17,
     "metadata": {},
     "output_type": "execute_result"
    }
   ],
   "source": [
    "df1=pd.read_csv(\"pub_key.csv\",delimiter=\",\",names=['Topic','port','time','public_key','private_key'])\n",
    "df1.head(10)"
   ]
  },
  {
   "cell_type": "code",
   "execution_count": 18,
   "metadata": {},
   "outputs": [],
   "source": [
    "# df1=df1.drop(index=[6,7,8])"
   ]
  },
  {
   "cell_type": "code",
   "execution_count": 19,
   "metadata": {},
   "outputs": [
    {
     "name": "stdout",
     "output_type": "stream",
     "text": [
      "DC3\n",
      "15:32:24\n"
     ]
    }
   ],
   "source": [
    "l=len(df1)\n",
    "a=df1.public_key[5]\n",
    "for i in range(0,l):\n",
    "    if(df1[\"public_key\"][i]==a):\n",
    "        print(df1.Topic[i])\n",
    "#         df1.time=\n",
    "        print(df1.time[i])"
   ]
  },
  {
   "cell_type": "code",
   "execution_count": 20,
   "metadata": {},
   "outputs": [
    {
     "data": {
      "text/plain": [
       "False"
      ]
     },
     "execution_count": 20,
     "metadata": {},
     "output_type": "execute_result"
    }
   ],
   "source": [
    "(df1[\"public_key\"][4]==df1[\"public_key\"][2])"
   ]
  },
  {
   "cell_type": "code",
   "execution_count": 21,
   "metadata": {},
   "outputs": [
    {
     "data": {
      "text/plain": [
       "919"
      ]
     },
     "execution_count": 21,
     "metadata": {},
     "output_type": "execute_result"
    }
   ],
   "source": [
    "# f1=pd.DataFrame(columns=['time','key'])\n",
    "# f1.to_csv(\"key.csv\",index=False)\n",
    "f1=(time.strftime(\"%H:%M:%S\",time.localtime()))+str(\",\")+str(pub)\n",
    "with open('key.csv','a+') as f:\n",
    "    f.write(\"\\n\"+str(f1))\n",
    "f.close()"
   ]
  },
  {
   "cell_type": "code",
   "execution_count": 22,
   "metadata": {},
   "outputs": [],
   "source": [
    "df3=pd.read_csv(\"key.csv\",delimiter=\",\",names=['time','key'])"
   ]
  },
  {
   "cell_type": "code",
   "execution_count": 23,
   "metadata": {},
   "outputs": [
    {
     "data": {
      "text/html": [
       "<div>\n",
       "<style scoped>\n",
       "    .dataframe tbody tr th:only-of-type {\n",
       "        vertical-align: middle;\n",
       "    }\n",
       "\n",
       "    .dataframe tbody tr th {\n",
       "        vertical-align: top;\n",
       "    }\n",
       "\n",
       "    .dataframe thead th {\n",
       "        text-align: right;\n",
       "    }\n",
       "</style>\n",
       "<table border=\"1\" class=\"dataframe\">\n",
       "  <thead>\n",
       "    <tr style=\"text-align: right;\">\n",
       "      <th></th>\n",
       "      <th>time</th>\n",
       "      <th>key</th>\n",
       "    </tr>\n",
       "  </thead>\n",
       "  <tbody>\n",
       "    <tr>\n",
       "      <th>0</th>\n",
       "      <td>time</td>\n",
       "      <td>key</td>\n",
       "    </tr>\n",
       "    <tr>\n",
       "      <th>1</th>\n",
       "      <td>21:40:27</td>\n",
       "      <td>b'0\\x82\\x01\"0\\r\\x06\\t*\\x86H\\x86\\xf7\\r\\x01\\x01\\...</td>\n",
       "    </tr>\n",
       "    <tr>\n",
       "      <th>2</th>\n",
       "      <td>22:07:33</td>\n",
       "      <td>b'0\\x82\\x01\"0\\r\\x06\\t*\\x86H\\x86\\xf7\\r\\x01\\x01\\...</td>\n",
       "    </tr>\n",
       "    <tr>\n",
       "      <th>3</th>\n",
       "      <td>22:10:34</td>\n",
       "      <td>b'0\\x82\\x01\"0\\r\\x06\\t*\\x86H\\x86\\xf7\\r\\x01\\x01\\...</td>\n",
       "    </tr>\n",
       "    <tr>\n",
       "      <th>4</th>\n",
       "      <td>22:39:44</td>\n",
       "      <td>b'0\\x82\\x01\"0\\r\\x06\\t*\\x86H\\x86\\xf7\\r\\x01\\x01\\...</td>\n",
       "    </tr>\n",
       "    <tr>\n",
       "      <th>5</th>\n",
       "      <td>22:40:44</td>\n",
       "      <td>b'0\\x82\\x01\"0\\r\\x06\\t*\\x86H\\x86\\xf7\\r\\x01\\x01\\...</td>\n",
       "    </tr>\n",
       "  </tbody>\n",
       "</table>\n",
       "</div>"
      ],
      "text/plain": [
       "       time                                                key\n",
       "0      time                                                key\n",
       "1  21:40:27  b'0\\x82\\x01\"0\\r\\x06\\t*\\x86H\\x86\\xf7\\r\\x01\\x01\\...\n",
       "2  22:07:33  b'0\\x82\\x01\"0\\r\\x06\\t*\\x86H\\x86\\xf7\\r\\x01\\x01\\...\n",
       "3  22:10:34  b'0\\x82\\x01\"0\\r\\x06\\t*\\x86H\\x86\\xf7\\r\\x01\\x01\\...\n",
       "4  22:39:44  b'0\\x82\\x01\"0\\r\\x06\\t*\\x86H\\x86\\xf7\\r\\x01\\x01\\...\n",
       "5  22:40:44  b'0\\x82\\x01\"0\\r\\x06\\t*\\x86H\\x86\\xf7\\r\\x01\\x01\\..."
      ]
     },
     "execution_count": 23,
     "metadata": {},
     "output_type": "execute_result"
    }
   ],
   "source": [
    "df3"
   ]
  },
  {
   "cell_type": "code",
   "execution_count": null,
   "metadata": {},
   "outputs": [],
   "source": [
    "# f1=\"DC6\"+\",\"+\"eclipse.mqtt.org\"+\",\"+time.strftime(\"%H:%M:%S\",time.localtime())+\",\"+str(pub)+\",\"+str(pvt)\n",
    "# with open('pub_key.csv','a+') as f:\n",
    "#     f.write(\"\\n\"+str(f1))\n",
    "# f.close()"
   ]
  },
  {
   "cell_type": "code",
   "execution_count": 24,
   "metadata": {},
   "outputs": [
    {
     "data": {
      "text/plain": [
       "'b\\'0\\\\x82\\\\x01\"0\\\\r\\\\x06\\\\t*\\\\x86H\\\\x86\\\\xf7\\\\r\\\\x01\\\\x01\\\\x01\\\\x05\\\\x00\\\\x03\\\\x82\\\\x01\\\\x0f\\\\x000\\\\x82\\\\x01\\\\n\\\\x02\\\\x82\\\\x01\\\\x01\\\\x00\\\\xae\\\\xf8\\\\x1c\\\\xd57\\\\xf2P\\\\xcfD\\\\xb1\\\\xc1\\\\xfc\\\\x95\\\\x87\\\\xa8@\\\\x9eh\\\\x02\\\\x9djoj\\\\x0f\\\\x7f\\\\xfcuS\\\\xb1\\\\xa9\\\\xf11Th\\\\x01\\\\x992e;\\\\xb4bo\\\\xf8\\\\x94C\\\\x8dH\\\\xb6\\\\xe3\\\\xc1Eh\\\\x04\\\\xe8(\\\\xac\\\\xf7\\\\xf3[svh\\\\xb5\\\\x17PU\\\\xdf\\\\xaa\\\\xa6\\\\xb7\\\\x9d\\\\xce\\\\xd7\\\\x0c\\\\xae\\\\xee\\\\x86>\\\\xf0\\\\xbf\\\\x96\\\\xae:\\\\x1f\\\\x8d<^\\\\x87\\\\x8c\\\\xd8\\\\xffgQ\\\\xd5az\\\\x9b\\\\xc4>\\\\x1b-\\\\xdd\\\\x96\\\\x7f\\\\x80\\\\xce\\\\x86\\\\x98\\\\x10\\\\x14Y\\\\x12\\\\xe7\\\\xda\\\\xb4\\\\xdb\\\\xbaH\\\\xa7\\\\x1f=\\\\x9d\\\\xa4\\\\x19\\\\xbf\\\\x0e\\\\x13\\\\x14\\\\x08\\\\xb3\\\\xe2\\\\xe3\\\\x95\\\\xdc\\\\xc1\\\\xf5\\\\xcd\\\\xa50\\\\xf9\\\\x97t6\\\\x9ba\\\\xb9IH\\\\xdb\\\\x7f\\\\x07\\\\x19l\\\\xb3\\\\x8eM\\\\x82  \\\\x10\\\\xd0\\\\x12\\\\xcf\\\\xda\\\\xc1sG\\\\x84\\\\xcf\\\\xea_<\\\\x17\\\\x84\\\\xad\\\\xc6-\\\\xb5E\\\\xfc\\\\xac\\\\x137\\\\xdd>c\\\\xfbh\\\\x98\\\\xe9\\\\x9aI\\\\xae\\\\xc3\\\\x99\\\\x7f\\\\xde*\\\\xee\\\\x17\\\\xbd\\\\xcdU\\\\xa6\\\\x0c\\\\x83\\\\xe6\\\\xc6\\\\xde\\\\xc6\\\\x96\\\\x1f\\\\x1c\\\\x8f+\\\\xaf\\\\x9br\\\\xccQ\\\\xe0\\\\xd7;\\\\xc8\\\\xb8\\\\xe3\\\\x1e\\\\xf5\\\\xde\\\\x8b\\\\xad[6\\\\x13\\\\x10;E\\\\xc5/\\\\xa2R\\\\xac\\\\r\\\\x90\\\\\\\\\\\\xc0\\\\xe9\\\\x92\\\\xf1r|C\\\\xdeCL\\\\xfd\\\\x02\\\\x03\\\\x01\\\\x00\\\\x01\\''"
      ]
     },
     "execution_count": 24,
     "metadata": {},
     "output_type": "execute_result"
    },
    {
     "data": {
      "text/plain": [
       "'22:40:44'"
      ]
     },
     "execution_count": 24,
     "metadata": {},
     "output_type": "execute_result"
    }
   ],
   "source": [
    "# df3.key[5]\n",
    "df3.time[5]"
   ]
  },
  {
   "cell_type": "code",
   "execution_count": 32,
   "metadata": {},
   "outputs": [
    {
     "name": "stdout",
     "output_type": "stream",
     "text": [
      "DC7\n",
      "22:40:04\n"
     ]
    },
    {
     "data": {
      "text/plain": [
       "'22:40:44'"
      ]
     },
     "execution_count": 32,
     "metadata": {},
     "output_type": "execute_result"
    },
    {
     "data": {
      "text/plain": [
       "'22:40:04'"
      ]
     },
     "execution_count": 32,
     "metadata": {},
     "output_type": "execute_result"
    },
    {
     "name": "stdout",
     "output_type": "stream",
     "text": [
      "good\n"
     ]
    }
   ],
   "source": [
    "from datetime import datetime\n",
    "l=len(df1)\n",
    "a=df3.key[5]\n",
    "for i in range(0,l):\n",
    "    if(df1[\"public_key\"][i]==a):\n",
    "        print(df1.Topic[i])\n",
    "#         df1.time=df3.time[1]\n",
    "        print(df1.time[i])\n",
    "        df3.time[5]\n",
    "        df1.time[i]\n",
    "        if(datetime.strptime(df3.time[5], FMT) > datetime.strptime(df1.time[i], FMT)):\n",
    "            print(\"good\")"
   ]
  },
  {
   "cell_type": "code",
   "execution_count": 26,
   "metadata": {},
   "outputs": [
    {
     "data": {
      "text/plain": [
       "'22:41:59'"
      ]
     },
     "execution_count": 26,
     "metadata": {},
     "output_type": "execute_result"
    },
    {
     "name": "stdout",
     "output_type": "stream",
     "text": [
      "<class 'pandas.core.frame.DataFrame'>\n",
      "RangeIndex: 6 entries, 0 to 5\n",
      "Data columns (total 2 columns):\n",
      "time    6 non-null object\n",
      "key     6 non-null object\n",
      "dtypes: object(2)\n",
      "memory usage: 224.0+ bytes\n"
     ]
    }
   ],
   "source": [
    "(time.strftime(\"%H:%M:%S\",time.localtime()))\n",
    "df3.info()"
   ]
  },
  {
   "cell_type": "code",
   "execution_count": null,
   "metadata": {},
   "outputs": [],
   "source": [
    "df3.time[5]\n",
    "df1.time[5]"
   ]
  },
  {
   "cell_type": "code",
   "execution_count": 29,
   "metadata": {},
   "outputs": [
    {
     "data": {
      "text/plain": [
       "False"
      ]
     },
     "execution_count": 29,
     "metadata": {},
     "output_type": "execute_result"
    }
   ],
   "source": [
    "\n",
    "FMT = '%H:%M:%S'\n",
    "datetime.strptime(df1.time[5], FMT) > datetime.strptime(df3.time[2], FMT)"
   ]
  },
  {
   "cell_type": "code",
   "execution_count": null,
   "metadata": {},
   "outputs": [],
   "source": []
  }
 ],
 "metadata": {
  "kernelspec": {
   "display_name": "Python 3",
   "language": "python",
   "name": "python3"
  },
  "language_info": {
   "codemirror_mode": {
    "name": "ipython",
    "version": 3
   },
   "file_extension": ".py",
   "mimetype": "text/x-python",
   "name": "python",
   "nbconvert_exporter": "python",
   "pygments_lexer": "ipython3",
   "version": "3.7.5"
  }
 },
 "nbformat": 4,
 "nbformat_minor": 2
}
