{
 "cells": [
  {
   "cell_type": "code",
   "execution_count": 1,
   "metadata": {},
   "outputs": [
    {
     "data": {
      "application/javascript": [
       "IPython.notebook.set_autosave_interval(20000)"
      ]
     },
     "metadata": {},
     "output_type": "display_data"
    },
    {
     "name": "stdout",
     "output_type": "stream",
     "text": [
      "Autosaving every 20 seconds\n"
     ]
    }
   ],
   "source": [
    "%autosave 20\n",
    "%matplotlib inline\n",
    "import pandas as pd\n",
    "import matplotlib.pyplot as plt"
   ]
  },
  {
   "cell_type": "code",
   "execution_count": 2,
   "metadata": {},
   "outputs": [
    {
     "name": "stdout",
     "output_type": "stream",
     "text": [
      "sample before  (377203, 6)\n"
     ]
    },
    {
     "data": {
      "text/plain": [
       "Index(['Sensor', 'Type', 'Units', 'time', 'Flag', 'Value'], dtype='object')"
      ]
     },
     "execution_count": 2,
     "metadata": {},
     "output_type": "execute_result"
    }
   ],
   "source": [
    "df=pd.read_csv(\"C:/Users/HP/OneDrive - Newcastle University/Dissertation/Data_sets/training_data.csv\")\n",
    "df=df.dropna()\n",
    "print(\"sample before \",df.shape)\n",
    "df.columns"
   ]
  },
  {
   "cell_type": "code",
   "execution_count": 3,
   "metadata": {},
   "outputs": [],
   "source": [
    "df[\"time\"]=pd.to_datetime(df[\"time\"],infer_datetime_format=True,dayfirst=True)\n",
    "df.to_csv(\"C:/Users/HP/OneDrive - Newcastle University/Dissertation/Data_sets/Data_with_proper_date.csv\",mode='w',index=False)"
   ]
  },
  {
   "cell_type": "code",
   "execution_count": 4,
   "metadata": {},
   "outputs": [
    {
     "data": {
      "text/plain": [
       "(589141, 6)"
      ]
     },
     "execution_count": 4,
     "metadata": {},
     "output_type": "execute_result"
    }
   ],
   "source": [
    "# df[\"Date_new\"]=pd.to_datetime(df[\"time\"],infer_datetime_format=True,dayfirst=True)\n",
    "df=pd.read_csv(\"C:/Users/HP/OneDrive - Newcastle University/Dissertation/Data_sets/Data_with_proper_date.csv\")\n",
    "df[\"time\"]=pd.to_datetime(df[\"time\"],infer_datetime_format=True,dayfirst=True)\n",
    "df.shape"
   ]
  },
  {
   "cell_type": "code",
   "execution_count": 5,
   "metadata": {},
   "outputs": [],
   "source": [
    "df[\"Date\"]=[d.date() for d in df[\"time\"]]\n",
    "df[\"Date\"]=pd.to_datetime(df[\"Date\"],format=\"%Y/%m/%d\")\n",
    "df[\"Time\"]=[d.time() for d in df[\"time\"]]"
   ]
  },
  {
   "cell_type": "code",
   "execution_count": 6,
   "metadata": {},
   "outputs": [
    {
     "data": {
      "text/plain": [
       "array(['2020-05-21T00:00:00.000000000', '2020-06-05T00:00:00.000000000',\n",
       "       '2020-05-30T00:00:00.000000000', '2020-06-01T00:00:00.000000000',\n",
       "       '2020-05-29T00:00:00.000000000', '2020-05-24T00:00:00.000000000',\n",
       "       '2020-06-06T00:00:00.000000000', '2020-05-28T00:00:00.000000000',\n",
       "       '2020-05-18T00:00:00.000000000', '2020-05-19T00:00:00.000000000',\n",
       "       '2020-05-26T00:00:00.000000000', '2020-05-15T00:00:00.000000000',\n",
       "       '2020-05-22T00:00:00.000000000', '2020-05-31T00:00:00.000000000',\n",
       "       '2020-06-08T00:00:00.000000000', '2020-05-17T00:00:00.000000000',\n",
       "       '2020-06-10T00:00:00.000000000', '2020-05-16T00:00:00.000000000',\n",
       "       '2020-05-14T00:00:00.000000000', '2020-06-04T00:00:00.000000000',\n",
       "       '2020-05-11T00:00:00.000000000', '2020-05-25T00:00:00.000000000',\n",
       "       '2020-06-02T00:00:00.000000000', '2020-05-13T00:00:00.000000000',\n",
       "       '2020-05-23T00:00:00.000000000', '2020-06-07T00:00:00.000000000',\n",
       "       '2020-06-12T00:00:00.000000000', '2020-05-12T00:00:00.000000000',\n",
       "       '2020-05-20T00:00:00.000000000', '2020-06-11T00:00:00.000000000',\n",
       "       '2020-06-09T00:00:00.000000000', '2020-06-03T00:00:00.000000000',\n",
       "       '2020-05-27T00:00:00.000000000'], dtype='datetime64[ns]')"
      ]
     },
     "execution_count": 6,
     "metadata": {},
     "output_type": "execute_result"
    }
   ],
   "source": [
    "df.Date.unique()"
   ]
  },
  {
   "cell_type": "code",
   "execution_count": 19,
   "metadata": {},
   "outputs": [],
   "source": [
    "df.drop(df[df[\"Date\"]==\"2020-06-13\"].index, inplace = True)\n",
    "# df.drop(df[df['Age'] < 25].index, inplace = True) "
   ]
  },
  {
   "cell_type": "code",
   "execution_count": 20,
   "metadata": {},
   "outputs": [
    {
     "data": {
      "text/plain": [
       "array(['2020-05-21T00:00:00.000000000', '2020-05-30T00:00:00.000000000',\n",
       "       '2020-05-29T00:00:00.000000000', '2020-05-24T00:00:00.000000000',\n",
       "       '2020-05-28T00:00:00.000000000', '2020-05-18T00:00:00.000000000',\n",
       "       '2020-05-19T00:00:00.000000000', '2020-05-26T00:00:00.000000000',\n",
       "       '2020-05-15T00:00:00.000000000', '2020-05-22T00:00:00.000000000',\n",
       "       '2020-05-31T00:00:00.000000000', '2020-05-17T00:00:00.000000000',\n",
       "       '2020-05-16T00:00:00.000000000', '2020-05-14T00:00:00.000000000',\n",
       "       '2020-05-11T00:00:00.000000000', '2020-05-25T00:00:00.000000000',\n",
       "       '2020-05-13T00:00:00.000000000', '2020-05-23T00:00:00.000000000',\n",
       "       '2020-05-12T00:00:00.000000000', '2020-05-20T00:00:00.000000000',\n",
       "       '2020-05-27T00:00:00.000000000'], dtype='datetime64[ns]')"
      ]
     },
     "execution_count": 20,
     "metadata": {},
     "output_type": "execute_result"
    }
   ],
   "source": [
    "df.Date.unique()"
   ]
  },
  {
   "cell_type": "code",
   "execution_count": 21,
   "metadata": {},
   "outputs": [],
   "source": [
    "df.to_csv(\"C:/Users/HP/OneDrive - Newcastle University/Dissertation/Data_sets/Data_with_proper_date.csv\",mode='w',index=False)"
   ]
  },
  {
   "cell_type": "code",
   "execution_count": 22,
   "metadata": {},
   "outputs": [
    {
     "data": {
      "text/plain": [
       "(377203, 8)"
      ]
     },
     "execution_count": 22,
     "metadata": {},
     "output_type": "execute_result"
    }
   ],
   "source": [
    "df.shape"
   ]
  },
  {
   "cell_type": "code",
   "execution_count": 27,
   "metadata": {},
   "outputs": [
    {
     "data": {
      "text/plain": [
       "Index(['Sensor', 'Type', 'Units', 'time', 'Flag', 'Value', 'Date', 'Time'], dtype='object')"
      ]
     },
     "execution_count": 27,
     "metadata": {},
     "output_type": "execute_result"
    }
   ],
   "source": [
    "df.columns"
   ]
  },
  {
   "cell_type": "code",
   "execution_count": 28,
   "metadata": {},
   "outputs": [],
   "source": [
    "df1=df.drop([\"Date\"],axis=1)"
   ]
  },
  {
   "cell_type": "code",
   "execution_count": 30,
   "metadata": {},
   "outputs": [],
   "source": [
    "df1=df1.drop([\"Time\"],axis=1)"
   ]
  },
  {
   "cell_type": "code",
   "execution_count": 31,
   "metadata": {},
   "outputs": [
    {
     "data": {
      "text/html": [
       "<div>\n",
       "<style scoped>\n",
       "    .dataframe tbody tr th:only-of-type {\n",
       "        vertical-align: middle;\n",
       "    }\n",
       "\n",
       "    .dataframe tbody tr th {\n",
       "        vertical-align: top;\n",
       "    }\n",
       "\n",
       "    .dataframe thead th {\n",
       "        text-align: right;\n",
       "    }\n",
       "</style>\n",
       "<table border=\"1\" class=\"dataframe\">\n",
       "  <thead>\n",
       "    <tr style=\"text-align: right;\">\n",
       "      <th></th>\n",
       "      <th>Sensor</th>\n",
       "      <th>Type</th>\n",
       "      <th>Units</th>\n",
       "      <th>time</th>\n",
       "      <th>Flag</th>\n",
       "      <th>Value</th>\n",
       "    </tr>\n",
       "  </thead>\n",
       "  <tbody>\n",
       "    <tr>\n",
       "      <th>0</th>\n",
       "      <td>PER_AIRMON_MESH301245</td>\n",
       "      <td>PM2.5</td>\n",
       "      <td>ugm -3</td>\n",
       "      <td>2020-05-21 03:45:00</td>\n",
       "      <td>0.0</td>\n",
       "      <td>5.640000</td>\n",
       "    </tr>\n",
       "    <tr>\n",
       "      <th>2</th>\n",
       "      <td>PER_AIRMON_MESH1911150</td>\n",
       "      <td>PM10</td>\n",
       "      <td>ugm -3</td>\n",
       "      <td>2020-05-30 18:44:00</td>\n",
       "      <td>0.0</td>\n",
       "      <td>6.357000</td>\n",
       "    </tr>\n",
       "    <tr>\n",
       "      <th>5</th>\n",
       "      <td>PER_AIRMON_MESH301245</td>\n",
       "      <td>PM10</td>\n",
       "      <td>ugm -3</td>\n",
       "      <td>2020-05-29 15:19:00</td>\n",
       "      <td>0.0</td>\n",
       "      <td>6.310000</td>\n",
       "    </tr>\n",
       "    <tr>\n",
       "      <th>6</th>\n",
       "      <td>PER_AIRMON_MESH1911150</td>\n",
       "      <td>PM 4</td>\n",
       "      <td>ugm -3</td>\n",
       "      <td>2020-05-24 14:56:00</td>\n",
       "      <td>0.0</td>\n",
       "      <td>0.380000</td>\n",
       "    </tr>\n",
       "    <tr>\n",
       "      <th>8</th>\n",
       "      <td>PER_EMOTE_1309</td>\n",
       "      <td>CO</td>\n",
       "      <td>ugm -3</td>\n",
       "      <td>2020-05-28 06:20:38</td>\n",
       "      <td>0.0</td>\n",
       "      <td>349.812463</td>\n",
       "    </tr>\n",
       "  </tbody>\n",
       "</table>\n",
       "</div>"
      ],
      "text/plain": [
       "                   Sensor   Type   Units                time  Flag       Value\n",
       "0   PER_AIRMON_MESH301245  PM2.5  ugm -3 2020-05-21 03:45:00   0.0    5.640000\n",
       "2  PER_AIRMON_MESH1911150   PM10  ugm -3 2020-05-30 18:44:00   0.0    6.357000\n",
       "5   PER_AIRMON_MESH301245   PM10  ugm -3 2020-05-29 15:19:00   0.0    6.310000\n",
       "6  PER_AIRMON_MESH1911150   PM 4  ugm -3 2020-05-24 14:56:00   0.0    0.380000\n",
       "8          PER_EMOTE_1309     CO  ugm -3 2020-05-28 06:20:38   0.0  349.812463"
      ]
     },
     "execution_count": 31,
     "metadata": {},
     "output_type": "execute_result"
    }
   ],
   "source": [
    "df1.head()"
   ]
  },
  {
   "cell_type": "code",
   "execution_count": 35,
   "metadata": {},
   "outputs": [],
   "source": [
    "df1.to_csv(\"C:/Users/HP/OneDrive - Newcastle University/Dissertation/Data_sets/training_data.csv\",mode='w',index=False)"
   ]
  },
  {
   "cell_type": "code",
   "execution_count": 7,
   "metadata": {},
   "outputs": [
    {
     "data": {
      "text/plain": [
       "array(['ugm -3', '%', 'db', 'Celsius', 'ppb', 'hpa'], dtype=object)"
      ]
     },
     "execution_count": 7,
     "metadata": {},
     "output_type": "execute_result"
    }
   ],
   "source": [
    "df.Units.unique()"
   ]
  },
  {
   "cell_type": "code",
   "execution_count": null,
   "metadata": {},
   "outputs": [],
   "source": []
  }
 ],
 "metadata": {
  "kernelspec": {
   "display_name": "Python 3",
   "language": "python",
   "name": "python3"
  },
  "language_info": {
   "codemirror_mode": {
    "name": "ipython",
    "version": 3
   },
   "file_extension": ".py",
   "mimetype": "text/x-python",
   "name": "python",
   "nbconvert_exporter": "python",
   "pygments_lexer": "ipython3",
   "version": "3.7.5"
  }
 },
 "nbformat": 4,
 "nbformat_minor": 2
}
