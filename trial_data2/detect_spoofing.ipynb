{
 "cells": [
  {
   "cell_type": "code",
   "execution_count": 1,
   "metadata": {},
   "outputs": [
    {
     "name": "stdout",
     "output_type": "stream",
     "text": [
      "Autosaving every 20 seconds\n"
     ]
    }
   ],
   "source": [
    "%autosave 20\n",
    "%matplotlib inline\n",
    "import pandas as pd\n",
    "import matplotlib.pyplot as plt"
   ]
  },
  {
   "cell_type": "code",
   "execution_count": 2,
   "metadata": {},
   "outputs": [
    {
     "data": {
      "text/plain": [
       "'\\naccepts two parameters. \\n    First is the dataframe of combinations of original dataset\\n    second is the test dataset\\nIt then uses the group by to create the combinations\\nBoth are merged using the inner. So it will have the common ones in original and test\\nCombine the new (c) with that of test (b).\\nuse duplicates only to keep the differnces\\n'"
      ]
     },
     "execution_count": 2,
     "metadata": {},
     "output_type": "execute_result"
    }
   ],
   "source": [
    "'''\n",
    "accepts two parameters. \n",
    "    First is the dataframe of combinations of original dataset\n",
    "    second is the test dataset\n",
    "It then uses the group by to create the combinations\n",
    "Both are merged using the inner. So it will have the common ones in original and test\n",
    "Combine the new (c) with that of test (b).\n",
    "use duplicates only to keep the differnces\n",
    "'''\n",
    "\n",
    "def spoof_detect(a,df1):\n",
    "    b=df1.groupby([\"Sensor\",\"Type\",\"Units\"])[\"Sensor\"].unique().to_frame(name=\"1\").reset_index()\n",
    "    b=b.drop(\"1\",1)\n",
    "    c=b.merge(a,how=\"inner\")\n",
    "    fake=pd.concat([c,b])\n",
    "    return fake.drop_duplicates(keep=False)\n",
    "    "
   ]
  },
  {
   "cell_type": "code",
   "execution_count": 3,
   "metadata": {},
   "outputs": [],
   "source": [
    "df=pd.read_csv(\"C:/Users/HP/OneDrive - Newcastle University/Dissertation/Data_sets/Sample dataset values1.csv\")\n",
    "a=df.groupby([\"Sensor\",\"Type\",\"Units\"])[\"Sensor\"].unique()\n",
    "df1=pd.read_csv(\"C:/Users/HP/OneDrive - Newcastle University/Dissertation/Data_sets/test_fake.csv\",delimiter=\",\",names=[\"Sensor\",\"Type\",\"Units\",\"time\",\"Flag\",\"Value\"])\n",
    "b=df1.groupby([\"Sensor\",\"Type\",\"Units\"])[\"Sensor\"].unique()"
   ]
  },
  {
   "cell_type": "code",
   "execution_count": 5,
   "metadata": {},
   "outputs": [],
   "source": [
    "b=df1.groupby([\"Sensor\",\"Type\",\"Units\"])[\"Sensor\"].unique().to_frame(name=\"1\").reset_index()\n",
    "b=b.drop(\"1\",1)"
   ]
  },
  {
   "cell_type": "code",
   "execution_count": 5,
   "metadata": {},
   "outputs": [],
   "source": [
    "b.to_csv(\"fake.csv\",mode='a', header=False,index=False)"
   ]
  },
  {
   "cell_type": "code",
   "execution_count": 6,
   "metadata": {},
   "outputs": [],
   "source": [
    "a=df.groupby([\"Sensor\",\"Type\",\"Units\"])[\"Sensor\"].unique().to_frame(name=\"1\").reset_index()\n",
    "a=a.drop(\"1\",1)"
   ]
  },
  {
   "cell_type": "code",
   "execution_count": 7,
   "metadata": {
    "scrolled": true
   },
   "outputs": [
    {
     "name": "stdout",
     "output_type": "stream",
     "text": [
      "                    Sensor         Type    Units\n",
      "0   PER_AIRMON_MESH1911150           CO   ugm -3\n",
      "1   PER_AIRMON_MESH1911150     Humidity        %\n",
      "2   PER_AIRMON_MESH1911150           NO   ugm -3\n",
      "3   PER_AIRMON_MESH1911150          NO2   ugm -3\n",
      "4   PER_AIRMON_MESH1911150           O3      ppb\n",
      "5   PER_AIRMON_MESH1911150         PM 4   ugm -3\n",
      "6   PER_AIRMON_MESH1911150          PM1   ugm -3\n",
      "7   PER_AIRMON_MESH1911150         PM10   ugm -3\n",
      "8   PER_AIRMON_MESH1911150        PM2.5   ugm -3\n",
      "9   PER_AIRMON_MESH1911150     Pressure      hpa\n",
      "10  PER_AIRMON_MESH1911150  Temperature  Celsius\n",
      "11   PER_AIRMON_MESH301245     Humidity        %\n",
      "12   PER_AIRMON_MESH301245           NO   ugm -3\n",
      "13   PER_AIRMON_MESH301245          NO2   ugm -3\n",
      "14   PER_AIRMON_MESH301245           O3      ppb\n",
      "15   PER_AIRMON_MESH301245         PM 4   ugm -3\n",
      "16   PER_AIRMON_MESH301245          PM1   ugm -3\n",
      "17   PER_AIRMON_MESH301245         PM10   ugm -3\n",
      "18   PER_AIRMON_MESH301245        PM2.5   ugm -3\n",
      "19   PER_AIRMON_MESH301245     Pressure      hpa\n",
      "20   PER_AIRMON_MESH301245  Temperature  Celsius\n",
      "21          PER_EMOTE_1309           CO   ugm -3\n",
      "22          PER_EMOTE_1309     Humidity        %\n",
      "23          PER_EMOTE_1309           NO   ugm -3\n",
      "24          PER_EMOTE_1309          NO2   ugm -3\n",
      "25          PER_EMOTE_1309        Sound       db\n",
      "26          PER_EMOTE_1309  Temperature  Celsius\n"
     ]
    }
   ],
   "source": [
    "print(a)"
   ]
  },
  {
   "cell_type": "code",
   "execution_count": 8,
   "metadata": {},
   "outputs": [
    {
     "data": {
      "text/plain": [
       "array(['PER_AIRMON_MESH1911150', 'PER_AIRMON_MESH301245',\n",
       "       'PER_EMOTE_1309'], dtype=object)"
      ]
     },
     "execution_count": 8,
     "metadata": {},
     "output_type": "execute_result"
    },
    {
     "data": {
      "text/plain": [
       "array(['CO', 'Humidity', 'NO', 'NO2', 'O3', 'PM 4', 'PM1', 'PM10',\n",
       "       'PM2.5', 'Pressure', 'Temperature', 'Sound'], dtype=object)"
      ]
     },
     "execution_count": 8,
     "metadata": {},
     "output_type": "execute_result"
    },
    {
     "data": {
      "text/plain": [
       "array(['ugm -3', '%', 'ppb', 'hpa', 'Celsius', 'db'], dtype=object)"
      ]
     },
     "execution_count": 8,
     "metadata": {},
     "output_type": "execute_result"
    }
   ],
   "source": [
    "a.Sensor.unique()\n",
    "a.Type.unique()\n",
    "a.Units.unique()"
   ]
  },
  {
   "cell_type": "code",
   "execution_count": 9,
   "metadata": {},
   "outputs": [
    {
     "data": {
      "text/plain": [
       "array(['PER_AIRMON_MESH1', 'PER_AIRMON_MESH1911150',\n",
       "       'PER_AIRMON_MESH301245'], dtype=object)"
      ]
     },
     "execution_count": 9,
     "metadata": {},
     "output_type": "execute_result"
    },
    {
     "data": {
      "text/plain": [
       "array(['NO2', 'CO', 'Humidity', 'NO', 'NO1', 'O3', 'PM 4', 'PM1', 'PM10',\n",
       "       'PM2.5', 'Pressure', 'Temperature'], dtype=object)"
      ]
     },
     "execution_count": 9,
     "metadata": {},
     "output_type": "execute_result"
    },
    {
     "data": {
      "text/plain": [
       "array(['ugm -3', '%', 'ugm -5', 'ppb', 'hpa', 'Celsius'], dtype=object)"
      ]
     },
     "execution_count": 9,
     "metadata": {},
     "output_type": "execute_result"
    }
   ],
   "source": [
    "b.Sensor.unique()\n",
    "b.Type.unique()\n",
    "b.Units.unique()"
   ]
  },
  {
   "cell_type": "code",
   "execution_count": 10,
   "metadata": {},
   "outputs": [
    {
     "data": {
      "text/html": [
       "<div>\n",
       "<style scoped>\n",
       "    .dataframe tbody tr th:only-of-type {\n",
       "        vertical-align: middle;\n",
       "    }\n",
       "\n",
       "    .dataframe tbody tr th {\n",
       "        vertical-align: top;\n",
       "    }\n",
       "\n",
       "    .dataframe thead th {\n",
       "        text-align: right;\n",
       "    }\n",
       "</style>\n",
       "<table border=\"1\" class=\"dataframe\">\n",
       "  <thead>\n",
       "    <tr style=\"text-align: right;\">\n",
       "      <th></th>\n",
       "      <th>Sensor</th>\n",
       "      <th>Type</th>\n",
       "      <th>Units</th>\n",
       "    </tr>\n",
       "  </thead>\n",
       "  <tbody>\n",
       "    <tr>\n",
       "      <th>0</th>\n",
       "      <td>PER_AIRMON_MESH1</td>\n",
       "      <td>NO2</td>\n",
       "      <td>ugm -3</td>\n",
       "    </tr>\n",
       "    <tr>\n",
       "      <th>1</th>\n",
       "      <td>PER_AIRMON_MESH1911150</td>\n",
       "      <td>CO</td>\n",
       "      <td>ugm -3</td>\n",
       "    </tr>\n",
       "    <tr>\n",
       "      <th>2</th>\n",
       "      <td>PER_AIRMON_MESH1911150</td>\n",
       "      <td>Humidity</td>\n",
       "      <td>%</td>\n",
       "    </tr>\n",
       "    <tr>\n",
       "      <th>3</th>\n",
       "      <td>PER_AIRMON_MESH1911150</td>\n",
       "      <td>NO</td>\n",
       "      <td>ugm -3</td>\n",
       "    </tr>\n",
       "    <tr>\n",
       "      <th>4</th>\n",
       "      <td>PER_AIRMON_MESH1911150</td>\n",
       "      <td>NO1</td>\n",
       "      <td>ugm -3</td>\n",
       "    </tr>\n",
       "    <tr>\n",
       "      <th>5</th>\n",
       "      <td>PER_AIRMON_MESH1911150</td>\n",
       "      <td>NO2</td>\n",
       "      <td>ugm -3</td>\n",
       "    </tr>\n",
       "    <tr>\n",
       "      <th>6</th>\n",
       "      <td>PER_AIRMON_MESH1911150</td>\n",
       "      <td>NO2</td>\n",
       "      <td>ugm -5</td>\n",
       "    </tr>\n",
       "    <tr>\n",
       "      <th>7</th>\n",
       "      <td>PER_AIRMON_MESH1911150</td>\n",
       "      <td>O3</td>\n",
       "      <td>ppb</td>\n",
       "    </tr>\n",
       "    <tr>\n",
       "      <th>8</th>\n",
       "      <td>PER_AIRMON_MESH1911150</td>\n",
       "      <td>PM 4</td>\n",
       "      <td>ugm -3</td>\n",
       "    </tr>\n",
       "    <tr>\n",
       "      <th>9</th>\n",
       "      <td>PER_AIRMON_MESH1911150</td>\n",
       "      <td>PM1</td>\n",
       "      <td>ugm -3</td>\n",
       "    </tr>\n",
       "    <tr>\n",
       "      <th>10</th>\n",
       "      <td>PER_AIRMON_MESH1911150</td>\n",
       "      <td>PM10</td>\n",
       "      <td>ugm -3</td>\n",
       "    </tr>\n",
       "    <tr>\n",
       "      <th>11</th>\n",
       "      <td>PER_AIRMON_MESH1911150</td>\n",
       "      <td>PM2.5</td>\n",
       "      <td>ugm -3</td>\n",
       "    </tr>\n",
       "    <tr>\n",
       "      <th>12</th>\n",
       "      <td>PER_AIRMON_MESH1911150</td>\n",
       "      <td>Pressure</td>\n",
       "      <td>hpa</td>\n",
       "    </tr>\n",
       "    <tr>\n",
       "      <th>13</th>\n",
       "      <td>PER_AIRMON_MESH1911150</td>\n",
       "      <td>Temperature</td>\n",
       "      <td>Celsius</td>\n",
       "    </tr>\n",
       "    <tr>\n",
       "      <th>14</th>\n",
       "      <td>PER_AIRMON_MESH301245</td>\n",
       "      <td>Humidity</td>\n",
       "      <td>%</td>\n",
       "    </tr>\n",
       "    <tr>\n",
       "      <th>15</th>\n",
       "      <td>PER_AIRMON_MESH301245</td>\n",
       "      <td>NO</td>\n",
       "      <td>ugm -3</td>\n",
       "    </tr>\n",
       "    <tr>\n",
       "      <th>16</th>\n",
       "      <td>PER_AIRMON_MESH301245</td>\n",
       "      <td>NO2</td>\n",
       "      <td>ugm -3</td>\n",
       "    </tr>\n",
       "    <tr>\n",
       "      <th>17</th>\n",
       "      <td>PER_AIRMON_MESH301245</td>\n",
       "      <td>O3</td>\n",
       "      <td>ppb</td>\n",
       "    </tr>\n",
       "    <tr>\n",
       "      <th>18</th>\n",
       "      <td>PER_AIRMON_MESH301245</td>\n",
       "      <td>PM 4</td>\n",
       "      <td>ugm -3</td>\n",
       "    </tr>\n",
       "    <tr>\n",
       "      <th>19</th>\n",
       "      <td>PER_AIRMON_MESH301245</td>\n",
       "      <td>PM1</td>\n",
       "      <td>ugm -3</td>\n",
       "    </tr>\n",
       "    <tr>\n",
       "      <th>20</th>\n",
       "      <td>PER_AIRMON_MESH301245</td>\n",
       "      <td>PM2.5</td>\n",
       "      <td>ugm -3</td>\n",
       "    </tr>\n",
       "    <tr>\n",
       "      <th>21</th>\n",
       "      <td>PER_AIRMON_MESH301245</td>\n",
       "      <td>Temperature</td>\n",
       "      <td>Celsius</td>\n",
       "    </tr>\n",
       "  </tbody>\n",
       "</table>\n",
       "</div>"
      ],
      "text/plain": [
       "                    Sensor         Type    Units\n",
       "0         PER_AIRMON_MESH1          NO2   ugm -3\n",
       "1   PER_AIRMON_MESH1911150           CO   ugm -3\n",
       "2   PER_AIRMON_MESH1911150     Humidity        %\n",
       "3   PER_AIRMON_MESH1911150           NO   ugm -3\n",
       "4   PER_AIRMON_MESH1911150          NO1   ugm -3\n",
       "5   PER_AIRMON_MESH1911150          NO2   ugm -3\n",
       "6   PER_AIRMON_MESH1911150          NO2   ugm -5\n",
       "7   PER_AIRMON_MESH1911150           O3      ppb\n",
       "8   PER_AIRMON_MESH1911150         PM 4   ugm -3\n",
       "9   PER_AIRMON_MESH1911150          PM1   ugm -3\n",
       "10  PER_AIRMON_MESH1911150         PM10   ugm -3\n",
       "11  PER_AIRMON_MESH1911150        PM2.5   ugm -3\n",
       "12  PER_AIRMON_MESH1911150     Pressure      hpa\n",
       "13  PER_AIRMON_MESH1911150  Temperature  Celsius\n",
       "14   PER_AIRMON_MESH301245     Humidity        %\n",
       "15   PER_AIRMON_MESH301245           NO   ugm -3\n",
       "16   PER_AIRMON_MESH301245          NO2   ugm -3\n",
       "17   PER_AIRMON_MESH301245           O3      ppb\n",
       "18   PER_AIRMON_MESH301245         PM 4   ugm -3\n",
       "19   PER_AIRMON_MESH301245          PM1   ugm -3\n",
       "20   PER_AIRMON_MESH301245        PM2.5   ugm -3\n",
       "21   PER_AIRMON_MESH301245  Temperature  Celsius"
      ]
     },
     "execution_count": 10,
     "metadata": {},
     "output_type": "execute_result"
    }
   ],
   "source": [
    "b"
   ]
  },
  {
   "cell_type": "code",
   "execution_count": 11,
   "metadata": {},
   "outputs": [
    {
     "data": {
      "text/plain": [
       "3"
      ]
     },
     "execution_count": 11,
     "metadata": {},
     "output_type": "execute_result"
    }
   ],
   "source": [
    "b= (spoof_detect(a,df1))\n",
    "len(spoof_detect(a,df1))"
   ]
  },
  {
   "cell_type": "code",
   "execution_count": 12,
   "metadata": {},
   "outputs": [],
   "source": [
    "import datetime\n",
    "\n",
    "x = datetime.datetime.now()\n",
    "# x.to_csv(\"error.log\",mode=\"a\")\n",
    "a.to_csv(\"error.log\",mode=\"a\",index=False)"
   ]
  },
  {
   "cell_type": "code",
   "execution_count": 13,
   "metadata": {},
   "outputs": [],
   "source": [
    "x=datetime.datetime.now().strftime(\"%Y-%m-%d %H:%M:%S\")"
   ]
  },
  {
   "cell_type": "code",
   "execution_count": 13,
   "metadata": {},
   "outputs": [
    {
     "data": {
      "text/plain": [
       "21"
      ]
     },
     "execution_count": 13,
     "metadata": {},
     "output_type": "execute_result"
    }
   ],
   "source": [
    "import datetime\n",
    "text_file = open(\"error.log\", \"a\")\n",
    "text_file.write(\"\\n\"+datetime.datetime.now().strftime(\"%Y-%m-%d %H:%M:%S\")+\"\\n\") # write the time\n",
    "text_file.close()\n",
    "spoof_detect(a,df1).to_csv(\"error.log\",mode=\"a\",index=False)"
   ]
  },
  {
   "cell_type": "code",
   "execution_count": 15,
   "metadata": {},
   "outputs": [
    {
     "name": "stdout",
     "output_type": "stream",
     "text": [
      "/home/pi/Documents/details/good.log\n"
     ]
    }
   ],
   "source": [
    "def t(file):\n",
    "    print(\"/home/pi/Documents/details/\"+file+\".log\")\n",
    "t(\"good\")"
   ]
  },
  {
   "cell_type": "code",
   "execution_count": null,
   "metadata": {},
   "outputs": [],
   "source": []
  }
 ],
 "metadata": {
  "kernelspec": {
   "display_name": "Python 3",
   "language": "python",
   "name": "python3"
  },
  "language_info": {
   "codemirror_mode": {
    "name": "ipython",
    "version": 3
   },
   "file_extension": ".py",
   "mimetype": "text/x-python",
   "name": "python",
   "nbconvert_exporter": "python",
   "pygments_lexer": "ipython3",
   "version": "3.7.5"
  }
 },
 "nbformat": 4,
 "nbformat_minor": 2
}
