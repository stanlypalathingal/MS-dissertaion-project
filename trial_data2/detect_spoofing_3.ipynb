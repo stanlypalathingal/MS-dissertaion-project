{
 "cells": [
  {
   "cell_type": "code",
   "execution_count": 2,
   "metadata": {},
   "outputs": [
    {
     "data": {
      "application/javascript": [
       "IPython.notebook.set_autosave_interval(20000)"
      ]
     },
     "metadata": {},
     "output_type": "display_data"
    },
    {
     "name": "stdout",
     "output_type": "stream",
     "text": [
      "Autosaving every 20 seconds\n"
     ]
    }
   ],
   "source": [
    "%autosave 20\n",
    "import pandas as pd"
   ]
  },
  {
   "cell_type": "code",
   "execution_count": 117,
   "metadata": {},
   "outputs": [],
   "source": [
    "df=pd.read_csv(\"C:/Users/HP/OneDrive - Newcastle University/Dissertation/Data_sets/Sample dataset values1.csv\")\n",
    "# df1=pd.read_csv(\"C:/Users/HP/OneDrive - Newcastle University/Dissertation/Data_sets/test.csv\",delimiter=\",\",names=[\"Sensor\",\"Type\",\"Units\",\"time\",\"Flag\",\"Value\"])\n",
    "df1=pd.read_csv(\"C:/Users/HP/OneDrive - Newcastle University/Dissertation/Data_sets/test_fake2.csv\",delimiter=\",\",names=[\"Sensor\",\"Type\",\"Units\",\"time\",\"Flag\",\"Value\"])"
   ]
  },
  {
   "cell_type": "code",
   "execution_count": 4,
   "metadata": {},
   "outputs": [],
   "source": [
    "name_sensor=pd.read_csv(\"name_sensor.csv\", delimiter=\",\",names=[\"name\"])\n",
    "name_units=pd.read_csv(\"name_units.csv\", delimiter=\",\",names=[\"units\"]) \n",
    "name_type=pd.read_csv(\"name_types.csv\", delimiter=\",\",names=[\"types\"]) "
   ]
  },
  {
   "cell_type": "code",
   "execution_count": 16,
   "metadata": {},
   "outputs": [
    {
     "data": {
      "text/plain": [
       "'PER_EMOTE_1309'"
      ]
     },
     "execution_count": 16,
     "metadata": {},
     "output_type": "execute_result"
    }
   ],
   "source": [
    "sensors=df.Sensor.unique().tolist()\n",
    "sensors[1]"
   ]
  },
  {
   "cell_type": "code",
   "execution_count": 6,
   "metadata": {},
   "outputs": [],
   "source": [
    "def identify(obj,obj_list,table,data,write_to_file):\n",
    "\t#print(data[obj].unique()) \n",
    "\tif(write_to_file):\n",
    "\t\tdata_s=pd.DataFrame(data[obj].unique())\n",
    "\t\tnew_sensor = data_s[~data_s[0].isin(obj_list.id)]\n",
    "\t\tns=[]\n",
    "\t\tif(len(new_sensor)>0):\n",
    "\t\t\tl=len(obj_list)\n",
    "\t\t\tfor s in new_sensor[0]:\n",
    "\t\t\t\tn=[s,l]\n",
    "\t\t\t\tl=l+1\n",
    "\t\t\t\tns.append(n)\n",
    "\t\t\tns=pd.DataFrame(ns,columns=[\"id\",\"factor\"])\n",
    "\t\t\tns.to_csv(table,mode='a', header=False,index=False)\n",
    "\t\t\t\n",
    "\tobj_list=pd.read_csv(table,delimiter=\",\",names=[\"id\",\"factor\"])\n",
    "\tl=len(obj_list)\n",
    "\tfor i in range(0,l):\n",
    "\t\tif(len(data.loc[data[obj]==obj_list.id[i]])>0):\n",
    "\t\t\tdata.loc[data[obj]==obj_list.id[i],obj] =obj_list.factor[i]\n",
    "# \tprint(data[obj].unique())"
   ]
  },
  {
   "cell_type": "code",
   "execution_count": 34,
   "metadata": {},
   "outputs": [],
   "source": [
    "def identify(actual_combination,name_of_sensor):\n",
    "    for i in range(0,len(name_of_sensor)):\n",
    "        sensor=actual_combination.loc[actual_combination.Sensor==name_of_sensor[i]]\n",
    "        print(sensor)\n",
    "#         sensor.to_csv(\"sensor\"+str(i)+\".csv\",mode=\"a+\",header=False,index=False)\n",
    "        "
   ]
  },
  {
   "cell_type": "code",
   "execution_count": null,
   "metadata": {},
   "outputs": [],
   "source": [
    "def identify1(a,df1):\n",
    "    "
   ]
  },
  {
   "cell_type": "code",
   "execution_count": 35,
   "metadata": {},
   "outputs": [
    {
     "name": "stdout",
     "output_type": "stream",
     "text": [
      "                   Sensor         Type    Units\n",
      "11  PER_AIRMON_MESH301245     Humidity        %\n",
      "12  PER_AIRMON_MESH301245           NO   ugm -3\n",
      "13  PER_AIRMON_MESH301245          NO2   ugm -3\n",
      "14  PER_AIRMON_MESH301245           O3      ppb\n",
      "15  PER_AIRMON_MESH301245         PM 4   ugm -3\n",
      "16  PER_AIRMON_MESH301245          PM1   ugm -3\n",
      "17  PER_AIRMON_MESH301245         PM10   ugm -3\n",
      "18  PER_AIRMON_MESH301245        PM2.5   ugm -3\n",
      "19  PER_AIRMON_MESH301245     Pressure      hpa\n",
      "20  PER_AIRMON_MESH301245  Temperature  Celsius\n",
      "            Sensor         Type    Units\n",
      "21  PER_EMOTE_1309           CO   ugm -3\n",
      "22  PER_EMOTE_1309     Humidity        %\n",
      "23  PER_EMOTE_1309           NO   ugm -3\n",
      "24  PER_EMOTE_1309          NO2   ugm -3\n",
      "25  PER_EMOTE_1309        Sound       db\n",
      "26  PER_EMOTE_1309  Temperature  Celsius\n",
      "                    Sensor         Type    Units\n",
      "0   PER_AIRMON_MESH1911150           CO   ugm -3\n",
      "1   PER_AIRMON_MESH1911150     Humidity        %\n",
      "2   PER_AIRMON_MESH1911150           NO   ugm -3\n",
      "3   PER_AIRMON_MESH1911150          NO2   ugm -3\n",
      "4   PER_AIRMON_MESH1911150           O3      ppb\n",
      "5   PER_AIRMON_MESH1911150         PM 4   ugm -3\n",
      "6   PER_AIRMON_MESH1911150          PM1   ugm -3\n",
      "7   PER_AIRMON_MESH1911150         PM10   ugm -3\n",
      "8   PER_AIRMON_MESH1911150        PM2.5   ugm -3\n",
      "9   PER_AIRMON_MESH1911150     Pressure      hpa\n",
      "10  PER_AIRMON_MESH1911150  Temperature  Celsius\n"
     ]
    }
   ],
   "source": [
    "identify(a,sensors)"
   ]
  },
  {
   "cell_type": "code",
   "execution_count": 21,
   "metadata": {},
   "outputs": [
    {
     "data": {
      "text/html": [
       "<div>\n",
       "<style scoped>\n",
       "    .dataframe tbody tr th:only-of-type {\n",
       "        vertical-align: middle;\n",
       "    }\n",
       "\n",
       "    .dataframe tbody tr th {\n",
       "        vertical-align: top;\n",
       "    }\n",
       "\n",
       "    .dataframe thead th {\n",
       "        text-align: right;\n",
       "    }\n",
       "</style>\n",
       "<table border=\"1\" class=\"dataframe\">\n",
       "  <thead>\n",
       "    <tr style=\"text-align: right;\">\n",
       "      <th></th>\n",
       "      <th>Sensor</th>\n",
       "      <th>Type</th>\n",
       "      <th>Units</th>\n",
       "    </tr>\n",
       "  </thead>\n",
       "  <tbody>\n",
       "    <tr>\n",
       "      <th>21</th>\n",
       "      <td>PER_EMOTE_1309</td>\n",
       "      <td>CO</td>\n",
       "      <td>ugm -3</td>\n",
       "    </tr>\n",
       "    <tr>\n",
       "      <th>22</th>\n",
       "      <td>PER_EMOTE_1309</td>\n",
       "      <td>Humidity</td>\n",
       "      <td>%</td>\n",
       "    </tr>\n",
       "    <tr>\n",
       "      <th>23</th>\n",
       "      <td>PER_EMOTE_1309</td>\n",
       "      <td>NO</td>\n",
       "      <td>ugm -3</td>\n",
       "    </tr>\n",
       "    <tr>\n",
       "      <th>24</th>\n",
       "      <td>PER_EMOTE_1309</td>\n",
       "      <td>NO2</td>\n",
       "      <td>ugm -3</td>\n",
       "    </tr>\n",
       "    <tr>\n",
       "      <th>25</th>\n",
       "      <td>PER_EMOTE_1309</td>\n",
       "      <td>Sound</td>\n",
       "      <td>db</td>\n",
       "    </tr>\n",
       "    <tr>\n",
       "      <th>26</th>\n",
       "      <td>PER_EMOTE_1309</td>\n",
       "      <td>Temperature</td>\n",
       "      <td>Celsius</td>\n",
       "    </tr>\n",
       "  </tbody>\n",
       "</table>\n",
       "</div>"
      ],
      "text/plain": [
       "            Sensor         Type    Units\n",
       "21  PER_EMOTE_1309           CO   ugm -3\n",
       "22  PER_EMOTE_1309     Humidity        %\n",
       "23  PER_EMOTE_1309           NO   ugm -3\n",
       "24  PER_EMOTE_1309          NO2   ugm -3\n",
       "25  PER_EMOTE_1309        Sound       db\n",
       "26  PER_EMOTE_1309  Temperature  Celsius"
      ]
     },
     "execution_count": 21,
     "metadata": {},
     "output_type": "execute_result"
    }
   ],
   "source": [
    "a=df.groupby([\"Sensor\",\"Type\",\"Units\"])[\"Sensor\"].unique().to_frame(name=\"1\").reset_index().drop(\"1\",1)\n",
    "# a=a.drop(\"1\",1)\n",
    "a.loc[a.Sensor==sensors[1]]"
   ]
  },
  {
   "cell_type": "code",
   "execution_count": 118,
   "metadata": {},
   "outputs": [
    {
     "data": {
      "text/html": [
       "<div>\n",
       "<style scoped>\n",
       "    .dataframe tbody tr th:only-of-type {\n",
       "        vertical-align: middle;\n",
       "    }\n",
       "\n",
       "    .dataframe tbody tr th {\n",
       "        vertical-align: top;\n",
       "    }\n",
       "\n",
       "    .dataframe thead th {\n",
       "        text-align: right;\n",
       "    }\n",
       "</style>\n",
       "<table border=\"1\" class=\"dataframe\">\n",
       "  <thead>\n",
       "    <tr style=\"text-align: right;\">\n",
       "      <th></th>\n",
       "      <th>Sensor</th>\n",
       "      <th>Type</th>\n",
       "      <th>Units</th>\n",
       "    </tr>\n",
       "  </thead>\n",
       "  <tbody>\n",
       "    <tr>\n",
       "      <th>9</th>\n",
       "      <td>PER_EMOTE_1309</td>\n",
       "      <td>Humidity</td>\n",
       "      <td>%</td>\n",
       "    </tr>\n",
       "    <tr>\n",
       "      <th>10</th>\n",
       "      <td>PER_EMOTE_1309</td>\n",
       "      <td>NO</td>\n",
       "      <td>ugm -3</td>\n",
       "    </tr>\n",
       "    <tr>\n",
       "      <th>11</th>\n",
       "      <td>PER_EMOTE_1309</td>\n",
       "      <td>NO2</td>\n",
       "      <td>ugm -3</td>\n",
       "    </tr>\n",
       "    <tr>\n",
       "      <th>12</th>\n",
       "      <td>PER_EMOTE_1309</td>\n",
       "      <td>Sound</td>\n",
       "      <td>db</td>\n",
       "    </tr>\n",
       "  </tbody>\n",
       "</table>\n",
       "</div>"
      ],
      "text/plain": [
       "            Sensor      Type   Units\n",
       "9   PER_EMOTE_1309  Humidity       %\n",
       "10  PER_EMOTE_1309        NO  ugm -3\n",
       "11  PER_EMOTE_1309       NO2  ugm -3\n",
       "12  PER_EMOTE_1309     Sound      db"
      ]
     },
     "execution_count": 118,
     "metadata": {},
     "output_type": "execute_result"
    }
   ],
   "source": [
    "b=df1.groupby([\"Sensor\",\"Type\",\"Units\"])[\"Sensor\"].unique().to_frame(name=\"1\").reset_index().drop(\"1\",1)\n",
    "# a=a.drop(\"1\",1)\n",
    "b.loc[b.Sensor==sensors[1]]"
   ]
  },
  {
   "cell_type": "code",
   "execution_count": 40,
   "metadata": {},
   "outputs": [
    {
     "data": {
      "text/plain": [
       "'PER_AIRMON_MESH1911150'"
      ]
     },
     "execution_count": 40,
     "metadata": {},
     "output_type": "execute_result"
    }
   ],
   "source": [
    "b.Sensor[1]"
   ]
  },
  {
   "cell_type": "code",
   "execution_count": 48,
   "metadata": {},
   "outputs": [
    {
     "data": {
      "text/plain": [
       "['PER_AIRMON_MESH1911150', 'PER_AIRMON_MESH301245', 'PER_EMOTE_1309']"
      ]
     },
     "execution_count": 48,
     "metadata": {},
     "output_type": "execute_result"
    },
    {
     "data": {
      "text/plain": [
       "3"
      ]
     },
     "execution_count": 48,
     "metadata": {},
     "output_type": "execute_result"
    },
    {
     "data": {
      "text/plain": [
       "['PER_AIRMON_MESH1911150', 'PER_AIRMON_MESH301245', 'PER_EMOTE_1309']"
      ]
     },
     "execution_count": 48,
     "metadata": {},
     "output_type": "execute_result"
    }
   ],
   "source": [
    "a.Sensor.unique().tolist()\n",
    "len(a.Sensor.unique())\n",
    "b.Sensor.unique().tolist()"
   ]
  },
  {
   "cell_type": "code",
   "execution_count": 54,
   "metadata": {},
   "outputs": [
    {
     "name": "stdout",
     "output_type": "stream",
     "text": [
      "PER_AIRMON_MESH1911150 PER_AIRMON_MESH1911150\n",
      "PER_AIRMON_MESH1911150 PER_AIRMON_MESH301245\n",
      "PER_AIRMON_MESH1911150 PER_EMOTE_1309\n",
      "PER_AIRMON_MESH301245 PER_AIRMON_MESH1911150\n",
      "PER_AIRMON_MESH301245 PER_AIRMON_MESH301245\n",
      "PER_AIRMON_MESH301245 PER_EMOTE_1309\n",
      "PER_EMOTE_1309 PER_AIRMON_MESH1911150\n",
      "PER_EMOTE_1309 PER_AIRMON_MESH301245\n",
      "PER_EMOTE_1309 PER_EMOTE_1309\n"
     ]
    }
   ],
   "source": [
    "c=a.Sensor.unique().tolist()\n",
    "d=b.Sensor.unique().tolist()\n",
    "for i in range(0,len(c)):\n",
    "    for j in range(0,len(d)):\n",
    "        if(c[i]==d[j]):\n",
    "            print(c[i],d[j])\n",
    "        else:\n",
    "            print(c[i],d[j])"
   ]
  },
  {
   "cell_type": "code",
   "execution_count": 55,
   "metadata": {},
   "outputs": [
    {
     "ename": "ValueError",
     "evalue": "The truth value of a Series is ambiguous. Use a.empty, a.bool(), a.item(), a.any() or a.all().",
     "output_type": "error",
     "traceback": [
      "\u001b[1;31m---------------------------------------------------------------------------\u001b[0m",
      "\u001b[1;31mValueError\u001b[0m                                Traceback (most recent call last)",
      "\u001b[1;32m<ipython-input-55-feffc4c70cb7>\u001b[0m in \u001b[0;36m<module>\u001b[1;34m\u001b[0m\n\u001b[1;32m----> 1\u001b[1;33m \u001b[1;32mif\u001b[0m\u001b[1;33m(\u001b[0m\u001b[0ma\u001b[0m\u001b[1;33m.\u001b[0m\u001b[0mSensor\u001b[0m\u001b[1;33m==\u001b[0m\u001b[0mb\u001b[0m\u001b[1;33m.\u001b[0m\u001b[0mSensor\u001b[0m\u001b[1;33m)\u001b[0m\u001b[1;33m:\u001b[0m\u001b[1;33m\u001b[0m\u001b[1;33m\u001b[0m\u001b[0m\n\u001b[0m\u001b[0;32m      2\u001b[0m     \u001b[1;32mpass\u001b[0m\u001b[1;33m\u001b[0m\u001b[1;33m\u001b[0m\u001b[0m\n",
      "\u001b[1;32m~\\Anaconda3\\envs\\Machine_Learning\\lib\\site-packages\\pandas\\core\\generic.py\u001b[0m in \u001b[0;36m__nonzero__\u001b[1;34m(self)\u001b[0m\n\u001b[0;32m   1553\u001b[0m             \u001b[1;34m\"The truth value of a {0} is ambiguous. \"\u001b[0m\u001b[1;33m\u001b[0m\u001b[1;33m\u001b[0m\u001b[0m\n\u001b[0;32m   1554\u001b[0m             \"Use a.empty, a.bool(), a.item(), a.any() or a.all().\".format(\n\u001b[1;32m-> 1555\u001b[1;33m                 \u001b[0mself\u001b[0m\u001b[1;33m.\u001b[0m\u001b[0m__class__\u001b[0m\u001b[1;33m.\u001b[0m\u001b[0m__name__\u001b[0m\u001b[1;33m\u001b[0m\u001b[1;33m\u001b[0m\u001b[0m\n\u001b[0m\u001b[0;32m   1556\u001b[0m             )\n\u001b[0;32m   1557\u001b[0m         )\n",
      "\u001b[1;31mValueError\u001b[0m: The truth value of a Series is ambiguous. Use a.empty, a.bool(), a.item(), a.any() or a.all()."
     ]
    }
   ],
   "source": [
    "if(a.Sensor==b.Sensor):\n",
    "    pass"
   ]
  },
  {
   "cell_type": "code",
   "execution_count": 127,
   "metadata": {},
   "outputs": [],
   "source": [
    "def spoof_detect(a,b):\n",
    "#     b=df1.groupby([\"Sensor\",\"Type\",\"Units\"])[\"Sensor\"].unique().to_frame(name=\"1\").reset_index()\n",
    "#     b=b.drop(\"1\",1)\n",
    "    c=b.merge(a,how=\"inner\")\n",
    "#     print(c)\n",
    "    fake=pd.concat([c,b])\n",
    "    return fake.drop_duplicates(keep=False).reset_index().drop(\"index\",1)"
   ]
  },
  {
   "cell_type": "code",
   "execution_count": 128,
   "metadata": {},
   "outputs": [
    {
     "data": {
      "text/html": [
       "<div>\n",
       "<style scoped>\n",
       "    .dataframe tbody tr th:only-of-type {\n",
       "        vertical-align: middle;\n",
       "    }\n",
       "\n",
       "    .dataframe tbody tr th {\n",
       "        vertical-align: top;\n",
       "    }\n",
       "\n",
       "    .dataframe thead th {\n",
       "        text-align: right;\n",
       "    }\n",
       "</style>\n",
       "<table border=\"1\" class=\"dataframe\">\n",
       "  <thead>\n",
       "    <tr style=\"text-align: right;\">\n",
       "      <th></th>\n",
       "      <th>Sensor</th>\n",
       "    </tr>\n",
       "  </thead>\n",
       "  <tbody>\n",
       "    <tr>\n",
       "      <th>0</th>\n",
       "      <td>PER_A2IRMON_MESH41911150</td>\n",
       "    </tr>\n",
       "    <tr>\n",
       "      <th>1</th>\n",
       "      <td>PER_AIRMON_MESH119111250</td>\n",
       "    </tr>\n",
       "    <tr>\n",
       "      <th>2</th>\n",
       "      <td>PER_AIRMON_MESH191l1150</td>\n",
       "    </tr>\n",
       "    <tr>\n",
       "      <th>3</th>\n",
       "      <td>PER_AIRMON_MESHh1911150</td>\n",
       "    </tr>\n",
       "    <tr>\n",
       "      <th>4</th>\n",
       "      <td>abcd</td>\n",
       "    </tr>\n",
       "  </tbody>\n",
       "</table>\n",
       "</div>"
      ],
      "text/plain": [
       "                     Sensor\n",
       "0  PER_A2IRMON_MESH41911150\n",
       "1  PER_AIRMON_MESH119111250\n",
       "2   PER_AIRMON_MESH191l1150\n",
       "3   PER_AIRMON_MESHh1911150\n",
       "4                      abcd"
      ]
     },
     "execution_count": 128,
     "metadata": {},
     "output_type": "execute_result"
    }
   ],
   "source": [
    "a=df.groupby([\"Sensor\",\"Type\",\"Units\"])[\"Sensor\"].unique().to_frame(name=\"1\").reset_index().drop(\"1\",1)\n",
    "# a\n",
    "b=df1.groupby([\"Sensor\",\"Type\",\"Units\"])[\"Sensor\"].unique().to_frame(name=\"1\").reset_index().drop(\"1\",1)\n",
    "# b\n",
    "spoof_detect(a[[\"Sensor\"]],b[[\"Sensor\"]])"
   ]
  },
  {
   "cell_type": "code",
   "execution_count": 129,
   "metadata": {},
   "outputs": [
    {
     "data": {
      "text/html": [
       "<div>\n",
       "<style scoped>\n",
       "    .dataframe tbody tr th:only-of-type {\n",
       "        vertical-align: middle;\n",
       "    }\n",
       "\n",
       "    .dataframe tbody tr th {\n",
       "        vertical-align: top;\n",
       "    }\n",
       "\n",
       "    .dataframe thead th {\n",
       "        text-align: right;\n",
       "    }\n",
       "</style>\n",
       "<table border=\"1\" class=\"dataframe\">\n",
       "  <thead>\n",
       "    <tr style=\"text-align: right;\">\n",
       "      <th></th>\n",
       "      <th>Sensor</th>\n",
       "      <th>Type</th>\n",
       "    </tr>\n",
       "  </thead>\n",
       "  <tbody>\n",
       "    <tr>\n",
       "      <th>0</th>\n",
       "      <td>PER_A2IRMON_MESH41911150</td>\n",
       "      <td>NO2</td>\n",
       "    </tr>\n",
       "    <tr>\n",
       "      <th>1</th>\n",
       "      <td>PER_AIRMON_MESH119111250</td>\n",
       "      <td>NO2</td>\n",
       "    </tr>\n",
       "    <tr>\n",
       "      <th>2</th>\n",
       "      <td>PER_AIRMON_MESH1911150</td>\n",
       "      <td>NO1</td>\n",
       "    </tr>\n",
       "    <tr>\n",
       "      <th>3</th>\n",
       "      <td>PER_AIRMON_MESH191l1150</td>\n",
       "      <td>NO2</td>\n",
       "    </tr>\n",
       "    <tr>\n",
       "      <th>4</th>\n",
       "      <td>PER_AIRMON_MESHh1911150</td>\n",
       "      <td>NO2</td>\n",
       "    </tr>\n",
       "    <tr>\n",
       "      <th>5</th>\n",
       "      <td>abcd</td>\n",
       "      <td>NOfsdg2</td>\n",
       "    </tr>\n",
       "  </tbody>\n",
       "</table>\n",
       "</div>"
      ],
      "text/plain": [
       "                     Sensor     Type\n",
       "0  PER_A2IRMON_MESH41911150      NO2\n",
       "1  PER_AIRMON_MESH119111250      NO2\n",
       "2    PER_AIRMON_MESH1911150      NO1\n",
       "3   PER_AIRMON_MESH191l1150      NO2\n",
       "4   PER_AIRMON_MESHh1911150      NO2\n",
       "5                      abcd  NOfsdg2"
      ]
     },
     "execution_count": 129,
     "metadata": {},
     "output_type": "execute_result"
    }
   ],
   "source": [
    "spoof_detect(a[[\"Sensor\",\"Type\"]],b[[\"Sensor\",\"Type\"]])"
   ]
  },
  {
   "cell_type": "code",
   "execution_count": 147,
   "metadata": {},
   "outputs": [],
   "source": [
    "df1=pd.read_csv(\"C:/Users/HP/OneDrive - Newcastle University/Dissertation/Data_sets/test_fake_units.csv\",delimiter=\",\",names=[\"Sensor\",\"Type\",\"Units\",\"time\",\"Flag\",\"Value\"])\n",
    " "
   ]
  },
  {
   "cell_type": "code",
   "execution_count": 148,
   "metadata": {},
   "outputs": [
    {
     "name": "stdout",
     "output_type": "stream",
     "text": [
      "The sensors are all authentic\n",
      "The categories are all authentic\n",
      "there are fake units\n",
      "publish abort\n"
     ]
    }
   ],
   "source": [
    "# len(spoof_detect(a[[\"Sensor\"]],b[[\"Sensor\"]]))\n",
    "if(len(spoof_detect(a[[\"Sensor\"]],b[[\"Sensor\"]]))==0):\n",
    "    print(\"The sensors are all authentic\")\n",
    "    if(len(spoof_detect(a[[\"Sensor\",\"Type\"]],b[[\"Sensor\",\"Type\"]]))==0):\n",
    "        print(\"The categories are all authentic\")\n",
    "        if(len(spoof_detect(a[[\"Sensor\",\"Type\",\"Units\"]],b[[\"Sensor\",\"Type\",\"Units\"]]))==0):\n",
    "            print(\"The units are all authentic\")\n",
    "        else:\n",
    "            print(\"there are fake units\")\n",
    "            print(\"publish abort\")\n",
    "    else:\n",
    "        print(\"there are fake categories\")\n",
    "        print(\"publish abort\")\n",
    "else:\n",
    "    print(\"there are fake sensors\")\n",
    "    print(\"publish abort\")"
   ]
  },
  {
   "cell_type": "code",
   "execution_count": 149,
   "metadata": {},
   "outputs": [
    {
     "data": {
      "text/html": [
       "<div>\n",
       "<style scoped>\n",
       "    .dataframe tbody tr th:only-of-type {\n",
       "        vertical-align: middle;\n",
       "    }\n",
       "\n",
       "    .dataframe tbody tr th {\n",
       "        vertical-align: top;\n",
       "    }\n",
       "\n",
       "    .dataframe thead th {\n",
       "        text-align: right;\n",
       "    }\n",
       "</style>\n",
       "<table border=\"1\" class=\"dataframe\">\n",
       "  <thead>\n",
       "    <tr style=\"text-align: right;\">\n",
       "      <th></th>\n",
       "      <th>Sensor</th>\n",
       "      <th>Type</th>\n",
       "      <th>Units</th>\n",
       "    </tr>\n",
       "  </thead>\n",
       "  <tbody>\n",
       "    <tr>\n",
       "      <th>0</th>\n",
       "      <td>PER_AIRMON_MESH301245</td>\n",
       "      <td>PM1</td>\n",
       "      <td>ugm-3</td>\n",
       "    </tr>\n",
       "    <tr>\n",
       "      <th>1</th>\n",
       "      <td>PER_EMOTE_1309</td>\n",
       "      <td>Humidity</td>\n",
       "      <td>ugm -3</td>\n",
       "    </tr>\n",
       "    <tr>\n",
       "      <th>2</th>\n",
       "      <td>PER_EMOTE_1309</td>\n",
       "      <td>Sound</td>\n",
       "      <td>%</td>\n",
       "    </tr>\n",
       "  </tbody>\n",
       "</table>\n",
       "</div>"
      ],
      "text/plain": [
       "                  Sensor      Type   Units\n",
       "0  PER_AIRMON_MESH301245       PM1   ugm-3\n",
       "1         PER_EMOTE_1309  Humidity  ugm -3\n",
       "2         PER_EMOTE_1309     Sound       %"
      ]
     },
     "execution_count": 149,
     "metadata": {},
     "output_type": "execute_result"
    }
   ],
   "source": [
    "spoof_detect(a,b)"
   ]
  },
  {
   "cell_type": "code",
   "execution_count": null,
   "metadata": {},
   "outputs": [],
   "source": []
  }
 ],
 "metadata": {
  "kernelspec": {
   "display_name": "Python 3",
   "language": "python",
   "name": "python3"
  },
  "language_info": {
   "codemirror_mode": {
    "name": "ipython",
    "version": 3
   },
   "file_extension": ".py",
   "mimetype": "text/x-python",
   "name": "python",
   "nbconvert_exporter": "python",
   "pygments_lexer": "ipython3",
   "version": "3.7.5"
  }
 },
 "nbformat": 4,
 "nbformat_minor": 2
}
