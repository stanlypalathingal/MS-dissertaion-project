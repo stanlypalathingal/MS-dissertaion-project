{
 "cells": [
  {
   "cell_type": "code",
   "execution_count": 1,
   "metadata": {},
   "outputs": [
    {
     "data": {
      "application/javascript": [
       "IPython.notebook.set_autosave_interval(20000)"
      ]
     },
     "metadata": {},
     "output_type": "display_data"
    },
    {
     "name": "stdout",
     "output_type": "stream",
     "text": [
      "Autosaving every 20 seconds\n"
     ]
    }
   ],
   "source": [
    "%autosave 20\n",
    "import math \n",
    "import pandas as pd\n",
    "\n",
    "#import numpy as np\n",
    "# import matplotlib.pyplot as plt\n",
    "\n",
    "# from matplotlib.colors import ListedColormap\n",
    "# from sklearn.utils import shuffle\n",
    "\n",
    "from sklearn.tree import DecisionTreeClassifier\n",
    "\n",
    "from sklearn.metrics import accuracy_score\n",
    "from sklearn.metrics import confusion_matrix"
   ]
  },
  {
   "cell_type": "code",
   "execution_count": 2,
   "metadata": {},
   "outputs": [
    {
     "data": {
      "text/html": [
       "<div>\n",
       "<style scoped>\n",
       "    .dataframe tbody tr th:only-of-type {\n",
       "        vertical-align: middle;\n",
       "    }\n",
       "\n",
       "    .dataframe tbody tr th {\n",
       "        vertical-align: top;\n",
       "    }\n",
       "\n",
       "    .dataframe thead th {\n",
       "        text-align: right;\n",
       "    }\n",
       "</style>\n",
       "<table border=\"1\" class=\"dataframe\">\n",
       "  <thead>\n",
       "    <tr style=\"text-align: right;\">\n",
       "      <th></th>\n",
       "      <th>packet_no</th>\n",
       "      <th>Sensor</th>\n",
       "      <th>Type</th>\n",
       "      <th>Units</th>\n",
       "      <th>time</th>\n",
       "      <th>Flag</th>\n",
       "      <th>Value</th>\n",
       "      <th>Key</th>\n",
       "    </tr>\n",
       "  </thead>\n",
       "  <tbody>\n",
       "    <tr>\n",
       "      <th>0</th>\n",
       "      <td>9</td>\n",
       "      <td>PER_EMOTE_1309</td>\n",
       "      <td>Humidity</td>\n",
       "      <td>%</td>\n",
       "      <td>2020-05-10 18:04:05</td>\n",
       "      <td>False</td>\n",
       "      <td>45.40</td>\n",
       "      <td>A#1^7SYT!^&amp;_098765+0JHFD</td>\n",
       "    </tr>\n",
       "    <tr>\n",
       "      <th>1</th>\n",
       "      <td>9</td>\n",
       "      <td>PER_EMOTE_1309</td>\n",
       "      <td>Temperature</td>\n",
       "      <td>Celsius</td>\n",
       "      <td>2020-05-10 18:30:05</td>\n",
       "      <td>False</td>\n",
       "      <td>8.70</td>\n",
       "      <td>A#1^7SYT!^&amp;_098765+0JHFD</td>\n",
       "    </tr>\n",
       "    <tr>\n",
       "      <th>2</th>\n",
       "      <td>7</td>\n",
       "      <td>PER_AIRMON_MESH1911150</td>\n",
       "      <td>PM 4</td>\n",
       "      <td>ugm -3</td>\n",
       "      <td>2020-05-10 12:02:00</td>\n",
       "      <td>False</td>\n",
       "      <td>1.48</td>\n",
       "      <td>A#1^7SYT!^&amp;_098765+0JHFD</td>\n",
       "    </tr>\n",
       "  </tbody>\n",
       "</table>\n",
       "</div>"
      ],
      "text/plain": [
       "   packet_no                  Sensor         Type    Units  \\\n",
       "0          9          PER_EMOTE_1309     Humidity        %   \n",
       "1          9          PER_EMOTE_1309  Temperature  Celsius   \n",
       "2          7  PER_AIRMON_MESH1911150         PM 4   ugm -3   \n",
       "\n",
       "                  time   Flag  Value                       Key  \n",
       "0  2020-05-10 18:04:05  False  45.40  A#1^7SYT!^&_098765+0JHFD  \n",
       "1  2020-05-10 18:30:05  False   8.70  A#1^7SYT!^&_098765+0JHFD  \n",
       "2  2020-05-10 12:02:00  False   1.48  A#1^7SYT!^&_098765+0JHFD  "
      ]
     },
     "execution_count": 2,
     "metadata": {},
     "output_type": "execute_result"
    },
    {
     "data": {
      "text/plain": [
       "(192276, 8)"
      ]
     },
     "execution_count": 2,
     "metadata": {},
     "output_type": "execute_result"
    },
    {
     "name": "stdout",
     "output_type": "stream",
     "text": [
      "total rows\n",
      "144207\n"
     ]
    }
   ],
   "source": [
    "list_sensor=pd.read_csv(\"list_sensor1.csv\", delimiter=\",\",names=[\"id\",\"factor\"])\n",
    "list_units=pd.read_csv(\"list_units1.csv\", delimiter=\",\",names=[\"id\",\"factor\"]) \n",
    "list_type=pd.read_csv(\"list_types1.csv\", delimiter=\",\",names=[\"id\",\"factor\"]) \n",
    "# df=pd.read_csv(\"Sample dataset values1.csv\",delimiter=\",\", \n",
    "#                     names=[\"packet_no\",\"Sensor\",\"Type\",\"Units\",\"time\",\"Flag\",\"Value\",\"Key\"])\n",
    "# df = shuffle(df)\n",
    "# df.to_csv(\"Sample dataset values1.csv\",mode=\"w\",index=False)\n",
    "df=pd.read_csv(\"Sample dataset values1.csv\")\n",
    "df.head(3)\n",
    "df.shape\n",
    "total_row=df.shape[0]\n",
    "trial_row=int(total_row-(total_row*0.25))\n",
    "print(\"total rows\")\n",
    "print(trial_row)"
   ]
  },
  {
   "cell_type": "code",
   "execution_count": 3,
   "metadata": {},
   "outputs": [],
   "source": [
    "def factorize(obj,obj_list,table,data):\n",
    "#     print(data[obj].unique())\n",
    "    data_s=pd.DataFrame(data[obj].unique())\n",
    "    \n",
    "    new_sensor = data_s[~data_s[0].isin(obj_list.id)]\n",
    "    ns=[]\n",
    "    if(len(new_sensor)>0):\n",
    "        l=len(obj_list)\n",
    "        for s in new_sensor[0]:\n",
    "            n=[s,l]\n",
    "            l=l+1\n",
    "            ns.append(n)\n",
    "        ns=pd.DataFrame(ns,columns=[\"id\",\"factor\"])\n",
    "        ns.to_csv(table,mode='a', header=False,index=False)\n",
    "\n",
    "    obj_list=pd.read_csv(table,delimiter=\",\",names=[\"id\",\"factor\"])\n",
    "    l=len(obj_list)\n",
    "    for i in range(0,l):\n",
    "        data.loc[data[obj]==obj_list.id[i],obj]=obj_list.factor[i]\n",
    "#     print(data[obj].unique())"
   ]
  },
  {
   "cell_type": "code",
   "execution_count": 4,
   "metadata": {},
   "outputs": [],
   "source": [
    "factorize('Sensor',list_sensor,'list_sensor1.csv',df)"
   ]
  },
  {
   "cell_type": "code",
   "execution_count": 5,
   "metadata": {},
   "outputs": [],
   "source": [
    "factorize('Type',list_type,'list_types1.csv',df)"
   ]
  },
  {
   "cell_type": "code",
   "execution_count": 6,
   "metadata": {},
   "outputs": [],
   "source": [
    "factorize('Units',list_units,'list_units1.csv',df)"
   ]
  },
  {
   "cell_type": "code",
   "execution_count": 7,
   "metadata": {},
   "outputs": [],
   "source": [
    "df.loc[df['Flag']==False,'Flag']=0\n",
    "df.loc[df['Flag']==True,'Flag']=1"
   ]
  },
  {
   "cell_type": "code",
   "execution_count": 8,
   "metadata": {},
   "outputs": [
    {
     "data": {
      "text/plain": [
       "(144207, 8)"
      ]
     },
     "execution_count": 8,
     "metadata": {},
     "output_type": "execute_result"
    },
    {
     "data": {
      "text/plain": [
       "(48068, 8)"
      ]
     },
     "execution_count": 8,
     "metadata": {},
     "output_type": "execute_result"
    }
   ],
   "source": [
    "x=['Sensor', 'Type', 'Units','Value']\n",
    "y=['Flag']\n",
    "train=df.loc[1:trial_row,]\n",
    "test=df.loc[trial_row+1:total_row,]\n",
    "train.shape\n",
    "test.shape"
   ]
  },
  {
   "cell_type": "code",
   "execution_count": 9,
   "metadata": {},
   "outputs": [
    {
     "name": "stdout",
     "output_type": "stream",
     "text": [
      "0    141171\n",
      "1      3036\n",
      "Name: Flag, dtype: int64\n",
      "0    48014\n",
      "1       54\n",
      "Name: Flag, dtype: int64\n"
     ]
    }
   ],
   "source": [
    "print(train['Flag'].value_counts())\n",
    "print(test['Flag'].value_counts())"
   ]
  },
  {
   "cell_type": "code",
   "execution_count": 10,
   "metadata": {},
   "outputs": [],
   "source": [
    "x_train,y_train,x_test,y_test = train[x],train[y],test[x],test[y]"
   ]
  },
  {
   "cell_type": "code",
   "execution_count": 11,
   "metadata": {},
   "outputs": [
    {
     "data": {
      "text/plain": [
       "0    141171\n",
       "1      3036\n",
       "Name: Flag, dtype: int64"
      ]
     },
     "execution_count": 11,
     "metadata": {},
     "output_type": "execute_result"
    },
    {
     "data": {
      "text/plain": [
       "0    48014\n",
       "1       54\n",
       "Name: Flag, dtype: int64"
      ]
     },
     "execution_count": 11,
     "metadata": {},
     "output_type": "execute_result"
    }
   ],
   "source": [
    "train['Flag'].value_counts()\n",
    "test['Flag'].value_counts()"
   ]
  },
  {
   "cell_type": "code",
   "execution_count": 12,
   "metadata": {},
   "outputs": [],
   "source": [
    "#confusion Matrix\n",
    "def ConfusionMatrix(x,y):\n",
    "    a = confusion_matrix(x,y)\n",
    "    print(a)\n",
    "    b = (a[0][0]+a[1][1])/(a[1][1]+a[0][1]+a[0][0]+a[1][0])\n",
    "    return round(b*100,2)"
   ]
  },
  {
   "cell_type": "code",
   "execution_count": 13,
   "metadata": {},
   "outputs": [
    {
     "name": "stdout",
     "output_type": "stream",
     "text": [
      "0.9998751768328201\n",
      "[[48008     0]\n",
      " [    6    54]]\n",
      "99.99\n"
     ]
    }
   ],
   "source": [
    "#Decision Tree\n",
    "decision = DecisionTreeClassifier(max_depth=5).fit(x_train, y_train)\n",
    "decision_yhat = decision.predict(x_test)\n",
    "\n",
    "# type(decision_yhat)\n",
    "# print(\"zeros\",(decision_yhat == 0).sum())\n",
    "# print(\"ones\",(decision_yhat == 1).sum())\n",
    "\n",
    "print(decision.score(x_test,y_test))\n",
    "\n",
    "decision_acc= ConfusionMatrix(decision_yhat,y_test)\n",
    "print(decision_acc)\n",
    "\n",
    "\n"
   ]
  },
  {
   "cell_type": "code",
   "execution_count": null,
   "metadata": {},
   "outputs": [],
   "source": []
  }
 ],
 "metadata": {
  "kernelspec": {
   "display_name": "Python 3",
   "language": "python",
   "name": "python3"
  },
  "language_info": {
   "codemirror_mode": {
    "name": "ipython",
    "version": 3
   },
   "file_extension": ".py",
   "mimetype": "text/x-python",
   "name": "python",
   "nbconvert_exporter": "python",
   "pygments_lexer": "ipython3",
   "version": "3.7.5"
  }
 },
 "nbformat": 4,
 "nbformat_minor": 2
}
