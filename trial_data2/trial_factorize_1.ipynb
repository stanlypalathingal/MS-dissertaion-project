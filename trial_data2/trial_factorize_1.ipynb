{
 "cells": [
  {
   "cell_type": "code",
   "execution_count": 1,
   "metadata": {},
   "outputs": [
    {
     "data": {
      "application/javascript": [
       "IPython.notebook.set_autosave_interval(20000)"
      ]
     },
     "metadata": {},
     "output_type": "display_data"
    },
    {
     "name": "stdout",
     "output_type": "stream",
     "text": [
      "Autosaving every 20 seconds\n"
     ]
    }
   ],
   "source": [
    "%autosave 20\n",
    "import math \n",
    "import pandas as pd\n",
    "\n",
    "import numpy as np\n",
    "# import matplotlib.pyplot as plt\n",
    "\n",
    "# from matplotlib.colors import ListedColormap\n",
    "# from sklearn.utils import shuffle\n",
    "from sklearn import tree\n",
    "\n",
    "from sklearn.tree import DecisionTreeClassifier\n",
    "\n",
    "from sklearn.metrics import accuracy_score\n",
    "from sklearn.metrics import confusion_matrix"
   ]
  },
  {
   "cell_type": "code",
   "execution_count": 2,
   "metadata": {},
   "outputs": [
    {
     "data": {
      "text/html": [
       "<div>\n",
       "<style scoped>\n",
       "    .dataframe tbody tr th:only-of-type {\n",
       "        vertical-align: middle;\n",
       "    }\n",
       "\n",
       "    .dataframe tbody tr th {\n",
       "        vertical-align: top;\n",
       "    }\n",
       "\n",
       "    .dataframe thead th {\n",
       "        text-align: right;\n",
       "    }\n",
       "</style>\n",
       "<table border=\"1\" class=\"dataframe\">\n",
       "  <thead>\n",
       "    <tr style=\"text-align: right;\">\n",
       "      <th></th>\n",
       "      <th>Sensor</th>\n",
       "      <th>Type</th>\n",
       "      <th>Units</th>\n",
       "      <th>time</th>\n",
       "      <th>Flag</th>\n",
       "      <th>Value</th>\n",
       "    </tr>\n",
       "  </thead>\n",
       "  <tbody>\n",
       "    <tr>\n",
       "      <th>0</th>\n",
       "      <td>PER_AIRMON_MESH301245</td>\n",
       "      <td>PM2.5</td>\n",
       "      <td>ugm -3</td>\n",
       "      <td>13/05/2020 11:27</td>\n",
       "      <td>0.0</td>\n",
       "      <td>3.140000</td>\n",
       "    </tr>\n",
       "    <tr>\n",
       "      <th>1</th>\n",
       "      <td>PER_AIRMON_MESH301245</td>\n",
       "      <td>PM10</td>\n",
       "      <td>ugm -3</td>\n",
       "      <td>16/05/2020 15:42</td>\n",
       "      <td>0.0</td>\n",
       "      <td>8.500000</td>\n",
       "    </tr>\n",
       "    <tr>\n",
       "      <th>2</th>\n",
       "      <td>PER_EMOTE_1309</td>\n",
       "      <td>Sound</td>\n",
       "      <td>db</td>\n",
       "      <td>12/05/2020 14:57</td>\n",
       "      <td>0.0</td>\n",
       "      <td>66.000000</td>\n",
       "    </tr>\n",
       "    <tr>\n",
       "      <th>3</th>\n",
       "      <td>PER_EMOTE_1309</td>\n",
       "      <td>CO</td>\n",
       "      <td>ugm -3</td>\n",
       "      <td>2020-05-19 00:53:20</td>\n",
       "      <td>0.0</td>\n",
       "      <td>376.326817</td>\n",
       "    </tr>\n",
       "    <tr>\n",
       "      <th>4</th>\n",
       "      <td>PER_AIRMON_MESH301245</td>\n",
       "      <td>PM1</td>\n",
       "      <td>ugm -3</td>\n",
       "      <td>16/05/2020 17:12</td>\n",
       "      <td>0.0</td>\n",
       "      <td>1.290000</td>\n",
       "    </tr>\n",
       "  </tbody>\n",
       "</table>\n",
       "</div>"
      ],
      "text/plain": [
       "                  Sensor   Type   Units                 time  Flag       Value\n",
       "0  PER_AIRMON_MESH301245  PM2.5  ugm -3     13/05/2020 11:27   0.0    3.140000\n",
       "1  PER_AIRMON_MESH301245   PM10  ugm -3     16/05/2020 15:42   0.0    8.500000\n",
       "2         PER_EMOTE_1309  Sound      db     12/05/2020 14:57   0.0   66.000000\n",
       "3         PER_EMOTE_1309     CO  ugm -3  2020-05-19 00:53:20   0.0  376.326817\n",
       "4  PER_AIRMON_MESH301245    PM1  ugm -3     16/05/2020 17:12   0.0    1.290000"
      ]
     },
     "execution_count": 2,
     "metadata": {},
     "output_type": "execute_result"
    },
    {
     "data": {
      "text/plain": [
       "(206563, 6)"
      ]
     },
     "execution_count": 2,
     "metadata": {},
     "output_type": "execute_result"
    },
    {
     "name": "stdout",
     "output_type": "stream",
     "text": [
      "total rows\n",
      "154922\n"
     ]
    }
   ],
   "source": [
    "list_sensor=pd.read_csv(\"list_sensor1.csv\", delimiter=\",\",names=[\"id\",\"factor\"])\n",
    "list_units=pd.read_csv(\"list_units1.csv\", delimiter=\",\",names=[\"id\",\"factor\"]) \n",
    "list_type=pd.read_csv(\"list_types1.csv\", delimiter=\",\",names=[\"id\",\"factor\"]) \n",
    "# df=pd.read_csv(\"Sample dataset values1.csv\",delimiter=\",\", \n",
    "#                     names=[\"packet_no\",\"Sensor\",\"Type\",\"Units\",\"time\",\"Flag\",\"Value\",\"Key\"])\n",
    "# df = shuffle(df)\n",
    "# df.to_csv(\"Sample dataset values1.csv\",mode=\"w\",index=False)\n",
    "df=pd.read_csv(\"Sample dataset values1.csv\")\n",
    "df.head(5)\n",
    "df.shape\n",
    "total_row=df.shape[0]\n",
    "trial_row=int(total_row-(total_row*0.25))\n",
    "print(\"total rows\")\n",
    "print(trial_row)"
   ]
  },
  {
   "cell_type": "code",
   "execution_count": 3,
   "metadata": {},
   "outputs": [],
   "source": [
    "def factorize(obj,obj_list,table,data):\n",
    "    print(data[obj].unique())\n",
    "    data_s=pd.DataFrame(data[obj].unique())\n",
    "    \n",
    "    new_sensor = data_s[~data_s[0].isin(obj_list.id)]\n",
    "    ns=[]\n",
    "    if(len(new_sensor)>0):\n",
    "        l=len(obj_list)\n",
    "        for s in new_sensor[0]:\n",
    "            n=[s,l]\n",
    "            l=l+1\n",
    "            ns.append(n)\n",
    "        ns=pd.DataFrame(ns,columns=[\"id\",\"factor\"])\n",
    "        ns.to_csv(table,mode='a', header=False,index=False)\n",
    "\n",
    "    obj_list=pd.read_csv(table,delimiter=\",\",names=[\"id\",\"factor\"])\n",
    "    l=len(obj_list)\n",
    "    for i in range(0,l):\n",
    "        data.loc[data[obj]==obj_list.id[i],obj]=obj_list.factor[i]\n",
    "    print(data[obj].unique())"
   ]
  },
  {
   "cell_type": "code",
   "execution_count": 4,
   "metadata": {},
   "outputs": [
    {
     "name": "stdout",
     "output_type": "stream",
     "text": [
      "['PER_AIRMON_MESH301245' 'PER_EMOTE_1309' 'PER_AIRMON_MESH1911150']\n",
      "[2 1 0]\n"
     ]
    }
   ],
   "source": [
    "factorize('Sensor',list_sensor,'list_sensor1.csv',df)"
   ]
  },
  {
   "cell_type": "code",
   "execution_count": 5,
   "metadata": {},
   "outputs": [
    {
     "name": "stdout",
     "output_type": "stream",
     "text": [
      "['PM2.5' 'PM10' 'Sound' 'CO' 'PM1' 'PM 4' 'NO' 'NO2' 'Humidity'\n",
      " 'Temperature' 'O3' 'Pressure']\n",
      "[ 3  4  5  2  8  0 10  7  6  1  9 11]\n"
     ]
    }
   ],
   "source": [
    "factorize('Type',list_type,'list_types1.csv',df)"
   ]
  },
  {
   "cell_type": "code",
   "execution_count": 6,
   "metadata": {},
   "outputs": [
    {
     "name": "stdout",
     "output_type": "stream",
     "text": [
      "['ugm -3' 'db' '%' 'Celsius' 'ppb' 'hpa']\n",
      "[0 2 3 1 4 5]\n"
     ]
    }
   ],
   "source": [
    "factorize('Units',list_units,'list_units1.csv',df)"
   ]
  },
  {
   "cell_type": "code",
   "execution_count": 7,
   "metadata": {},
   "outputs": [],
   "source": [
    "df.loc[df['Flag']==False,'Flag']=0\n",
    "df.loc[df['Flag']==True,'Flag']=1"
   ]
  },
  {
   "cell_type": "code",
   "execution_count": 8,
   "metadata": {},
   "outputs": [
    {
     "data": {
      "text/plain": [
       "(154922, 6)"
      ]
     },
     "execution_count": 8,
     "metadata": {},
     "output_type": "execute_result"
    },
    {
     "data": {
      "text/plain": [
       "(51640, 6)"
      ]
     },
     "execution_count": 8,
     "metadata": {},
     "output_type": "execute_result"
    }
   ],
   "source": [
    "x=['Sensor', 'Type', 'Units','Value']\n",
    "y=['Flag']\n",
    "train=df.loc[1:trial_row,]\n",
    "test=df.loc[trial_row+1:total_row,]\n",
    "train.shape\n",
    "test.shape"
   ]
  },
  {
   "cell_type": "code",
   "execution_count": 9,
   "metadata": {},
   "outputs": [
    {
     "name": "stdout",
     "output_type": "stream",
     "text": [
      "0.0    154148\n",
      "1.0       774\n",
      "Name: Flag, dtype: int64\n",
      "0.0    51361\n",
      "1.0      279\n",
      "Name: Flag, dtype: int64\n"
     ]
    }
   ],
   "source": [
    "print(train['Flag'].value_counts())\n",
    "print(test['Flag'].value_counts())"
   ]
  },
  {
   "cell_type": "code",
   "execution_count": 10,
   "metadata": {},
   "outputs": [],
   "source": [
    "x_train,y_train,x_test,y_test = train[x],train[y],test[x],test[y]"
   ]
  },
  {
   "cell_type": "code",
   "execution_count": 11,
   "metadata": {},
   "outputs": [
    {
     "data": {
      "text/plain": [
       "0.0    154148\n",
       "1.0       774\n",
       "Name: Flag, dtype: int64"
      ]
     },
     "execution_count": 11,
     "metadata": {},
     "output_type": "execute_result"
    },
    {
     "data": {
      "text/plain": [
       "0.0    51361\n",
       "1.0      279\n",
       "Name: Flag, dtype: int64"
      ]
     },
     "execution_count": 11,
     "metadata": {},
     "output_type": "execute_result"
    }
   ],
   "source": [
    "train['Flag'].value_counts()\n",
    "test['Flag'].value_counts()"
   ]
  },
  {
   "cell_type": "code",
   "execution_count": 12,
   "metadata": {},
   "outputs": [],
   "source": [
    "#confusion Matrix\n",
    "def ConfusionMatrix(x,y):\n",
    "    a = confusion_matrix(x,y)\n",
    "    print(a)\n",
    "    b = (a[0][0]+a[1][1])/(a[1][1]+a[0][1]+a[0][0]+a[1][0])\n",
    "    return round(b*100,2)"
   ]
  },
  {
   "cell_type": "code",
   "execution_count": 13,
   "metadata": {},
   "outputs": [
    {
     "name": "stdout",
     "output_type": "stream",
     "text": [
      "1.0\n",
      "[[51361     0]\n",
      " [    0   279]]\n",
      "100.0\n"
     ]
    }
   ],
   "source": [
    "#Decision Tree\n",
    "decision = DecisionTreeClassifier(max_depth=5).fit(x_train, y_train)\n",
    "decision_yhat = decision.predict(x_test)\n",
    "\n",
    "# type(decision_yhat)\n",
    "# print(\"zeros\",(decision_yhat == 0).sum())\n",
    "# print(\"ones\",(decision_yhat == 1).sum())\n",
    "\n",
    "print(decision.score(x_test,y_test))\n",
    "\n",
    "decision_acc= ConfusionMatrix(decision_yhat,y_test)\n",
    "print(decision_acc)\n",
    "\n",
    "\n"
   ]
  },
  {
   "cell_type": "code",
   "execution_count": 15,
   "metadata": {},
   "outputs": [
    {
     "data": {
      "text/plain": [
       "[Text(200.88000000000002, 181.2, 'X[3] <= 0.001\\ngini = 0.01\\nsamples = 154922\\nvalue = [154148, 774]'),\n",
       " Text(133.92000000000002, 108.72, 'X[2] <= 2.0\\ngini = 0.01\\nsamples = 778\\nvalue = [4, 774]'),\n",
       " Text(66.96000000000001, 36.23999999999998, 'gini = 0.0\\nsamples = 774\\nvalue = [0, 774]'),\n",
       " Text(200.88000000000002, 36.23999999999998, 'gini = 0.0\\nsamples = 4\\nvalue = [4, 0]'),\n",
       " Text(267.84000000000003, 108.72, 'gini = 0.0\\nsamples = 154144\\nvalue = [154144, 0]')]"
      ]
     },
     "execution_count": 15,
     "metadata": {},
     "output_type": "execute_result"
    },
    {
     "data": {
      "image/png": "[encoded data removed]",
      "text/plain": [
       "<Figure size 432x288 with 1 Axes>"
      ]
     },
     "metadata": {
      "needs_background": "light"
     },
     "output_type": "display_data"
    }
   ],
   "source": [
    "decision=tree.DecisionTreeClassifier()\n",
    "tree.plot_tree(decision.fit(x_train,y_train)) "
   ]
  },
  {
   "cell_type": "code",
   "execution_count": null,
   "metadata": {},
   "outputs": [],
   "source": []
  }
 ],
 "metadata": {
  "kernelspec": {
   "display_name": "Python 3",
   "language": "python",
   "name": "python3"
  },
  "language_info": {
   "codemirror_mode": {
    "name": "ipython",
    "version": 3
   },
   "file_extension": ".py",
   "mimetype": "text/x-python",
   "name": "python",
   "nbconvert_exporter": "python",
   "pygments_lexer": "ipython3",
   "version": "3.7.5"
  }
 },
 "nbformat": 4,
 "nbformat_minor": 2
}
