{
 "cells": [
  {
   "cell_type": "code",
   "execution_count": 1,
   "metadata": {},
   "outputs": [
    {
     "data": {
      "application/javascript": [
       "IPython.notebook.set_autosave_interval(20000)"
      ]
     },
     "metadata": {},
     "output_type": "display_data"
    },
    {
     "name": "stdout",
     "output_type": "stream",
     "text": [
      "Autosaving every 20 seconds\n"
     ]
    }
   ],
   "source": [
    "%autosave 20\n",
    "import math \n",
    "import time\n",
    "import pandas as pd\n",
    "from sklearn.utils import shuffle"
   ]
  },
  {
   "cell_type": "code",
   "execution_count": 2,
   "metadata": {},
   "outputs": [
    {
     "name": "stdout",
     "output_type": "stream",
     "text": [
      "before loading the test 0.0\n",
      "after loading the test 0.08389043807983398\n",
      "test before  (49052, 6)\n",
      "after removing duplicates the test 0.08389043807983398\n",
      "test after  (20657, 6)\n",
      "test after  (20657, 6)\n"
     ]
    },
    {
     "data": {
      "text/html": [
       "<div>\n",
       "<style scoped>\n",
       "    .dataframe tbody tr th:only-of-type {\n",
       "        vertical-align: middle;\n",
       "    }\n",
       "\n",
       "    .dataframe tbody tr th {\n",
       "        vertical-align: top;\n",
       "    }\n",
       "\n",
       "    .dataframe thead th {\n",
       "        text-align: right;\n",
       "    }\n",
       "</style>\n",
       "<table border=\"1\" class=\"dataframe\">\n",
       "  <thead>\n",
       "    <tr style=\"text-align: right;\">\n",
       "      <th></th>\n",
       "      <th>Sensor</th>\n",
       "      <th>Type</th>\n",
       "      <th>Units</th>\n",
       "      <th>time</th>\n",
       "      <th>Flag</th>\n",
       "      <th>Value</th>\n",
       "    </tr>\n",
       "  </thead>\n",
       "  <tbody>\n",
       "    <tr>\n",
       "      <th>0</th>\n",
       "      <td>PER_AIRMON_MESH1911150</td>\n",
       "      <td>NO2</td>\n",
       "      <td>ugm -3</td>\n",
       "      <td>2020-06-28 21:15:00</td>\n",
       "      <td>False</td>\n",
       "      <td>22.06180</td>\n",
       "    </tr>\n",
       "    <tr>\n",
       "      <th>1</th>\n",
       "      <td>PER_AIRMON_MESH1911150</td>\n",
       "      <td>NO2</td>\n",
       "      <td>ugm -3</td>\n",
       "      <td>2020-06-28 21:30:00</td>\n",
       "      <td>False</td>\n",
       "      <td>23.42104</td>\n",
       "    </tr>\n",
       "    <tr>\n",
       "      <th>2</th>\n",
       "      <td>PER_AIRMON_MESH1911150</td>\n",
       "      <td>NO2</td>\n",
       "      <td>ugm -3</td>\n",
       "      <td>2020-06-28 21:45:00</td>\n",
       "      <td>False</td>\n",
       "      <td>23.04128</td>\n",
       "    </tr>\n",
       "    <tr>\n",
       "      <th>3</th>\n",
       "      <td>PER_AIRMON_MESH1911150</td>\n",
       "      <td>NO2</td>\n",
       "      <td>ugm -3</td>\n",
       "      <td>2020-06-28 22:00:00</td>\n",
       "      <td>False</td>\n",
       "      <td>22.04112</td>\n",
       "    </tr>\n",
       "    <tr>\n",
       "      <th>4</th>\n",
       "      <td>PER_AIRMON_MESH1911150</td>\n",
       "      <td>NO2</td>\n",
       "      <td>ugm -3</td>\n",
       "      <td>2020-06-28 22:15:00</td>\n",
       "      <td>False</td>\n",
       "      <td>22.42088</td>\n",
       "    </tr>\n",
       "  </tbody>\n",
       "</table>\n",
       "</div>"
      ],
      "text/plain": [
       "                   Sensor Type   Units                 time   Flag     Value\n",
       "0  PER_AIRMON_MESH1911150  NO2  ugm -3  2020-06-28 21:15:00  False  22.06180\n",
       "1  PER_AIRMON_MESH1911150  NO2  ugm -3  2020-06-28 21:30:00  False  23.42104\n",
       "2  PER_AIRMON_MESH1911150  NO2  ugm -3  2020-06-28 21:45:00  False  23.04128\n",
       "3  PER_AIRMON_MESH1911150  NO2  ugm -3  2020-06-28 22:00:00  False  22.04112\n",
       "4  PER_AIRMON_MESH1911150  NO2  ugm -3  2020-06-28 22:15:00  False  22.42088"
      ]
     },
     "execution_count": 2,
     "metadata": {},
     "output_type": "execute_result"
    },
    {
     "name": "stdout",
     "output_type": "stream",
     "text": [
      "<class 'pandas.core.frame.DataFrame'>\n",
      "Int64Index: 20657 entries, 0 to 43542\n",
      "Data columns (total 6 columns):\n",
      "Sensor    20657 non-null object\n",
      "Type      20657 non-null object\n",
      "Units     20657 non-null object\n",
      "time      20657 non-null object\n",
      "Flag      20657 non-null bool\n",
      "Value     20657 non-null float64\n",
      "dtypes: bool(1), float64(1), object(4)\n",
      "memory usage: 988.5+ KB\n"
     ]
    }
   ],
   "source": [
    "# Loading new dataset to remove teh duplicates\n",
    "start=time.time()\n",
    "end=time.time()\n",
    "print(\"before loading the test\",end-start)\n",
    "df_t=pd.read_csv(\"C:/Users/HP/OneDrive - Newcastle University/Dissertation/Data_sets/test.csv\",delimiter=\",\",names=[\"Sensor\",\"Type\",\"Units\",\"time\",\"Flag\",\"Value\"])\n",
    "end=time.time()\n",
    "print(\"after loading the test\",end-start)\n",
    "\n",
    "print(\"test before \",df_t.shape)\n",
    "# len(df_t.packet_no.unique())\n",
    "end=time.time()\n",
    "print(\"after removing duplicates the test\",end-start)\n",
    "\n",
    "# df_t=df_t.drop([\"packet_no\",\"Key\"],1)\n",
    "df_t=df_t.drop_duplicates()\n",
    "print(\"test after \",df_t.shape)\n",
    "\n",
    "df_t=df_t.drop_duplicates()\n",
    "print(\"test after \",df_t.shape)\n",
    "df_t.head(5)\n",
    "df_t.info()"
   ]
  },
  {
   "cell_type": "code",
   "execution_count": 3,
   "metadata": {},
   "outputs": [
    {
     "name": "stdout",
     "output_type": "stream",
     "text": [
      "sample before  (888494, 6)\n",
      "sample after concat  (909151, 6)\n",
      "after removing duplicates  (909117, 6)\n",
      "sample newly loaded  (909117, 6)\n",
      "sample newly removed duplictes  (888525, 6)\n",
      "before final loading 9.083203315734863\n",
      "after loading 13.277395009994507\n"
     ]
    },
    {
     "data": {
      "text/html": [
       "<div>\n",
       "<style scoped>\n",
       "    .dataframe tbody tr th:only-of-type {\n",
       "        vertical-align: middle;\n",
       "    }\n",
       "\n",
       "    .dataframe tbody tr th {\n",
       "        vertical-align: top;\n",
       "    }\n",
       "\n",
       "    .dataframe thead th {\n",
       "        text-align: right;\n",
       "    }\n",
       "</style>\n",
       "<table border=\"1\" class=\"dataframe\">\n",
       "  <thead>\n",
       "    <tr style=\"text-align: right;\">\n",
       "      <th></th>\n",
       "      <th>Sensor</th>\n",
       "      <th>Type</th>\n",
       "      <th>Units</th>\n",
       "      <th>time</th>\n",
       "      <th>Flag</th>\n",
       "      <th>Value</th>\n",
       "    </tr>\n",
       "  </thead>\n",
       "  <tbody>\n",
       "    <tr>\n",
       "      <th>583990</th>\n",
       "      <td>PER_AIRMON_MESH301245</td>\n",
       "      <td>PM 4</td>\n",
       "      <td>ugm -3</td>\n",
       "      <td>2020-06-22 00:42:00</td>\n",
       "      <td>False</td>\n",
       "      <td>11.070000</td>\n",
       "    </tr>\n",
       "    <tr>\n",
       "      <th>265289</th>\n",
       "      <td>PER_EMOTE_1309</td>\n",
       "      <td>Sound</td>\n",
       "      <td>db</td>\n",
       "      <td>13/05/2020 21:10</td>\n",
       "      <td>0.0</td>\n",
       "      <td>62.000000</td>\n",
       "    </tr>\n",
       "    <tr>\n",
       "      <th>658215</th>\n",
       "      <td>PER_EMOTE_1309</td>\n",
       "      <td>Temperature</td>\n",
       "      <td>Celsius</td>\n",
       "      <td>2020-06-20 08:26:22</td>\n",
       "      <td>False</td>\n",
       "      <td>15.000000</td>\n",
       "    </tr>\n",
       "    <tr>\n",
       "      <th>112730</th>\n",
       "      <td>PER_AIRMON_MESH1911150</td>\n",
       "      <td>PM10</td>\n",
       "      <td>ugm -3</td>\n",
       "      <td>2020-06-04 20:55:00</td>\n",
       "      <td>0.0</td>\n",
       "      <td>7.679000</td>\n",
       "    </tr>\n",
       "    <tr>\n",
       "      <th>813480</th>\n",
       "      <td>PER_AIRMON_MESH301245</td>\n",
       "      <td>PM10</td>\n",
       "      <td>ugm -3</td>\n",
       "      <td>2020-06-04 05:40:00</td>\n",
       "      <td>0.0</td>\n",
       "      <td>6.880000</td>\n",
       "    </tr>\n",
       "    <tr>\n",
       "      <th>870263</th>\n",
       "      <td>PER_AIRMON_MESH1911150</td>\n",
       "      <td>O3</td>\n",
       "      <td>ppb</td>\n",
       "      <td>2020-06-01 14:15:00</td>\n",
       "      <td>0.0</td>\n",
       "      <td>27.994000</td>\n",
       "    </tr>\n",
       "    <tr>\n",
       "      <th>546208</th>\n",
       "      <td>PER_AIRMON_MESH1911150</td>\n",
       "      <td>PM1</td>\n",
       "      <td>ugm -3</td>\n",
       "      <td>2020-05-24 10:22:00</td>\n",
       "      <td>0.0</td>\n",
       "      <td>2.423000</td>\n",
       "    </tr>\n",
       "    <tr>\n",
       "      <th>410117</th>\n",
       "      <td>PER_EMOTE_1309</td>\n",
       "      <td>CO</td>\n",
       "      <td>ugm -3</td>\n",
       "      <td>2020-05-30 07:30:43</td>\n",
       "      <td>0.0</td>\n",
       "      <td>312.201668</td>\n",
       "    </tr>\n",
       "    <tr>\n",
       "      <th>758445</th>\n",
       "      <td>PER_AIRMON_MESH1911150</td>\n",
       "      <td>PM10</td>\n",
       "      <td>ugm -3</td>\n",
       "      <td>2020-06-12 15:33:00</td>\n",
       "      <td>0.0</td>\n",
       "      <td>10.939000</td>\n",
       "    </tr>\n",
       "    <tr>\n",
       "      <th>416284</th>\n",
       "      <td>PER_AIRMON_MESH301245</td>\n",
       "      <td>PM 4</td>\n",
       "      <td>ugm -3</td>\n",
       "      <td>2020-06-22 01:40:00</td>\n",
       "      <td>False</td>\n",
       "      <td>8.160000</td>\n",
       "    </tr>\n",
       "  </tbody>\n",
       "</table>\n",
       "</div>"
      ],
      "text/plain": [
       "                        Sensor         Type    Units                 time  \\\n",
       "583990   PER_AIRMON_MESH301245         PM 4   ugm -3  2020-06-22 00:42:00   \n",
       "265289          PER_EMOTE_1309        Sound       db     13/05/2020 21:10   \n",
       "658215          PER_EMOTE_1309  Temperature  Celsius  2020-06-20 08:26:22   \n",
       "112730  PER_AIRMON_MESH1911150         PM10   ugm -3  2020-06-04 20:55:00   \n",
       "813480   PER_AIRMON_MESH301245         PM10   ugm -3  2020-06-04 05:40:00   \n",
       "870263  PER_AIRMON_MESH1911150           O3      ppb  2020-06-01 14:15:00   \n",
       "546208  PER_AIRMON_MESH1911150          PM1   ugm -3  2020-05-24 10:22:00   \n",
       "410117          PER_EMOTE_1309           CO   ugm -3  2020-05-30 07:30:43   \n",
       "758445  PER_AIRMON_MESH1911150         PM10   ugm -3  2020-06-12 15:33:00   \n",
       "416284   PER_AIRMON_MESH301245         PM 4   ugm -3  2020-06-22 01:40:00   \n",
       "\n",
       "         Flag       Value  \n",
       "583990  False   11.070000  \n",
       "265289    0.0   62.000000  \n",
       "658215  False   15.000000  \n",
       "112730    0.0    7.679000  \n",
       "813480    0.0    6.880000  \n",
       "870263    0.0   27.994000  \n",
       "546208    0.0    2.423000  \n",
       "410117    0.0  312.201668  \n",
       "758445    0.0   10.939000  \n",
       "416284  False    8.160000  "
      ]
     },
     "execution_count": 3,
     "metadata": {},
     "output_type": "execute_result"
    }
   ],
   "source": [
    "df_s=pd.read_csv(\"C:/Users/HP/OneDrive - Newcastle University/Dissertation/Data_sets/Sample dataset values1.csv\")\n",
    "# df_s=df_s.drop(\"Key\",1)\n",
    "df_s=df_s.dropna()\n",
    "print(\"sample before \",df_s.shape)\n",
    "\n",
    "df_c=pd.concat([df_s,df_t], axis=0, ignore_index=True)\n",
    "print(\"sample after concat \",df_c.shape)\n",
    "\n",
    "df_remove=df_c.drop_duplicates()\n",
    "print(\"after removing duplicates \",df_remove.shape)\n",
    "\n",
    "df_shuffle = shuffle(df_remove)\n",
    "df_shuffle.to_csv(\"C:/Users/HP/OneDrive - Newcastle University/Dissertation/Data_sets/Sample dataset values1.csv\",mode=\"w\",index=False)\n",
    "\n",
    "df=pd.read_csv(\"C:/Users/HP/OneDrive - Newcastle University/Dissertation/Data_sets/Sample dataset values1.csv\")\n",
    "print(\"sample newly loaded \",df.shape)\n",
    "\n",
    "df=df.drop_duplicates()\n",
    "print(\"sample newly removed duplictes \",df.shape)\n",
    "\n",
    "end=time.time()\n",
    "print(\"before final loading\",end-start)\n",
    "df= shuffle(df)\n",
    "df.to_csv(\"C:/Users/HP/OneDrive - Newcastle University/Dissertation/Data_sets/Sample dataset values1.csv\",mode=\"w\",index=False)\n",
    "\n",
    "end=time.time()\n",
    "print(\"after loading\",end-start)\n",
    "df.tail(10)"
   ]
  },
  {
   "cell_type": "code",
   "execution_count": 4,
   "metadata": {
    "scrolled": false
   },
   "outputs": [
    {
     "name": "stdout",
     "output_type": "stream",
     "text": [
      "<class 'pandas.core.frame.DataFrame'>\n",
      "Int64Index: 888525 entries, 421656 to 416284\n",
      "Data columns (total 6 columns):\n",
      "Sensor    888525 non-null object\n",
      "Type      888525 non-null object\n",
      "Units     888525 non-null object\n",
      "time      888525 non-null object\n",
      "Flag      888525 non-null object\n",
      "Value     888525 non-null float64\n",
      "dtypes: float64(1), object(5)\n",
      "memory usage: 47.5+ MB\n"
     ]
    }
   ],
   "source": [
    "df.info()"
   ]
  },
  {
   "cell_type": "code",
   "execution_count": 5,
   "metadata": {},
   "outputs": [
    {
     "data": {
      "text/plain": [
       "Sensor         3\n",
       "Type          12\n",
       "Units          6\n",
       "time      112674\n",
       "Flag           4\n",
       "Value     201135\n",
       "dtype: int64"
      ]
     },
     "execution_count": 5,
     "metadata": {},
     "output_type": "execute_result"
    }
   ],
   "source": [
    "df.nunique()"
   ]
  },
  {
   "cell_type": "code",
   "execution_count": 6,
   "metadata": {},
   "outputs": [
    {
     "data": {
      "text/html": [
       "<div>\n",
       "<style scoped>\n",
       "    .dataframe tbody tr th:only-of-type {\n",
       "        vertical-align: middle;\n",
       "    }\n",
       "\n",
       "    .dataframe tbody tr th {\n",
       "        vertical-align: top;\n",
       "    }\n",
       "\n",
       "    .dataframe thead th {\n",
       "        text-align: right;\n",
       "    }\n",
       "</style>\n",
       "<table border=\"1\" class=\"dataframe\">\n",
       "  <thead>\n",
       "    <tr style=\"text-align: right;\">\n",
       "      <th></th>\n",
       "      <th>Sensor</th>\n",
       "      <th>Type</th>\n",
       "      <th>Units</th>\n",
       "      <th>time</th>\n",
       "      <th>Flag</th>\n",
       "      <th>Value</th>\n",
       "    </tr>\n",
       "  </thead>\n",
       "  <tbody>\n",
       "    <tr>\n",
       "      <th>0</th>\n",
       "      <td>PER_EMOTE_1309</td>\n",
       "      <td>Humidity</td>\n",
       "      <td>%</td>\n",
       "      <td>2020-05-21 23:20:26</td>\n",
       "      <td>0.0</td>\n",
       "      <td>54.300000</td>\n",
       "    </tr>\n",
       "    <tr>\n",
       "      <th>1</th>\n",
       "      <td>PER_EMOTE_1309</td>\n",
       "      <td>Humidity</td>\n",
       "      <td>%</td>\n",
       "      <td>2020-05-18 23:05:21</td>\n",
       "      <td>0.0</td>\n",
       "      <td>68.300000</td>\n",
       "    </tr>\n",
       "    <tr>\n",
       "      <th>2</th>\n",
       "      <td>PER_EMOTE_1309</td>\n",
       "      <td>Sound</td>\n",
       "      <td>db</td>\n",
       "      <td>2020-06-19 03:21:19</td>\n",
       "      <td>False</td>\n",
       "      <td>53.000000</td>\n",
       "    </tr>\n",
       "    <tr>\n",
       "      <th>3</th>\n",
       "      <td>PER_EMOTE_1309</td>\n",
       "      <td>NO</td>\n",
       "      <td>ugm -3</td>\n",
       "      <td>2020-06-26 04:43:34</td>\n",
       "      <td>False</td>\n",
       "      <td>12.810756</td>\n",
       "    </tr>\n",
       "    <tr>\n",
       "      <th>4</th>\n",
       "      <td>PER_EMOTE_1309</td>\n",
       "      <td>Sound</td>\n",
       "      <td>db</td>\n",
       "      <td>2020-06-01 04:55:46</td>\n",
       "      <td>0.0</td>\n",
       "      <td>52.000000</td>\n",
       "    </tr>\n",
       "  </tbody>\n",
       "</table>\n",
       "</div>"
      ],
      "text/plain": [
       "           Sensor      Type   Units                 time   Flag      Value\n",
       "0  PER_EMOTE_1309  Humidity       %  2020-05-21 23:20:26    0.0  54.300000\n",
       "1  PER_EMOTE_1309  Humidity       %  2020-05-18 23:05:21    0.0  68.300000\n",
       "2  PER_EMOTE_1309     Sound      db  2020-06-19 03:21:19  False  53.000000\n",
       "3  PER_EMOTE_1309        NO  ugm -3  2020-06-26 04:43:34  False  12.810756\n",
       "4  PER_EMOTE_1309     Sound      db  2020-06-01 04:55:46    0.0  52.000000"
      ]
     },
     "execution_count": 6,
     "metadata": {},
     "output_type": "execute_result"
    }
   ],
   "source": [
    "df_s.head()"
   ]
  },
  {
   "cell_type": "code",
   "execution_count": 7,
   "metadata": {},
   "outputs": [
    {
     "data": {
      "text/plain": [
       "array(['PER_AIRMON_MESH301245', 'PER_EMOTE_1309',\n",
       "       'PER_AIRMON_MESH1911150'], dtype=object)"
      ]
     },
     "execution_count": 7,
     "metadata": {},
     "output_type": "execute_result"
    }
   ],
   "source": [
    "df.Sensor.unique()"
   ]
  },
  {
   "cell_type": "code",
   "execution_count": 8,
   "metadata": {},
   "outputs": [
    {
     "data": {
      "text/plain": [
       "array(['PM 4', 'NO2', 'Humidity', 'PM2.5', 'CO', 'NO', 'PM1', 'PM10',\n",
       "       'Sound', 'Temperature', 'Pressure', 'O3'], dtype=object)"
      ]
     },
     "execution_count": 8,
     "metadata": {},
     "output_type": "execute_result"
    }
   ],
   "source": [
    "df.Type.unique()"
   ]
  },
  {
   "cell_type": "code",
   "execution_count": 9,
   "metadata": {},
   "outputs": [
    {
     "data": {
      "text/plain": [
       "array(['ugm -3', '%', 'db', 'Celsius', 'hpa', 'ppb'], dtype=object)"
      ]
     },
     "execution_count": 9,
     "metadata": {},
     "output_type": "execute_result"
    }
   ],
   "source": [
    "df.Units.unique()"
   ]
  },
  {
   "cell_type": "code",
   "execution_count": 10,
   "metadata": {},
   "outputs": [
    {
     "data": {
      "text/plain": [
       "array(['0.0', 'False', '1.0', 'True'], dtype=object)"
      ]
     },
     "execution_count": 10,
     "metadata": {},
     "output_type": "execute_result"
    }
   ],
   "source": [
    "df.Flag.unique()"
   ]
  }
 ],
 "metadata": {
  "kernelspec": {
   "display_name": "Python 3",
   "language": "python",
   "name": "python3"
  },
  "language_info": {
   "codemirror_mode": {
    "name": "ipython",
    "version": 3
   },
   "file_extension": ".py",
   "mimetype": "text/x-python",
   "name": "python",
   "nbconvert_exporter": "python",
   "pygments_lexer": "ipython3",
   "version": "3.7.5"
  }
 },
 "nbformat": 4,
 "nbformat_minor": 2
}
