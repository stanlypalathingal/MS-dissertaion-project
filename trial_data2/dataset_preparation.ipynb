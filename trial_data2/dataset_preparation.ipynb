{
 "cells": [
  {
   "cell_type": "code",
   "execution_count": 1,
   "metadata": {},
   "outputs": [
    {
     "data": {
      "application/javascript": [
       "IPython.notebook.set_autosave_interval(20000)"
      ]
     },
     "metadata": {},
     "output_type": "display_data"
    },
    {
     "name": "stdout",
     "output_type": "stream",
     "text": [
      "Autosaving every 20 seconds\n"
     ]
    }
   ],
   "source": [
    "%autosave 20\n",
    "import math \n",
    "import time\n",
    "import pandas as pd\n",
    "from sklearn.utils import shuffle"
   ]
  },
  {
   "cell_type": "code",
   "execution_count": 2,
   "metadata": {},
   "outputs": [
    {
     "name": "stdout",
     "output_type": "stream",
     "text": [
      "before loading the test 0.0\n",
      "after loading the test 0.03646492958068848\n",
      "test before  (19116, 6)\n",
      "after removing duplicates the test 0.0374302864074707\n",
      "test after  (19116, 6)\n",
      "test after  (19116, 6)\n"
     ]
    },
    {
     "data": {
      "text/html": [
       "<div>\n",
       "<style scoped>\n",
       "    .dataframe tbody tr th:only-of-type {\n",
       "        vertical-align: middle;\n",
       "    }\n",
       "\n",
       "    .dataframe tbody tr th {\n",
       "        vertical-align: top;\n",
       "    }\n",
       "\n",
       "    .dataframe thead th {\n",
       "        text-align: right;\n",
       "    }\n",
       "</style>\n",
       "<table border=\"1\" class=\"dataframe\">\n",
       "  <thead>\n",
       "    <tr style=\"text-align: right;\">\n",
       "      <th></th>\n",
       "      <th>Sensor</th>\n",
       "      <th>Type</th>\n",
       "      <th>Units</th>\n",
       "      <th>time</th>\n",
       "      <th>Flag</th>\n",
       "      <th>Value</th>\n",
       "    </tr>\n",
       "  </thead>\n",
       "  <tbody>\n",
       "    <tr>\n",
       "      <th>0</th>\n",
       "      <td>PER_AIRMON_MESH1911150</td>\n",
       "      <td>NO2</td>\n",
       "      <td>ugm -3</td>\n",
       "      <td>2020-05-22 10:15:00</td>\n",
       "      <td>False</td>\n",
       "      <td>8.62732</td>\n",
       "    </tr>\n",
       "    <tr>\n",
       "      <th>1</th>\n",
       "      <td>PER_AIRMON_MESH1911150</td>\n",
       "      <td>NO2</td>\n",
       "      <td>ugm -3</td>\n",
       "      <td>2020-05-22 10:30:00</td>\n",
       "      <td>False</td>\n",
       "      <td>11.60524</td>\n",
       "    </tr>\n",
       "    <tr>\n",
       "      <th>2</th>\n",
       "      <td>PER_AIRMON_MESH1911150</td>\n",
       "      <td>NO2</td>\n",
       "      <td>ugm -3</td>\n",
       "      <td>2020-05-22 10:45:00</td>\n",
       "      <td>False</td>\n",
       "      <td>10.76676</td>\n",
       "    </tr>\n",
       "    <tr>\n",
       "      <th>3</th>\n",
       "      <td>PER_AIRMON_MESH1911150</td>\n",
       "      <td>NO2</td>\n",
       "      <td>ugm -3</td>\n",
       "      <td>2020-05-22 11:00:00</td>\n",
       "      <td>False</td>\n",
       "      <td>11.06568</td>\n",
       "    </tr>\n",
       "    <tr>\n",
       "      <th>4</th>\n",
       "      <td>PER_AIRMON_MESH1911150</td>\n",
       "      <td>NO2</td>\n",
       "      <td>ugm -3</td>\n",
       "      <td>2020-05-22 11:15:00</td>\n",
       "      <td>False</td>\n",
       "      <td>9.42632</td>\n",
       "    </tr>\n",
       "  </tbody>\n",
       "</table>\n",
       "</div>"
      ],
      "text/plain": [
       "                   Sensor Type   Units                 time   Flag     Value\n",
       "0  PER_AIRMON_MESH1911150  NO2  ugm -3  2020-05-22 10:15:00  False   8.62732\n",
       "1  PER_AIRMON_MESH1911150  NO2  ugm -3  2020-05-22 10:30:00  False  11.60524\n",
       "2  PER_AIRMON_MESH1911150  NO2  ugm -3  2020-05-22 10:45:00  False  10.76676\n",
       "3  PER_AIRMON_MESH1911150  NO2  ugm -3  2020-05-22 11:00:00  False  11.06568\n",
       "4  PER_AIRMON_MESH1911150  NO2  ugm -3  2020-05-22 11:15:00  False   9.42632"
      ]
     },
     "execution_count": 2,
     "metadata": {},
     "output_type": "execute_result"
    }
   ],
   "source": [
    "# Loading new dataset to remove teh duplicates\n",
    "start=time.time()\n",
    "end=time.time()\n",
    "print(\"before loading the test\",end-start)\n",
    "df_t=pd.read_csv(\"test.csv\",delimiter=\",\",names=[\"Sensor\",\"Type\",\"Units\",\"time\",\"Flag\",\"Value\"])\n",
    "end=time.time()\n",
    "print(\"after loading the test\",end-start)\n",
    "\n",
    "print(\"test before \",df_t.shape)\n",
    "# len(df_t.packet_no.unique())\n",
    "end=time.time()\n",
    "print(\"after removing duplicates the test\",end-start)\n",
    "\n",
    "# df_t=df_t.drop([\"packet_no\",\"Key\"],1)\n",
    "df_t=df_t.drop_duplicates()\n",
    "print(\"test after \",df_t.shape)\n",
    "\n",
    "df_t=df_t.drop_duplicates()\n",
    "print(\"test after \",df_t.shape)\n",
    "df_t.head(5)"
   ]
  },
  {
   "cell_type": "code",
   "execution_count": 3,
   "metadata": {},
   "outputs": [
    {
     "name": "stdout",
     "output_type": "stream",
     "text": [
      "sample before  (222397, 6)\n",
      "sample after concat  (241513, 6)\n",
      "after removing duplicates  (241492, 6)\n",
      "sample newly loaded  (241492, 6)\n",
      "sample newly removed duplictes  (241492, 6)\n",
      "before final loading 2.5991148948669434\n",
      "after loading 4.002797603607178\n"
     ]
    },
    {
     "data": {
      "text/html": [
       "<div>\n",
       "<style scoped>\n",
       "    .dataframe tbody tr th:only-of-type {\n",
       "        vertical-align: middle;\n",
       "    }\n",
       "\n",
       "    .dataframe tbody tr th {\n",
       "        vertical-align: top;\n",
       "    }\n",
       "\n",
       "    .dataframe thead th {\n",
       "        text-align: right;\n",
       "    }\n",
       "</style>\n",
       "<table border=\"1\" class=\"dataframe\">\n",
       "  <thead>\n",
       "    <tr style=\"text-align: right;\">\n",
       "      <th></th>\n",
       "      <th>Sensor</th>\n",
       "      <th>Type</th>\n",
       "      <th>Units</th>\n",
       "      <th>time</th>\n",
       "      <th>Flag</th>\n",
       "      <th>Value</th>\n",
       "    </tr>\n",
       "  </thead>\n",
       "  <tbody>\n",
       "    <tr>\n",
       "      <th>112674</th>\n",
       "      <td>PER_AIRMON_MESH1911150</td>\n",
       "      <td>Pressure</td>\n",
       "      <td>hpa</td>\n",
       "      <td>14/05/2020 08:00</td>\n",
       "      <td>0.0</td>\n",
       "      <td>1031.100000</td>\n",
       "    </tr>\n",
       "    <tr>\n",
       "      <th>173221</th>\n",
       "      <td>PER_AIRMON_MESH1911150</td>\n",
       "      <td>Pressure</td>\n",
       "      <td>hpa</td>\n",
       "      <td>2020-05-23 00:45:00</td>\n",
       "      <td>0.0</td>\n",
       "      <td>1015.900000</td>\n",
       "    </tr>\n",
       "    <tr>\n",
       "      <th>140488</th>\n",
       "      <td>PER_AIRMON_MESH1911150</td>\n",
       "      <td>PM1</td>\n",
       "      <td>ugm -3</td>\n",
       "      <td>13/05/2020 08:03</td>\n",
       "      <td>0.0</td>\n",
       "      <td>1.856000</td>\n",
       "    </tr>\n",
       "    <tr>\n",
       "      <th>3121</th>\n",
       "      <td>PER_AIRMON_MESH1911150</td>\n",
       "      <td>PM1</td>\n",
       "      <td>ugm -3</td>\n",
       "      <td>15/05/2020 17:45</td>\n",
       "      <td>0.0</td>\n",
       "      <td>1.943000</td>\n",
       "    </tr>\n",
       "    <tr>\n",
       "      <th>183896</th>\n",
       "      <td>PER_AIRMON_MESH1911150</td>\n",
       "      <td>PM 4</td>\n",
       "      <td>ugm -3</td>\n",
       "      <td>13/05/2020 04:30</td>\n",
       "      <td>0.0</td>\n",
       "      <td>0.650000</td>\n",
       "    </tr>\n",
       "    <tr>\n",
       "      <th>142474</th>\n",
       "      <td>PER_EMOTE_1309</td>\n",
       "      <td>NO</td>\n",
       "      <td>ugm -3</td>\n",
       "      <td>2020-05-17 02:39:17</td>\n",
       "      <td>0.0</td>\n",
       "      <td>18.562196</td>\n",
       "    </tr>\n",
       "    <tr>\n",
       "      <th>138120</th>\n",
       "      <td>PER_AIRMON_MESH1911150</td>\n",
       "      <td>PM10</td>\n",
       "      <td>ugm -3</td>\n",
       "      <td>2020-05-18 06:15:00</td>\n",
       "      <td>0.0</td>\n",
       "      <td>5.696000</td>\n",
       "    </tr>\n",
       "    <tr>\n",
       "      <th>90511</th>\n",
       "      <td>PER_AIRMON_MESH1911150</td>\n",
       "      <td>PM10</td>\n",
       "      <td>ugm -3</td>\n",
       "      <td>2020-05-18 19:12:00</td>\n",
       "      <td>0.0</td>\n",
       "      <td>5.707000</td>\n",
       "    </tr>\n",
       "    <tr>\n",
       "      <th>17955</th>\n",
       "      <td>PER_AIRMON_MESH301245</td>\n",
       "      <td>Temperature</td>\n",
       "      <td>Celsius</td>\n",
       "      <td>2020-05-22 03:30:00</td>\n",
       "      <td>0.0</td>\n",
       "      <td>14.200000</td>\n",
       "    </tr>\n",
       "    <tr>\n",
       "      <th>47506</th>\n",
       "      <td>PER_EMOTE_1309</td>\n",
       "      <td>NO2</td>\n",
       "      <td>ugm -3</td>\n",
       "      <td>2020-05-22 17:48:28</td>\n",
       "      <td>0.0</td>\n",
       "      <td>31.310179</td>\n",
       "    </tr>\n",
       "  </tbody>\n",
       "</table>\n",
       "</div>"
      ],
      "text/plain": [
       "                        Sensor         Type    Units                 time  \\\n",
       "112674  PER_AIRMON_MESH1911150     Pressure      hpa     14/05/2020 08:00   \n",
       "173221  PER_AIRMON_MESH1911150     Pressure      hpa  2020-05-23 00:45:00   \n",
       "140488  PER_AIRMON_MESH1911150          PM1   ugm -3     13/05/2020 08:03   \n",
       "3121    PER_AIRMON_MESH1911150          PM1   ugm -3     15/05/2020 17:45   \n",
       "183896  PER_AIRMON_MESH1911150         PM 4   ugm -3     13/05/2020 04:30   \n",
       "142474          PER_EMOTE_1309           NO   ugm -3  2020-05-17 02:39:17   \n",
       "138120  PER_AIRMON_MESH1911150         PM10   ugm -3  2020-05-18 06:15:00   \n",
       "90511   PER_AIRMON_MESH1911150         PM10   ugm -3  2020-05-18 19:12:00   \n",
       "17955    PER_AIRMON_MESH301245  Temperature  Celsius  2020-05-22 03:30:00   \n",
       "47506           PER_EMOTE_1309          NO2   ugm -3  2020-05-22 17:48:28   \n",
       "\n",
       "        Flag        Value  \n",
       "112674   0.0  1031.100000  \n",
       "173221   0.0  1015.900000  \n",
       "140488   0.0     1.856000  \n",
       "3121     0.0     1.943000  \n",
       "183896   0.0     0.650000  \n",
       "142474   0.0    18.562196  \n",
       "138120   0.0     5.696000  \n",
       "90511    0.0     5.707000  \n",
       "17955    0.0    14.200000  \n",
       "47506    0.0    31.310179  "
      ]
     },
     "execution_count": 3,
     "metadata": {},
     "output_type": "execute_result"
    }
   ],
   "source": [
    "df_s=pd.read_csv(\"Sample dataset values1.csv\")\n",
    "# df_s=df_s.drop(\"Key\",1)\n",
    "df_s=df_s.dropna()\n",
    "print(\"sample before \",df_s.shape)\n",
    "\n",
    "df_c=pd.concat([df_s,df_t], axis=0, ignore_index=True)\n",
    "print(\"sample after concat \",df_c.shape)\n",
    "\n",
    "df_remove=df_c.drop_duplicates()\n",
    "print(\"after removing duplicates \",df_remove.shape)\n",
    "\n",
    "df_shuffle = shuffle(df_remove)\n",
    "df_shuffle.to_csv(\"Sample dataset values1.csv\",mode=\"w\",index=False)\n",
    "\n",
    "df=pd.read_csv(\"Sample dataset values1.csv\")\n",
    "print(\"sample newly loaded \",df.shape)\n",
    "\n",
    "df=df.drop_duplicates()\n",
    "print(\"sample newly removed duplictes \",df.shape)\n",
    "\n",
    "end=time.time()\n",
    "print(\"before final loading\",end-start)\n",
    "df= shuffle(df)\n",
    "df.to_csv(\"Sample dataset values1.csv\",mode=\"w\",index=False)\n",
    "\n",
    "end=time.time()\n",
    "print(\"after loading\",end-start)\n",
    "df.tail(10)"
   ]
  },
  {
   "cell_type": "code",
   "execution_count": 4,
   "metadata": {
    "scrolled": false
   },
   "outputs": [
    {
     "name": "stdout",
     "output_type": "stream",
     "text": [
      "<class 'pandas.core.frame.DataFrame'>\n",
      "Int64Index: 241492 entries, 76749 to 47506\n",
      "Data columns (total 6 columns):\n",
      "Sensor    241492 non-null object\n",
      "Type      241492 non-null object\n",
      "Units     241492 non-null object\n",
      "time      241492 non-null object\n",
      "Flag      241492 non-null float64\n",
      "Value     241492 non-null float64\n",
      "dtypes: float64(2), object(4)\n",
      "memory usage: 12.9+ MB\n"
     ]
    }
   ],
   "source": [
    "df.info()"
   ]
  },
  {
   "cell_type": "code",
   "execution_count": 5,
   "metadata": {},
   "outputs": [
    {
     "data": {
      "text/plain": [
       "Sensor        3\n",
       "Type         12\n",
       "Units         6\n",
       "time      25535\n",
       "Flag          2\n",
       "Value     61346\n",
       "dtype: int64"
      ]
     },
     "execution_count": 5,
     "metadata": {},
     "output_type": "execute_result"
    }
   ],
   "source": [
    "df.nunique()"
   ]
  },
  {
   "cell_type": "code",
   "execution_count": null,
   "metadata": {},
   "outputs": [],
   "source": []
  }
 ],
 "metadata": {
  "kernelspec": {
   "display_name": "Python 3",
   "language": "python",
   "name": "python3"
  },
  "language_info": {
   "codemirror_mode": {
    "name": "ipython",
    "version": 3
   },
   "file_extension": ".py",
   "mimetype": "text/x-python",
   "name": "python",
   "nbconvert_exporter": "python",
   "pygments_lexer": "ipython3",
   "version": "3.7.5"
  }
 },
 "nbformat": 4,
 "nbformat_minor": 2
}
