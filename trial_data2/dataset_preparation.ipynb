{
 "cells": [
  {
   "cell_type": "code",
   "execution_count": 1,
   "metadata": {},
   "outputs": [
    {
     "data": {
      "application/javascript": [
       "IPython.notebook.set_autosave_interval(20000)"
      ]
     },
     "metadata": {},
     "output_type": "display_data"
    },
    {
     "name": "stdout",
     "output_type": "stream",
     "text": [
      "Autosaving every 20 seconds\n"
     ]
    }
   ],
   "source": [
    "%autosave 20\n",
    "import math \n",
    "import time\n",
    "import pandas as pd\n",
    "from sklearn.utils import shuffle"
   ]
  },
  {
   "cell_type": "code",
   "execution_count": 2,
   "metadata": {},
   "outputs": [
    {
     "name": "stdout",
     "output_type": "stream",
     "text": [
      "before loading the test 0.0\n",
      "after loading the test 0.05286741256713867\n",
      "test before  (32822, 6)\n",
      "after removing duplicates the test 0.05385565757751465\n",
      "test after  (16441, 6)\n",
      "test after  (16441, 6)\n"
     ]
    },
    {
     "data": {
      "text/html": [
       "<div>\n",
       "<style scoped>\n",
       "    .dataframe tbody tr th:only-of-type {\n",
       "        vertical-align: middle;\n",
       "    }\n",
       "\n",
       "    .dataframe tbody tr th {\n",
       "        vertical-align: top;\n",
       "    }\n",
       "\n",
       "    .dataframe thead th {\n",
       "        text-align: right;\n",
       "    }\n",
       "</style>\n",
       "<table border=\"1\" class=\"dataframe\">\n",
       "  <thead>\n",
       "    <tr style=\"text-align: right;\">\n",
       "      <th></th>\n",
       "      <th>Sensor</th>\n",
       "      <th>Type</th>\n",
       "      <th>Units</th>\n",
       "      <th>time</th>\n",
       "      <th>Flag</th>\n",
       "      <th>Value</th>\n",
       "    </tr>\n",
       "  </thead>\n",
       "  <tbody>\n",
       "    <tr>\n",
       "      <th>0</th>\n",
       "      <td>PER_AIRMON_MESH1911150</td>\n",
       "      <td>NO2</td>\n",
       "      <td>ugm -3</td>\n",
       "      <td>2020-06-01 12:15:00</td>\n",
       "      <td>False</td>\n",
       "      <td>12.96448</td>\n",
       "    </tr>\n",
       "    <tr>\n",
       "      <th>1</th>\n",
       "      <td>PER_AIRMON_MESH1911150</td>\n",
       "      <td>NO2</td>\n",
       "      <td>ugm -3</td>\n",
       "      <td>2020-06-01 12:30:00</td>\n",
       "      <td>False</td>\n",
       "      <td>13.36492</td>\n",
       "    </tr>\n",
       "    <tr>\n",
       "      <th>2</th>\n",
       "      <td>PER_AIRMON_MESH1911150</td>\n",
       "      <td>NO2</td>\n",
       "      <td>ugm -3</td>\n",
       "      <td>2020-06-01 12:45:00</td>\n",
       "      <td>False</td>\n",
       "      <td>19.82272</td>\n",
       "    </tr>\n",
       "    <tr>\n",
       "      <th>3</th>\n",
       "      <td>PER_AIRMON_MESH1911150</td>\n",
       "      <td>NO2</td>\n",
       "      <td>ugm -3</td>\n",
       "      <td>2020-06-01 13:00:00</td>\n",
       "      <td>False</td>\n",
       "      <td>16.20372</td>\n",
       "    </tr>\n",
       "    <tr>\n",
       "      <th>4</th>\n",
       "      <td>PER_AIRMON_MESH1911150</td>\n",
       "      <td>NO2</td>\n",
       "      <td>ugm -3</td>\n",
       "      <td>2020-06-01 13:15:00</td>\n",
       "      <td>False</td>\n",
       "      <td>18.54244</td>\n",
       "    </tr>\n",
       "  </tbody>\n",
       "</table>\n",
       "</div>"
      ],
      "text/plain": [
       "                   Sensor Type   Units                 time   Flag     Value\n",
       "0  PER_AIRMON_MESH1911150  NO2  ugm -3  2020-06-01 12:15:00  False  12.96448\n",
       "1  PER_AIRMON_MESH1911150  NO2  ugm -3  2020-06-01 12:30:00  False  13.36492\n",
       "2  PER_AIRMON_MESH1911150  NO2  ugm -3  2020-06-01 12:45:00  False  19.82272\n",
       "3  PER_AIRMON_MESH1911150  NO2  ugm -3  2020-06-01 13:00:00  False  16.20372\n",
       "4  PER_AIRMON_MESH1911150  NO2  ugm -3  2020-06-01 13:15:00  False  18.54244"
      ]
     },
     "execution_count": 2,
     "metadata": {},
     "output_type": "execute_result"
    },
    {
     "name": "stdout",
     "output_type": "stream",
     "text": [
      "<class 'pandas.core.frame.DataFrame'>\n",
      "Int64Index: 16441 entries, 0 to 32821\n",
      "Data columns (total 6 columns):\n",
      "Sensor    16441 non-null object\n",
      "Type      16441 non-null object\n",
      "Units     16441 non-null object\n",
      "time      16441 non-null object\n",
      "Flag      16441 non-null bool\n",
      "Value     16441 non-null float64\n",
      "dtypes: bool(1), float64(1), object(4)\n",
      "memory usage: 786.7+ KB\n"
     ]
    }
   ],
   "source": [
    "# Loading new dataset to remove teh duplicates\n",
    "start=time.time()\n",
    "end=time.time()\n",
    "print(\"before loading the test\",end-start)\n",
    "df_t=pd.read_csv(\"C:/Users/HP/OneDrive - Newcastle University/Dissertation/Data_sets/test.csv\",delimiter=\",\",names=[\"Sensor\",\"Type\",\"Units\",\"time\",\"Flag\",\"Value\"])\n",
    "end=time.time()\n",
    "print(\"after loading the test\",end-start)\n",
    "\n",
    "print(\"test before \",df_t.shape)\n",
    "# len(df_t.packet_no.unique())\n",
    "end=time.time()\n",
    "print(\"after removing duplicates the test\",end-start)\n",
    "\n",
    "# df_t=df_t.drop([\"packet_no\",\"Key\"],1)\n",
    "df_t=df_t.drop_duplicates()\n",
    "print(\"test after \",df_t.shape)\n",
    "\n",
    "df_t=df_t.drop_duplicates()\n",
    "print(\"test after \",df_t.shape)\n",
    "df_t.head(5)\n",
    "df_t.info()"
   ]
  },
  {
   "cell_type": "code",
   "execution_count": 3,
   "metadata": {},
   "outputs": [
    {
     "name": "stdout",
     "output_type": "stream",
     "text": [
      "sample before  (392267, 6)\n",
      "sample after concat  (408708, 6)\n",
      "after removing duplicates  (403491, 6)\n",
      "sample newly loaded  (403491, 6)\n",
      "sample newly removed duplictes  (403435, 6)\n",
      "before final loading 3.891702175140381\n",
      "after loading 6.00429368019104\n"
     ]
    },
    {
     "data": {
      "text/html": [
       "<div>\n",
       "<style scoped>\n",
       "    .dataframe tbody tr th:only-of-type {\n",
       "        vertical-align: middle;\n",
       "    }\n",
       "\n",
       "    .dataframe tbody tr th {\n",
       "        vertical-align: top;\n",
       "    }\n",
       "\n",
       "    .dataframe thead th {\n",
       "        text-align: right;\n",
       "    }\n",
       "</style>\n",
       "<table border=\"1\" class=\"dataframe\">\n",
       "  <thead>\n",
       "    <tr style=\"text-align: right;\">\n",
       "      <th></th>\n",
       "      <th>Sensor</th>\n",
       "      <th>Type</th>\n",
       "      <th>Units</th>\n",
       "      <th>time</th>\n",
       "      <th>Flag</th>\n",
       "      <th>Value</th>\n",
       "    </tr>\n",
       "  </thead>\n",
       "  <tbody>\n",
       "    <tr>\n",
       "      <th>367727</th>\n",
       "      <td>PER_AIRMON_MESH301245</td>\n",
       "      <td>PM1</td>\n",
       "      <td>ugm -3</td>\n",
       "      <td>2020-05-25 02:58:00</td>\n",
       "      <td>0.0</td>\n",
       "      <td>5.10000</td>\n",
       "    </tr>\n",
       "    <tr>\n",
       "      <th>197302</th>\n",
       "      <td>PER_AIRMON_MESH301245</td>\n",
       "      <td>PM10</td>\n",
       "      <td>ugm -3</td>\n",
       "      <td>2020-05-26 10:19:00</td>\n",
       "      <td>0.0</td>\n",
       "      <td>8.56000</td>\n",
       "    </tr>\n",
       "    <tr>\n",
       "      <th>252893</th>\n",
       "      <td>PER_EMOTE_1309</td>\n",
       "      <td>NO2</td>\n",
       "      <td>ugm -3</td>\n",
       "      <td>12/05/2020 02:26</td>\n",
       "      <td>0.0</td>\n",
       "      <td>47.13705</td>\n",
       "    </tr>\n",
       "    <tr>\n",
       "      <th>148109</th>\n",
       "      <td>PER_AIRMON_MESH301245</td>\n",
       "      <td>PM 4</td>\n",
       "      <td>ugm -3</td>\n",
       "      <td>15/05/2020 17:45</td>\n",
       "      <td>0.0</td>\n",
       "      <td>2.69000</td>\n",
       "    </tr>\n",
       "    <tr>\n",
       "      <th>198368</th>\n",
       "      <td>PER_AIRMON_MESH301245</td>\n",
       "      <td>PM10</td>\n",
       "      <td>ugm -3</td>\n",
       "      <td>17/05/2020 09:32</td>\n",
       "      <td>0.0</td>\n",
       "      <td>6.92000</td>\n",
       "    </tr>\n",
       "    <tr>\n",
       "      <th>137442</th>\n",
       "      <td>PER_EMOTE_1309</td>\n",
       "      <td>Sound</td>\n",
       "      <td>db</td>\n",
       "      <td>14/05/2020 15:06</td>\n",
       "      <td>0.0</td>\n",
       "      <td>61.00000</td>\n",
       "    </tr>\n",
       "    <tr>\n",
       "      <th>26255</th>\n",
       "      <td>PER_AIRMON_MESH1911150</td>\n",
       "      <td>PM1</td>\n",
       "      <td>ugm -3</td>\n",
       "      <td>17/05/2020 10:27</td>\n",
       "      <td>0.0</td>\n",
       "      <td>2.33600</td>\n",
       "    </tr>\n",
       "    <tr>\n",
       "      <th>203669</th>\n",
       "      <td>PER_EMOTE_1309</td>\n",
       "      <td>Temperature</td>\n",
       "      <td>Celsius</td>\n",
       "      <td>15/05/2020 15:58</td>\n",
       "      <td>0.0</td>\n",
       "      <td>16.60000</td>\n",
       "    </tr>\n",
       "    <tr>\n",
       "      <th>72180</th>\n",
       "      <td>PER_AIRMON_MESH301245</td>\n",
       "      <td>PM2.5</td>\n",
       "      <td>ugm -3</td>\n",
       "      <td>2020-05-22 21:32:00</td>\n",
       "      <td>0.0</td>\n",
       "      <td>11.02000</td>\n",
       "    </tr>\n",
       "    <tr>\n",
       "      <th>292377</th>\n",
       "      <td>PER_AIRMON_MESH1911150</td>\n",
       "      <td>PM1</td>\n",
       "      <td>ugm -3</td>\n",
       "      <td>2020-05-29 05:21:00</td>\n",
       "      <td>0.0</td>\n",
       "      <td>4.08200</td>\n",
       "    </tr>\n",
       "  </tbody>\n",
       "</table>\n",
       "</div>"
      ],
      "text/plain": [
       "                        Sensor         Type    Units                 time  \\\n",
       "367727   PER_AIRMON_MESH301245          PM1   ugm -3  2020-05-25 02:58:00   \n",
       "197302   PER_AIRMON_MESH301245         PM10   ugm -3  2020-05-26 10:19:00   \n",
       "252893          PER_EMOTE_1309          NO2   ugm -3     12/05/2020 02:26   \n",
       "148109   PER_AIRMON_MESH301245         PM 4   ugm -3     15/05/2020 17:45   \n",
       "198368   PER_AIRMON_MESH301245         PM10   ugm -3     17/05/2020 09:32   \n",
       "137442          PER_EMOTE_1309        Sound       db     14/05/2020 15:06   \n",
       "26255   PER_AIRMON_MESH1911150          PM1   ugm -3     17/05/2020 10:27   \n",
       "203669          PER_EMOTE_1309  Temperature  Celsius     15/05/2020 15:58   \n",
       "72180    PER_AIRMON_MESH301245        PM2.5   ugm -3  2020-05-22 21:32:00   \n",
       "292377  PER_AIRMON_MESH1911150          PM1   ugm -3  2020-05-29 05:21:00   \n",
       "\n",
       "        Flag     Value  \n",
       "367727   0.0   5.10000  \n",
       "197302   0.0   8.56000  \n",
       "252893   0.0  47.13705  \n",
       "148109   0.0   2.69000  \n",
       "198368   0.0   6.92000  \n",
       "137442   0.0  61.00000  \n",
       "26255    0.0   2.33600  \n",
       "203669   0.0  16.60000  \n",
       "72180    0.0  11.02000  \n",
       "292377   0.0   4.08200  "
      ]
     },
     "execution_count": 3,
     "metadata": {},
     "output_type": "execute_result"
    },
    {
     "name": "stdout",
     "output_type": "stream",
     "text": [
      "<class 'pandas.core.frame.DataFrame'>\n",
      "Int64Index: 403435 entries, 316825 to 292377\n",
      "Data columns (total 6 columns):\n",
      "Sensor    403435 non-null object\n",
      "Type      403435 non-null object\n",
      "Units     403435 non-null object\n",
      "time      403435 non-null object\n",
      "Flag      403435 non-null float64\n",
      "Value     403435 non-null float64\n",
      "dtypes: float64(2), object(4)\n",
      "memory usage: 21.5+ MB\n"
     ]
    }
   ],
   "source": [
    "df_s=pd.read_csv(\"C:/Users/HP/OneDrive - Newcastle University/Dissertation/Data_sets/Sample dataset values1.csv\")\n",
    "# df_s=df_s.drop(\"Key\",1)\n",
    "df_s=df_s.dropna()\n",
    "print(\"sample before \",df_s.shape)\n",
    "\n",
    "df_c=pd.concat([df_s,df_t], axis=0, ignore_index=True)\n",
    "print(\"sample after concat \",df_c.shape)\n",
    "\n",
    "df_remove=df_c.drop_duplicates()\n",
    "print(\"after removing duplicates \",df_remove.shape)\n",
    "\n",
    "df_shuffle = shuffle(df_remove)\n",
    "df_shuffle.to_csv(\"C:/Users/HP/OneDrive - Newcastle University/Dissertation/Data_sets/Sample dataset values1.csv\",mode=\"w\",index=False)\n",
    "\n",
    "df=pd.read_csv(\"C:/Users/HP/OneDrive - Newcastle University/Dissertation/Data_sets/Sample dataset values1.csv\")\n",
    "print(\"sample newly loaded \",df.shape)\n",
    "\n",
    "df=df.drop_duplicates()\n",
    "print(\"sample newly removed duplictes \",df.shape)\n",
    "\n",
    "end=time.time()\n",
    "print(\"before final loading\",end-start)\n",
    "df= shuffle(df)\n",
    "df.to_csv(\"C:/Users/HP/OneDrive - Newcastle University/Dissertation/Data_sets/Sample dataset values1.csv\",mode=\"w\",index=False)\n",
    "\n",
    "end=time.time()\n",
    "print(\"after loading\",end-start)\n",
    "df.tail(10)\n",
    "df.info()"
   ]
  },
  {
   "cell_type": "code",
   "execution_count": 4,
   "metadata": {
    "scrolled": false
   },
   "outputs": [
    {
     "name": "stdout",
     "output_type": "stream",
     "text": [
      "<class 'pandas.core.frame.DataFrame'>\n",
      "Int64Index: 403435 entries, 316825 to 292377\n",
      "Data columns (total 6 columns):\n",
      "Sensor    403435 non-null object\n",
      "Type      403435 non-null object\n",
      "Units     403435 non-null object\n",
      "time      403435 non-null object\n",
      "Flag      403435 non-null float64\n",
      "Value     403435 non-null float64\n",
      "dtypes: float64(2), object(4)\n",
      "memory usage: 21.5+ MB\n"
     ]
    }
   ],
   "source": [
    "df.info()"
   ]
  },
  {
   "cell_type": "code",
   "execution_count": 5,
   "metadata": {},
   "outputs": [
    {
     "data": {
      "text/plain": [
       "Sensor        3\n",
       "Type         12\n",
       "Units         6\n",
       "time      47140\n",
       "Flag          2\n",
       "Value     95434\n",
       "dtype: int64"
      ]
     },
     "execution_count": 5,
     "metadata": {},
     "output_type": "execute_result"
    }
   ],
   "source": [
    "df.nunique()"
   ]
  },
  {
   "cell_type": "code",
   "execution_count": null,
   "metadata": {},
   "outputs": [],
   "source": []
  }
 ],
 "metadata": {
  "kernelspec": {
   "display_name": "Python 3",
   "language": "python",
   "name": "python3"
  },
  "language_info": {
   "codemirror_mode": {
    "name": "ipython",
    "version": 3
   },
   "file_extension": ".py",
   "mimetype": "text/x-python",
   "name": "python",
   "nbconvert_exporter": "python",
   "pygments_lexer": "ipython3",
   "version": "3.7.5"
  }
 },
 "nbformat": 4,
 "nbformat_minor": 2
}
