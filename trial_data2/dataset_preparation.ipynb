{
 "cells": [
  {
   "cell_type": "code",
   "execution_count": 1,
   "metadata": {},
   "outputs": [
    {
     "data": {
      "application/javascript": [
       "IPython.notebook.set_autosave_interval(20000)"
      ]
     },
     "metadata": {},
     "output_type": "display_data"
    },
    {
     "name": "stdout",
     "output_type": "stream",
     "text": [
      "Autosaving every 20 seconds\n"
     ]
    }
   ],
   "source": [
    "%autosave 20\n",
    "import math \n",
    "import time\n",
    "import pandas as pd\n",
    "from sklearn.utils import shuffle"
   ]
  },
  {
   "cell_type": "code",
   "execution_count": 2,
   "metadata": {},
   "outputs": [
    {
     "name": "stdout",
     "output_type": "stream",
     "text": [
      "before loading the test 0.0\n",
      "after loading the test 0.1191098690032959\n",
      "test before  (76996, 6)\n",
      "after removing duplicates the test 0.1191098690032959\n",
      "test after  (31838, 6)\n",
      "test after  (31838, 6)\n"
     ]
    },
    {
     "data": {
      "text/html": [
       "<div>\n",
       "<style scoped>\n",
       "    .dataframe tbody tr th:only-of-type {\n",
       "        vertical-align: middle;\n",
       "    }\n",
       "\n",
       "    .dataframe tbody tr th {\n",
       "        vertical-align: top;\n",
       "    }\n",
       "\n",
       "    .dataframe thead th {\n",
       "        text-align: right;\n",
       "    }\n",
       "</style>\n",
       "<table border=\"1\" class=\"dataframe\">\n",
       "  <thead>\n",
       "    <tr style=\"text-align: right;\">\n",
       "      <th></th>\n",
       "      <th>Sensor</th>\n",
       "      <th>Type</th>\n",
       "      <th>Units</th>\n",
       "      <th>time</th>\n",
       "      <th>Flag</th>\n",
       "      <th>Value</th>\n",
       "    </tr>\n",
       "  </thead>\n",
       "  <tbody>\n",
       "    <tr>\n",
       "      <th>0</th>\n",
       "      <td>PER_AIRMON_MESH1911150</td>\n",
       "      <td>NO2</td>\n",
       "      <td>ugm -3</td>\n",
       "      <td>2020-06-14 07:15:00</td>\n",
       "      <td>False</td>\n",
       "      <td>34.85708</td>\n",
       "    </tr>\n",
       "    <tr>\n",
       "      <th>1</th>\n",
       "      <td>PER_AIRMON_MESH1911150</td>\n",
       "      <td>NO2</td>\n",
       "      <td>ugm -3</td>\n",
       "      <td>2020-06-14 07:30:00</td>\n",
       "      <td>False</td>\n",
       "      <td>33.75728</td>\n",
       "    </tr>\n",
       "    <tr>\n",
       "      <th>2</th>\n",
       "      <td>PER_AIRMON_MESH1911150</td>\n",
       "      <td>NO2</td>\n",
       "      <td>ugm -3</td>\n",
       "      <td>2020-06-14 07:45:00</td>\n",
       "      <td>False</td>\n",
       "      <td>36.83672</td>\n",
       "    </tr>\n",
       "    <tr>\n",
       "      <th>3</th>\n",
       "      <td>PER_AIRMON_MESH1911150</td>\n",
       "      <td>NO2</td>\n",
       "      <td>ugm -3</td>\n",
       "      <td>2020-06-14 08:00:00</td>\n",
       "      <td>False</td>\n",
       "      <td>36.55660</td>\n",
       "    </tr>\n",
       "    <tr>\n",
       "      <th>4</th>\n",
       "      <td>PER_AIRMON_MESH1911150</td>\n",
       "      <td>NO2</td>\n",
       "      <td>ugm -3</td>\n",
       "      <td>2020-06-14 08:15:00</td>\n",
       "      <td>False</td>\n",
       "      <td>36.81604</td>\n",
       "    </tr>\n",
       "  </tbody>\n",
       "</table>\n",
       "</div>"
      ],
      "text/plain": [
       "                   Sensor Type   Units                 time   Flag     Value\n",
       "0  PER_AIRMON_MESH1911150  NO2  ugm -3  2020-06-14 07:15:00  False  34.85708\n",
       "1  PER_AIRMON_MESH1911150  NO2  ugm -3  2020-06-14 07:30:00  False  33.75728\n",
       "2  PER_AIRMON_MESH1911150  NO2  ugm -3  2020-06-14 07:45:00  False  36.83672\n",
       "3  PER_AIRMON_MESH1911150  NO2  ugm -3  2020-06-14 08:00:00  False  36.55660\n",
       "4  PER_AIRMON_MESH1911150  NO2  ugm -3  2020-06-14 08:15:00  False  36.81604"
      ]
     },
     "execution_count": 2,
     "metadata": {},
     "output_type": "execute_result"
    },
    {
     "name": "stdout",
     "output_type": "stream",
     "text": [
      "<class 'pandas.core.frame.DataFrame'>\n",
      "Int64Index: 31838 entries, 0 to 57779\n",
      "Data columns (total 6 columns):\n",
      "Sensor    31838 non-null object\n",
      "Type      31838 non-null object\n",
      "Units     31838 non-null object\n",
      "time      31838 non-null object\n",
      "Flag      31838 non-null bool\n",
      "Value     31838 non-null float64\n",
      "dtypes: bool(1), float64(1), object(4)\n",
      "memory usage: 1.5+ MB\n"
     ]
    }
   ],
   "source": [
    "# Loading new dataset to remove teh duplicates\n",
    "start=time.time()\n",
    "end=time.time()\n",
    "print(\"before loading the test\",end-start)\n",
    "df_t=pd.read_csv(\"C:/Users/HP/OneDrive - Newcastle University/Dissertation/Data_sets/test.csv\",delimiter=\",\",names=[\"Sensor\",\"Type\",\"Units\",\"time\",\"Flag\",\"Value\"])\n",
    "end=time.time()\n",
    "print(\"after loading the test\",end-start)\n",
    "\n",
    "print(\"test before \",df_t.shape)\n",
    "# len(df_t.packet_no.unique())\n",
    "end=time.time()\n",
    "print(\"after removing duplicates the test\",end-start)\n",
    "\n",
    "# df_t=df_t.drop([\"packet_no\",\"Key\"],1)\n",
    "df_t=df_t.drop_duplicates()\n",
    "print(\"test after \",df_t.shape)\n",
    "\n",
    "df_t=df_t.drop_duplicates()\n",
    "print(\"test after \",df_t.shape)\n",
    "df_t.head(5)\n",
    "df_t.info()"
   ]
  },
  {
   "cell_type": "code",
   "execution_count": 3,
   "metadata": {},
   "outputs": [
    {
     "name": "stdout",
     "output_type": "stream",
     "text": [
      "sample before  (643021, 6)\n",
      "sample after concat  (674859, 6)\n",
      "after removing duplicates  (643456, 6)\n",
      "sample newly loaded  (643456, 6)\n",
      "sample newly removed duplictes  (643092, 6)\n",
      "before final loading 7.130143880844116\n",
      "after loading 10.708554029464722\n"
     ]
    },
    {
     "data": {
      "text/html": [
       "<div>\n",
       "<style scoped>\n",
       "    .dataframe tbody tr th:only-of-type {\n",
       "        vertical-align: middle;\n",
       "    }\n",
       "\n",
       "    .dataframe tbody tr th {\n",
       "        vertical-align: top;\n",
       "    }\n",
       "\n",
       "    .dataframe thead th {\n",
       "        text-align: right;\n",
       "    }\n",
       "</style>\n",
       "<table border=\"1\" class=\"dataframe\">\n",
       "  <thead>\n",
       "    <tr style=\"text-align: right;\">\n",
       "      <th></th>\n",
       "      <th>Sensor</th>\n",
       "      <th>Type</th>\n",
       "      <th>Units</th>\n",
       "      <th>time</th>\n",
       "      <th>Flag</th>\n",
       "      <th>Value</th>\n",
       "    </tr>\n",
       "  </thead>\n",
       "  <tbody>\n",
       "    <tr>\n",
       "      <th>238672</th>\n",
       "      <td>PER_EMOTE_1309</td>\n",
       "      <td>CO</td>\n",
       "      <td>ugm -3</td>\n",
       "      <td>2020-06-10 12:04:04</td>\n",
       "      <td>0.0</td>\n",
       "      <td>366.22661</td>\n",
       "    </tr>\n",
       "    <tr>\n",
       "      <th>92085</th>\n",
       "      <td>PER_AIRMON_MESH301245</td>\n",
       "      <td>PM2.5</td>\n",
       "      <td>ugm -3</td>\n",
       "      <td>2020-06-01 15:38:00</td>\n",
       "      <td>0.0</td>\n",
       "      <td>1.67000</td>\n",
       "    </tr>\n",
       "    <tr>\n",
       "      <th>553714</th>\n",
       "      <td>PER_AIRMON_MESH301245</td>\n",
       "      <td>PM 4</td>\n",
       "      <td>ugm -3</td>\n",
       "      <td>2020-05-29 21:53:00</td>\n",
       "      <td>0.0</td>\n",
       "      <td>16.91000</td>\n",
       "    </tr>\n",
       "    <tr>\n",
       "      <th>89212</th>\n",
       "      <td>PER_AIRMON_MESH1911150</td>\n",
       "      <td>Pressure</td>\n",
       "      <td>hpa</td>\n",
       "      <td>2020-05-18 03:15:00</td>\n",
       "      <td>0.0</td>\n",
       "      <td>1024.90000</td>\n",
       "    </tr>\n",
       "    <tr>\n",
       "      <th>442137</th>\n",
       "      <td>PER_EMOTE_1309</td>\n",
       "      <td>Humidity</td>\n",
       "      <td>%</td>\n",
       "      <td>2020-06-09 21:32:03</td>\n",
       "      <td>0.0</td>\n",
       "      <td>65.80000</td>\n",
       "    </tr>\n",
       "    <tr>\n",
       "      <th>300949</th>\n",
       "      <td>PER_AIRMON_MESH1911150</td>\n",
       "      <td>PM10</td>\n",
       "      <td>ugm -3</td>\n",
       "      <td>2020-06-13 17:59:00</td>\n",
       "      <td>0.0</td>\n",
       "      <td>15.74500</td>\n",
       "    </tr>\n",
       "    <tr>\n",
       "      <th>405496</th>\n",
       "      <td>PER_AIRMON_MESH1911150</td>\n",
       "      <td>PM 4</td>\n",
       "      <td>ugm -3</td>\n",
       "      <td>2020-05-28 16:19:00</td>\n",
       "      <td>0.0</td>\n",
       "      <td>3.38000</td>\n",
       "    </tr>\n",
       "    <tr>\n",
       "      <th>231666</th>\n",
       "      <td>PER_EMOTE_1309</td>\n",
       "      <td>Temperature</td>\n",
       "      <td>Celsius</td>\n",
       "      <td>2020-06-08 17:14:01</td>\n",
       "      <td>0.0</td>\n",
       "      <td>16.50000</td>\n",
       "    </tr>\n",
       "    <tr>\n",
       "      <th>496744</th>\n",
       "      <td>PER_AIRMON_MESH1911150</td>\n",
       "      <td>PM10</td>\n",
       "      <td>ugm -3</td>\n",
       "      <td>2020-05-20 16:58:00</td>\n",
       "      <td>0.0</td>\n",
       "      <td>8.34000</td>\n",
       "    </tr>\n",
       "    <tr>\n",
       "      <th>255614</th>\n",
       "      <td>PER_EMOTE_1309</td>\n",
       "      <td>Humidity</td>\n",
       "      <td>%</td>\n",
       "      <td>2020-06-06 19:10:57</td>\n",
       "      <td>0.0</td>\n",
       "      <td>53.40000</td>\n",
       "    </tr>\n",
       "  </tbody>\n",
       "</table>\n",
       "</div>"
      ],
      "text/plain": [
       "                        Sensor         Type    Units                 time  \\\n",
       "238672          PER_EMOTE_1309           CO   ugm -3  2020-06-10 12:04:04   \n",
       "92085    PER_AIRMON_MESH301245        PM2.5   ugm -3  2020-06-01 15:38:00   \n",
       "553714   PER_AIRMON_MESH301245         PM 4   ugm -3  2020-05-29 21:53:00   \n",
       "89212   PER_AIRMON_MESH1911150     Pressure      hpa  2020-05-18 03:15:00   \n",
       "442137          PER_EMOTE_1309     Humidity        %  2020-06-09 21:32:03   \n",
       "300949  PER_AIRMON_MESH1911150         PM10   ugm -3  2020-06-13 17:59:00   \n",
       "405496  PER_AIRMON_MESH1911150         PM 4   ugm -3  2020-05-28 16:19:00   \n",
       "231666          PER_EMOTE_1309  Temperature  Celsius  2020-06-08 17:14:01   \n",
       "496744  PER_AIRMON_MESH1911150         PM10   ugm -3  2020-05-20 16:58:00   \n",
       "255614          PER_EMOTE_1309     Humidity        %  2020-06-06 19:10:57   \n",
       "\n",
       "        Flag       Value  \n",
       "238672   0.0   366.22661  \n",
       "92085    0.0     1.67000  \n",
       "553714   0.0    16.91000  \n",
       "89212    0.0  1024.90000  \n",
       "442137   0.0    65.80000  \n",
       "300949   0.0    15.74500  \n",
       "405496   0.0     3.38000  \n",
       "231666   0.0    16.50000  \n",
       "496744   0.0     8.34000  \n",
       "255614   0.0    53.40000  "
      ]
     },
     "execution_count": 3,
     "metadata": {},
     "output_type": "execute_result"
    }
   ],
   "source": [
    "df_s=pd.read_csv(\"C:/Users/HP/OneDrive - Newcastle University/Dissertation/Data_sets/Sample dataset values1.csv\")\n",
    "# df_s=df_s.drop(\"Key\",1)\n",
    "df_s=df_s.dropna()\n",
    "print(\"sample before \",df_s.shape)\n",
    "\n",
    "df_c=pd.concat([df_s,df_t], axis=0, ignore_index=True)\n",
    "print(\"sample after concat \",df_c.shape)\n",
    "\n",
    "df_remove=df_c.drop_duplicates()\n",
    "print(\"after removing duplicates \",df_remove.shape)\n",
    "\n",
    "df_shuffle = shuffle(df_remove)\n",
    "df_shuffle.to_csv(\"C:/Users/HP/OneDrive - Newcastle University/Dissertation/Data_sets/Sample dataset values1.csv\",mode=\"w\",index=False)\n",
    "\n",
    "df=pd.read_csv(\"C:/Users/HP/OneDrive - Newcastle University/Dissertation/Data_sets/Sample dataset values1.csv\")\n",
    "print(\"sample newly loaded \",df.shape)\n",
    "\n",
    "df=df.drop_duplicates()\n",
    "print(\"sample newly removed duplictes \",df.shape)\n",
    "\n",
    "end=time.time()\n",
    "print(\"before final loading\",end-start)\n",
    "df= shuffle(df)\n",
    "df.to_csv(\"C:/Users/HP/OneDrive - Newcastle University/Dissertation/Data_sets/Sample dataset values1.csv\",mode=\"w\",index=False)\n",
    "\n",
    "end=time.time()\n",
    "print(\"after loading\",end-start)\n",
    "df.tail(10)"
   ]
  },
  {
   "cell_type": "code",
   "execution_count": 4,
   "metadata": {
    "scrolled": false
   },
   "outputs": [
    {
     "name": "stdout",
     "output_type": "stream",
     "text": [
      "<class 'pandas.core.frame.DataFrame'>\n",
      "Int64Index: 643092 entries, 456086 to 255614\n",
      "Data columns (total 6 columns):\n",
      "Sensor    643092 non-null object\n",
      "Type      643092 non-null object\n",
      "Units     643092 non-null object\n",
      "time      643092 non-null object\n",
      "Flag      643092 non-null float64\n",
      "Value     643092 non-null float64\n",
      "dtypes: float64(2), object(4)\n",
      "memory usage: 34.3+ MB\n"
     ]
    }
   ],
   "source": [
    "df.info()"
   ]
  },
  {
   "cell_type": "code",
   "execution_count": 5,
   "metadata": {},
   "outputs": [
    {
     "data": {
      "text/plain": [
       "Sensor         3\n",
       "Type          12\n",
       "Units          6\n",
       "time       78775\n",
       "Flag           2\n",
       "Value     144614\n",
       "dtype: int64"
      ]
     },
     "execution_count": 5,
     "metadata": {},
     "output_type": "execute_result"
    }
   ],
   "source": [
    "df.nunique()"
   ]
  },
  {
   "cell_type": "code",
   "execution_count": 6,
   "metadata": {},
   "outputs": [
    {
     "data": {
      "text/html": [
       "<div>\n",
       "<style scoped>\n",
       "    .dataframe tbody tr th:only-of-type {\n",
       "        vertical-align: middle;\n",
       "    }\n",
       "\n",
       "    .dataframe tbody tr th {\n",
       "        vertical-align: top;\n",
       "    }\n",
       "\n",
       "    .dataframe thead th {\n",
       "        text-align: right;\n",
       "    }\n",
       "</style>\n",
       "<table border=\"1\" class=\"dataframe\">\n",
       "  <thead>\n",
       "    <tr style=\"text-align: right;\">\n",
       "      <th></th>\n",
       "      <th>Sensor</th>\n",
       "      <th>Type</th>\n",
       "      <th>Units</th>\n",
       "      <th>time</th>\n",
       "      <th>Flag</th>\n",
       "      <th>Value</th>\n",
       "    </tr>\n",
       "  </thead>\n",
       "  <tbody>\n",
       "    <tr>\n",
       "      <th>0</th>\n",
       "      <td>PER_AIRMON_MESH1911150</td>\n",
       "      <td>PM2.5</td>\n",
       "      <td>ugm -3</td>\n",
       "      <td>2020-06-08 08:22:00</td>\n",
       "      <td>0.0</td>\n",
       "      <td>3.833</td>\n",
       "    </tr>\n",
       "    <tr>\n",
       "      <th>1</th>\n",
       "      <td>PER_AIRMON_MESH1911150</td>\n",
       "      <td>PM10</td>\n",
       "      <td>ugm -3</td>\n",
       "      <td>2020-05-24 15:13:00</td>\n",
       "      <td>0.0</td>\n",
       "      <td>6.233</td>\n",
       "    </tr>\n",
       "    <tr>\n",
       "      <th>2</th>\n",
       "      <td>PER_AIRMON_MESH301245</td>\n",
       "      <td>PM10</td>\n",
       "      <td>ugm -3</td>\n",
       "      <td>2020-06-06 11:10:00</td>\n",
       "      <td>0.0</td>\n",
       "      <td>8.770</td>\n",
       "    </tr>\n",
       "    <tr>\n",
       "      <th>3</th>\n",
       "      <td>PER_EMOTE_1309</td>\n",
       "      <td>Temperature</td>\n",
       "      <td>Celsius</td>\n",
       "      <td>2020-06-05 00:33:53</td>\n",
       "      <td>0.0</td>\n",
       "      <td>8.100</td>\n",
       "    </tr>\n",
       "    <tr>\n",
       "      <th>4</th>\n",
       "      <td>PER_AIRMON_MESH1911150</td>\n",
       "      <td>PM1</td>\n",
       "      <td>ugm -3</td>\n",
       "      <td>2020-06-15 05:43:00</td>\n",
       "      <td>0.0</td>\n",
       "      <td>12.505</td>\n",
       "    </tr>\n",
       "  </tbody>\n",
       "</table>\n",
       "</div>"
      ],
      "text/plain": [
       "                   Sensor         Type    Units                 time  Flag  \\\n",
       "0  PER_AIRMON_MESH1911150        PM2.5   ugm -3  2020-06-08 08:22:00   0.0   \n",
       "1  PER_AIRMON_MESH1911150         PM10   ugm -3  2020-05-24 15:13:00   0.0   \n",
       "2   PER_AIRMON_MESH301245         PM10   ugm -3  2020-06-06 11:10:00   0.0   \n",
       "3          PER_EMOTE_1309  Temperature  Celsius  2020-06-05 00:33:53   0.0   \n",
       "4  PER_AIRMON_MESH1911150          PM1   ugm -3  2020-06-15 05:43:00   0.0   \n",
       "\n",
       "    Value  \n",
       "0   3.833  \n",
       "1   6.233  \n",
       "2   8.770  \n",
       "3   8.100  \n",
       "4  12.505  "
      ]
     },
     "execution_count": 6,
     "metadata": {},
     "output_type": "execute_result"
    }
   ],
   "source": [
    "df_s.head()"
   ]
  },
  {
   "cell_type": "code",
   "execution_count": 7,
   "metadata": {},
   "outputs": [
    {
     "data": {
      "text/plain": [
       "array(['PER_EMOTE_1309', 'PER_AIRMON_MESH1911150',\n",
       "       'PER_AIRMON_MESH301245'], dtype=object)"
      ]
     },
     "execution_count": 7,
     "metadata": {},
     "output_type": "execute_result"
    }
   ],
   "source": [
    "df.Sensor.unique()"
   ]
  },
  {
   "cell_type": "code",
   "execution_count": 8,
   "metadata": {},
   "outputs": [
    {
     "data": {
      "text/plain": [
       "array(['Sound', 'Humidity', 'PM1', 'PM2.5', 'NO2', 'Temperature', 'NO',\n",
       "       'PM10', 'PM 4', 'CO', 'O3', 'Pressure'], dtype=object)"
      ]
     },
     "execution_count": 8,
     "metadata": {},
     "output_type": "execute_result"
    }
   ],
   "source": [
    "df.Type.unique()"
   ]
  },
  {
   "cell_type": "code",
   "execution_count": 9,
   "metadata": {},
   "outputs": [
    {
     "data": {
      "text/plain": [
       "array(['db', '%', 'ugm -3', 'Celsius', 'ppb', 'hpa'], dtype=object)"
      ]
     },
     "execution_count": 9,
     "metadata": {},
     "output_type": "execute_result"
    }
   ],
   "source": [
    "df.Units.unique()"
   ]
  },
  {
   "cell_type": "code",
   "execution_count": 10,
   "metadata": {},
   "outputs": [
    {
     "data": {
      "text/plain": [
       "array([0., 1.])"
      ]
     },
     "execution_count": 10,
     "metadata": {},
     "output_type": "execute_result"
    }
   ],
   "source": [
    "df.Flag.unique()"
   ]
  },
  {
   "cell_type": "code",
   "execution_count": null,
   "metadata": {},
   "outputs": [],
   "source": []
  }
 ],
 "metadata": {
  "kernelspec": {
   "display_name": "Python 3",
   "language": "python",
   "name": "python3"
  },
  "language_info": {
   "codemirror_mode": {
    "name": "ipython",
    "version": 3
   },
   "file_extension": ".py",
   "mimetype": "text/x-python",
   "name": "python",
   "nbconvert_exporter": "python",
   "pygments_lexer": "ipython3",
   "version": "3.7.5"
  }
 },
 "nbformat": 4,
 "nbformat_minor": 2
}
