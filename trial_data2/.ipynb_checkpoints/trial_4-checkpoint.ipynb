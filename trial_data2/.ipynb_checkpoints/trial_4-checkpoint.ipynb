{
 "cells": [
  {
   "cell_type": "code",
   "execution_count": 1,
   "metadata": {},
   "outputs": [],
   "source": [
    "import pandas as pd"
   ]
  },
  {
   "cell_type": "code",
   "execution_count": 2,
   "metadata": {},
   "outputs": [
    {
     "data": {
      "text/html": [
       "<div>\n",
       "<style scoped>\n",
       "    .dataframe tbody tr th:only-of-type {\n",
       "        vertical-align: middle;\n",
       "    }\n",
       "\n",
       "    .dataframe tbody tr th {\n",
       "        vertical-align: top;\n",
       "    }\n",
       "\n",
       "    .dataframe thead th {\n",
       "        text-align: right;\n",
       "    }\n",
       "</style>\n",
       "<table border=\"1\" class=\"dataframe\">\n",
       "  <thead>\n",
       "    <tr style=\"text-align: right;\">\n",
       "      <th></th>\n",
       "      <th>Sensor</th>\n",
       "      <th>Type</th>\n",
       "      <th>Units</th>\n",
       "      <th>time</th>\n",
       "      <th>Flag</th>\n",
       "      <th>Value</th>\n",
       "    </tr>\n",
       "  </thead>\n",
       "  <tbody>\n",
       "    <tr>\n",
       "      <th>0</th>\n",
       "      <td>PER_AIRMON_MESH1911150</td>\n",
       "      <td>NO2</td>\n",
       "      <td>ugm -3</td>\n",
       "      <td>2020-06-28 21:15:00</td>\n",
       "      <td>False</td>\n",
       "      <td>22.06180</td>\n",
       "    </tr>\n",
       "    <tr>\n",
       "      <th>1</th>\n",
       "      <td>PER_AIRMON_MESH1911150</td>\n",
       "      <td>NO2</td>\n",
       "      <td>ugm -3</td>\n",
       "      <td>2020-06-28 21:30:00</td>\n",
       "      <td>False</td>\n",
       "      <td>23.42104</td>\n",
       "    </tr>\n",
       "    <tr>\n",
       "      <th>2</th>\n",
       "      <td>PER_AIRMON_MESH1911150</td>\n",
       "      <td>NO2</td>\n",
       "      <td>ugm -3</td>\n",
       "      <td>2020-06-28 21:45:00</td>\n",
       "      <td>False</td>\n",
       "      <td>23.04128</td>\n",
       "    </tr>\n",
       "    <tr>\n",
       "      <th>3</th>\n",
       "      <td>PER_AIRMON_MESH1911150</td>\n",
       "      <td>NO2</td>\n",
       "      <td>ugm -3</td>\n",
       "      <td>2020-06-28 22:00:00</td>\n",
       "      <td>False</td>\n",
       "      <td>22.04112</td>\n",
       "    </tr>\n",
       "    <tr>\n",
       "      <th>4</th>\n",
       "      <td>PER_AIRMON_MESH1911150</td>\n",
       "      <td>NO2</td>\n",
       "      <td>ugm -3</td>\n",
       "      <td>2020-06-28 22:15:00</td>\n",
       "      <td>False</td>\n",
       "      <td>22.42088</td>\n",
       "    </tr>\n",
       "  </tbody>\n",
       "</table>\n",
       "</div>"
      ],
      "text/plain": [
       "                   Sensor Type   Units                 time   Flag     Value\n",
       "0  PER_AIRMON_MESH1911150  NO2  ugm -3  2020-06-28 21:15:00  False  22.06180\n",
       "1  PER_AIRMON_MESH1911150  NO2  ugm -3  2020-06-28 21:30:00  False  23.42104\n",
       "2  PER_AIRMON_MESH1911150  NO2  ugm -3  2020-06-28 21:45:00  False  23.04128\n",
       "3  PER_AIRMON_MESH1911150  NO2  ugm -3  2020-06-28 22:00:00  False  22.04112\n",
       "4  PER_AIRMON_MESH1911150  NO2  ugm -3  2020-06-28 22:15:00  False  22.42088"
      ]
     },
     "execution_count": 2,
     "metadata": {},
     "output_type": "execute_result"
    }
   ],
   "source": [
    "df=pd.read_csv(\"C:/Users/HP/OneDrive - Newcastle University/Dissertation/Data_sets/test.csv\",delimiter=\",\",names=[\"Sensor\",\"Type\",\"Units\",\"time\",\"Flag\",\"Value\"])\n",
    "df.head(5)"
   ]
  },
  {
   "cell_type": "code",
   "execution_count": 3,
   "metadata": {},
   "outputs": [],
   "source": [
    "# df.to_dict('records')"
   ]
  },
  {
   "cell_type": "code",
   "execution_count": 4,
   "metadata": {},
   "outputs": [
    {
     "data": {
      "text/plain": [
       "48702"
      ]
     },
     "execution_count": 4,
     "metadata": {},
     "output_type": "execute_result"
    }
   ],
   "source": [
    "df_true=df[df[\"Flag\"]==0]\n",
    "len(df_true)"
   ]
  },
  {
   "cell_type": "code",
   "execution_count": 5,
   "metadata": {},
   "outputs": [],
   "source": [
    "def MinMax(df):\n",
    "    df_cols=df.Type.unique()\n",
    "    table=[]\n",
    "    for i in range(0,len(df_cols)):\n",
    "        df1=df.loc[df.Type==df_cols[i]]\n",
    "#         print(\"Minimum of {} is {}\".format(df_cols[i],min(df1.Value)))\n",
    "#         print(\"Maximum of {} is {}\".format(df_cols[i],max(df1.Value)))\n",
    "        minmax=[df_cols[i],max(df1.Value),0]\n",
    "        table.append(minmax)\n",
    "    table=pd.DataFrame(table,columns=[\"type\",\"max1\",\"status\"])\n",
    "    table.to_csv(\"minmax.csv\",mode=\"w+\",index=False)    "
   ]
  },
  {
   "cell_type": "code",
   "execution_count": 6,
   "metadata": {},
   "outputs": [],
   "source": [
    "MinMax(df_true)"
   ]
  },
  {
   "cell_type": "code",
   "execution_count": 7,
   "metadata": {},
   "outputs": [
    {
     "data": {
      "text/html": [
       "<div>\n",
       "<style scoped>\n",
       "    .dataframe tbody tr th:only-of-type {\n",
       "        vertical-align: middle;\n",
       "    }\n",
       "\n",
       "    .dataframe tbody tr th {\n",
       "        vertical-align: top;\n",
       "    }\n",
       "\n",
       "    .dataframe thead th {\n",
       "        text-align: right;\n",
       "    }\n",
       "</style>\n",
       "<table border=\"1\" class=\"dataframe\">\n",
       "  <thead>\n",
       "    <tr style=\"text-align: right;\">\n",
       "      <th></th>\n",
       "      <th>type</th>\n",
       "      <th>max1</th>\n",
       "      <th>status</th>\n",
       "    </tr>\n",
       "  </thead>\n",
       "  <tbody>\n",
       "    <tr>\n",
       "      <th>1</th>\n",
       "      <td>Temperature</td>\n",
       "      <td>19.1</td>\n",
       "      <td>0</td>\n",
       "    </tr>\n",
       "  </tbody>\n",
       "</table>\n",
       "</div>"
      ],
      "text/plain": [
       "          type  max1  status\n",
       "1  Temperature  19.1       0"
      ]
     },
     "execution_count": 7,
     "metadata": {},
     "output_type": "execute_result"
    }
   ],
   "source": [
    "df1=df.loc[df.Type==\"Temperature\"]\n",
    "df2=pd.read_csv(\"minmax.csv\")\n",
    "df3=df2.loc[df2.type==\"Temperature\"]\n",
    "df3"
   ]
  },
  {
   "cell_type": "code",
   "execution_count": 8,
   "metadata": {},
   "outputs": [
    {
     "name": "stdout",
     "output_type": "stream",
     "text": [
      "1\n"
     ]
    },
    {
     "data": {
      "text/html": [
       "<div>\n",
       "<style scoped>\n",
       "    .dataframe tbody tr th:only-of-type {\n",
       "        vertical-align: middle;\n",
       "    }\n",
       "\n",
       "    .dataframe tbody tr th {\n",
       "        vertical-align: top;\n",
       "    }\n",
       "\n",
       "    .dataframe thead th {\n",
       "        text-align: right;\n",
       "    }\n",
       "</style>\n",
       "<table border=\"1\" class=\"dataframe\">\n",
       "  <thead>\n",
       "    <tr style=\"text-align: right;\">\n",
       "      <th></th>\n",
       "      <th>type</th>\n",
       "      <th>max1</th>\n",
       "      <th>status</th>\n",
       "    </tr>\n",
       "  </thead>\n",
       "  <tbody>\n",
       "    <tr>\n",
       "      <th>1</th>\n",
       "      <td>Temperature</td>\n",
       "      <td>19.1</td>\n",
       "      <td>0</td>\n",
       "    </tr>\n",
       "  </tbody>\n",
       "</table>\n",
       "</div>"
      ],
      "text/plain": [
       "          type  max1  status\n",
       "1  Temperature  19.1       0"
      ]
     },
     "execution_count": 8,
     "metadata": {},
     "output_type": "execute_result"
    },
    {
     "data": {
      "text/html": [
       "<div>\n",
       "<style scoped>\n",
       "    .dataframe tbody tr th:only-of-type {\n",
       "        vertical-align: middle;\n",
       "    }\n",
       "\n",
       "    .dataframe tbody tr th {\n",
       "        vertical-align: top;\n",
       "    }\n",
       "\n",
       "    .dataframe thead th {\n",
       "        text-align: right;\n",
       "    }\n",
       "</style>\n",
       "<table border=\"1\" class=\"dataframe\">\n",
       "  <thead>\n",
       "    <tr style=\"text-align: right;\">\n",
       "      <th></th>\n",
       "      <th>type</th>\n",
       "      <th>max1</th>\n",
       "      <th>status</th>\n",
       "    </tr>\n",
       "  </thead>\n",
       "  <tbody>\n",
       "    <tr>\n",
       "      <th>1</th>\n",
       "      <td>Temperature</td>\n",
       "      <td>19.1</td>\n",
       "      <td>0</td>\n",
       "    </tr>\n",
       "  </tbody>\n",
       "</table>\n",
       "</div>"
      ],
      "text/plain": [
       "          type  max1  status\n",
       "1  Temperature  19.1       0"
      ]
     },
     "execution_count": 8,
     "metadata": {},
     "output_type": "execute_result"
    }
   ],
   "source": [
    "# a=max(df3.max1)\n",
    "a=25\n",
    "if(a>=20 and a<25):\n",
    "    if((a>=20) and df3.status.to_numpy()==0):\n",
    "        df3.status=df3.status+1\n",
    "        print(\"Here\")\n",
    "    elif((a>=20) and df3.status.to_numpy()==1):\n",
    "        pass\n",
    "    else:\n",
    "        df3.status=df3.status-1\n",
    "if(a>=25 and a<30):\n",
    "    print(\"1\")\n",
    "    if((a>=25) and df3.status.to_numpy()==1):\n",
    "        df3.status=df3.status+2\n",
    "        print(\"Here\")\n",
    "    elif((a>=25) and df3.status.to_numpy()==0):\n",
    "        pass\n",
    "    else:\n",
    "        df3.status=df3.status-1\n",
    "# elif(a>26 and a<30):\n",
    "#     df3.status=df3.status+1\n",
    "df2.loc[df2.type==\"Temperature\"]\n",
    "df3"
   ]
  },
  {
   "cell_type": "code",
   "execution_count": 9,
   "metadata": {},
   "outputs": [
    {
     "data": {
      "text/plain": [
       "1    19.1\n",
       "Name: max1, dtype: float64"
      ]
     },
     "execution_count": 9,
     "metadata": {},
     "output_type": "execute_result"
    }
   ],
   "source": [
    "# df3=df2.loc[df2.type==\"Temperature\"]\n",
    "# df3.status=df3.status+2\n",
    "# # df3.status=df3.status+1\n",
    "# df3\n",
    "df3.max1"
   ]
  },
  {
   "cell_type": "code",
   "execution_count": 10,
   "metadata": {},
   "outputs": [
    {
     "data": {
      "text/html": [
       "<div>\n",
       "<style scoped>\n",
       "    .dataframe tbody tr th:only-of-type {\n",
       "        vertical-align: middle;\n",
       "    }\n",
       "\n",
       "    .dataframe tbody tr th {\n",
       "        vertical-align: top;\n",
       "    }\n",
       "\n",
       "    .dataframe thead th {\n",
       "        text-align: right;\n",
       "    }\n",
       "</style>\n",
       "<table border=\"1\" class=\"dataframe\">\n",
       "  <thead>\n",
       "    <tr style=\"text-align: right;\">\n",
       "      <th></th>\n",
       "      <th>type</th>\n",
       "      <th>max1</th>\n",
       "      <th>status</th>\n",
       "    </tr>\n",
       "  </thead>\n",
       "  <tbody>\n",
       "    <tr>\n",
       "      <th>1</th>\n",
       "      <td>Temperature</td>\n",
       "      <td>19.1</td>\n",
       "      <td>0</td>\n",
       "    </tr>\n",
       "  </tbody>\n",
       "</table>\n",
       "</div>"
      ],
      "text/plain": [
       "          type  max1  status\n",
       "1  Temperature  19.1       0"
      ]
     },
     "execution_count": 10,
     "metadata": {},
     "output_type": "execute_result"
    }
   ],
   "source": [
    "df2.loc[df2.type==\"Temperature\"]"
   ]
  },
  {
   "cell_type": "code",
   "execution_count": 11,
   "metadata": {},
   "outputs": [
    {
     "data": {
      "text/html": [
       "<div>\n",
       "<style scoped>\n",
       "    .dataframe tbody tr th:only-of-type {\n",
       "        vertical-align: middle;\n",
       "    }\n",
       "\n",
       "    .dataframe tbody tr th {\n",
       "        vertical-align: top;\n",
       "    }\n",
       "\n",
       "    .dataframe thead th {\n",
       "        text-align: right;\n",
       "    }\n",
       "</style>\n",
       "<table border=\"1\" class=\"dataframe\">\n",
       "  <thead>\n",
       "    <tr style=\"text-align: right;\">\n",
       "      <th></th>\n",
       "      <th>type</th>\n",
       "      <th>max1</th>\n",
       "      <th>status</th>\n",
       "    </tr>\n",
       "  </thead>\n",
       "  <tbody>\n",
       "    <tr>\n",
       "      <th>0</th>\n",
       "      <td>NO2</td>\n",
       "      <td>73.877157</td>\n",
       "      <td>0</td>\n",
       "    </tr>\n",
       "    <tr>\n",
       "      <th>1</th>\n",
       "      <td>Temperature</td>\n",
       "      <td>19.100000</td>\n",
       "      <td>0</td>\n",
       "    </tr>\n",
       "    <tr>\n",
       "      <th>2</th>\n",
       "      <td>O3</td>\n",
       "      <td>47.651000</td>\n",
       "      <td>0</td>\n",
       "    </tr>\n",
       "    <tr>\n",
       "      <th>3</th>\n",
       "      <td>PM 4</td>\n",
       "      <td>24.710000</td>\n",
       "      <td>0</td>\n",
       "    </tr>\n",
       "    <tr>\n",
       "      <th>4</th>\n",
       "      <td>PM1</td>\n",
       "      <td>14.310000</td>\n",
       "      <td>0</td>\n",
       "    </tr>\n",
       "    <tr>\n",
       "      <th>5</th>\n",
       "      <td>PM2.5</td>\n",
       "      <td>20.240000</td>\n",
       "      <td>0</td>\n",
       "    </tr>\n",
       "    <tr>\n",
       "      <th>6</th>\n",
       "      <td>Humidity</td>\n",
       "      <td>81.400000</td>\n",
       "      <td>0</td>\n",
       "    </tr>\n",
       "    <tr>\n",
       "      <th>7</th>\n",
       "      <td>PM10</td>\n",
       "      <td>28.150000</td>\n",
       "      <td>0</td>\n",
       "    </tr>\n",
       "    <tr>\n",
       "      <th>8</th>\n",
       "      <td>CO</td>\n",
       "      <td>366.716252</td>\n",
       "      <td>0</td>\n",
       "    </tr>\n",
       "    <tr>\n",
       "      <th>9</th>\n",
       "      <td>Pressure</td>\n",
       "      <td>1006.700000</td>\n",
       "      <td>0</td>\n",
       "    </tr>\n",
       "    <tr>\n",
       "      <th>10</th>\n",
       "      <td>NO</td>\n",
       "      <td>95.698762</td>\n",
       "      <td>0</td>\n",
       "    </tr>\n",
       "    <tr>\n",
       "      <th>11</th>\n",
       "      <td>Sound</td>\n",
       "      <td>78.000000</td>\n",
       "      <td>0</td>\n",
       "    </tr>\n",
       "  </tbody>\n",
       "</table>\n",
       "</div>"
      ],
      "text/plain": [
       "           type         max1  status\n",
       "0           NO2    73.877157       0\n",
       "1   Temperature    19.100000       0\n",
       "2            O3    47.651000       0\n",
       "3          PM 4    24.710000       0\n",
       "4           PM1    14.310000       0\n",
       "5         PM2.5    20.240000       0\n",
       "6      Humidity    81.400000       0\n",
       "7          PM10    28.150000       0\n",
       "8            CO   366.716252       0\n",
       "9      Pressure  1006.700000       0\n",
       "10           NO    95.698762       0\n",
       "11        Sound    78.000000       0"
      ]
     },
     "execution_count": 11,
     "metadata": {},
     "output_type": "execute_result"
    }
   ],
   "source": [
    "df2"
   ]
  },
  {
   "cell_type": "code",
   "execution_count": 12,
   "metadata": {},
   "outputs": [
    {
     "data": {
      "text/plain": [
       "array([0], dtype=int64)"
      ]
     },
     "execution_count": 12,
     "metadata": {},
     "output_type": "execute_result"
    },
    {
     "data": {
      "text/plain": [
       "numpy.ndarray"
      ]
     },
     "execution_count": 12,
     "metadata": {},
     "output_type": "execute_result"
    },
    {
     "name": "stdout",
     "output_type": "stream",
     "text": [
      "true\n"
     ]
    }
   ],
   "source": [
    "a=19.5\n",
    "b=df3[\"status\"].to_numpy()\n",
    "b\n",
    "type(b)\n",
    "if(b==0):\n",
    "    print(\"true\")\n",
    "    \n",
    "# df3.max1"
   ]
  },
  {
   "cell_type": "code",
   "execution_count": 13,
   "metadata": {},
   "outputs": [
    {
     "data": {
      "text/html": [
       "<div>\n",
       "<style scoped>\n",
       "    .dataframe tbody tr th:only-of-type {\n",
       "        vertical-align: middle;\n",
       "    }\n",
       "\n",
       "    .dataframe tbody tr th {\n",
       "        vertical-align: top;\n",
       "    }\n",
       "\n",
       "    .dataframe thead th {\n",
       "        text-align: right;\n",
       "    }\n",
       "</style>\n",
       "<table border=\"1\" class=\"dataframe\">\n",
       "  <thead>\n",
       "    <tr style=\"text-align: right;\">\n",
       "      <th></th>\n",
       "      <th>type</th>\n",
       "      <th>max1</th>\n",
       "      <th>status</th>\n",
       "    </tr>\n",
       "  </thead>\n",
       "  <tbody>\n",
       "    <tr>\n",
       "      <th>1</th>\n",
       "      <td>Temperature</td>\n",
       "      <td>19.1</td>\n",
       "      <td>0</td>\n",
       "    </tr>\n",
       "  </tbody>\n",
       "</table>\n",
       "</div>"
      ],
      "text/plain": [
       "          type  max1  status\n",
       "1  Temperature  19.1       0"
      ]
     },
     "execution_count": 13,
     "metadata": {},
     "output_type": "execute_result"
    },
    {
     "data": {
      "text/html": [
       "<div>\n",
       "<style scoped>\n",
       "    .dataframe tbody tr th:only-of-type {\n",
       "        vertical-align: middle;\n",
       "    }\n",
       "\n",
       "    .dataframe tbody tr th {\n",
       "        vertical-align: top;\n",
       "    }\n",
       "\n",
       "    .dataframe thead th {\n",
       "        text-align: right;\n",
       "    }\n",
       "</style>\n",
       "<table border=\"1\" class=\"dataframe\">\n",
       "  <thead>\n",
       "    <tr style=\"text-align: right;\">\n",
       "      <th></th>\n",
       "      <th>type</th>\n",
       "      <th>max1</th>\n",
       "      <th>status</th>\n",
       "    </tr>\n",
       "  </thead>\n",
       "  <tbody>\n",
       "    <tr>\n",
       "      <th>0</th>\n",
       "      <td>NO2</td>\n",
       "      <td>73.877157</td>\n",
       "      <td>0</td>\n",
       "    </tr>\n",
       "    <tr>\n",
       "      <th>1</th>\n",
       "      <td>Temperature</td>\n",
       "      <td>19.100000</td>\n",
       "      <td>0</td>\n",
       "    </tr>\n",
       "    <tr>\n",
       "      <th>2</th>\n",
       "      <td>O3</td>\n",
       "      <td>47.651000</td>\n",
       "      <td>0</td>\n",
       "    </tr>\n",
       "    <tr>\n",
       "      <th>3</th>\n",
       "      <td>PM 4</td>\n",
       "      <td>24.710000</td>\n",
       "      <td>0</td>\n",
       "    </tr>\n",
       "    <tr>\n",
       "      <th>4</th>\n",
       "      <td>PM1</td>\n",
       "      <td>14.310000</td>\n",
       "      <td>0</td>\n",
       "    </tr>\n",
       "    <tr>\n",
       "      <th>5</th>\n",
       "      <td>PM2.5</td>\n",
       "      <td>20.240000</td>\n",
       "      <td>0</td>\n",
       "    </tr>\n",
       "    <tr>\n",
       "      <th>6</th>\n",
       "      <td>Humidity</td>\n",
       "      <td>81.400000</td>\n",
       "      <td>0</td>\n",
       "    </tr>\n",
       "    <tr>\n",
       "      <th>7</th>\n",
       "      <td>PM10</td>\n",
       "      <td>28.150000</td>\n",
       "      <td>0</td>\n",
       "    </tr>\n",
       "    <tr>\n",
       "      <th>8</th>\n",
       "      <td>CO</td>\n",
       "      <td>366.716252</td>\n",
       "      <td>0</td>\n",
       "    </tr>\n",
       "    <tr>\n",
       "      <th>9</th>\n",
       "      <td>Pressure</td>\n",
       "      <td>1006.700000</td>\n",
       "      <td>0</td>\n",
       "    </tr>\n",
       "    <tr>\n",
       "      <th>10</th>\n",
       "      <td>NO</td>\n",
       "      <td>95.698762</td>\n",
       "      <td>0</td>\n",
       "    </tr>\n",
       "    <tr>\n",
       "      <th>11</th>\n",
       "      <td>Sound</td>\n",
       "      <td>78.000000</td>\n",
       "      <td>0</td>\n",
       "    </tr>\n",
       "  </tbody>\n",
       "</table>\n",
       "</div>"
      ],
      "text/plain": [
       "           type         max1  status\n",
       "0           NO2    73.877157       0\n",
       "1   Temperature    19.100000       0\n",
       "2            O3    47.651000       0\n",
       "3          PM 4    24.710000       0\n",
       "4           PM1    14.310000       0\n",
       "5         PM2.5    20.240000       0\n",
       "6      Humidity    81.400000       0\n",
       "7          PM10    28.150000       0\n",
       "8            CO   366.716252       0\n",
       "9      Pressure  1006.700000       0\n",
       "10           NO    95.698762       0\n",
       "11        Sound    78.000000       0"
      ]
     },
     "execution_count": 13,
     "metadata": {},
     "output_type": "execute_result"
    }
   ],
   "source": [
    "df1=df.loc[df.Type==\"Temperature\"]\n",
    "df2=pd.read_csv(\"minmax.csv\")\n",
    "df3=df2.loc[df2.type==\"Temperature\"]\n",
    "df3\n",
    "df2"
   ]
  },
  {
   "cell_type": "code",
   "execution_count": 14,
   "metadata": {},
   "outputs": [],
   "source": [
    "def check(a):\n",
    "    \n",
    "    if(a<30):\n",
    "        if(df3.status.to_numpy()==1):\n",
    "            df3.status=df3.status-1\n",
    "        elif(df3.status.to_numpy()==2):\n",
    "            df3.status=df3.status-2\n",
    "        elif(df3.status.to_numpy()==3):\n",
    "            df3.status=df3.status-3\n",
    "        elif(df3.status.to_numpy()==4):\n",
    "            df3.status=df3.status-4\n",
    "        else:\n",
    "            df3.status=df3.status\n",
    "    if(a>=20 and a<25):\n",
    "        if(df3.status.to_numpy()==0):\n",
    "            df3.status=df3.status+1\n",
    "        elif(df3.status.to_numpy()==2):\n",
    "            df3.status=df3.status-1\n",
    "        elif(df3.status.to_numpy()==3):\n",
    "            df3.status=df3.status-2\n",
    "        elif(df3.status.to_numpy()==4):\n",
    "            df3.status=df3.status-3\n",
    "        else:\n",
    "            df3.status=df3.status\n",
    "    if(a>=25 and a<30):\n",
    "        if(df3.status.to_numpy()==0):\n",
    "            df3.status=df3.status+2\n",
    "        elif(df3.status.to_numpy()==1):\n",
    "            df3.status=df3.status+1    \n",
    "        elif(df3.status.to_numpy()==3):\n",
    "            df3.status=df3.status-1\n",
    "        elif(df3.status.to_numpy()==4):\n",
    "            df3.status=df3.status-2\n",
    "        else:\n",
    "            df3.status=df3.status\n",
    "    if(a>=30 and a<35):\n",
    "        if(df3.status.to_numpy()==0):\n",
    "            df3.status=df3.status+3\n",
    "        elif(df3.status.to_numpy()==1):\n",
    "            df3.status=df3.status+2\n",
    "        elif(df3.status.to_numpy()==2):\n",
    "            df3.status=df3.status+1\n",
    "        elif(df3.status.to_numpy()==4):\n",
    "            df3.status=df3.status-1\n",
    "        else:\n",
    "            df3.status=df3.status\n",
    "    if(a>=35 and a<40):\n",
    "        if(df3.status.to_numpy()==0):\n",
    "            df3.status=df3.status+4\n",
    "        elif(df3.status.to_numpy()==1):\n",
    "            df3.status=df3.status+3\n",
    "        elif(df3.status.to_numpy()==2):\n",
    "            df3.status=df3.status+2\n",
    "        elif(df3.status.to_numpy()==3):\n",
    "            df3.status=df3.status+1\n",
    "        else:\n",
    "            df3.status=df3.status\n",
    "    print(df3)"
   ]
  },
  {
   "cell_type": "code",
   "execution_count": 15,
   "metadata": {},
   "outputs": [
    {
     "name": "stdout",
     "output_type": "stream",
     "text": [
      "          type  max1  status\n",
      "1  Temperature  19.1       0\n"
     ]
    },
    {
     "name": "stderr",
     "output_type": "stream",
     "text": [
      "C:\\Users\\HP\\Anaconda3\\envs\\Machine_Learning\\lib\\site-packages\\pandas\\core\\generic.py:5208: SettingWithCopyWarning: \n",
      "A value is trying to be set on a copy of a slice from a DataFrame.\n",
      "Try using .loc[row_indexer,col_indexer] = value instead\n",
      "\n",
      "See the caveats in the documentation: http://pandas.pydata.org/pandas-docs/stable/user_guide/indexing.html#returning-a-view-versus-a-copy\n",
      "  self[name] = value\n"
     ]
    }
   ],
   "source": [
    "# temp <20\n",
    "# temp>=20 and temp<25 =1\n",
    "# temp>=25 and temp<30 =2\n",
    "# temp>=30 and temp<35 =3\n",
    "# temp>=35 and temp<40 =4\n",
    "\n",
    "check(19)"
   ]
  },
  {
   "cell_type": "code",
   "execution_count": 16,
   "metadata": {},
   "outputs": [
    {
     "data": {
      "text/html": [
       "<div>\n",
       "<style scoped>\n",
       "    .dataframe tbody tr th:only-of-type {\n",
       "        vertical-align: middle;\n",
       "    }\n",
       "\n",
       "    .dataframe tbody tr th {\n",
       "        vertical-align: top;\n",
       "    }\n",
       "\n",
       "    .dataframe thead th {\n",
       "        text-align: right;\n",
       "    }\n",
       "</style>\n",
       "<table border=\"1\" class=\"dataframe\">\n",
       "  <thead>\n",
       "    <tr style=\"text-align: right;\">\n",
       "      <th></th>\n",
       "      <th>type</th>\n",
       "      <th>max1</th>\n",
       "      <th>status</th>\n",
       "    </tr>\n",
       "  </thead>\n",
       "  <tbody>\n",
       "    <tr>\n",
       "      <th>0</th>\n",
       "      <td>NO2</td>\n",
       "      <td>73.877157</td>\n",
       "      <td>0</td>\n",
       "    </tr>\n",
       "    <tr>\n",
       "      <th>1</th>\n",
       "      <td>Temperature</td>\n",
       "      <td>19.100000</td>\n",
       "      <td>0</td>\n",
       "    </tr>\n",
       "    <tr>\n",
       "      <th>2</th>\n",
       "      <td>O3</td>\n",
       "      <td>47.651000</td>\n",
       "      <td>0</td>\n",
       "    </tr>\n",
       "    <tr>\n",
       "      <th>3</th>\n",
       "      <td>PM 4</td>\n",
       "      <td>24.710000</td>\n",
       "      <td>0</td>\n",
       "    </tr>\n",
       "    <tr>\n",
       "      <th>4</th>\n",
       "      <td>PM1</td>\n",
       "      <td>14.310000</td>\n",
       "      <td>0</td>\n",
       "    </tr>\n",
       "    <tr>\n",
       "      <th>5</th>\n",
       "      <td>PM2.5</td>\n",
       "      <td>20.240000</td>\n",
       "      <td>0</td>\n",
       "    </tr>\n",
       "    <tr>\n",
       "      <th>6</th>\n",
       "      <td>Humidity</td>\n",
       "      <td>81.400000</td>\n",
       "      <td>0</td>\n",
       "    </tr>\n",
       "    <tr>\n",
       "      <th>7</th>\n",
       "      <td>PM10</td>\n",
       "      <td>28.150000</td>\n",
       "      <td>0</td>\n",
       "    </tr>\n",
       "    <tr>\n",
       "      <th>8</th>\n",
       "      <td>CO</td>\n",
       "      <td>366.716252</td>\n",
       "      <td>0</td>\n",
       "    </tr>\n",
       "    <tr>\n",
       "      <th>9</th>\n",
       "      <td>Pressure</td>\n",
       "      <td>1006.700000</td>\n",
       "      <td>0</td>\n",
       "    </tr>\n",
       "    <tr>\n",
       "      <th>10</th>\n",
       "      <td>NO</td>\n",
       "      <td>95.698762</td>\n",
       "      <td>0</td>\n",
       "    </tr>\n",
       "    <tr>\n",
       "      <th>11</th>\n",
       "      <td>Sound</td>\n",
       "      <td>78.000000</td>\n",
       "      <td>0</td>\n",
       "    </tr>\n",
       "  </tbody>\n",
       "</table>\n",
       "</div>"
      ],
      "text/plain": [
       "           type         max1  status\n",
       "0           NO2    73.877157       0\n",
       "1   Temperature    19.100000       0\n",
       "2            O3    47.651000       0\n",
       "3          PM 4    24.710000       0\n",
       "4           PM1    14.310000       0\n",
       "5         PM2.5    20.240000       0\n",
       "6      Humidity    81.400000       0\n",
       "7          PM10    28.150000       0\n",
       "8            CO   366.716252       0\n",
       "9      Pressure  1006.700000       0\n",
       "10           NO    95.698762       0\n",
       "11        Sound    78.000000       0"
      ]
     },
     "execution_count": 16,
     "metadata": {},
     "output_type": "execute_result"
    }
   ],
   "source": [
    "df2"
   ]
  },
  {
   "cell_type": "code",
   "execution_count": 17,
   "metadata": {},
   "outputs": [],
   "source": [
    "df2.loc[df2.type==\"Temperature\",\"status\"]=1"
   ]
  },
  {
   "cell_type": "code",
   "execution_count": 18,
   "metadata": {},
   "outputs": [
    {
     "data": {
      "text/plain": [
       "array([3], dtype=int64)"
      ]
     },
     "execution_count": 18,
     "metadata": {},
     "output_type": "execute_result"
    }
   ],
   "source": [
    "df2.loc[df2.type==\"Temperature\"].status.to_numpy()+2"
   ]
  },
  {
   "cell_type": "code",
   "execution_count": 50,
   "metadata": {},
   "outputs": [],
   "source": [
    "def check(a):\n",
    "#     print(df2.loc[df2.type==\"Temperature\"].status.to_numpy())\n",
    "#     print(df2.loc[df2.type==\"Temperature\"].max1.to_numpy())\n",
    "    if(a<=19):\n",
    "        if(df2.loc[df2.type==\"Temperature\"].status.to_numpy()==1):\n",
    "            df2.loc[df2.type==\"Temperature\",\"status\"]=df2.loc[df2.type==\"Temperature\"].status.to_numpy()-1\n",
    "        elif(df2.loc[df2.type==\"Temperature\"].status.to_numpy()==2):\n",
    "            df2.loc[df2.type==\"Temperature\",\"status\"]=df2.loc[df2.type==\"Temperature\"].status.to_numpy()-2\n",
    "        elif(df2.loc[df2.type==\"Temperature\"].status.to_numpy()==3):\n",
    "            df2.loc[df2.type==\"Temperature\",\"status\"]=df2.loc[df2.type==\"Temperature\"].status.to_numpy()-3\n",
    "        elif(df2.loc[df2.type==\"Temperature\"].status.to_numpy()==4):\n",
    "            df2.loc[df2.type==\"Temperature\",\"status\"]=df2.loc[df2.type==\"Temperature\"].status.to_numpy()-4\n",
    "        elif(df2.loc[df2.type==\"Temperature\"].status.to_numpy()>4):\n",
    "            df2.loc[df2.type==\"Temperature\",\"status\"]=df2.loc[df2.type==\"Temperature\"].status.to_numpy()-4\n",
    "        else:\n",
    "            df2.loc[df2.type==\"Temperature\",\"status\"]=df2.loc[df2.type==\"Temperature\"].status.to_numpy()\n",
    "    if(a>=20 and a<25):\n",
    "        if(df2.loc[df2.type==\"Temperature\"].status.to_numpy()==0):\n",
    "            df2.loc[df2.type==\"Temperature\",\"status\"]=df2.loc[df2.type==\"Temperature\"].status.to_numpy()+1\n",
    "        elif(df2.loc[df2.type==\"Temperature\"].status.to_numpy()==2):\n",
    "            df2.loc[df2.type==\"Temperature\",\"status\"]=df2.loc[df2.type==\"Temperature\"].status.to_numpy()-1\n",
    "        elif(df2.loc[df2.type==\"Temperature\"].status.to_numpy()==3):\n",
    "            df2.loc[df2.type==\"Temperature\",\"status\"]=df2.loc[df2.type==\"Temperature\"].status.to_numpy()-2\n",
    "        elif(df2.loc[df2.type==\"Temperature\"].status.to_numpy()==4):\n",
    "            df2.loc[df2.type==\"Temperature\",\"status\"]=df2.loc[df2.type==\"Temperature\"].status.to_numpy()-3\n",
    "        else:\n",
    "            df2.loc[df2.type==\"Temperature\",\"status\"]=df2.loc[df2.type==\"Temperature\"].status.to_numpy()\n",
    "    if(a>=25 and a<30):\n",
    "        if(df2.loc[df2.type==\"Temperature\"].status.to_numpy()==0):\n",
    "            df2.loc[df2.type==\"Temperature\",\"status\"]=df2.loc[df2.type==\"Temperature\"].status.to_numpy()+2\n",
    "        elif(df2.loc[df2.type==\"Temperature\"].status.to_numpy()==1):\n",
    "            df2.loc[df2.type==\"Temperature\",\"status\"]=df2.loc[df2.type==\"Temperature\"].status.to_numpy()+1    \n",
    "        elif(df2.loc[df2.type==\"Temperature\"].status.to_numpy()==3):\n",
    "            df2.loc[df2.type==\"Temperature\",\"status\"]=df2.loc[df2.type==\"Temperature\"].status.to_numpy()-1\n",
    "        elif(df2.loc[df2.type==\"Temperature\"].status.to_numpy()==4):\n",
    "            df2.loc[df2.type==\"Temperature\",\"status\"]=df2.loc[df2.type==\"Temperature\"].status.to_numpy()-2\n",
    "        else:\n",
    "            df2.loc[df2.type==\"Temperature\",\"status\"]=df2.loc[df2.type==\"Temperature\"].status.to_numpy()\n",
    "    if(a>=30 and a<35):\n",
    "        if(df2.loc[df2.type==\"Temperature\"].status.to_numpy()==0):\n",
    "            df2.loc[df2.type==\"Temperature\",\"status\"]=df2.loc[df2.type==\"Temperature\"].status.to_numpy()+3\n",
    "        elif(df2.loc[df2.type==\"Temperature\"].status.to_numpy()==1):\n",
    "            df2.loc[df2.type==\"Temperature\",\"status\"]=df2.loc[df2.type==\"Temperature\"].status.to_numpy()+2\n",
    "        elif(df2.loc[df2.type==\"Temperature\"].status.to_numpy()==2):\n",
    "            df2.loc[df2.type==\"Temperature\",\"status\"]=df2.loc[df2.type==\"Temperature\"].status.to_numpy()+1\n",
    "        elif(df2.loc[df2.type==\"Temperature\"].status.to_numpy()==4):\n",
    "            df2.loc[df2.type==\"Temperature\",\"status\"]=df2.loc[df2.type==\"Temperature\"].status.to_numpy()-1\n",
    "        else:\n",
    "            df2.loc[df2.type==\"Temperature\",\"status\"]=df2.loc[df2.type==\"Temperature\"].status.to_numpy()\n",
    "    if(a>=35 and a<40):\n",
    "        if(df2.loc[df2.type==\"Temperature\"].status.to_numpy()==0):\n",
    "            df2.loc[df2.type==\"Temperature\",\"status\"]=df2.loc[df2.type==\"Temperature\"].status.to_numpy()+4\n",
    "        elif(df2.loc[df2.type==\"Temperature\"].status.to_numpy()==1):\n",
    "            df2.loc[df2.type==\"Temperature\",\"status\"]=df2.loc[df2.type==\"Temperature\"].status.to_numpy()+3\n",
    "        elif(df2.loc[df2.type==\"Temperature\"].status.to_numpy()==2):\n",
    "            df2.loc[df2.type==\"Temperature\",\"status\"]=df2.loc[df2.type==\"Temperature\"].status.to_numpy()+2\n",
    "        elif(df2.loc[df2.type==\"Temperature\"].status.to_numpy()==3):\n",
    "            df2.loc[df2.type==\"Temperature\",\"status\"]=df2.loc[df2.type==\"Temperature\"].status.to_numpy()+1\n",
    "        else:\n",
    "            df2.loc[df2.type==\"Temperature\",\"status\"]=df2.loc[df2.type==\"Temperature\"].status.to_numpy()\n",
    "    if(a>=40):\n",
    "        if(df2.loc[df2.type==\"Temperature\"].status.to_numpy()==4):\n",
    "            df2.loc[df2.type==\"Temperature\",\"status\"]=df2.loc[df2.type==\"Temperature\"].status.to_numpy()\n",
    "        else:\n",
    "            df2.loc[df2.type==\"Temperature\",\"status\"]=df2.loc[df2.type==\"Temperature\"].status.to_numpy()+4\n",
    "        print(\"publish Danger\")\n",
    "    df2.loc[df2.type==\"Temperature\",\"max1\"]=a\n",
    "    print(df2.loc[df2.type==\"Temperature\"])\n",
    "    df2.to_csv(\"minmax.csv\",mode=\"w+\",index=False)"
   ]
  },
  {
   "cell_type": "code",
   "execution_count": 52,
   "metadata": {},
   "outputs": [
    {
     "name": "stdout",
     "output_type": "stream",
     "text": [
      "          type  max1  status\n",
      "1  Temperature  10.0       0\n"
     ]
    }
   ],
   "source": [
    "check(10)"
   ]
  },
  {
   "cell_type": "code",
   "execution_count": null,
   "metadata": {},
   "outputs": [],
   "source": []
  },
  {
   "cell_type": "code",
   "execution_count": null,
   "metadata": {},
   "outputs": [],
   "source": []
  }
 ],
 "metadata": {
  "kernelspec": {
   "display_name": "Python 3",
   "language": "python",
   "name": "python3"
  },
  "language_info": {
   "codemirror_mode": {
    "name": "ipython",
    "version": 3
   },
   "file_extension": ".py",
   "mimetype": "text/x-python",
   "name": "python",
   "nbconvert_exporter": "python",
   "pygments_lexer": "ipython3",
   "version": "3.7.5"
  }
 },
 "nbformat": 4,
 "nbformat_minor": 2
}
