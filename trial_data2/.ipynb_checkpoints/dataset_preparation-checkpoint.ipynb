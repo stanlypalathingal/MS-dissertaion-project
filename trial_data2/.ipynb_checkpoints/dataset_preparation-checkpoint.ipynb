{
 "cells": [
  {
   "cell_type": "code",
   "execution_count": 1,
   "metadata": {},
   "outputs": [
    {
     "data": {
      "application/javascript": [
       "IPython.notebook.set_autosave_interval(20000)"
      ]
     },
     "metadata": {},
     "output_type": "display_data"
    },
    {
     "name": "stdout",
     "output_type": "stream",
     "text": [
      "Autosaving every 20 seconds\n"
     ]
    }
   ],
   "source": [
    "%autosave 20\n",
    "import math \n",
    "import time\n",
    "import pandas as pd\n",
    "from sklearn.utils import shuffle"
   ]
  },
  {
   "cell_type": "code",
   "execution_count": 2,
   "metadata": {},
   "outputs": [
    {
     "name": "stdout",
     "output_type": "stream",
     "text": [
      "before loading the test 0.0\n",
      "after loading the test 0.4960918426513672\n",
      "test before  (349142, 6)\n",
      "after removing duplicates the test 0.4999959468841553\n",
      "test after  (86450, 6)\n",
      "test after  (86450, 6)\n"
     ]
    },
    {
     "data": {
      "text/html": [
       "<div>\n",
       "<style scoped>\n",
       "    .dataframe tbody tr th:only-of-type {\n",
       "        vertical-align: middle;\n",
       "    }\n",
       "\n",
       "    .dataframe tbody tr th {\n",
       "        vertical-align: top;\n",
       "    }\n",
       "\n",
       "    .dataframe thead th {\n",
       "        text-align: right;\n",
       "    }\n",
       "</style>\n",
       "<table border=\"1\" class=\"dataframe\">\n",
       "  <thead>\n",
       "    <tr style=\"text-align: right;\">\n",
       "      <th></th>\n",
       "      <th>Sensor</th>\n",
       "      <th>Type</th>\n",
       "      <th>Units</th>\n",
       "      <th>time</th>\n",
       "      <th>Flag</th>\n",
       "      <th>Value</th>\n",
       "    </tr>\n",
       "  </thead>\n",
       "  <tbody>\n",
       "    <tr>\n",
       "      <th>0</th>\n",
       "      <td>PER_AIRMON_MESH1911150</td>\n",
       "      <td>NO2</td>\n",
       "      <td>ugm -3</td>\n",
       "      <td>2020-06-21 12:15:00</td>\n",
       "      <td>False</td>\n",
       "      <td>18.40332</td>\n",
       "    </tr>\n",
       "    <tr>\n",
       "      <th>1</th>\n",
       "      <td>PER_AIRMON_MESH1911150</td>\n",
       "      <td>NO2</td>\n",
       "      <td>ugm -3</td>\n",
       "      <td>2020-06-21 12:30:00</td>\n",
       "      <td>False</td>\n",
       "      <td>13.72400</td>\n",
       "    </tr>\n",
       "    <tr>\n",
       "      <th>2</th>\n",
       "      <td>PER_AIRMON_MESH1911150</td>\n",
       "      <td>NO2</td>\n",
       "      <td>ugm -3</td>\n",
       "      <td>2020-06-21 12:45:00</td>\n",
       "      <td>False</td>\n",
       "      <td>14.74484</td>\n",
       "    </tr>\n",
       "    <tr>\n",
       "      <th>3</th>\n",
       "      <td>PER_AIRMON_MESH1911150</td>\n",
       "      <td>NO2</td>\n",
       "      <td>ugm -3</td>\n",
       "      <td>2020-06-21 13:00:00</td>\n",
       "      <td>False</td>\n",
       "      <td>12.02636</td>\n",
       "    </tr>\n",
       "    <tr>\n",
       "      <th>4</th>\n",
       "      <td>PER_AIRMON_MESH1911150</td>\n",
       "      <td>NO2</td>\n",
       "      <td>ugm -3</td>\n",
       "      <td>2020-06-21 13:15:00</td>\n",
       "      <td>False</td>\n",
       "      <td>13.70520</td>\n",
       "    </tr>\n",
       "  </tbody>\n",
       "</table>\n",
       "</div>"
      ],
      "text/plain": [
       "                   Sensor Type   Units                 time   Flag     Value\n",
       "0  PER_AIRMON_MESH1911150  NO2  ugm -3  2020-06-21 12:15:00  False  18.40332\n",
       "1  PER_AIRMON_MESH1911150  NO2  ugm -3  2020-06-21 12:30:00  False  13.72400\n",
       "2  PER_AIRMON_MESH1911150  NO2  ugm -3  2020-06-21 12:45:00  False  14.74484\n",
       "3  PER_AIRMON_MESH1911150  NO2  ugm -3  2020-06-21 13:00:00  False  12.02636\n",
       "4  PER_AIRMON_MESH1911150  NO2  ugm -3  2020-06-21 13:15:00  False  13.70520"
      ]
     },
     "execution_count": 2,
     "metadata": {},
     "output_type": "execute_result"
    },
    {
     "name": "stdout",
     "output_type": "stream",
     "text": [
      "<class 'pandas.core.frame.DataFrame'>\n",
      "Int64Index: 86450 entries, 0 to 349141\n",
      "Data columns (total 6 columns):\n",
      "Sensor    86450 non-null object\n",
      "Type      86450 non-null object\n",
      "Units     86450 non-null object\n",
      "time      86450 non-null object\n",
      "Flag      86450 non-null bool\n",
      "Value     86450 non-null float64\n",
      "dtypes: bool(1), float64(1), object(4)\n",
      "memory usage: 4.0+ MB\n"
     ]
    }
   ],
   "source": [
    "# Loading new dataset to remove teh duplicates\n",
    "start=time.time()\n",
    "end=time.time()\n",
    "print(\"before loading the test\",end-start)\n",
    "df_t=pd.read_csv(\"C:/Users/HP/OneDrive - Newcastle University/Dissertation/Data_sets/test.csv\",delimiter=\",\",names=[\"Sensor\",\"Type\",\"Units\",\"time\",\"Flag\",\"Value\"])\n",
    "end=time.time()\n",
    "print(\"after loading the test\",end-start)\n",
    "\n",
    "print(\"test before \",df_t.shape)\n",
    "# len(df_t.packet_no.unique())\n",
    "end=time.time()\n",
    "print(\"after removing duplicates the test\",end-start)\n",
    "\n",
    "# df_t=df_t.drop([\"packet_no\",\"Key\"],1)\n",
    "df_t=df_t.drop_duplicates()\n",
    "print(\"test after \",df_t.shape)\n",
    "\n",
    "df_t=df_t.drop_duplicates()\n",
    "print(\"test after \",df_t.shape)\n",
    "df_t.head(5)\n",
    "df_t.info()"
   ]
  },
  {
   "cell_type": "code",
   "execution_count": 3,
   "metadata": {},
   "outputs": [
    {
     "name": "stdout",
     "output_type": "stream",
     "text": [
      "sample before  (761434, 6)\n",
      "sample after concat  (847884, 6)\n",
      "after removing duplicates  (847884, 6)\n",
      "sample newly loaded  (847884, 6)\n",
      "sample newly removed duplictes  (840684, 6)\n",
      "before final loading 14.982533693313599\n",
      "after loading 22.772095680236816\n"
     ]
    },
    {
     "data": {
      "text/html": [
       "<div>\n",
       "<style scoped>\n",
       "    .dataframe tbody tr th:only-of-type {\n",
       "        vertical-align: middle;\n",
       "    }\n",
       "\n",
       "    .dataframe tbody tr th {\n",
       "        vertical-align: top;\n",
       "    }\n",
       "\n",
       "    .dataframe thead th {\n",
       "        text-align: right;\n",
       "    }\n",
       "</style>\n",
       "<table border=\"1\" class=\"dataframe\">\n",
       "  <thead>\n",
       "    <tr style=\"text-align: right;\">\n",
       "      <th></th>\n",
       "      <th>Sensor</th>\n",
       "      <th>Type</th>\n",
       "      <th>Units</th>\n",
       "      <th>time</th>\n",
       "      <th>Flag</th>\n",
       "      <th>Value</th>\n",
       "    </tr>\n",
       "  </thead>\n",
       "  <tbody>\n",
       "    <tr>\n",
       "      <th>433945</th>\n",
       "      <td>PER_AIRMON_MESH1911150</td>\n",
       "      <td>PM2.5</td>\n",
       "      <td>ugm -3</td>\n",
       "      <td>2020-06-16 10:37:00</td>\n",
       "      <td>0.0</td>\n",
       "      <td>6.03100</td>\n",
       "    </tr>\n",
       "    <tr>\n",
       "      <th>473858</th>\n",
       "      <td>PER_EMOTE_1309</td>\n",
       "      <td>CO</td>\n",
       "      <td>ugm -3</td>\n",
       "      <td>2020-05-31 00:41:44</td>\n",
       "      <td>0.0</td>\n",
       "      <td>312.87295</td>\n",
       "    </tr>\n",
       "    <tr>\n",
       "      <th>86339</th>\n",
       "      <td>PER_EMOTE_1309</td>\n",
       "      <td>Temperature</td>\n",
       "      <td>Celsius</td>\n",
       "      <td>2020-06-03 21:45:51</td>\n",
       "      <td>0.0</td>\n",
       "      <td>10.00000</td>\n",
       "    </tr>\n",
       "    <tr>\n",
       "      <th>507279</th>\n",
       "      <td>PER_AIRMON_MESH301245</td>\n",
       "      <td>Pressure</td>\n",
       "      <td>hpa</td>\n",
       "      <td>2020-05-24 23:45:00</td>\n",
       "      <td>0.0</td>\n",
       "      <td>1028.70000</td>\n",
       "    </tr>\n",
       "    <tr>\n",
       "      <th>145925</th>\n",
       "      <td>PER_EMOTE_1309</td>\n",
       "      <td>NO</td>\n",
       "      <td>ugm -3</td>\n",
       "      <td>2020-05-19 11:18:21</td>\n",
       "      <td>0.0</td>\n",
       "      <td>13.75939</td>\n",
       "    </tr>\n",
       "    <tr>\n",
       "      <th>1540</th>\n",
       "      <td>PER_AIRMON_MESH1911150</td>\n",
       "      <td>PM10</td>\n",
       "      <td>ugm -3</td>\n",
       "      <td>2020-06-13 09:45:00</td>\n",
       "      <td>0.0</td>\n",
       "      <td>17.62800</td>\n",
       "    </tr>\n",
       "    <tr>\n",
       "      <th>807548</th>\n",
       "      <td>PER_EMOTE_1309</td>\n",
       "      <td>Humidity</td>\n",
       "      <td>%</td>\n",
       "      <td>2020-06-14 19:47:11</td>\n",
       "      <td>0.0</td>\n",
       "      <td>76.90000</td>\n",
       "    </tr>\n",
       "    <tr>\n",
       "      <th>530764</th>\n",
       "      <td>PER_AIRMON_MESH301245</td>\n",
       "      <td>Pressure</td>\n",
       "      <td>hpa</td>\n",
       "      <td>2020-05-21 12:45:00</td>\n",
       "      <td>0.0</td>\n",
       "      <td>1014.90000</td>\n",
       "    </tr>\n",
       "    <tr>\n",
       "      <th>589449</th>\n",
       "      <td>PER_AIRMON_MESH1911150</td>\n",
       "      <td>PM 4</td>\n",
       "      <td>ugm -3</td>\n",
       "      <td>2020-05-19 16:55:00</td>\n",
       "      <td>0.0</td>\n",
       "      <td>1.82000</td>\n",
       "    </tr>\n",
       "    <tr>\n",
       "      <th>7804</th>\n",
       "      <td>PER_EMOTE_1309</td>\n",
       "      <td>Sound</td>\n",
       "      <td>db</td>\n",
       "      <td>2020-05-19 12:06:21</td>\n",
       "      <td>0.0</td>\n",
       "      <td>66.00000</td>\n",
       "    </tr>\n",
       "  </tbody>\n",
       "</table>\n",
       "</div>"
      ],
      "text/plain": [
       "                        Sensor         Type    Units                 time  \\\n",
       "433945  PER_AIRMON_MESH1911150        PM2.5   ugm -3  2020-06-16 10:37:00   \n",
       "473858          PER_EMOTE_1309           CO   ugm -3  2020-05-31 00:41:44   \n",
       "86339           PER_EMOTE_1309  Temperature  Celsius  2020-06-03 21:45:51   \n",
       "507279   PER_AIRMON_MESH301245     Pressure      hpa  2020-05-24 23:45:00   \n",
       "145925          PER_EMOTE_1309           NO   ugm -3  2020-05-19 11:18:21   \n",
       "1540    PER_AIRMON_MESH1911150         PM10   ugm -3  2020-06-13 09:45:00   \n",
       "807548          PER_EMOTE_1309     Humidity        %  2020-06-14 19:47:11   \n",
       "530764   PER_AIRMON_MESH301245     Pressure      hpa  2020-05-21 12:45:00   \n",
       "589449  PER_AIRMON_MESH1911150         PM 4   ugm -3  2020-05-19 16:55:00   \n",
       "7804            PER_EMOTE_1309        Sound       db  2020-05-19 12:06:21   \n",
       "\n",
       "       Flag       Value  \n",
       "433945  0.0     6.03100  \n",
       "473858  0.0   312.87295  \n",
       "86339   0.0    10.00000  \n",
       "507279  0.0  1028.70000  \n",
       "145925  0.0    13.75939  \n",
       "1540    0.0    17.62800  \n",
       "807548  0.0    76.90000  \n",
       "530764  0.0  1014.90000  \n",
       "589449  0.0     1.82000  \n",
       "7804    0.0    66.00000  "
      ]
     },
     "execution_count": 3,
     "metadata": {},
     "output_type": "execute_result"
    }
   ],
   "source": [
    "df_s=pd.read_csv(\"C:/Users/HP/OneDrive - Newcastle University/Dissertation/Data_sets/Sample dataset values1.csv\")\n",
    "# df_s=df_s.drop(\"Key\",1)\n",
    "df_s=df_s.dropna()\n",
    "print(\"sample before \",df_s.shape)\n",
    "\n",
    "df_c=pd.concat([df_s,df_t], axis=0, ignore_index=True)\n",
    "print(\"sample after concat \",df_c.shape)\n",
    "\n",
    "df_remove=df_c.drop_duplicates()\n",
    "print(\"after removing duplicates \",df_remove.shape)\n",
    "\n",
    "df_shuffle = shuffle(df_remove)\n",
    "df_shuffle.to_csv(\"C:/Users/HP/OneDrive - Newcastle University/Dissertation/Data_sets/Sample dataset values1.csv\",mode=\"w\",index=False)\n",
    "\n",
    "df=pd.read_csv(\"C:/Users/HP/OneDrive - Newcastle University/Dissertation/Data_sets/Sample dataset values1.csv\")\n",
    "print(\"sample newly loaded \",df.shape)\n",
    "\n",
    "df=df.drop_duplicates()\n",
    "print(\"sample newly removed duplictes \",df.shape)\n",
    "\n",
    "end=time.time()\n",
    "print(\"before final loading\",end-start)\n",
    "df= shuffle(df)\n",
    "df.to_csv(\"C:/Users/HP/OneDrive - Newcastle University/Dissertation/Data_sets/Sample dataset values1.csv\",mode=\"w\",index=False)\n",
    "\n",
    "end=time.time()\n",
    "print(\"after loading\",end-start)\n",
    "df.tail(10)"
   ]
  },
  {
   "cell_type": "code",
   "execution_count": 4,
   "metadata": {
    "scrolled": false
   },
   "outputs": [
    {
     "name": "stdout",
     "output_type": "stream",
     "text": [
      "<class 'pandas.core.frame.DataFrame'>\n",
      "Int64Index: 840684 entries, 30062 to 7804\n",
      "Data columns (total 6 columns):\n",
      "Sensor    840684 non-null object\n",
      "Type      840684 non-null object\n",
      "Units     840684 non-null object\n",
      "time      840684 non-null object\n",
      "Flag      840684 non-null object\n",
      "Value     840684 non-null float64\n",
      "dtypes: float64(1), object(5)\n",
      "memory usage: 44.9+ MB\n"
     ]
    }
   ],
   "source": [
    "df.info()"
   ]
  },
  {
   "cell_type": "code",
   "execution_count": 5,
   "metadata": {},
   "outputs": [
    {
     "data": {
      "text/plain": [
       "Sensor         3\n",
       "Type          12\n",
       "Units          6\n",
       "time      105826\n",
       "Flag           4\n",
       "Value     188872\n",
       "dtype: int64"
      ]
     },
     "execution_count": 5,
     "metadata": {},
     "output_type": "execute_result"
    }
   ],
   "source": [
    "df.nunique()"
   ]
  },
  {
   "cell_type": "code",
   "execution_count": 6,
   "metadata": {},
   "outputs": [
    {
     "data": {
      "text/html": [
       "<div>\n",
       "<style scoped>\n",
       "    .dataframe tbody tr th:only-of-type {\n",
       "        vertical-align: middle;\n",
       "    }\n",
       "\n",
       "    .dataframe tbody tr th {\n",
       "        vertical-align: top;\n",
       "    }\n",
       "\n",
       "    .dataframe thead th {\n",
       "        text-align: right;\n",
       "    }\n",
       "</style>\n",
       "<table border=\"1\" class=\"dataframe\">\n",
       "  <thead>\n",
       "    <tr style=\"text-align: right;\">\n",
       "      <th></th>\n",
       "      <th>Sensor</th>\n",
       "      <th>Type</th>\n",
       "      <th>Units</th>\n",
       "      <th>time</th>\n",
       "      <th>Flag</th>\n",
       "      <th>Value</th>\n",
       "    </tr>\n",
       "  </thead>\n",
       "  <tbody>\n",
       "    <tr>\n",
       "      <th>0</th>\n",
       "      <td>PER_EMOTE_1309</td>\n",
       "      <td>Humidity</td>\n",
       "      <td>%</td>\n",
       "      <td>14/05/2020 00:40</td>\n",
       "      <td>0.0</td>\n",
       "      <td>61.50000</td>\n",
       "    </tr>\n",
       "    <tr>\n",
       "      <th>1</th>\n",
       "      <td>PER_EMOTE_1309</td>\n",
       "      <td>Humidity</td>\n",
       "      <td>%</td>\n",
       "      <td>2020-05-24 18:38:31</td>\n",
       "      <td>0.0</td>\n",
       "      <td>54.30000</td>\n",
       "    </tr>\n",
       "    <tr>\n",
       "      <th>2</th>\n",
       "      <td>PER_AIRMON_MESH1911150</td>\n",
       "      <td>Temperature</td>\n",
       "      <td>Celsius</td>\n",
       "      <td>11/05/2020 16:00</td>\n",
       "      <td>0.0</td>\n",
       "      <td>8.80000</td>\n",
       "    </tr>\n",
       "    <tr>\n",
       "      <th>3</th>\n",
       "      <td>PER_AIRMON_MESH1911150</td>\n",
       "      <td>NO2</td>\n",
       "      <td>ugm -3</td>\n",
       "      <td>2020-06-20 03:45:00</td>\n",
       "      <td>False</td>\n",
       "      <td>20.44312</td>\n",
       "    </tr>\n",
       "    <tr>\n",
       "      <th>4</th>\n",
       "      <td>PER_AIRMON_MESH1911150</td>\n",
       "      <td>PM 4</td>\n",
       "      <td>ugm -3</td>\n",
       "      <td>2020-06-02 13:05:00</td>\n",
       "      <td>0.0</td>\n",
       "      <td>1.34000</td>\n",
       "    </tr>\n",
       "  </tbody>\n",
       "</table>\n",
       "</div>"
      ],
      "text/plain": [
       "                   Sensor         Type    Units                 time   Flag  \\\n",
       "0          PER_EMOTE_1309     Humidity        %     14/05/2020 00:40    0.0   \n",
       "1          PER_EMOTE_1309     Humidity        %  2020-05-24 18:38:31    0.0   \n",
       "2  PER_AIRMON_MESH1911150  Temperature  Celsius     11/05/2020 16:00    0.0   \n",
       "3  PER_AIRMON_MESH1911150          NO2   ugm -3  2020-06-20 03:45:00  False   \n",
       "4  PER_AIRMON_MESH1911150         PM 4   ugm -3  2020-06-02 13:05:00    0.0   \n",
       "\n",
       "      Value  \n",
       "0  61.50000  \n",
       "1  54.30000  \n",
       "2   8.80000  \n",
       "3  20.44312  \n",
       "4   1.34000  "
      ]
     },
     "execution_count": 6,
     "metadata": {},
     "output_type": "execute_result"
    }
   ],
   "source": [
    "df_s.head()"
   ]
  },
  {
   "cell_type": "code",
   "execution_count": 7,
   "metadata": {},
   "outputs": [
    {
     "data": {
      "text/plain": [
       "array(['PER_AIRMON_MESH1911150', 'PER_AIRMON_MESH301245',\n",
       "       'PER_EMOTE_1309'], dtype=object)"
      ]
     },
     "execution_count": 7,
     "metadata": {},
     "output_type": "execute_result"
    }
   ],
   "source": [
    "df.Sensor.unique()"
   ]
  },
  {
   "cell_type": "code",
   "execution_count": 8,
   "metadata": {},
   "outputs": [
    {
     "data": {
      "text/plain": [
       "array(['PM 4', 'PM10', 'NO2', 'PM1', 'Temperature', 'Sound', 'Humidity',\n",
       "       'PM2.5', 'O3', 'Pressure', 'CO', 'NO'], dtype=object)"
      ]
     },
     "execution_count": 8,
     "metadata": {},
     "output_type": "execute_result"
    }
   ],
   "source": [
    "df.Type.unique()"
   ]
  },
  {
   "cell_type": "code",
   "execution_count": 9,
   "metadata": {},
   "outputs": [
    {
     "data": {
      "text/plain": [
       "array(['ugm -3', 'Celsius', 'db', '%', 'ppb', 'hpa'], dtype=object)"
      ]
     },
     "execution_count": 9,
     "metadata": {},
     "output_type": "execute_result"
    }
   ],
   "source": [
    "df.Units.unique()"
   ]
  },
  {
   "cell_type": "code",
   "execution_count": 10,
   "metadata": {},
   "outputs": [
    {
     "data": {
      "text/plain": [
       "array(['0.0', 'False', '1.0', 'True'], dtype=object)"
      ]
     },
     "execution_count": 10,
     "metadata": {},
     "output_type": "execute_result"
    }
   ],
   "source": [
    "df.Flag.unique()"
   ]
  }
 ],
 "metadata": {
  "kernelspec": {
   "display_name": "Python 3",
   "language": "python",
   "name": "python3"
  },
  "language_info": {
   "codemirror_mode": {
    "name": "ipython",
    "version": 3
   },
   "file_extension": ".py",
   "mimetype": "text/x-python",
   "name": "python",
   "nbconvert_exporter": "python",
   "pygments_lexer": "ipython3",
   "version": "3.7.5"
  }
 },
 "nbformat": 4,
 "nbformat_minor": 2
}
