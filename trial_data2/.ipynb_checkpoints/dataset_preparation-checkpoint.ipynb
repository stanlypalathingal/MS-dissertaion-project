{
 "cells": [
  {
   "cell_type": "code",
   "execution_count": 4,
   "metadata": {},
   "outputs": [
    {
     "data": {
      "application/javascript": [
       "IPython.notebook.set_autosave_interval(20000)"
      ]
     },
     "metadata": {},
     "output_type": "display_data"
    },
    {
     "name": "stdout",
     "output_type": "stream",
     "text": [
      "Autosaving every 20 seconds\n"
     ]
    }
   ],
   "source": [
    "%autosave 20\n",
    "import math \n",
    "import time\n",
    "import pandas as pd\n",
    "from sklearn.utils import shuffle"
   ]
  },
  {
   "cell_type": "code",
   "execution_count": 13,
   "metadata": {},
   "outputs": [
    {
     "name": "stdout",
     "output_type": "stream",
     "text": [
      "before loading the test 0.0009987354278564453\n",
      "after loading the test 0.039893150329589844\n",
      "test before  (19470, 6)\n"
     ]
    },
    {
     "ename": "AttributeError",
     "evalue": "'DataFrame' object has no attribute 'packet_no'",
     "output_type": "error",
     "traceback": [
      "\u001b[1;31m---------------------------------------------------------------------------\u001b[0m",
      "\u001b[1;31mAttributeError\u001b[0m                            Traceback (most recent call last)",
      "\u001b[1;32m<ipython-input-13-614bc0635c54>\u001b[0m in \u001b[0;36m<module>\u001b[1;34m\u001b[0m\n\u001b[0;32m      8\u001b[0m \u001b[1;33m\u001b[0m\u001b[0m\n\u001b[0;32m      9\u001b[0m \u001b[0mprint\u001b[0m\u001b[1;33m(\u001b[0m\u001b[1;34m\"test before \"\u001b[0m\u001b[1;33m,\u001b[0m\u001b[0mdf_t\u001b[0m\u001b[1;33m.\u001b[0m\u001b[0mshape\u001b[0m\u001b[1;33m)\u001b[0m\u001b[1;33m\u001b[0m\u001b[1;33m\u001b[0m\u001b[0m\n\u001b[1;32m---> 10\u001b[1;33m \u001b[0mlen\u001b[0m\u001b[1;33m(\u001b[0m\u001b[0mdf_t\u001b[0m\u001b[1;33m.\u001b[0m\u001b[0mpacket_no\u001b[0m\u001b[1;33m.\u001b[0m\u001b[0munique\u001b[0m\u001b[1;33m(\u001b[0m\u001b[1;33m)\u001b[0m\u001b[1;33m)\u001b[0m\u001b[1;33m\u001b[0m\u001b[1;33m\u001b[0m\u001b[0m\n\u001b[0m\u001b[0;32m     11\u001b[0m \u001b[0mend\u001b[0m\u001b[1;33m=\u001b[0m\u001b[0mtime\u001b[0m\u001b[1;33m.\u001b[0m\u001b[0mtime\u001b[0m\u001b[1;33m(\u001b[0m\u001b[1;33m)\u001b[0m\u001b[1;33m\u001b[0m\u001b[1;33m\u001b[0m\u001b[0m\n\u001b[0;32m     12\u001b[0m \u001b[0mprint\u001b[0m\u001b[1;33m(\u001b[0m\u001b[1;34m\"after removing duplicates the test\"\u001b[0m\u001b[1;33m,\u001b[0m\u001b[0mend\u001b[0m\u001b[1;33m-\u001b[0m\u001b[0mstart\u001b[0m\u001b[1;33m)\u001b[0m\u001b[1;33m\u001b[0m\u001b[1;33m\u001b[0m\u001b[0m\n",
      "\u001b[1;32m~\\Anaconda3\\envs\\Machine_Learning\\lib\\site-packages\\pandas\\core\\generic.py\u001b[0m in \u001b[0;36m__getattr__\u001b[1;34m(self, name)\u001b[0m\n\u001b[0;32m   5177\u001b[0m             \u001b[1;32mif\u001b[0m \u001b[0mself\u001b[0m\u001b[1;33m.\u001b[0m\u001b[0m_info_axis\u001b[0m\u001b[1;33m.\u001b[0m\u001b[0m_can_hold_identifiers_and_holds_name\u001b[0m\u001b[1;33m(\u001b[0m\u001b[0mname\u001b[0m\u001b[1;33m)\u001b[0m\u001b[1;33m:\u001b[0m\u001b[1;33m\u001b[0m\u001b[1;33m\u001b[0m\u001b[0m\n\u001b[0;32m   5178\u001b[0m                 \u001b[1;32mreturn\u001b[0m \u001b[0mself\u001b[0m\u001b[1;33m[\u001b[0m\u001b[0mname\u001b[0m\u001b[1;33m]\u001b[0m\u001b[1;33m\u001b[0m\u001b[1;33m\u001b[0m\u001b[0m\n\u001b[1;32m-> 5179\u001b[1;33m             \u001b[1;32mreturn\u001b[0m \u001b[0mobject\u001b[0m\u001b[1;33m.\u001b[0m\u001b[0m__getattribute__\u001b[0m\u001b[1;33m(\u001b[0m\u001b[0mself\u001b[0m\u001b[1;33m,\u001b[0m \u001b[0mname\u001b[0m\u001b[1;33m)\u001b[0m\u001b[1;33m\u001b[0m\u001b[1;33m\u001b[0m\u001b[0m\n\u001b[0m\u001b[0;32m   5180\u001b[0m \u001b[1;33m\u001b[0m\u001b[0m\n\u001b[0;32m   5181\u001b[0m     \u001b[1;32mdef\u001b[0m \u001b[0m__setattr__\u001b[0m\u001b[1;33m(\u001b[0m\u001b[0mself\u001b[0m\u001b[1;33m,\u001b[0m \u001b[0mname\u001b[0m\u001b[1;33m,\u001b[0m \u001b[0mvalue\u001b[0m\u001b[1;33m)\u001b[0m\u001b[1;33m:\u001b[0m\u001b[1;33m\u001b[0m\u001b[1;33m\u001b[0m\u001b[0m\n",
      "\u001b[1;31mAttributeError\u001b[0m: 'DataFrame' object has no attribute 'packet_no'"
     ]
    }
   ],
   "source": [
    "# Loading new dataset to remove teh duplicates\n",
    "start=time.time()\n",
    "end=time.time()\n",
    "print(\"before loading the test\",end-start)\n",
    "df_t=pd.read_csv(\"test.csv\",delimiter=\",\",names=[\"Sensor\",\"Type\",\"Units\",\"time\",\"Flag\",\"Value\"])\n",
    "end=time.time()\n",
    "print(\"after loading the test\",end-start)\n",
    "\n",
    "print(\"test before \",df_t.shape)\n",
    "# len(df_t.packet_no.unique())\n",
    "end=time.time()\n",
    "print(\"after removing duplicates the test\",end-start)\n",
    "\n",
    "# df_t=df_t.drop([\"packet_no\",\"Key\"],1)\n",
    "df_t=df_t.drop_duplicates()\n",
    "print(\"test after \",df_t.shape)\n",
    "\n",
    "df_t=df_t.drop_duplicates()\n",
    "print(\"test after \",df_t.shape)\n",
    "df_t.head(5)"
   ]
  },
  {
   "cell_type": "code",
   "execution_count": 10,
   "metadata": {},
   "outputs": [
    {
     "name": "stdout",
     "output_type": "stream",
     "text": [
      "sample before  (187024, 6)\n",
      "sample after concat  (206494, 6)\n",
      "after removing duplicates  (206494, 6)\n",
      "sample newly loaded  (206494, 6)\n",
      "sample newly removed duplictes  (206494, 6)\n",
      "before final loading 4.3087544441223145\n",
      "after loading 5.403534650802612\n"
     ]
    }
   ],
   "source": [
    "df_s=pd.read_csv(\"Sample dataset values1.csv\")\n",
    "# df_s=df_s.drop(\"Key\",1)\n",
    "df_s=df_s.dropna()\n",
    "print(\"sample before \",df_s.shape)\n",
    "\n",
    "df_c=pd.concat([df_s,df_t], axis=0, ignore_index=True)\n",
    "print(\"sample after concat \",df_c.shape)\n",
    "\n",
    "df_remove=df_c.drop_duplicates()\n",
    "print(\"after removing duplicates \",df_remove.shape)\n",
    "\n",
    "df_shuffle = shuffle(df_remove)\n",
    "df_shuffle.to_csv(\"Sample dataset values1.csv\",mode=\"w\",index=False)\n",
    "\n",
    "df=pd.read_csv(\"Sample dataset values1.csv\")\n",
    "print(\"sample newly loaded \",df.shape)\n",
    "\n",
    "df=df.drop_duplicates()\n",
    "print(\"sample newly removed duplictes \",df.shape)\n",
    "\n",
    "end=time.time()\n",
    "print(\"before final loading\",end-start)\n",
    "df= shuffle(df)\n",
    "df.to_csv(\"Sample dataset values1.csv\",mode=\"w\",index=False)\n",
    "\n",
    "end=time.time()\n",
    "print(\"after loading\",end-start)"
   ]
  },
  {
   "cell_type": "code",
   "execution_count": 11,
   "metadata": {
    "scrolled": false
   },
   "outputs": [
    {
     "name": "stdout",
     "output_type": "stream",
     "text": [
      "<class 'pandas.core.frame.DataFrame'>\n",
      "Int64Index: 206494 entries, 200194 to 118113\n",
      "Data columns (total 6 columns):\n",
      "Sensor    206494 non-null object\n",
      "Type      206494 non-null object\n",
      "Units     206494 non-null object\n",
      "time      206494 non-null object\n",
      "Flag      206494 non-null float64\n",
      "Value     206494 non-null float64\n",
      "dtypes: float64(2), object(4)\n",
      "memory usage: 11.0+ MB\n"
     ]
    }
   ],
   "source": [
    "df.info()"
   ]
  },
  {
   "cell_type": "code",
   "execution_count": 5,
   "metadata": {},
   "outputs": [
    {
     "data": {
      "text/plain": [
       "Sensor        3\n",
       "Type         12\n",
       "Units         6\n",
       "time      15507\n",
       "Flag          2\n",
       "Value     42793\n",
       "dtype: int64"
      ]
     },
     "execution_count": 5,
     "metadata": {},
     "output_type": "execute_result"
    }
   ],
   "source": [
    "df.nunique()"
   ]
  },
  {
   "cell_type": "code",
   "execution_count": null,
   "metadata": {},
   "outputs": [],
   "source": []
  }
 ],
 "metadata": {
  "kernelspec": {
   "display_name": "Python 3",
   "language": "python",
   "name": "python3"
  },
  "language_info": {
   "codemirror_mode": {
    "name": "ipython",
    "version": 3
   },
   "file_extension": ".py",
   "mimetype": "text/x-python",
   "name": "python",
   "nbconvert_exporter": "python",
   "pygments_lexer": "ipython3",
   "version": "3.7.5"
  }
 },
 "nbformat": 4,
 "nbformat_minor": 2
}
