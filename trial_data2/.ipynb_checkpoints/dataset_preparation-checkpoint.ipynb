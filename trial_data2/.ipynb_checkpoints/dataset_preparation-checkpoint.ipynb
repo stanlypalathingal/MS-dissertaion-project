{
 "cells": [
  {
   "cell_type": "code",
   "execution_count": 1,
   "metadata": {},
   "outputs": [
    {
     "data": {
      "application/javascript": [
       "IPython.notebook.set_autosave_interval(20000)"
      ]
     },
     "metadata": {},
     "output_type": "display_data"
    },
    {
     "name": "stdout",
     "output_type": "stream",
     "text": [
      "Autosaving every 20 seconds\n"
     ]
    }
   ],
   "source": [
    "%autosave 20\n",
    "import math \n",
    "import time\n",
    "import pandas as pd\n",
    "from sklearn.utils import shuffle"
   ]
  },
  {
   "cell_type": "code",
   "execution_count": 2,
   "metadata": {},
   "outputs": [
    {
     "name": "stdout",
     "output_type": "stream",
     "text": [
      "before loading the test 0.0\n",
      "after loading the test 0.04401135444641113\n",
      "test before  (33700, 6)\n",
      "after removing duplicates the test 0.04401135444641113\n",
      "test after  (16850, 6)\n",
      "test after  (16850, 6)\n"
     ]
    },
    {
     "data": {
      "text/html": [
       "<div>\n",
       "<style scoped>\n",
       "    .dataframe tbody tr th:only-of-type {\n",
       "        vertical-align: middle;\n",
       "    }\n",
       "\n",
       "    .dataframe tbody tr th {\n",
       "        vertical-align: top;\n",
       "    }\n",
       "\n",
       "    .dataframe thead th {\n",
       "        text-align: right;\n",
       "    }\n",
       "</style>\n",
       "<table border=\"1\" class=\"dataframe\">\n",
       "  <thead>\n",
       "    <tr style=\"text-align: right;\">\n",
       "      <th></th>\n",
       "      <th>Sensor</th>\n",
       "      <th>Type</th>\n",
       "      <th>Units</th>\n",
       "      <th>time</th>\n",
       "      <th>Flag</th>\n",
       "      <th>Value</th>\n",
       "    </tr>\n",
       "  </thead>\n",
       "  <tbody>\n",
       "    <tr>\n",
       "      <th>0</th>\n",
       "      <td>PER_AIRMON_MESH1911150</td>\n",
       "      <td>NO2</td>\n",
       "      <td>ugm -3</td>\n",
       "      <td>2020-05-26 21:15:00</td>\n",
       "      <td>False</td>\n",
       "      <td>50.57012</td>\n",
       "    </tr>\n",
       "    <tr>\n",
       "      <th>1</th>\n",
       "      <td>PER_AIRMON_MESH1911150</td>\n",
       "      <td>NO2</td>\n",
       "      <td>ugm -3</td>\n",
       "      <td>2020-05-26 21:30:00</td>\n",
       "      <td>False</td>\n",
       "      <td>53.96916</td>\n",
       "    </tr>\n",
       "    <tr>\n",
       "      <th>2</th>\n",
       "      <td>PER_AIRMON_MESH1911150</td>\n",
       "      <td>NO2</td>\n",
       "      <td>ugm -3</td>\n",
       "      <td>2020-05-26 21:45:00</td>\n",
       "      <td>False</td>\n",
       "      <td>56.14808</td>\n",
       "    </tr>\n",
       "    <tr>\n",
       "      <th>3</th>\n",
       "      <td>PER_AIRMON_MESH1911150</td>\n",
       "      <td>NO2</td>\n",
       "      <td>ugm -3</td>\n",
       "      <td>2020-05-26 22:00:00</td>\n",
       "      <td>False</td>\n",
       "      <td>59.12788</td>\n",
       "    </tr>\n",
       "    <tr>\n",
       "      <th>4</th>\n",
       "      <td>PER_AIRMON_MESH1911150</td>\n",
       "      <td>NO2</td>\n",
       "      <td>ugm -3</td>\n",
       "      <td>2020-05-26 22:15:00</td>\n",
       "      <td>False</td>\n",
       "      <td>55.36976</td>\n",
       "    </tr>\n",
       "  </tbody>\n",
       "</table>\n",
       "</div>"
      ],
      "text/plain": [
       "                   Sensor Type   Units                 time   Flag     Value\n",
       "0  PER_AIRMON_MESH1911150  NO2  ugm -3  2020-05-26 21:15:00  False  50.57012\n",
       "1  PER_AIRMON_MESH1911150  NO2  ugm -3  2020-05-26 21:30:00  False  53.96916\n",
       "2  PER_AIRMON_MESH1911150  NO2  ugm -3  2020-05-26 21:45:00  False  56.14808\n",
       "3  PER_AIRMON_MESH1911150  NO2  ugm -3  2020-05-26 22:00:00  False  59.12788\n",
       "4  PER_AIRMON_MESH1911150  NO2  ugm -3  2020-05-26 22:15:00  False  55.36976"
      ]
     },
     "execution_count": 2,
     "metadata": {},
     "output_type": "execute_result"
    },
    {
     "name": "stdout",
     "output_type": "stream",
     "text": [
      "<class 'pandas.core.frame.DataFrame'>\n",
      "Int64Index: 16850 entries, 0 to 16849\n",
      "Data columns (total 6 columns):\n",
      "Sensor    16850 non-null object\n",
      "Type      16850 non-null object\n",
      "Units     16850 non-null object\n",
      "time      16850 non-null object\n",
      "Flag      16850 non-null bool\n",
      "Value     16850 non-null float64\n",
      "dtypes: bool(1), float64(1), object(4)\n",
      "memory usage: 806.3+ KB\n"
     ]
    }
   ],
   "source": [
    "# Loading new dataset to remove teh duplicates\n",
    "start=time.time()\n",
    "end=time.time()\n",
    "print(\"before loading the test\",end-start)\n",
    "df_t=pd.read_csv(\"test.csv\",delimiter=\",\",names=[\"Sensor\",\"Type\",\"Units\",\"time\",\"Flag\",\"Value\"])\n",
    "end=time.time()\n",
    "print(\"after loading the test\",end-start)\n",
    "\n",
    "print(\"test before \",df_t.shape)\n",
    "# len(df_t.packet_no.unique())\n",
    "end=time.time()\n",
    "print(\"after removing duplicates the test\",end-start)\n",
    "\n",
    "# df_t=df_t.drop([\"packet_no\",\"Key\"],1)\n",
    "df_t=df_t.drop_duplicates()\n",
    "print(\"test after \",df_t.shape)\n",
    "\n",
    "df_t=df_t.drop_duplicates()\n",
    "print(\"test after \",df_t.shape)\n",
    "df_t.head(5)\n",
    "df_t.info()"
   ]
  },
  {
   "cell_type": "code",
   "execution_count": 6,
   "metadata": {},
   "outputs": [
    {
     "name": "stdout",
     "output_type": "stream",
     "text": [
      "sample before  (303904, 6)\n",
      "sample after concat  (320754, 6)\n",
      "after removing duplicates  (304149, 6)\n",
      "sample newly loaded  (304149, 6)\n",
      "sample newly removed duplictes  (303928, 6)\n",
      "before final loading 58.25513172149658\n",
      "after loading 60.11947202682495\n"
     ]
    },
    {
     "data": {
      "text/html": [
       "<div>\n",
       "<style scoped>\n",
       "    .dataframe tbody tr th:only-of-type {\n",
       "        vertical-align: middle;\n",
       "    }\n",
       "\n",
       "    .dataframe tbody tr th {\n",
       "        vertical-align: top;\n",
       "    }\n",
       "\n",
       "    .dataframe thead th {\n",
       "        text-align: right;\n",
       "    }\n",
       "</style>\n",
       "<table border=\"1\" class=\"dataframe\">\n",
       "  <thead>\n",
       "    <tr style=\"text-align: right;\">\n",
       "      <th></th>\n",
       "      <th>Sensor</th>\n",
       "      <th>Type</th>\n",
       "      <th>Units</th>\n",
       "      <th>time</th>\n",
       "      <th>Flag</th>\n",
       "      <th>Value</th>\n",
       "    </tr>\n",
       "  </thead>\n",
       "  <tbody>\n",
       "    <tr>\n",
       "      <th>46629</th>\n",
       "      <td>PER_AIRMON_MESH1911150</td>\n",
       "      <td>O3</td>\n",
       "      <td>ppb</td>\n",
       "      <td>14/05/2020 21:30</td>\n",
       "      <td>0.0</td>\n",
       "      <td>20.244000</td>\n",
       "    </tr>\n",
       "    <tr>\n",
       "      <th>164056</th>\n",
       "      <td>PER_EMOTE_1309</td>\n",
       "      <td>Temperature</td>\n",
       "      <td>Celsius</td>\n",
       "      <td>11/05/2020 03:03</td>\n",
       "      <td>0.0</td>\n",
       "      <td>4.500000</td>\n",
       "    </tr>\n",
       "    <tr>\n",
       "      <th>101899</th>\n",
       "      <td>PER_AIRMON_MESH1911150</td>\n",
       "      <td>PM10</td>\n",
       "      <td>ugm -3</td>\n",
       "      <td>2020-05-17 09:48:00</td>\n",
       "      <td>0.0</td>\n",
       "      <td>5.729000</td>\n",
       "    </tr>\n",
       "    <tr>\n",
       "      <th>239544</th>\n",
       "      <td>PER_AIRMON_MESH301245</td>\n",
       "      <td>PM 4</td>\n",
       "      <td>ugm -3</td>\n",
       "      <td>16/05/2020 11:20</td>\n",
       "      <td>0.0</td>\n",
       "      <td>3.010000</td>\n",
       "    </tr>\n",
       "    <tr>\n",
       "      <th>265499</th>\n",
       "      <td>PER_AIRMON_MESH301245</td>\n",
       "      <td>PM10</td>\n",
       "      <td>ugm -3</td>\n",
       "      <td>2020-05-26 07:17:00</td>\n",
       "      <td>0.0</td>\n",
       "      <td>12.710000</td>\n",
       "    </tr>\n",
       "    <tr>\n",
       "      <th>256637</th>\n",
       "      <td>PER_EMOTE_1309</td>\n",
       "      <td>NO2</td>\n",
       "      <td>ugm -3</td>\n",
       "      <td>11/05/2020 06:52</td>\n",
       "      <td>0.0</td>\n",
       "      <td>3.200453</td>\n",
       "    </tr>\n",
       "    <tr>\n",
       "      <th>287716</th>\n",
       "      <td>PER_AIRMON_MESH301245</td>\n",
       "      <td>PM10</td>\n",
       "      <td>ugm -3</td>\n",
       "      <td>2020-05-21 09:39:00</td>\n",
       "      <td>0.0</td>\n",
       "      <td>15.310000</td>\n",
       "    </tr>\n",
       "    <tr>\n",
       "      <th>42010</th>\n",
       "      <td>PER_EMOTE_1309</td>\n",
       "      <td>NO</td>\n",
       "      <td>ugm -3</td>\n",
       "      <td>2020-05-19 21:39:22</td>\n",
       "      <td>0.0</td>\n",
       "      <td>17.194612</td>\n",
       "    </tr>\n",
       "    <tr>\n",
       "      <th>136618</th>\n",
       "      <td>PER_EMOTE_1309</td>\n",
       "      <td>NO2</td>\n",
       "      <td>ugm -3</td>\n",
       "      <td>13/05/2020 11:20</td>\n",
       "      <td>0.0</td>\n",
       "      <td>0.725018</td>\n",
       "    </tr>\n",
       "    <tr>\n",
       "      <th>17553</th>\n",
       "      <td>PER_AIRMON_MESH1911150</td>\n",
       "      <td>PM1</td>\n",
       "      <td>ugm -3</td>\n",
       "      <td>2020-05-18 04:00:00</td>\n",
       "      <td>0.0</td>\n",
       "      <td>2.336000</td>\n",
       "    </tr>\n",
       "  </tbody>\n",
       "</table>\n",
       "</div>"
      ],
      "text/plain": [
       "                        Sensor         Type    Units                 time  \\\n",
       "46629   PER_AIRMON_MESH1911150           O3      ppb     14/05/2020 21:30   \n",
       "164056          PER_EMOTE_1309  Temperature  Celsius     11/05/2020 03:03   \n",
       "101899  PER_AIRMON_MESH1911150         PM10   ugm -3  2020-05-17 09:48:00   \n",
       "239544   PER_AIRMON_MESH301245         PM 4   ugm -3     16/05/2020 11:20   \n",
       "265499   PER_AIRMON_MESH301245         PM10   ugm -3  2020-05-26 07:17:00   \n",
       "256637          PER_EMOTE_1309          NO2   ugm -3     11/05/2020 06:52   \n",
       "287716   PER_AIRMON_MESH301245         PM10   ugm -3  2020-05-21 09:39:00   \n",
       "42010           PER_EMOTE_1309           NO   ugm -3  2020-05-19 21:39:22   \n",
       "136618          PER_EMOTE_1309          NO2   ugm -3     13/05/2020 11:20   \n",
       "17553   PER_AIRMON_MESH1911150          PM1   ugm -3  2020-05-18 04:00:00   \n",
       "\n",
       "        Flag      Value  \n",
       "46629    0.0  20.244000  \n",
       "164056   0.0   4.500000  \n",
       "101899   0.0   5.729000  \n",
       "239544   0.0   3.010000  \n",
       "265499   0.0  12.710000  \n",
       "256637   0.0   3.200453  \n",
       "287716   0.0  15.310000  \n",
       "42010    0.0  17.194612  \n",
       "136618   0.0   0.725018  \n",
       "17553    0.0   2.336000  "
      ]
     },
     "execution_count": 6,
     "metadata": {},
     "output_type": "execute_result"
    },
    {
     "name": "stdout",
     "output_type": "stream",
     "text": [
      "<class 'pandas.core.frame.DataFrame'>\n",
      "Int64Index: 303928 entries, 189399 to 17553\n",
      "Data columns (total 6 columns):\n",
      "Sensor    303928 non-null object\n",
      "Type      303928 non-null object\n",
      "Units     303928 non-null object\n",
      "time      303928 non-null object\n",
      "Flag      303928 non-null float64\n",
      "Value     303928 non-null float64\n",
      "dtypes: float64(2), object(4)\n",
      "memory usage: 16.2+ MB\n"
     ]
    }
   ],
   "source": [
    "df_s=pd.read_csv(\"Sample dataset values1.csv\")\n",
    "# df_s=df_s.drop(\"Key\",1)\n",
    "df_s=df_s.dropna()\n",
    "print(\"sample before \",df_s.shape)\n",
    "\n",
    "df_c=pd.concat([df_s,df_t], axis=0, ignore_index=True)\n",
    "print(\"sample after concat \",df_c.shape)\n",
    "\n",
    "df_remove=df_c.drop_duplicates()\n",
    "print(\"after removing duplicates \",df_remove.shape)\n",
    "\n",
    "df_shuffle = shuffle(df_remove)\n",
    "df_shuffle.to_csv(\"Sample dataset values1.csv\",mode=\"w\",index=False)\n",
    "\n",
    "df=pd.read_csv(\"Sample dataset values1.csv\")\n",
    "print(\"sample newly loaded \",df.shape)\n",
    "\n",
    "df=df.drop_duplicates()\n",
    "print(\"sample newly removed duplictes \",df.shape)\n",
    "\n",
    "end=time.time()\n",
    "print(\"before final loading\",end-start)\n",
    "df= shuffle(df)\n",
    "df.to_csv(\"Sample dataset values1.csv\",mode=\"w\",index=False)\n",
    "\n",
    "end=time.time()\n",
    "print(\"after loading\",end-start)\n",
    "df.tail(10)\n",
    "df.info()"
   ]
  },
  {
   "cell_type": "code",
   "execution_count": 4,
   "metadata": {
    "scrolled": false
   },
   "outputs": [
    {
     "name": "stdout",
     "output_type": "stream",
     "text": [
      "<class 'pandas.core.frame.DataFrame'>\n",
      "Int64Index: 303904 entries, 266347 to 193955\n",
      "Data columns (total 6 columns):\n",
      "Sensor    303904 non-null object\n",
      "Type      303904 non-null object\n",
      "Units     303904 non-null object\n",
      "time      303904 non-null object\n",
      "Flag      303904 non-null float64\n",
      "Value     303904 non-null float64\n",
      "dtypes: float64(2), object(4)\n",
      "memory usage: 16.2+ MB\n"
     ]
    }
   ],
   "source": [
    "df.info()"
   ]
  },
  {
   "cell_type": "code",
   "execution_count": 5,
   "metadata": {},
   "outputs": [
    {
     "data": {
      "text/plain": [
       "Sensor        3\n",
       "Type         12\n",
       "Units         6\n",
       "time      33874\n",
       "Flag          2\n",
       "Value     74505\n",
       "dtype: int64"
      ]
     },
     "execution_count": 5,
     "metadata": {},
     "output_type": "execute_result"
    }
   ],
   "source": [
    "df.nunique()"
   ]
  },
  {
   "cell_type": "code",
   "execution_count": null,
   "metadata": {},
   "outputs": [],
   "source": []
  }
 ],
 "metadata": {
  "kernelspec": {
   "display_name": "Python 3",
   "language": "python",
   "name": "python3"
  },
  "language_info": {
   "codemirror_mode": {
    "name": "ipython",
    "version": 3
   },
   "file_extension": ".py",
   "mimetype": "text/x-python",
   "name": "python",
   "nbconvert_exporter": "python",
   "pygments_lexer": "ipython3",
   "version": "3.7.5"
  }
 },
 "nbformat": 4,
 "nbformat_minor": 2
}
