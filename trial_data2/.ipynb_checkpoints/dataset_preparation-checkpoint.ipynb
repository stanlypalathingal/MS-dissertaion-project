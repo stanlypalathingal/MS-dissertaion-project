{
 "cells": [
  {
   "cell_type": "code",
   "execution_count": 1,
   "metadata": {},
   "outputs": [
    {
     "data": {
      "application/javascript": [
       "IPython.notebook.set_autosave_interval(20000)"
      ]
     },
     "metadata": {},
     "output_type": "display_data"
    },
    {
     "name": "stdout",
     "output_type": "stream",
     "text": [
      "Autosaving every 20 seconds\n"
     ]
    }
   ],
   "source": [
    "%autosave 20\n",
    "import math \n",
    "import time\n",
    "import pandas as pd\n",
    "from sklearn.utils import shuffle"
   ]
  },
  {
   "cell_type": "code",
   "execution_count": 2,
   "metadata": {},
   "outputs": [
    {
     "name": "stdout",
     "output_type": "stream",
     "text": [
      "before loading the test 0.0\n",
      "after loading the test 0.0993349552154541\n",
      "test before  (76996, 6)\n",
      "after removing duplicates the test 0.0993349552154541\n",
      "test after  (31838, 6)\n",
      "test after  (31838, 6)\n"
     ]
    },
    {
     "data": {
      "text/html": [
       "<div>\n",
       "<style scoped>\n",
       "    .dataframe tbody tr th:only-of-type {\n",
       "        vertical-align: middle;\n",
       "    }\n",
       "\n",
       "    .dataframe tbody tr th {\n",
       "        vertical-align: top;\n",
       "    }\n",
       "\n",
       "    .dataframe thead th {\n",
       "        text-align: right;\n",
       "    }\n",
       "</style>\n",
       "<table border=\"1\" class=\"dataframe\">\n",
       "  <thead>\n",
       "    <tr style=\"text-align: right;\">\n",
       "      <th></th>\n",
       "      <th>Sensor</th>\n",
       "      <th>Type</th>\n",
       "      <th>Units</th>\n",
       "      <th>time</th>\n",
       "      <th>Flag</th>\n",
       "      <th>Value</th>\n",
       "    </tr>\n",
       "  </thead>\n",
       "  <tbody>\n",
       "    <tr>\n",
       "      <th>0</th>\n",
       "      <td>PER_AIRMON_MESH1911150</td>\n",
       "      <td>NO2</td>\n",
       "      <td>ugm -3</td>\n",
       "      <td>2020-06-14 07:15:00</td>\n",
       "      <td>False</td>\n",
       "      <td>34.85708</td>\n",
       "    </tr>\n",
       "    <tr>\n",
       "      <th>1</th>\n",
       "      <td>PER_AIRMON_MESH1911150</td>\n",
       "      <td>NO2</td>\n",
       "      <td>ugm -3</td>\n",
       "      <td>2020-06-14 07:30:00</td>\n",
       "      <td>False</td>\n",
       "      <td>33.75728</td>\n",
       "    </tr>\n",
       "    <tr>\n",
       "      <th>2</th>\n",
       "      <td>PER_AIRMON_MESH1911150</td>\n",
       "      <td>NO2</td>\n",
       "      <td>ugm -3</td>\n",
       "      <td>2020-06-14 07:45:00</td>\n",
       "      <td>False</td>\n",
       "      <td>36.83672</td>\n",
       "    </tr>\n",
       "    <tr>\n",
       "      <th>3</th>\n",
       "      <td>PER_AIRMON_MESH1911150</td>\n",
       "      <td>NO2</td>\n",
       "      <td>ugm -3</td>\n",
       "      <td>2020-06-14 08:00:00</td>\n",
       "      <td>False</td>\n",
       "      <td>36.55660</td>\n",
       "    </tr>\n",
       "    <tr>\n",
       "      <th>4</th>\n",
       "      <td>PER_AIRMON_MESH1911150</td>\n",
       "      <td>NO2</td>\n",
       "      <td>ugm -3</td>\n",
       "      <td>2020-06-14 08:15:00</td>\n",
       "      <td>False</td>\n",
       "      <td>36.81604</td>\n",
       "    </tr>\n",
       "  </tbody>\n",
       "</table>\n",
       "</div>"
      ],
      "text/plain": [
       "                   Sensor Type   Units                 time   Flag     Value\n",
       "0  PER_AIRMON_MESH1911150  NO2  ugm -3  2020-06-14 07:15:00  False  34.85708\n",
       "1  PER_AIRMON_MESH1911150  NO2  ugm -3  2020-06-14 07:30:00  False  33.75728\n",
       "2  PER_AIRMON_MESH1911150  NO2  ugm -3  2020-06-14 07:45:00  False  36.83672\n",
       "3  PER_AIRMON_MESH1911150  NO2  ugm -3  2020-06-14 08:00:00  False  36.55660\n",
       "4  PER_AIRMON_MESH1911150  NO2  ugm -3  2020-06-14 08:15:00  False  36.81604"
      ]
     },
     "execution_count": 2,
     "metadata": {},
     "output_type": "execute_result"
    },
    {
     "name": "stdout",
     "output_type": "stream",
     "text": [
      "<class 'pandas.core.frame.DataFrame'>\n",
      "Int64Index: 31838 entries, 0 to 57779\n",
      "Data columns (total 6 columns):\n",
      "Sensor    31838 non-null object\n",
      "Type      31838 non-null object\n",
      "Units     31838 non-null object\n",
      "time      31838 non-null object\n",
      "Flag      31838 non-null bool\n",
      "Value     31838 non-null float64\n",
      "dtypes: bool(1), float64(1), object(4)\n",
      "memory usage: 1.5+ MB\n"
     ]
    }
   ],
   "source": [
    "# Loading new dataset to remove teh duplicates\n",
    "start=time.time()\n",
    "end=time.time()\n",
    "print(\"before loading the test\",end-start)\n",
    "df_t=pd.read_csv(\"C:/Users/HP/OneDrive - Newcastle University/Dissertation/Data_sets/test.csv\",delimiter=\",\",names=[\"Sensor\",\"Type\",\"Units\",\"time\",\"Flag\",\"Value\"])\n",
    "end=time.time()\n",
    "print(\"after loading the test\",end-start)\n",
    "\n",
    "print(\"test before \",df_t.shape)\n",
    "# len(df_t.packet_no.unique())\n",
    "end=time.time()\n",
    "print(\"after removing duplicates the test\",end-start)\n",
    "\n",
    "# df_t=df_t.drop([\"packet_no\",\"Key\"],1)\n",
    "df_t=df_t.drop_duplicates()\n",
    "print(\"test after \",df_t.shape)\n",
    "\n",
    "df_t=df_t.drop_duplicates()\n",
    "print(\"test after \",df_t.shape)\n",
    "df_t.head(5)\n",
    "df_t.info()"
   ]
  },
  {
   "cell_type": "code",
   "execution_count": 3,
   "metadata": {},
   "outputs": [
    {
     "name": "stdout",
     "output_type": "stream",
     "text": [
      "sample before  (611194, 6)\n",
      "sample after concat  (643032, 6)\n",
      "after removing duplicates  (643021, 6)\n",
      "sample newly loaded  (643021, 6)\n",
      "sample newly removed duplictes  (643021, 6)\n",
      "before final loading 6.533526659011841\n",
      "after loading 10.057095050811768\n"
     ]
    },
    {
     "data": {
      "text/html": [
       "<div>\n",
       "<style scoped>\n",
       "    .dataframe tbody tr th:only-of-type {\n",
       "        vertical-align: middle;\n",
       "    }\n",
       "\n",
       "    .dataframe tbody tr th {\n",
       "        vertical-align: top;\n",
       "    }\n",
       "\n",
       "    .dataframe thead th {\n",
       "        text-align: right;\n",
       "    }\n",
       "</style>\n",
       "<table border=\"1\" class=\"dataframe\">\n",
       "  <thead>\n",
       "    <tr style=\"text-align: right;\">\n",
       "      <th></th>\n",
       "      <th>Sensor</th>\n",
       "      <th>Type</th>\n",
       "      <th>Units</th>\n",
       "      <th>time</th>\n",
       "      <th>Flag</th>\n",
       "      <th>Value</th>\n",
       "    </tr>\n",
       "  </thead>\n",
       "  <tbody>\n",
       "    <tr>\n",
       "      <th>381925</th>\n",
       "      <td>PER_EMOTE_1309</td>\n",
       "      <td>Humidity</td>\n",
       "      <td>%</td>\n",
       "      <td>16/05/2020 22:54</td>\n",
       "      <td>0.0</td>\n",
       "      <td>65.900000</td>\n",
       "    </tr>\n",
       "    <tr>\n",
       "      <th>397811</th>\n",
       "      <td>PER_AIRMON_MESH301245</td>\n",
       "      <td>PM 4</td>\n",
       "      <td>ugm -3</td>\n",
       "      <td>12/05/2020 22:40</td>\n",
       "      <td>0.0</td>\n",
       "      <td>4.260000</td>\n",
       "    </tr>\n",
       "    <tr>\n",
       "      <th>307604</th>\n",
       "      <td>PER_EMOTE_1309</td>\n",
       "      <td>NO</td>\n",
       "      <td>ugm -3</td>\n",
       "      <td>2020-06-06 02:35:55</td>\n",
       "      <td>0.0</td>\n",
       "      <td>24.128190</td>\n",
       "    </tr>\n",
       "    <tr>\n",
       "      <th>198263</th>\n",
       "      <td>PER_AIRMON_MESH301245</td>\n",
       "      <td>PM1</td>\n",
       "      <td>ugm -3</td>\n",
       "      <td>2020-05-25 06:35:00</td>\n",
       "      <td>0.0</td>\n",
       "      <td>7.670000</td>\n",
       "    </tr>\n",
       "    <tr>\n",
       "      <th>429523</th>\n",
       "      <td>PER_EMOTE_1309</td>\n",
       "      <td>NO</td>\n",
       "      <td>ugm -3</td>\n",
       "      <td>12/05/2020 11:41</td>\n",
       "      <td>0.0</td>\n",
       "      <td>50.784391</td>\n",
       "    </tr>\n",
       "    <tr>\n",
       "      <th>390980</th>\n",
       "      <td>PER_AIRMON_MESH301245</td>\n",
       "      <td>PM1</td>\n",
       "      <td>ugm -3</td>\n",
       "      <td>2020-06-08 20:23:00</td>\n",
       "      <td>0.0</td>\n",
       "      <td>1.630000</td>\n",
       "    </tr>\n",
       "    <tr>\n",
       "      <th>130711</th>\n",
       "      <td>PER_EMOTE_1309</td>\n",
       "      <td>Humidity</td>\n",
       "      <td>%</td>\n",
       "      <td>2020-05-17 23:52:18</td>\n",
       "      <td>0.0</td>\n",
       "      <td>75.900000</td>\n",
       "    </tr>\n",
       "    <tr>\n",
       "      <th>425743</th>\n",
       "      <td>PER_AIRMON_MESH1911150</td>\n",
       "      <td>PM10</td>\n",
       "      <td>ugm -3</td>\n",
       "      <td>2020-06-06 10:57:00</td>\n",
       "      <td>0.0</td>\n",
       "      <td>6.009000</td>\n",
       "    </tr>\n",
       "    <tr>\n",
       "      <th>637881</th>\n",
       "      <td>PER_AIRMON_MESH1911150</td>\n",
       "      <td>PM 4</td>\n",
       "      <td>ugm -3</td>\n",
       "      <td>2020-05-27 00:35:00</td>\n",
       "      <td>0.0</td>\n",
       "      <td>2.760000</td>\n",
       "    </tr>\n",
       "    <tr>\n",
       "      <th>374007</th>\n",
       "      <td>PER_EMOTE_1309</td>\n",
       "      <td>Sound</td>\n",
       "      <td>db</td>\n",
       "      <td>2020-05-27 19:03:37</td>\n",
       "      <td>0.0</td>\n",
       "      <td>70.000000</td>\n",
       "    </tr>\n",
       "  </tbody>\n",
       "</table>\n",
       "</div>"
      ],
      "text/plain": [
       "                        Sensor      Type   Units                 time  Flag  \\\n",
       "381925          PER_EMOTE_1309  Humidity       %     16/05/2020 22:54   0.0   \n",
       "397811   PER_AIRMON_MESH301245      PM 4  ugm -3     12/05/2020 22:40   0.0   \n",
       "307604          PER_EMOTE_1309        NO  ugm -3  2020-06-06 02:35:55   0.0   \n",
       "198263   PER_AIRMON_MESH301245       PM1  ugm -3  2020-05-25 06:35:00   0.0   \n",
       "429523          PER_EMOTE_1309        NO  ugm -3     12/05/2020 11:41   0.0   \n",
       "390980   PER_AIRMON_MESH301245       PM1  ugm -3  2020-06-08 20:23:00   0.0   \n",
       "130711          PER_EMOTE_1309  Humidity       %  2020-05-17 23:52:18   0.0   \n",
       "425743  PER_AIRMON_MESH1911150      PM10  ugm -3  2020-06-06 10:57:00   0.0   \n",
       "637881  PER_AIRMON_MESH1911150      PM 4  ugm -3  2020-05-27 00:35:00   0.0   \n",
       "374007          PER_EMOTE_1309     Sound      db  2020-05-27 19:03:37   0.0   \n",
       "\n",
       "            Value  \n",
       "381925  65.900000  \n",
       "397811   4.260000  \n",
       "307604  24.128190  \n",
       "198263   7.670000  \n",
       "429523  50.784391  \n",
       "390980   1.630000  \n",
       "130711  75.900000  \n",
       "425743   6.009000  \n",
       "637881   2.760000  \n",
       "374007  70.000000  "
      ]
     },
     "execution_count": 3,
     "metadata": {},
     "output_type": "execute_result"
    }
   ],
   "source": [
    "df_s=pd.read_csv(\"C:/Users/HP/OneDrive - Newcastle University/Dissertation/Data_sets/Sample dataset values1.csv\")\n",
    "# df_s=df_s.drop(\"Key\",1)\n",
    "df_s=df_s.dropna()\n",
    "print(\"sample before \",df_s.shape)\n",
    "\n",
    "df_c=pd.concat([df_s,df_t], axis=0, ignore_index=True)\n",
    "print(\"sample after concat \",df_c.shape)\n",
    "\n",
    "df_remove=df_c.drop_duplicates()\n",
    "print(\"after removing duplicates \",df_remove.shape)\n",
    "\n",
    "df_shuffle = shuffle(df_remove)\n",
    "df_shuffle.to_csv(\"C:/Users/HP/OneDrive - Newcastle University/Dissertation/Data_sets/Sample dataset values1.csv\",mode=\"w\",index=False)\n",
    "\n",
    "df=pd.read_csv(\"C:/Users/HP/OneDrive - Newcastle University/Dissertation/Data_sets/Sample dataset values1.csv\")\n",
    "print(\"sample newly loaded \",df.shape)\n",
    "\n",
    "df=df.drop_duplicates()\n",
    "print(\"sample newly removed duplictes \",df.shape)\n",
    "\n",
    "end=time.time()\n",
    "print(\"before final loading\",end-start)\n",
    "df= shuffle(df)\n",
    "df.to_csv(\"C:/Users/HP/OneDrive - Newcastle University/Dissertation/Data_sets/Sample dataset values1.csv\",mode=\"w\",index=False)\n",
    "\n",
    "end=time.time()\n",
    "print(\"after loading\",end-start)\n",
    "df.tail(10)"
   ]
  },
  {
   "cell_type": "code",
   "execution_count": 4,
   "metadata": {
    "scrolled": false
   },
   "outputs": [
    {
     "name": "stdout",
     "output_type": "stream",
     "text": [
      "<class 'pandas.core.frame.DataFrame'>\n",
      "Int64Index: 643021 entries, 526678 to 374007\n",
      "Data columns (total 6 columns):\n",
      "Sensor    643021 non-null object\n",
      "Type      643021 non-null object\n",
      "Units     643021 non-null object\n",
      "time      643021 non-null object\n",
      "Flag      643021 non-null float64\n",
      "Value     643021 non-null float64\n",
      "dtypes: float64(2), object(4)\n",
      "memory usage: 34.3+ MB\n"
     ]
    }
   ],
   "source": [
    "df.info()"
   ]
  },
  {
   "cell_type": "code",
   "execution_count": 5,
   "metadata": {},
   "outputs": [
    {
     "data": {
      "text/plain": [
       "Sensor         3\n",
       "Type          12\n",
       "Units          6\n",
       "time       78775\n",
       "Flag           2\n",
       "Value     144598\n",
       "dtype: int64"
      ]
     },
     "execution_count": 5,
     "metadata": {},
     "output_type": "execute_result"
    }
   ],
   "source": [
    "df.nunique()"
   ]
  },
  {
   "cell_type": "code",
   "execution_count": 6,
   "metadata": {},
   "outputs": [
    {
     "data": {
      "text/html": [
       "<div>\n",
       "<style scoped>\n",
       "    .dataframe tbody tr th:only-of-type {\n",
       "        vertical-align: middle;\n",
       "    }\n",
       "\n",
       "    .dataframe tbody tr th {\n",
       "        vertical-align: top;\n",
       "    }\n",
       "\n",
       "    .dataframe thead th {\n",
       "        text-align: right;\n",
       "    }\n",
       "</style>\n",
       "<table border=\"1\" class=\"dataframe\">\n",
       "  <thead>\n",
       "    <tr style=\"text-align: right;\">\n",
       "      <th></th>\n",
       "      <th>Sensor</th>\n",
       "      <th>Type</th>\n",
       "      <th>Units</th>\n",
       "      <th>time</th>\n",
       "      <th>Flag</th>\n",
       "      <th>Value</th>\n",
       "    </tr>\n",
       "  </thead>\n",
       "  <tbody>\n",
       "    <tr>\n",
       "      <th>0</th>\n",
       "      <td>PER_EMOTE_1309</td>\n",
       "      <td>Humidity</td>\n",
       "      <td>%</td>\n",
       "      <td>2020-05-24 09:07:31</td>\n",
       "      <td>0.0</td>\n",
       "      <td>70.800</td>\n",
       "    </tr>\n",
       "    <tr>\n",
       "      <th>1</th>\n",
       "      <td>PER_AIRMON_MESH1911150</td>\n",
       "      <td>PM 4</td>\n",
       "      <td>ugm -3</td>\n",
       "      <td>14/05/2020 11:22</td>\n",
       "      <td>0.0</td>\n",
       "      <td>0.660</td>\n",
       "    </tr>\n",
       "    <tr>\n",
       "      <th>2</th>\n",
       "      <td>PER_AIRMON_MESH1911150</td>\n",
       "      <td>PM2.5</td>\n",
       "      <td>ugm -3</td>\n",
       "      <td>16/05/2020 00:13</td>\n",
       "      <td>0.0</td>\n",
       "      <td>3.588</td>\n",
       "    </tr>\n",
       "    <tr>\n",
       "      <th>3</th>\n",
       "      <td>PER_EMOTE_1309</td>\n",
       "      <td>Temperature</td>\n",
       "      <td>Celsius</td>\n",
       "      <td>2020-06-01 12:16:47</td>\n",
       "      <td>0.0</td>\n",
       "      <td>20.800</td>\n",
       "    </tr>\n",
       "    <tr>\n",
       "      <th>4</th>\n",
       "      <td>PER_EMOTE_1309</td>\n",
       "      <td>Temperature</td>\n",
       "      <td>Celsius</td>\n",
       "      <td>2020-05-21 00:46:24</td>\n",
       "      <td>0.0</td>\n",
       "      <td>15.900</td>\n",
       "    </tr>\n",
       "  </tbody>\n",
       "</table>\n",
       "</div>"
      ],
      "text/plain": [
       "                   Sensor         Type    Units                 time  Flag  \\\n",
       "0          PER_EMOTE_1309     Humidity        %  2020-05-24 09:07:31   0.0   \n",
       "1  PER_AIRMON_MESH1911150         PM 4   ugm -3     14/05/2020 11:22   0.0   \n",
       "2  PER_AIRMON_MESH1911150        PM2.5   ugm -3     16/05/2020 00:13   0.0   \n",
       "3          PER_EMOTE_1309  Temperature  Celsius  2020-06-01 12:16:47   0.0   \n",
       "4          PER_EMOTE_1309  Temperature  Celsius  2020-05-21 00:46:24   0.0   \n",
       "\n",
       "    Value  \n",
       "0  70.800  \n",
       "1   0.660  \n",
       "2   3.588  \n",
       "3  20.800  \n",
       "4  15.900  "
      ]
     },
     "execution_count": 6,
     "metadata": {},
     "output_type": "execute_result"
    }
   ],
   "source": [
    "df_s.head()"
   ]
  },
  {
   "cell_type": "code",
   "execution_count": 7,
   "metadata": {},
   "outputs": [
    {
     "data": {
      "text/plain": [
       "array(['PER_AIRMON_MESH1911150', 'PER_AIRMON_MESH301245',\n",
       "       'PER_EMOTE_1309'], dtype=object)"
      ]
     },
     "execution_count": 7,
     "metadata": {},
     "output_type": "execute_result"
    }
   ],
   "source": [
    "df.Sensor.unique()"
   ]
  },
  {
   "cell_type": "code",
   "execution_count": 8,
   "metadata": {},
   "outputs": [
    {
     "data": {
      "text/plain": [
       "array(['PM2.5', 'PM10', 'Temperature', 'PM1', 'PM 4', 'Sound', 'Humidity',\n",
       "       'CO', 'NO2', 'NO', 'Pressure', 'O3'], dtype=object)"
      ]
     },
     "execution_count": 8,
     "metadata": {},
     "output_type": "execute_result"
    }
   ],
   "source": [
    "df.Type.unique()"
   ]
  },
  {
   "cell_type": "code",
   "execution_count": 9,
   "metadata": {},
   "outputs": [
    {
     "data": {
      "text/plain": [
       "array(['ugm -3', 'Celsius', 'db', '%', 'hpa', 'ppb'], dtype=object)"
      ]
     },
     "execution_count": 9,
     "metadata": {},
     "output_type": "execute_result"
    }
   ],
   "source": [
    "df.Units.unique()"
   ]
  },
  {
   "cell_type": "code",
   "execution_count": 10,
   "metadata": {},
   "outputs": [
    {
     "data": {
      "text/plain": [
       "array([0., 1.])"
      ]
     },
     "execution_count": 10,
     "metadata": {},
     "output_type": "execute_result"
    }
   ],
   "source": [
    "df.Flag.unique()"
   ]
  },
  {
   "cell_type": "code",
   "execution_count": null,
   "metadata": {},
   "outputs": [],
   "source": []
  }
 ],
 "metadata": {
  "kernelspec": {
   "display_name": "Python 3",
   "language": "python",
   "name": "python3"
  },
  "language_info": {
   "codemirror_mode": {
    "name": "ipython",
    "version": 3
   },
   "file_extension": ".py",
   "mimetype": "text/x-python",
   "name": "python",
   "nbconvert_exporter": "python",
   "pygments_lexer": "ipython3",
   "version": "3.7.5"
  }
 },
 "nbformat": 4,
 "nbformat_minor": 2
}
