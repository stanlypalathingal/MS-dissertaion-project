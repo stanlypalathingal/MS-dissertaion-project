{
 "cells": [
  {
   "cell_type": "code",
   "execution_count": 1,
   "metadata": {},
   "outputs": [
    {
     "data": {
      "application/javascript": [
       "IPython.notebook.set_autosave_interval(20000)"
      ]
     },
     "metadata": {},
     "output_type": "display_data"
    },
    {
     "name": "stdout",
     "output_type": "stream",
     "text": [
      "Autosaving every 20 seconds\n"
     ]
    }
   ],
   "source": [
    "%autosave 20\n",
    "import math \n",
    "import time\n",
    "import pandas as pd\n",
    "from sklearn.utils import shuffle"
   ]
  },
  {
   "cell_type": "code",
   "execution_count": 2,
   "metadata": {},
   "outputs": [
    {
     "name": "stdout",
     "output_type": "stream",
     "text": [
      "before loading the test 0.0\n",
      "after loading the test 0.03889727592468262\n",
      "test before  (18354, 6)\n",
      "after removing duplicates the test 0.03889727592468262\n",
      "test after  (18354, 6)\n",
      "test after  (18354, 6)\n"
     ]
    },
    {
     "data": {
      "text/html": [
       "<div>\n",
       "<style scoped>\n",
       "    .dataframe tbody tr th:only-of-type {\n",
       "        vertical-align: middle;\n",
       "    }\n",
       "\n",
       "    .dataframe tbody tr th {\n",
       "        vertical-align: top;\n",
       "    }\n",
       "\n",
       "    .dataframe thead th {\n",
       "        text-align: right;\n",
       "    }\n",
       "</style>\n",
       "<table border=\"1\" class=\"dataframe\">\n",
       "  <thead>\n",
       "    <tr style=\"text-align: right;\">\n",
       "      <th></th>\n",
       "      <th>Sensor</th>\n",
       "      <th>Type</th>\n",
       "      <th>Units</th>\n",
       "      <th>time</th>\n",
       "      <th>Flag</th>\n",
       "      <th>Value</th>\n",
       "    </tr>\n",
       "  </thead>\n",
       "  <tbody>\n",
       "    <tr>\n",
       "      <th>0</th>\n",
       "      <td>PER_AIRMON_MESH1911150</td>\n",
       "      <td>NO2</td>\n",
       "      <td>ugm -3</td>\n",
       "      <td>2020-05-24 09:15:00</td>\n",
       "      <td>False</td>\n",
       "      <td>20.34160</td>\n",
       "    </tr>\n",
       "    <tr>\n",
       "      <th>1</th>\n",
       "      <td>PER_AIRMON_MESH1911150</td>\n",
       "      <td>NO2</td>\n",
       "      <td>ugm -3</td>\n",
       "      <td>2020-05-24 09:30:00</td>\n",
       "      <td>False</td>\n",
       "      <td>21.78168</td>\n",
       "    </tr>\n",
       "    <tr>\n",
       "      <th>2</th>\n",
       "      <td>PER_AIRMON_MESH1911150</td>\n",
       "      <td>NO2</td>\n",
       "      <td>ugm -3</td>\n",
       "      <td>2020-05-24 09:45:00</td>\n",
       "      <td>False</td>\n",
       "      <td>24.80096</td>\n",
       "    </tr>\n",
       "    <tr>\n",
       "      <th>3</th>\n",
       "      <td>PER_AIRMON_MESH1911150</td>\n",
       "      <td>NO2</td>\n",
       "      <td>ugm -3</td>\n",
       "      <td>2020-05-24 10:00:00</td>\n",
       "      <td>False</td>\n",
       "      <td>20.92252</td>\n",
       "    </tr>\n",
       "    <tr>\n",
       "      <th>4</th>\n",
       "      <td>PER_AIRMON_MESH1911150</td>\n",
       "      <td>NO2</td>\n",
       "      <td>ugm -3</td>\n",
       "      <td>2020-05-24 10:15:00</td>\n",
       "      <td>False</td>\n",
       "      <td>18.76240</td>\n",
       "    </tr>\n",
       "  </tbody>\n",
       "</table>\n",
       "</div>"
      ],
      "text/plain": [
       "                   Sensor Type   Units                 time   Flag     Value\n",
       "0  PER_AIRMON_MESH1911150  NO2  ugm -3  2020-05-24 09:15:00  False  20.34160\n",
       "1  PER_AIRMON_MESH1911150  NO2  ugm -3  2020-05-24 09:30:00  False  21.78168\n",
       "2  PER_AIRMON_MESH1911150  NO2  ugm -3  2020-05-24 09:45:00  False  24.80096\n",
       "3  PER_AIRMON_MESH1911150  NO2  ugm -3  2020-05-24 10:00:00  False  20.92252\n",
       "4  PER_AIRMON_MESH1911150  NO2  ugm -3  2020-05-24 10:15:00  False  18.76240"
      ]
     },
     "execution_count": 2,
     "metadata": {},
     "output_type": "execute_result"
    }
   ],
   "source": [
    "# Loading new dataset to remove teh duplicates\n",
    "start=time.time()\n",
    "end=time.time()\n",
    "print(\"before loading the test\",end-start)\n",
    "df_t=pd.read_csv(\"test.csv\",delimiter=\",\",names=[\"Sensor\",\"Type\",\"Units\",\"time\",\"Flag\",\"Value\"])\n",
    "end=time.time()\n",
    "print(\"after loading the test\",end-start)\n",
    "\n",
    "print(\"test before \",df_t.shape)\n",
    "# len(df_t.packet_no.unique())\n",
    "end=time.time()\n",
    "print(\"after removing duplicates the test\",end-start)\n",
    "\n",
    "# df_t=df_t.drop([\"packet_no\",\"Key\"],1)\n",
    "df_t=df_t.drop_duplicates()\n",
    "print(\"test after \",df_t.shape)\n",
    "\n",
    "df_t=df_t.drop_duplicates()\n",
    "print(\"test after \",df_t.shape)\n",
    "df_t.head(5)"
   ]
  },
  {
   "cell_type": "code",
   "execution_count": 3,
   "metadata": {},
   "outputs": [
    {
     "name": "stdout",
     "output_type": "stream",
     "text": [
      "sample before  (241492, 6)\n",
      "sample after concat  (259846, 6)\n",
      "after removing duplicates  (259846, 6)\n",
      "sample newly loaded  (259846, 6)\n",
      "sample newly removed duplictes  (259846, 6)\n",
      "before final loading 6.185005187988281\n",
      "after loading 7.812729597091675\n"
     ]
    },
    {
     "data": {
      "text/html": [
       "<div>\n",
       "<style scoped>\n",
       "    .dataframe tbody tr th:only-of-type {\n",
       "        vertical-align: middle;\n",
       "    }\n",
       "\n",
       "    .dataframe tbody tr th {\n",
       "        vertical-align: top;\n",
       "    }\n",
       "\n",
       "    .dataframe thead th {\n",
       "        text-align: right;\n",
       "    }\n",
       "</style>\n",
       "<table border=\"1\" class=\"dataframe\">\n",
       "  <thead>\n",
       "    <tr style=\"text-align: right;\">\n",
       "      <th></th>\n",
       "      <th>Sensor</th>\n",
       "      <th>Type</th>\n",
       "      <th>Units</th>\n",
       "      <th>time</th>\n",
       "      <th>Flag</th>\n",
       "      <th>Value</th>\n",
       "    </tr>\n",
       "  </thead>\n",
       "  <tbody>\n",
       "    <tr>\n",
       "      <th>232514</th>\n",
       "      <td>PER_AIRMON_MESH301245</td>\n",
       "      <td>PM10</td>\n",
       "      <td>ugm -3</td>\n",
       "      <td>2020-05-20 18:37:00</td>\n",
       "      <td>0.0</td>\n",
       "      <td>10.490000</td>\n",
       "    </tr>\n",
       "    <tr>\n",
       "      <th>24386</th>\n",
       "      <td>PER_EMOTE_1309</td>\n",
       "      <td>Humidity</td>\n",
       "      <td>%</td>\n",
       "      <td>2020-05-19 17:57:21</td>\n",
       "      <td>0.0</td>\n",
       "      <td>64.800000</td>\n",
       "    </tr>\n",
       "    <tr>\n",
       "      <th>4924</th>\n",
       "      <td>PER_AIRMON_MESH1911150</td>\n",
       "      <td>PM2.5</td>\n",
       "      <td>ugm -3</td>\n",
       "      <td>2020-05-20 22:19:00</td>\n",
       "      <td>0.0</td>\n",
       "      <td>7.496000</td>\n",
       "    </tr>\n",
       "    <tr>\n",
       "      <th>160360</th>\n",
       "      <td>PER_AIRMON_MESH1911150</td>\n",
       "      <td>PM1</td>\n",
       "      <td>ugm -3</td>\n",
       "      <td>17/05/2020 19:38</td>\n",
       "      <td>0.0</td>\n",
       "      <td>2.162000</td>\n",
       "    </tr>\n",
       "    <tr>\n",
       "      <th>106550</th>\n",
       "      <td>PER_AIRMON_MESH301245</td>\n",
       "      <td>PM10</td>\n",
       "      <td>ugm -3</td>\n",
       "      <td>12/05/2020 00:58</td>\n",
       "      <td>0.0</td>\n",
       "      <td>8.160000</td>\n",
       "    </tr>\n",
       "    <tr>\n",
       "      <th>153471</th>\n",
       "      <td>PER_EMOTE_1309</td>\n",
       "      <td>NO</td>\n",
       "      <td>ugm -3</td>\n",
       "      <td>14/05/2020 07:30</td>\n",
       "      <td>0.0</td>\n",
       "      <td>16.536543</td>\n",
       "    </tr>\n",
       "    <tr>\n",
       "      <th>29878</th>\n",
       "      <td>PER_AIRMON_MESH1911150</td>\n",
       "      <td>O3</td>\n",
       "      <td>ppb</td>\n",
       "      <td>2020-05-23 02:15:00</td>\n",
       "      <td>0.0</td>\n",
       "      <td>22.603000</td>\n",
       "    </tr>\n",
       "    <tr>\n",
       "      <th>155399</th>\n",
       "      <td>PER_EMOTE_1309</td>\n",
       "      <td>NO2</td>\n",
       "      <td>ugm -3</td>\n",
       "      <td>2020-05-20 23:05:25</td>\n",
       "      <td>0.0</td>\n",
       "      <td>133.280455</td>\n",
       "    </tr>\n",
       "    <tr>\n",
       "      <th>83798</th>\n",
       "      <td>PER_EMOTE_1309</td>\n",
       "      <td>Temperature</td>\n",
       "      <td>Celsius</td>\n",
       "      <td>2020-05-19 00:13:20</td>\n",
       "      <td>0.0</td>\n",
       "      <td>14.200000</td>\n",
       "    </tr>\n",
       "    <tr>\n",
       "      <th>178650</th>\n",
       "      <td>PER_AIRMON_MESH1911150</td>\n",
       "      <td>PM 4</td>\n",
       "      <td>ugm -3</td>\n",
       "      <td>2020-05-21 18:00:00</td>\n",
       "      <td>0.0</td>\n",
       "      <td>0.520000</td>\n",
       "    </tr>\n",
       "  </tbody>\n",
       "</table>\n",
       "</div>"
      ],
      "text/plain": [
       "                        Sensor         Type    Units                 time  \\\n",
       "232514   PER_AIRMON_MESH301245         PM10   ugm -3  2020-05-20 18:37:00   \n",
       "24386           PER_EMOTE_1309     Humidity        %  2020-05-19 17:57:21   \n",
       "4924    PER_AIRMON_MESH1911150        PM2.5   ugm -3  2020-05-20 22:19:00   \n",
       "160360  PER_AIRMON_MESH1911150          PM1   ugm -3     17/05/2020 19:38   \n",
       "106550   PER_AIRMON_MESH301245         PM10   ugm -3     12/05/2020 00:58   \n",
       "153471          PER_EMOTE_1309           NO   ugm -3     14/05/2020 07:30   \n",
       "29878   PER_AIRMON_MESH1911150           O3      ppb  2020-05-23 02:15:00   \n",
       "155399          PER_EMOTE_1309          NO2   ugm -3  2020-05-20 23:05:25   \n",
       "83798           PER_EMOTE_1309  Temperature  Celsius  2020-05-19 00:13:20   \n",
       "178650  PER_AIRMON_MESH1911150         PM 4   ugm -3  2020-05-21 18:00:00   \n",
       "\n",
       "        Flag       Value  \n",
       "232514   0.0   10.490000  \n",
       "24386    0.0   64.800000  \n",
       "4924     0.0    7.496000  \n",
       "160360   0.0    2.162000  \n",
       "106550   0.0    8.160000  \n",
       "153471   0.0   16.536543  \n",
       "29878    0.0   22.603000  \n",
       "155399   0.0  133.280455  \n",
       "83798    0.0   14.200000  \n",
       "178650   0.0    0.520000  "
      ]
     },
     "execution_count": 3,
     "metadata": {},
     "output_type": "execute_result"
    }
   ],
   "source": [
    "df_s=pd.read_csv(\"Sample dataset values1.csv\")\n",
    "# df_s=df_s.drop(\"Key\",1)\n",
    "df_s=df_s.dropna()\n",
    "print(\"sample before \",df_s.shape)\n",
    "\n",
    "df_c=pd.concat([df_s,df_t], axis=0, ignore_index=True)\n",
    "print(\"sample after concat \",df_c.shape)\n",
    "\n",
    "df_remove=df_c.drop_duplicates()\n",
    "print(\"after removing duplicates \",df_remove.shape)\n",
    "\n",
    "df_shuffle = shuffle(df_remove)\n",
    "df_shuffle.to_csv(\"Sample dataset values1.csv\",mode=\"w\",index=False)\n",
    "\n",
    "df=pd.read_csv(\"Sample dataset values1.csv\")\n",
    "print(\"sample newly loaded \",df.shape)\n",
    "\n",
    "df=df.drop_duplicates()\n",
    "print(\"sample newly removed duplictes \",df.shape)\n",
    "\n",
    "end=time.time()\n",
    "print(\"before final loading\",end-start)\n",
    "df= shuffle(df)\n",
    "df.to_csv(\"Sample dataset values1.csv\",mode=\"w\",index=False)\n",
    "\n",
    "end=time.time()\n",
    "print(\"after loading\",end-start)\n",
    "df.tail(10)"
   ]
  },
  {
   "cell_type": "code",
   "execution_count": 4,
   "metadata": {
    "scrolled": false
   },
   "outputs": [
    {
     "name": "stdout",
     "output_type": "stream",
     "text": [
      "<class 'pandas.core.frame.DataFrame'>\n",
      "Int64Index: 259846 entries, 43332 to 178650\n",
      "Data columns (total 6 columns):\n",
      "Sensor    259846 non-null object\n",
      "Type      259846 non-null object\n",
      "Units     259846 non-null object\n",
      "time      259846 non-null object\n",
      "Flag      259846 non-null float64\n",
      "Value     259846 non-null float64\n",
      "dtypes: float64(2), object(4)\n",
      "memory usage: 13.9+ MB\n"
     ]
    }
   ],
   "source": [
    "df.info()"
   ]
  },
  {
   "cell_type": "code",
   "execution_count": 5,
   "metadata": {},
   "outputs": [
    {
     "data": {
      "text/plain": [
       "Sensor        3\n",
       "Type         12\n",
       "Units         6\n",
       "time      27968\n",
       "Flag          2\n",
       "Value     65274\n",
       "dtype: int64"
      ]
     },
     "execution_count": 5,
     "metadata": {},
     "output_type": "execute_result"
    }
   ],
   "source": [
    "df.nunique()"
   ]
  },
  {
   "cell_type": "code",
   "execution_count": null,
   "metadata": {},
   "outputs": [],
   "source": []
  }
 ],
 "metadata": {
  "kernelspec": {
   "display_name": "Python 3",
   "language": "python",
   "name": "python3"
  },
  "language_info": {
   "codemirror_mode": {
    "name": "ipython",
    "version": 3
   },
   "file_extension": ".py",
   "mimetype": "text/x-python",
   "name": "python",
   "nbconvert_exporter": "python",
   "pygments_lexer": "ipython3",
   "version": "3.7.5"
  }
 },
 "nbformat": 4,
 "nbformat_minor": 2
}
