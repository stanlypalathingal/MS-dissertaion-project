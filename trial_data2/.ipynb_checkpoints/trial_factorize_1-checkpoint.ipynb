{
 "cells": [
  {
   "cell_type": "code",
   "execution_count": 1,
   "metadata": {},
   "outputs": [],
   "source": [
    "%autosave 20\n",
    "import math \n",
    "import pandas as pd\n",
    "\n",
    "import numpy as np\n",
    "# import matplotlib.pyplot as plt\n",
    "\n",
    "# from matplotlib.colors import ListedColormap\n",
    "# from sklearn.utils import shuffle\n",
    "from sklearn import tree\n",
    "\n",
    "from sklearn.tree import DecisionTreeClassifier\n",
    "\n",
    "from sklearn.metrics import accuracy_score\n",
    "from sklearn.metrics import confusion_matrix"
   ]
  },
  {
   "cell_type": "code",
   "execution_count": 2,
   "metadata": {},
   "outputs": [
    {
     "data": {
      "text/html": [
       "<div>\n",
       "<style scoped>\n",
       "    .dataframe tbody tr th:only-of-type {\n",
       "        vertical-align: middle;\n",
       "    }\n",
       "\n",
       "    .dataframe tbody tr th {\n",
       "        vertical-align: top;\n",
       "    }\n",
       "\n",
       "    .dataframe thead th {\n",
       "        text-align: right;\n",
       "    }\n",
       "</style>\n",
       "<table border=\"1\" class=\"dataframe\">\n",
       "  <thead>\n",
       "    <tr style=\"text-align: right;\">\n",
       "      <th></th>\n",
       "      <th>Sensor</th>\n",
       "      <th>Type</th>\n",
       "      <th>Units</th>\n",
       "      <th>time</th>\n",
       "      <th>Flag</th>\n",
       "      <th>Value</th>\n",
       "    </tr>\n",
       "  </thead>\n",
       "  <tbody>\n",
       "    <tr>\n",
       "      <th>0</th>\n",
       "      <td>PER_EMOTE_1309</td>\n",
       "      <td>Sound</td>\n",
       "      <td>db</td>\n",
       "      <td>2020-05-17 02:51:17</td>\n",
       "      <td>0</td>\n",
       "      <td>52.000000</td>\n",
       "    </tr>\n",
       "    <tr>\n",
       "      <th>1</th>\n",
       "      <td>PER_EMOTE_1309</td>\n",
       "      <td>NO</td>\n",
       "      <td>ugm -3</td>\n",
       "      <td>12/05/2020 21:51</td>\n",
       "      <td>0</td>\n",
       "      <td>31.162645</td>\n",
       "    </tr>\n",
       "    <tr>\n",
       "      <th>2</th>\n",
       "      <td>PER_AIRMON_MESH301245</td>\n",
       "      <td>PM 4</td>\n",
       "      <td>ugm -3</td>\n",
       "      <td>11/05/2020 11:56</td>\n",
       "      <td>0</td>\n",
       "      <td>3.350000</td>\n",
       "    </tr>\n",
       "    <tr>\n",
       "      <th>3</th>\n",
       "      <td>PER_AIRMON_MESH301245</td>\n",
       "      <td>PM10</td>\n",
       "      <td>ugm -3</td>\n",
       "      <td>15/05/2020 12:30</td>\n",
       "      <td>0</td>\n",
       "      <td>5.180000</td>\n",
       "    </tr>\n",
       "    <tr>\n",
       "      <th>4</th>\n",
       "      <td>PER_EMOTE_1309</td>\n",
       "      <td>NO</td>\n",
       "      <td>ugm -3</td>\n",
       "      <td>16/05/2020 05:24</td>\n",
       "      <td>0</td>\n",
       "      <td>20.475028</td>\n",
       "    </tr>\n",
       "    <tr>\n",
       "      <th>5</th>\n",
       "      <td>PER_EMOTE_1309</td>\n",
       "      <td>Temperature</td>\n",
       "      <td>Celsius</td>\n",
       "      <td>11/05/2020 09:11</td>\n",
       "      <td>0</td>\n",
       "      <td>5.600000</td>\n",
       "    </tr>\n",
       "    <tr>\n",
       "      <th>6</th>\n",
       "      <td>PER_AIRMON_MESH1911150</td>\n",
       "      <td>PM 4</td>\n",
       "      <td>ugm -3</td>\n",
       "      <td>16/05/2020 18:14</td>\n",
       "      <td>0</td>\n",
       "      <td>0.730000</td>\n",
       "    </tr>\n",
       "    <tr>\n",
       "      <th>7</th>\n",
       "      <td>PER_AIRMON_MESH1911150</td>\n",
       "      <td>NO2</td>\n",
       "      <td>ugm -3</td>\n",
       "      <td>12/05/2020 16:45</td>\n",
       "      <td>0</td>\n",
       "      <td>43.313320</td>\n",
       "    </tr>\n",
       "    <tr>\n",
       "      <th>8</th>\n",
       "      <td>PER_AIRMON_MESH301245</td>\n",
       "      <td>PM2.5</td>\n",
       "      <td>ugm -3</td>\n",
       "      <td>15/05/2020 02:11</td>\n",
       "      <td>0</td>\n",
       "      <td>2.440000</td>\n",
       "    </tr>\n",
       "    <tr>\n",
       "      <th>9</th>\n",
       "      <td>PER_EMOTE_1309</td>\n",
       "      <td>CO</td>\n",
       "      <td>ugm -3</td>\n",
       "      <td>15/05/2020 13:33</td>\n",
       "      <td>0</td>\n",
       "      <td>240.936943</td>\n",
       "    </tr>\n",
       "    <tr>\n",
       "      <th>10</th>\n",
       "      <td>PER_AIRMON_MESH301245</td>\n",
       "      <td>PM1</td>\n",
       "      <td>ugm -3</td>\n",
       "      <td>11/05/2020 08:49</td>\n",
       "      <td>0</td>\n",
       "      <td>2.110000</td>\n",
       "    </tr>\n",
       "    <tr>\n",
       "      <th>11</th>\n",
       "      <td>PER_EMOTE_1309</td>\n",
       "      <td>CO</td>\n",
       "      <td>ugm -3</td>\n",
       "      <td>17/05/2020 16:35</td>\n",
       "      <td>0</td>\n",
       "      <td>301.700930</td>\n",
       "    </tr>\n",
       "    <tr>\n",
       "      <th>12</th>\n",
       "      <td>PER_EMOTE_1309</td>\n",
       "      <td>Sound</td>\n",
       "      <td>db</td>\n",
       "      <td>17/05/2020 00:40</td>\n",
       "      <td>0</td>\n",
       "      <td>53.000000</td>\n",
       "    </tr>\n",
       "    <tr>\n",
       "      <th>13</th>\n",
       "      <td>PER_AIRMON_MESH301245</td>\n",
       "      <td>PM 4</td>\n",
       "      <td>ugm -3</td>\n",
       "      <td>15/05/2020 05:50</td>\n",
       "      <td>0</td>\n",
       "      <td>3.270000</td>\n",
       "    </tr>\n",
       "    <tr>\n",
       "      <th>14</th>\n",
       "      <td>PER_AIRMON_MESH1911150</td>\n",
       "      <td>PM1</td>\n",
       "      <td>ugm -3</td>\n",
       "      <td>12/05/2020 10:58</td>\n",
       "      <td>0</td>\n",
       "      <td>2.292000</td>\n",
       "    </tr>\n",
       "    <tr>\n",
       "      <th>15</th>\n",
       "      <td>PER_EMOTE_1309</td>\n",
       "      <td>CO</td>\n",
       "      <td>ugm -3</td>\n",
       "      <td>13/05/2020 03:31</td>\n",
       "      <td>0</td>\n",
       "      <td>194.972246</td>\n",
       "    </tr>\n",
       "    <tr>\n",
       "      <th>16</th>\n",
       "      <td>PER_EMOTE_1309</td>\n",
       "      <td>CO</td>\n",
       "      <td>ugm -3</td>\n",
       "      <td>13/05/2020 16:13</td>\n",
       "      <td>0</td>\n",
       "      <td>201.515603</td>\n",
       "    </tr>\n",
       "    <tr>\n",
       "      <th>17</th>\n",
       "      <td>PER_EMOTE_1309</td>\n",
       "      <td>NO2</td>\n",
       "      <td>ugm -3</td>\n",
       "      <td>2020-05-17 13:29:17</td>\n",
       "      <td>0</td>\n",
       "      <td>52.462571</td>\n",
       "    </tr>\n",
       "    <tr>\n",
       "      <th>18</th>\n",
       "      <td>PER_AIRMON_MESH1911150</td>\n",
       "      <td>PM10</td>\n",
       "      <td>ugm -3</td>\n",
       "      <td>17/05/2020 10:50</td>\n",
       "      <td>0</td>\n",
       "      <td>6.323000</td>\n",
       "    </tr>\n",
       "    <tr>\n",
       "      <th>19</th>\n",
       "      <td>PER_AIRMON_MESH1911150</td>\n",
       "      <td>PM10</td>\n",
       "      <td>ugm -3</td>\n",
       "      <td>15/05/2020 16:58</td>\n",
       "      <td>0</td>\n",
       "      <td>8.127000</td>\n",
       "    </tr>\n",
       "  </tbody>\n",
       "</table>\n",
       "</div>"
      ],
      "text/plain": [
       "                    Sensor         Type    Units                 time  Flag  \\\n",
       "0           PER_EMOTE_1309        Sound       db  2020-05-17 02:51:17     0   \n",
       "1           PER_EMOTE_1309           NO   ugm -3     12/05/2020 21:51     0   \n",
       "2    PER_AIRMON_MESH301245         PM 4   ugm -3     11/05/2020 11:56     0   \n",
       "3    PER_AIRMON_MESH301245         PM10   ugm -3     15/05/2020 12:30     0   \n",
       "4           PER_EMOTE_1309           NO   ugm -3     16/05/2020 05:24     0   \n",
       "5           PER_EMOTE_1309  Temperature  Celsius     11/05/2020 09:11     0   \n",
       "6   PER_AIRMON_MESH1911150         PM 4   ugm -3     16/05/2020 18:14     0   \n",
       "7   PER_AIRMON_MESH1911150          NO2   ugm -3     12/05/2020 16:45     0   \n",
       "8    PER_AIRMON_MESH301245        PM2.5   ugm -3     15/05/2020 02:11     0   \n",
       "9           PER_EMOTE_1309           CO   ugm -3     15/05/2020 13:33     0   \n",
       "10   PER_AIRMON_MESH301245          PM1   ugm -3     11/05/2020 08:49     0   \n",
       "11          PER_EMOTE_1309           CO   ugm -3     17/05/2020 16:35     0   \n",
       "12          PER_EMOTE_1309        Sound       db     17/05/2020 00:40     0   \n",
       "13   PER_AIRMON_MESH301245         PM 4   ugm -3     15/05/2020 05:50     0   \n",
       "14  PER_AIRMON_MESH1911150          PM1   ugm -3     12/05/2020 10:58     0   \n",
       "15          PER_EMOTE_1309           CO   ugm -3     13/05/2020 03:31     0   \n",
       "16          PER_EMOTE_1309           CO   ugm -3     13/05/2020 16:13     0   \n",
       "17          PER_EMOTE_1309          NO2   ugm -3  2020-05-17 13:29:17     0   \n",
       "18  PER_AIRMON_MESH1911150         PM10   ugm -3     17/05/2020 10:50     0   \n",
       "19  PER_AIRMON_MESH1911150         PM10   ugm -3     15/05/2020 16:58     0   \n",
       "\n",
       "         Value  \n",
       "0    52.000000  \n",
       "1    31.162645  \n",
       "2     3.350000  \n",
       "3     5.180000  \n",
       "4    20.475028  \n",
       "5     5.600000  \n",
       "6     0.730000  \n",
       "7    43.313320  \n",
       "8     2.440000  \n",
       "9   240.936943  \n",
       "10    2.110000  \n",
       "11  301.700930  \n",
       "12   53.000000  \n",
       "13    3.270000  \n",
       "14    2.292000  \n",
       "15  194.972246  \n",
       "16  201.515603  \n",
       "17   52.462571  \n",
       "18    6.323000  \n",
       "19    8.127000  "
      ]
     },
     "execution_count": 2,
     "metadata": {},
     "output_type": "execute_result"
    },
    {
     "data": {
      "text/plain": [
       "(148327, 6)"
      ]
     },
     "execution_count": 2,
     "metadata": {},
     "output_type": "execute_result"
    },
    {
     "name": "stdout",
     "output_type": "stream",
     "text": [
      "total rows\n",
      "111245\n"
     ]
    }
   ],
   "source": [
    "list_sensor=pd.read_csv(\"list_sensor1.csv\", delimiter=\",\",names=[\"id\",\"factor\"])\n",
    "list_units=pd.read_csv(\"list_units1.csv\", delimiter=\",\",names=[\"id\",\"factor\"]) \n",
    "list_type=pd.read_csv(\"list_types1.csv\", delimiter=\",\",names=[\"id\",\"factor\"]) \n",
    "# df=pd.read_csv(\"Sample dataset values1.csv\",delimiter=\",\", \n",
    "#                     names=[\"packet_no\",\"Sensor\",\"Type\",\"Units\",\"time\",\"Flag\",\"Value\",\"Key\"])\n",
    "# df = shuffle(df)\n",
    "# df.to_csv(\"Sample dataset values1.csv\",mode=\"w\",index=False)\n",
    "df=pd.read_csv(\"Sample dataset values1.csv\")\n",
    "df.head(5)\n",
    "df.shape\n",
    "total_row=df.shape[0]\n",
    "trial_row=int(total_row-(total_row*0.25))\n",
    "print(\"total rows\")\n",
    "print(trial_row)"
   ]
  },
  {
   "cell_type": "code",
   "execution_count": 3,
   "metadata": {},
   "outputs": [],
   "source": [
    "def factorize(obj,obj_list,table,data):\n",
    "    print(data[obj].unique())\n",
    "    data_s=pd.DataFrame(data[obj].unique())\n",
    "    \n",
    "    new_sensor = data_s[~data_s[0].isin(obj_list.id)]\n",
    "    ns=[]\n",
    "    if(len(new_sensor)>0):\n",
    "        l=len(obj_list)\n",
    "        for s in new_sensor[0]:\n",
    "            n=[s,l]\n",
    "            l=l+1\n",
    "            ns.append(n)\n",
    "        ns=pd.DataFrame(ns,columns=[\"id\",\"factor\"])\n",
    "        ns.to_csv(table,mode='a', header=False,index=False)\n",
    "\n",
    "    obj_list=pd.read_csv(table,delimiter=\",\",names=[\"id\",\"factor\"])\n",
    "    l=len(obj_list)\n",
    "    for i in range(0,l):\n",
    "        data.loc[data[obj]==obj_list.id[i],obj]=obj_list.factor[i]\n",
    "    print(data[obj].unique())"
   ]
  },
  {
   "cell_type": "code",
   "execution_count": 4,
   "metadata": {},
   "outputs": [
    {
     "name": "stdout",
     "output_type": "stream",
     "text": [
      "['PER_EMOTE_1309' 'PER_AIRMON_MESH301245' 'PER_AIRMON_MESH1911150']\n",
      "[1 2 0]\n"
     ]
    }
   ],
   "source": [
    "factorize('Sensor',list_sensor,'list_sensor1.csv',df)"
   ]
  },
  {
   "cell_type": "code",
   "execution_count": 5,
   "metadata": {},
   "outputs": [
    {
     "name": "stdout",
     "output_type": "stream",
     "text": [
      "['Sound' 'NO' 'PM 4' 'PM10' 'Temperature' 'NO2' 'PM2.5' 'CO' 'PM1'\n",
      " 'Pressure' 'Humidity' 'O3']\n",
      "[ 5 10  0  4  1  7  3  2  8 11  6  9]\n"
     ]
    }
   ],
   "source": [
    "factorize('Type',list_type,'list_types1.csv',df)"
   ]
  },
  {
   "cell_type": "code",
   "execution_count": 6,
   "metadata": {},
   "outputs": [
    {
     "name": "stdout",
     "output_type": "stream",
     "text": [
      "['db' 'ugm -3' 'Celsius' 'hpa' '%' 'ppb']\n",
      "[2 0 1 5 3 4]\n"
     ]
    }
   ],
   "source": [
    "factorize('Units',list_units,'list_units1.csv',df)"
   ]
  },
  {
   "cell_type": "code",
   "execution_count": 7,
   "metadata": {},
   "outputs": [],
   "source": [
    "df.loc[df['Flag']==False,'Flag']=0\n",
    "df.loc[df['Flag']==True,'Flag']=1"
   ]
  },
  {
   "cell_type": "code",
   "execution_count": 8,
   "metadata": {},
   "outputs": [
    {
     "data": {
      "text/plain": [
       "(111245, 6)"
      ]
     },
     "execution_count": 8,
     "metadata": {},
     "output_type": "execute_result"
    },
    {
     "data": {
      "text/plain": [
       "(37081, 6)"
      ]
     },
     "execution_count": 8,
     "metadata": {},
     "output_type": "execute_result"
    }
   ],
   "source": [
    "x=['Sensor', 'Type', 'Units','Value']\n",
    "y=['Flag']\n",
    "train=df.loc[1:trial_row,]\n",
    "test=df.loc[trial_row+1:total_row,]\n",
    "train.shape\n",
    "test.shape"
   ]
  },
  {
   "cell_type": "code",
   "execution_count": 9,
   "metadata": {},
   "outputs": [
    {
     "name": "stdout",
     "output_type": "stream",
     "text": [
      "0    110754\n",
      "1       491\n",
      "Name: Flag, dtype: int64\n",
      "0    36888\n",
      "1      193\n",
      "Name: Flag, dtype: int64\n"
     ]
    }
   ],
   "source": [
    "print(train['Flag'].value_counts())\n",
    "print(test['Flag'].value_counts())"
   ]
  },
  {
   "cell_type": "code",
   "execution_count": 10,
   "metadata": {},
   "outputs": [],
   "source": [
    "x_train,y_train,x_test,y_test = train[x],train[y],test[x],test[y]"
   ]
  },
  {
   "cell_type": "code",
   "execution_count": 11,
   "metadata": {},
   "outputs": [
    {
     "data": {
      "text/plain": [
       "0    110754\n",
       "1       491\n",
       "Name: Flag, dtype: int64"
      ]
     },
     "execution_count": 11,
     "metadata": {},
     "output_type": "execute_result"
    },
    {
     "data": {
      "text/plain": [
       "0    36888\n",
       "1      193\n",
       "Name: Flag, dtype: int64"
      ]
     },
     "execution_count": 11,
     "metadata": {},
     "output_type": "execute_result"
    }
   ],
   "source": [
    "train['Flag'].value_counts()\n",
    "test['Flag'].value_counts()"
   ]
  },
  {
   "cell_type": "code",
   "execution_count": 12,
   "metadata": {},
   "outputs": [],
   "source": [
    "#confusion Matrix\n",
    "def ConfusionMatrix(x,y):\n",
    "    a = confusion_matrix(x,y)\n",
    "    print(a)\n",
    "    b = (a[0][0]+a[1][1])/(a[1][1]+a[0][1]+a[0][0]+a[1][0])\n",
    "    return round(b*100,2)"
   ]
  },
  {
   "cell_type": "code",
   "execution_count": 13,
   "metadata": {},
   "outputs": [
    {
     "name": "stdout",
     "output_type": "stream",
     "text": [
      "1.0\n",
      "[[36888     0]\n",
      " [    0   193]]\n",
      "100.0\n"
     ]
    }
   ],
   "source": [
    "#Decision Tree\n",
    "decision = DecisionTreeClassifier(max_depth=5).fit(x_train, y_train)\n",
    "decision_yhat = decision.predict(x_test)\n",
    "\n",
    "# type(decision_yhat)\n",
    "# print(\"zeros\",(decision_yhat == 0).sum())\n",
    "# print(\"ones\",(decision_yhat == 1).sum())\n",
    "\n",
    "print(decision.score(x_test,y_test))\n",
    "\n",
    "decision_acc= ConfusionMatrix(decision_yhat,y_test)\n",
    "print(decision_acc)\n",
    "\n",
    "\n"
   ]
  },
  {
   "cell_type": "code",
   "execution_count": 14,
   "metadata": {},
   "outputs": [
    {
     "data": {
      "text/plain": [
       "[Text(248.0, 277.2, 'X[3] <= 0.001\\ngini = 0.009\\nsamples = 111245\\nvalue = [110754, 491]'),\n",
       " Text(124.0, 92.39999999999998, 'gini = 0.0\\nsamples = 491\\nvalue = [0, 491]'),\n",
       " Text(372.0, 92.39999999999998, 'gini = 0.0\\nsamples = 110754\\nvalue = [110754, 0]')]"
      ]
     },
     "execution_count": 14,
     "metadata": {},
     "output_type": "execute_result"
    }
   ],
   "source": [
    "decision=tree.DecisionTreeClassifier()\n",
    "tree.plot_tree(decision.fit(x_train,y_train)) "
   ]
  },
  {
   "cell_type": "code",
   "execution_count": 15,
   "metadata": {},
   "outputs": [
    {
     "data": {
      "text/plain": [
       "4"
      ]
     },
     "execution_count": 15,
     "metadata": {},
     "output_type": "execute_result"
    }
   ],
   "source": [
    "a='abcg'\n",
    "len(a)"
   ]
  }
 ],
 "metadata": {
  "kernelspec": {
   "display_name": "Python 3",
   "language": "python",
   "name": "python3"
  },
  "language_info": {
   "codemirror_mode": {
    "name": "ipython",
    "version": 3
   },
   "file_extension": ".py",
   "mimetype": "text/x-python",
   "name": "python",
   "nbconvert_exporter": "python",
   "pygments_lexer": "ipython3",
   "version": "3.7.5"
  }
 },
 "nbformat": 4,
 "nbformat_minor": 2
}
