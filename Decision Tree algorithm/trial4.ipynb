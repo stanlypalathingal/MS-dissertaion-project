{
 "cells": [
  {
   "cell_type": "code",
   "execution_count": 6,
   "metadata": {},
   "outputs": [
    {
     "data": {
      "application/javascript": [
       "IPython.notebook.set_autosave_interval(20000)"
      ]
     },
     "metadata": {},
     "output_type": "display_data"
    },
    {
     "name": "stdout",
     "output_type": "stream",
     "text": [
      "Autosaving every 20 seconds\n"
     ]
    }
   ],
   "source": [
    "%autosave 20\n",
    "import math \n",
    "import pandas as pd"
   ]
  },
  {
   "cell_type": "code",
   "execution_count": 7,
   "metadata": {},
   "outputs": [],
   "source": [
    "# #Load the dataset of Titanic train\n",
    "# df=pd.read_csv(\"train.csv\")\n",
    "# df.head()\n",
    "# df = df.drop(['PassengerId','Name','Ticket','Cabin'],axis=1)\n",
    "# df.head()\n",
    "# df.columns\n",
    "# xtrain=['Pclass', 'Sex', 'Age', 'SibSp', 'Parch', 'Fare','Embarked']\n",
    "# ytrain=['Survived']"
   ]
  },
  {
   "cell_type": "code",
   "execution_count": 8,
   "metadata": {},
   "outputs": [],
   "source": [
    "# df=df[xtrain+ytrain]\n",
    "# df= df.fillna(df.mean())\n",
    "# # df.loc[df['play']=='no','play']=0\n",
    "# # df.loc[df['play']=='yes','play']=1\n",
    "# # df.head() \n",
    "# df=df.dropna()\n",
    "# P,N=df['Survived'].value_counts()\n",
    "# print(\"yes :\",P)\n",
    "# print(\"No :\",N)\n",
    "# df.head()"
   ]
  },
  {
   "cell_type": "code",
   "execution_count": 9,
   "metadata": {},
   "outputs": [
    {
     "data": {
      "text/html": [
       "<div>\n",
       "<style scoped>\n",
       "    .dataframe tbody tr th:only-of-type {\n",
       "        vertical-align: middle;\n",
       "    }\n",
       "\n",
       "    .dataframe tbody tr th {\n",
       "        vertical-align: top;\n",
       "    }\n",
       "\n",
       "    .dataframe thead th {\n",
       "        text-align: right;\n",
       "    }\n",
       "</style>\n",
       "<table border=\"1\" class=\"dataframe\">\n",
       "  <thead>\n",
       "    <tr style=\"text-align: right;\">\n",
       "      <th></th>\n",
       "      <th>outlook</th>\n",
       "      <th>temperature</th>\n",
       "      <th>humidity</th>\n",
       "      <th>windy</th>\n",
       "      <th>play</th>\n",
       "    </tr>\n",
       "  </thead>\n",
       "  <tbody>\n",
       "    <tr>\n",
       "      <th>0</th>\n",
       "      <td>sunny</td>\n",
       "      <td>hot</td>\n",
       "      <td>high</td>\n",
       "      <td>False</td>\n",
       "      <td>no</td>\n",
       "    </tr>\n",
       "    <tr>\n",
       "      <th>1</th>\n",
       "      <td>sunny</td>\n",
       "      <td>hot</td>\n",
       "      <td>high</td>\n",
       "      <td>True</td>\n",
       "      <td>no</td>\n",
       "    </tr>\n",
       "    <tr>\n",
       "      <th>2</th>\n",
       "      <td>overcast</td>\n",
       "      <td>hot</td>\n",
       "      <td>high</td>\n",
       "      <td>False</td>\n",
       "      <td>yes</td>\n",
       "    </tr>\n",
       "    <tr>\n",
       "      <th>3</th>\n",
       "      <td>rainy</td>\n",
       "      <td>mild</td>\n",
       "      <td>high</td>\n",
       "      <td>False</td>\n",
       "      <td>yes</td>\n",
       "    </tr>\n",
       "    <tr>\n",
       "      <th>4</th>\n",
       "      <td>rainy</td>\n",
       "      <td>cool</td>\n",
       "      <td>normal</td>\n",
       "      <td>False</td>\n",
       "      <td>yes</td>\n",
       "    </tr>\n",
       "  </tbody>\n",
       "</table>\n",
       "</div>"
      ],
      "text/plain": [
       "    outlook temperature humidity  windy play\n",
       "0     sunny         hot     high  False   no\n",
       "1     sunny         hot     high   True   no\n",
       "2  overcast         hot     high  False  yes\n",
       "3     rainy        mild     high  False  yes\n",
       "4     rainy        cool   normal  False  yes"
      ]
     },
     "execution_count": 9,
     "metadata": {},
     "output_type": "execute_result"
    },
    {
     "data": {
      "text/html": [
       "<div>\n",
       "<style scoped>\n",
       "    .dataframe tbody tr th:only-of-type {\n",
       "        vertical-align: middle;\n",
       "    }\n",
       "\n",
       "    .dataframe tbody tr th {\n",
       "        vertical-align: top;\n",
       "    }\n",
       "\n",
       "    .dataframe thead th {\n",
       "        text-align: right;\n",
       "    }\n",
       "</style>\n",
       "<table border=\"1\" class=\"dataframe\">\n",
       "  <thead>\n",
       "    <tr style=\"text-align: right;\">\n",
       "      <th></th>\n",
       "      <th>outlook</th>\n",
       "      <th>temperature</th>\n",
       "      <th>humidity</th>\n",
       "      <th>windy</th>\n",
       "      <th>play</th>\n",
       "    </tr>\n",
       "  </thead>\n",
       "  <tbody>\n",
       "    <tr>\n",
       "      <th>0</th>\n",
       "      <td>sunny</td>\n",
       "      <td>hot</td>\n",
       "      <td>high</td>\n",
       "      <td>False</td>\n",
       "      <td>0</td>\n",
       "    </tr>\n",
       "    <tr>\n",
       "      <th>1</th>\n",
       "      <td>sunny</td>\n",
       "      <td>hot</td>\n",
       "      <td>high</td>\n",
       "      <td>True</td>\n",
       "      <td>0</td>\n",
       "    </tr>\n",
       "    <tr>\n",
       "      <th>2</th>\n",
       "      <td>overcast</td>\n",
       "      <td>hot</td>\n",
       "      <td>high</td>\n",
       "      <td>False</td>\n",
       "      <td>1</td>\n",
       "    </tr>\n",
       "    <tr>\n",
       "      <th>3</th>\n",
       "      <td>rainy</td>\n",
       "      <td>mild</td>\n",
       "      <td>high</td>\n",
       "      <td>False</td>\n",
       "      <td>1</td>\n",
       "    </tr>\n",
       "    <tr>\n",
       "      <th>4</th>\n",
       "      <td>rainy</td>\n",
       "      <td>cool</td>\n",
       "      <td>normal</td>\n",
       "      <td>False</td>\n",
       "      <td>1</td>\n",
       "    </tr>\n",
       "  </tbody>\n",
       "</table>\n",
       "</div>"
      ],
      "text/plain": [
       "    outlook temperature humidity  windy  play\n",
       "0     sunny         hot     high  False     0\n",
       "1     sunny         hot     high   True     0\n",
       "2  overcast         hot     high  False     1\n",
       "3     rainy        mild     high  False     1\n",
       "4     rainy        cool   normal  False     1"
      ]
     },
     "execution_count": 9,
     "metadata": {},
     "output_type": "execute_result"
    },
    {
     "name": "stdout",
     "output_type": "stream",
     "text": [
      "yes : 9\n",
      "No : 5\n"
     ]
    }
   ],
   "source": [
    "#Load the dataset weather\n",
    "df=pd.read_csv(\"weather.csv\")\n",
    "df.head()\n",
    "df.loc[df['play']=='no','play']=0\n",
    "df.loc[df['play']=='yes','play']=1\n",
    "df.head() \n",
    "P,N=df['play'].value_counts()\n",
    "print(\"yes :\",P)\n",
    "print(\"No :\",N)\n",
    "xtrain=['outlook', 'temperature', 'humidity', 'windy']\n",
    "ytrain=['play']\n",
    "df=df[xtrain+ytrain]"
   ]
  },
  {
   "cell_type": "code",
   "execution_count": 10,
   "metadata": {},
   "outputs": [],
   "source": [
    "IG = pd.DataFrame(columns=['column', 'Info_gain'])\n"
   ]
  },
  {
   "cell_type": "code",
   "execution_count": 11,
   "metadata": {},
   "outputs": [],
   "source": [
    "# Function to calculate information gain\n",
    "def informationGain(p,n):\n",
    "    if(p==0):\n",
    "        return 0\n",
    "    elif(n==0):\n",
    "        return 0    \n",
    "    IG= -(p/(p+n))*math.log2(p/(p+n)) - (n/(p+n))*math.log2(n/(p+n))\n",
    "    return round(IG,3)"
   ]
  },
  {
   "cell_type": "code",
   "execution_count": 12,
   "metadata": {},
   "outputs": [
    {
     "name": "stdout",
     "output_type": "stream",
     "text": [
      "Total Information Gain :  0.94\n"
     ]
    }
   ],
   "source": [
    "IG=informationGain(P,N)\n",
    "print(\"Total Information Gain : \",IG)"
   ]
  },
  {
   "cell_type": "code",
   "execution_count": 13,
   "metadata": {},
   "outputs": [
    {
     "data": {
      "text/plain": [
       "'play'"
      ]
     },
     "execution_count": 13,
     "metadata": {},
     "output_type": "execute_result"
    }
   ],
   "source": [
    "Gain = pd.DataFrame(columns=['column', 'gain'])\n",
    "dependent=''.join(ytrain)\n",
    "dependent"
   ]
  },
  {
   "cell_type": "code",
   "execution_count": 10,
   "metadata": {},
   "outputs": [],
   "source": [
    "def find_gain(new_df,Gain):\n",
    "    for col in range(0,len(new_df.columns)-1):\n",
    "        b=new_df.columns[col]\n",
    "        print(b)\n",
    "        cmn=[]\n",
    "\n",
    "        cmn=new_df.iloc[:,col].unique()\n",
    "        ig=[]\n",
    "        p1=[]\n",
    "        n1=[]\n",
    "\n",
    "\n",
    "        for col1 in range(0,len(cmn)):\n",
    "            p=n=0\n",
    "            print(cmn[col1])\n",
    "            s=new_df.groupby(b).get_group(cmn[col1])\n",
    "            print(s)\n",
    "            p=len(s[s[dependent]==1])\n",
    "            n=len(s[s[dependent]==0])    \n",
    "            print(p)\n",
    "            print(n)\n",
    "            ig.append(informationGain(p,n))\n",
    "            p1.append(p)\n",
    "            n1.append(n)\n",
    "            print(\"information gain of \",cmn[col1], \"is \",ig[col1])\n",
    "\n",
    "        E=0.0\n",
    "        for i in range(0,len(cmn)):\n",
    "            E=E+(((p1[i]+n1[i])/(P+N))*ig[i])\n",
    "\n",
    "        print(\"Entropy of \", b, \"is \",round(E,3))\n",
    "        print(\"Gain of \",b, \"is \",round(IG-E,3))\n",
    "        Gain=Gain.append([{'column':b,'gain':round(IG-E,3)}], ignore_index=True)\n",
    "\n",
    "#         print(Gain)\n",
    "        print(\"***********\")  \n",
    "    \n",
    "    return Gain\n"
   ]
  },
  {
   "cell_type": "code",
   "execution_count": 11,
   "metadata": {},
   "outputs": [
    {
     "name": "stdout",
     "output_type": "stream",
     "text": [
      "outlook\n",
      "sunny\n",
      "   outlook temperature humidity  windy  play\n",
      "0    sunny         hot     high  False     0\n",
      "1    sunny         hot     high   True     0\n",
      "7    sunny        mild     high  False     0\n",
      "8    sunny        cool   normal  False     1\n",
      "10   sunny        mild   normal   True     1\n",
      "2\n",
      "3\n",
      "information gain of  sunny is  0.971\n",
      "overcast\n",
      "     outlook temperature humidity  windy  play\n",
      "2   overcast         hot     high  False     1\n",
      "6   overcast        cool   normal   True     1\n",
      "11  overcast        mild     high   True     1\n",
      "12  overcast         hot   normal  False     1\n",
      "4\n",
      "0\n",
      "information gain of  overcast is  0\n",
      "rainy\n",
      "   outlook temperature humidity  windy  play\n",
      "3    rainy        mild     high  False     1\n",
      "4    rainy        cool   normal  False     1\n",
      "5    rainy        cool   normal   True     0\n",
      "9    rainy        mild   normal  False     1\n",
      "13   rainy        mild     high   True     0\n",
      "3\n",
      "2\n",
      "information gain of  rainy is  0.971\n",
      "Entropy of  outlook is  0.694\n",
      "Gain of  outlook is  0.246\n",
      "***********\n",
      "temperature\n",
      "hot\n",
      "     outlook temperature humidity  windy  play\n",
      "0      sunny         hot     high  False     0\n",
      "1      sunny         hot     high   True     0\n",
      "2   overcast         hot     high  False     1\n",
      "12  overcast         hot   normal  False     1\n",
      "2\n",
      "2\n",
      "information gain of  hot is  1.0\n",
      "mild\n",
      "     outlook temperature humidity  windy  play\n",
      "3      rainy        mild     high  False     1\n",
      "7      sunny        mild     high  False     0\n",
      "9      rainy        mild   normal  False     1\n",
      "10     sunny        mild   normal   True     1\n",
      "11  overcast        mild     high   True     1\n",
      "13     rainy        mild     high   True     0\n",
      "4\n",
      "2\n",
      "information gain of  mild is  0.918\n",
      "cool\n",
      "    outlook temperature humidity  windy  play\n",
      "4     rainy        cool   normal  False     1\n",
      "5     rainy        cool   normal   True     0\n",
      "6  overcast        cool   normal   True     1\n",
      "8     sunny        cool   normal  False     1\n",
      "3\n",
      "1\n",
      "information gain of  cool is  0.811\n",
      "Entropy of  temperature is  0.911\n",
      "Gain of  temperature is  0.029\n",
      "***********\n",
      "humidity\n",
      "high\n",
      "     outlook temperature humidity  windy  play\n",
      "0      sunny         hot     high  False     0\n",
      "1      sunny         hot     high   True     0\n",
      "2   overcast         hot     high  False     1\n",
      "3      rainy        mild     high  False     1\n",
      "7      sunny        mild     high  False     0\n",
      "11  overcast        mild     high   True     1\n",
      "13     rainy        mild     high   True     0\n",
      "3\n",
      "4\n",
      "information gain of  high is  0.985\n",
      "normal\n",
      "     outlook temperature humidity  windy  play\n",
      "4      rainy        cool   normal  False     1\n",
      "5      rainy        cool   normal   True     0\n",
      "6   overcast        cool   normal   True     1\n",
      "8      sunny        cool   normal  False     1\n",
      "9      rainy        mild   normal  False     1\n",
      "10     sunny        mild   normal   True     1\n",
      "12  overcast         hot   normal  False     1\n",
      "6\n",
      "1\n",
      "information gain of  normal is  0.592\n",
      "Entropy of  humidity is  0.788\n",
      "Gain of  humidity is  0.151\n",
      "***********\n",
      "windy\n",
      "False\n",
      "     outlook temperature humidity  windy  play\n",
      "0      sunny         hot     high  False     0\n",
      "2   overcast         hot     high  False     1\n",
      "3      rainy        mild     high  False     1\n",
      "4      rainy        cool   normal  False     1\n",
      "7      sunny        mild     high  False     0\n",
      "8      sunny        cool   normal  False     1\n",
      "9      rainy        mild   normal  False     1\n",
      "12  overcast         hot   normal  False     1\n",
      "6\n",
      "2\n",
      "information gain of  False is  0.811\n",
      "True\n",
      "     outlook temperature humidity  windy  play\n",
      "1      sunny         hot     high   True     0\n",
      "5      rainy        cool   normal   True     0\n",
      "6   overcast        cool   normal   True     1\n",
      "10     sunny        mild   normal   True     1\n",
      "11  overcast        mild     high   True     1\n",
      "13     rainy        mild     high   True     0\n",
      "3\n",
      "3\n",
      "information gain of  True is  1.0\n",
      "Entropy of  windy is  0.892\n",
      "Gain of  windy is  0.048\n",
      "***********\n",
      "        column   gain\n",
      "0      outlook  0.246\n",
      "2     humidity  0.151\n",
      "3        windy  0.048\n",
      "1  temperature  0.029\n"
     ]
    }
   ],
   "source": [
    "Gain=find_gain(df,Gain)\n",
    "print(Gain.sort_values(by=['gain'],ascending=False))"
   ]
  },
  {
   "cell_type": "code",
   "execution_count": 13,
   "metadata": {},
   "outputs": [
    {
     "name": "stdout",
     "output_type": "stream",
     "text": [
      "        column   gain\n",
      "0      outlook  0.246\n",
      "2     humidity  0.151\n",
      "3        windy  0.048\n",
      "1  temperature  0.029\n"
     ]
    },
    {
     "data": {
      "text/plain": [
       "['outlook', 'humidity', 'windy', 'temperature', 'play']"
      ]
     },
     "execution_count": 13,
     "metadata": {},
     "output_type": "execute_result"
    }
   ],
   "source": [
    "print(Gain.sort_values(by=['gain'],ascending=False))\n",
    "c=Gain.sort_values(by=['gain'],ascending=False).column.tolist()\n",
    "c.append(dependent)\n",
    "c"
   ]
  },
  {
   "cell_type": "code",
   "execution_count": 14,
   "metadata": {},
   "outputs": [
    {
     "data": {
      "text/html": [
       "<div>\n",
       "<style scoped>\n",
       "    .dataframe tbody tr th:only-of-type {\n",
       "        vertical-align: middle;\n",
       "    }\n",
       "\n",
       "    .dataframe tbody tr th {\n",
       "        vertical-align: top;\n",
       "    }\n",
       "\n",
       "    .dataframe thead th {\n",
       "        text-align: right;\n",
       "    }\n",
       "</style>\n",
       "<table border=\"1\" class=\"dataframe\">\n",
       "  <thead>\n",
       "    <tr style=\"text-align: right;\">\n",
       "      <th></th>\n",
       "      <th>outlook</th>\n",
       "      <th>humidity</th>\n",
       "      <th>windy</th>\n",
       "      <th>temperature</th>\n",
       "      <th>play</th>\n",
       "    </tr>\n",
       "  </thead>\n",
       "  <tbody>\n",
       "    <tr>\n",
       "      <th>0</th>\n",
       "      <td>sunny</td>\n",
       "      <td>high</td>\n",
       "      <td>False</td>\n",
       "      <td>hot</td>\n",
       "      <td>0</td>\n",
       "    </tr>\n",
       "    <tr>\n",
       "      <th>1</th>\n",
       "      <td>sunny</td>\n",
       "      <td>high</td>\n",
       "      <td>True</td>\n",
       "      <td>hot</td>\n",
       "      <td>0</td>\n",
       "    </tr>\n",
       "    <tr>\n",
       "      <th>2</th>\n",
       "      <td>overcast</td>\n",
       "      <td>high</td>\n",
       "      <td>False</td>\n",
       "      <td>hot</td>\n",
       "      <td>1</td>\n",
       "    </tr>\n",
       "    <tr>\n",
       "      <th>3</th>\n",
       "      <td>rainy</td>\n",
       "      <td>high</td>\n",
       "      <td>False</td>\n",
       "      <td>mild</td>\n",
       "      <td>1</td>\n",
       "    </tr>\n",
       "    <tr>\n",
       "      <th>4</th>\n",
       "      <td>rainy</td>\n",
       "      <td>normal</td>\n",
       "      <td>False</td>\n",
       "      <td>cool</td>\n",
       "      <td>1</td>\n",
       "    </tr>\n",
       "  </tbody>\n",
       "</table>\n",
       "</div>"
      ],
      "text/plain": [
       "    outlook humidity  windy temperature  play\n",
       "0     sunny     high  False         hot     0\n",
       "1     sunny     high   True         hot     0\n",
       "2  overcast     high  False         hot     1\n",
       "3     rainy     high  False        mild     1\n",
       "4     rainy   normal  False        cool     1"
      ]
     },
     "execution_count": 14,
     "metadata": {},
     "output_type": "execute_result"
    }
   ],
   "source": [
    "df=df[c]\n",
    "df.head()"
   ]
  }
 ],
 "metadata": {
  "kernelspec": {
   "display_name": "Python 3",
   "language": "python",
   "name": "python3"
  },
  "language_info": {
   "codemirror_mode": {
    "name": "ipython",
    "version": 3
   },
   "file_extension": ".py",
   "mimetype": "text/x-python",
   "name": "python",
   "nbconvert_exporter": "python",
   "pygments_lexer": "ipython3",
   "version": "3.7.5"
  }
 },
 "nbformat": 4,
 "nbformat_minor": 2
}
