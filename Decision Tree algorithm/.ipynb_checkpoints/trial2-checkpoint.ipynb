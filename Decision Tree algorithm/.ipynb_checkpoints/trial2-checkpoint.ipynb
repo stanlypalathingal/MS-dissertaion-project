{
 "cells": [
  {
   "cell_type": "code",
   "execution_count": 1,
   "metadata": {},
   "outputs": [
    {
     "data": {
      "application/javascript": [
       "IPython.notebook.set_autosave_interval(20000)"
      ]
     },
     "metadata": {},
     "output_type": "display_data"
    },
    {
     "name": "stdout",
     "output_type": "stream",
     "text": [
      "Autosaving every 20 seconds\n"
     ]
    }
   ],
   "source": [
    "%autosave 20\n",
    "import math \n",
    "import pandas as pd"
   ]
  },
  {
   "cell_type": "code",
   "execution_count": 2,
   "metadata": {},
   "outputs": [
    {
     "data": {
      "text/html": [
       "<div>\n",
       "<style scoped>\n",
       "    .dataframe tbody tr th:only-of-type {\n",
       "        vertical-align: middle;\n",
       "    }\n",
       "\n",
       "    .dataframe tbody tr th {\n",
       "        vertical-align: top;\n",
       "    }\n",
       "\n",
       "    .dataframe thead th {\n",
       "        text-align: right;\n",
       "    }\n",
       "</style>\n",
       "<table border=\"1\" class=\"dataframe\">\n",
       "  <thead>\n",
       "    <tr style=\"text-align: right;\">\n",
       "      <th></th>\n",
       "      <th>outlook</th>\n",
       "      <th>temperature</th>\n",
       "      <th>humidity</th>\n",
       "      <th>windy</th>\n",
       "      <th>play</th>\n",
       "    </tr>\n",
       "  </thead>\n",
       "  <tbody>\n",
       "    <tr>\n",
       "      <th>0</th>\n",
       "      <td>sunny</td>\n",
       "      <td>hot</td>\n",
       "      <td>high</td>\n",
       "      <td>False</td>\n",
       "      <td>no</td>\n",
       "    </tr>\n",
       "    <tr>\n",
       "      <th>1</th>\n",
       "      <td>sunny</td>\n",
       "      <td>hot</td>\n",
       "      <td>high</td>\n",
       "      <td>True</td>\n",
       "      <td>no</td>\n",
       "    </tr>\n",
       "    <tr>\n",
       "      <th>2</th>\n",
       "      <td>overcast</td>\n",
       "      <td>hot</td>\n",
       "      <td>high</td>\n",
       "      <td>False</td>\n",
       "      <td>yes</td>\n",
       "    </tr>\n",
       "    <tr>\n",
       "      <th>3</th>\n",
       "      <td>rainy</td>\n",
       "      <td>mild</td>\n",
       "      <td>high</td>\n",
       "      <td>False</td>\n",
       "      <td>yes</td>\n",
       "    </tr>\n",
       "    <tr>\n",
       "      <th>4</th>\n",
       "      <td>rainy</td>\n",
       "      <td>cool</td>\n",
       "      <td>normal</td>\n",
       "      <td>False</td>\n",
       "      <td>yes</td>\n",
       "    </tr>\n",
       "  </tbody>\n",
       "</table>\n",
       "</div>"
      ],
      "text/plain": [
       "    outlook temperature humidity  windy play\n",
       "0     sunny         hot     high  False   no\n",
       "1     sunny         hot     high   True   no\n",
       "2  overcast         hot     high  False  yes\n",
       "3     rainy        mild     high  False  yes\n",
       "4     rainy        cool   normal  False  yes"
      ]
     },
     "execution_count": 2,
     "metadata": {},
     "output_type": "execute_result"
    },
    {
     "data": {
      "text/plain": [
       "0     False\n",
       "1     False\n",
       "5     False\n",
       "7     False\n",
       "13    False\n",
       "Name: play, dtype: bool"
      ]
     },
     "execution_count": 2,
     "metadata": {},
     "output_type": "execute_result"
    },
    {
     "name": "stdout",
     "output_type": "stream",
     "text": [
      "yes : 9\n",
      "No : 5\n"
     ]
    }
   ],
   "source": [
    "#Load the dataset\n",
    "weather=pd.read_csv(\"weather.csv\")\n",
    "weather.head() \n",
    "weather.loc[weather['play']=='no','play']==0\n",
    "P,N=weather['play'].value_counts()\n",
    "print(\"yes :\",P)\n",
    "print(\"No :\",N)"
   ]
  },
  {
   "cell_type": "code",
   "execution_count": 3,
   "metadata": {},
   "outputs": [],
   "source": [
    "# Function to calculate information gain\n",
    "def informationGain(p,n):\n",
    "    if(p==0):\n",
    "        return 0\n",
    "    elif(n==0):\n",
    "        return 0    \n",
    "    IG= -(p/(p+n))*math.log2(p/(p+n)) - (n/(p+n))*math.log2(n/(p+n))\n",
    "    return round(IG,3)"
   ]
  },
  {
   "cell_type": "code",
   "execution_count": 4,
   "metadata": {},
   "outputs": [
    {
     "name": "stdout",
     "output_type": "stream",
     "text": [
      "Total Information Gain :  0.94\n"
     ]
    }
   ],
   "source": [
    "IG=informationGain(P,N)\n",
    "print(\"Total Information Gain : \",IG)"
   ]
  },
  {
   "cell_type": "code",
   "execution_count": 50,
   "metadata": {},
   "outputs": [
    {
     "name": "stdout",
     "output_type": "stream",
     "text": [
      "outlook\n",
      "Entropy of  outlook is  0.694\n",
      "***********\n",
      "temperature\n",
      "Entropy of  temperature is  0.911\n",
      "***********\n",
      "humidity\n",
      "Entropy of  humidity is  0.788\n",
      "***********\n",
      "windy\n",
      "Entropy of  windy is  0.892\n",
      "***********\n",
      "        column   gain\n",
      "0      outlook  0.246\n",
      "1  temperature  0.029\n",
      "2     humidity  0.151\n",
      "3        windy  0.048\n"
     ]
    }
   ],
   "source": [
    "j=0\n",
    "Gain = pd.DataFrame(columns=['column', 'gain'])\n",
    "for col in range(0,len(weather.columns)-1):\n",
    "    b=weather.columns[col]\n",
    "    print(b)\n",
    "    cmn=[]\n",
    "    \n",
    "    cmn=weather.iloc[:,col].unique()\n",
    "    ig=[]\n",
    "    p1=[]\n",
    "    n1=[]\n",
    "    \n",
    "    \n",
    "    for col1 in range(0,len(cmn)):\n",
    "        p=n=0\n",
    "#         print(cmn[col1])\n",
    "        s=weather.groupby(b).get_group(cmn[col1])\n",
    "#         print(s)\n",
    "        p=len(s[s['play']=='yes'])\n",
    "        n=len(s[s['play']=='no'])    \n",
    "        ig.append(informationGain(p,n))\n",
    "        p1.append(p)\n",
    "        n1.append(n)\n",
    "#         print(\"information gain of \",cmn[col1], \"is \",ig[col1])\n",
    "             \n",
    "    E=0.0\n",
    "    for i in range(0,len(cmn)):\n",
    "        E=E+(((p1[i]+n1[i])/(P+N))*ig[i])\n",
    "        \n",
    "    print(\"Entropy of \", b, \"is \",round(E,3))\n",
    "#     print(\"Gain of \",b, \"is \",round(IG-E,3))\n",
    "    Gain=Gain.append([{'column':b,'gain':round(IG-E,3)}], ignore_index=True)\n",
    "#     res = res.append([{'qty1':10.0}], ignore_index=True)\n",
    "\n",
    "#     print(Gain)\n",
    "    print(\"***********\")  \n",
    "print(Gain)"
   ]
  },
  {
   "cell_type": "code",
   "execution_count": 51,
   "metadata": {},
   "outputs": [
    {
     "data": {
      "text/html": [
       "<div>\n",
       "<style scoped>\n",
       "    .dataframe tbody tr th:only-of-type {\n",
       "        vertical-align: middle;\n",
       "    }\n",
       "\n",
       "    .dataframe tbody tr th {\n",
       "        vertical-align: top;\n",
       "    }\n",
       "\n",
       "    .dataframe thead th {\n",
       "        text-align: right;\n",
       "    }\n",
       "</style>\n",
       "<table border=\"1\" class=\"dataframe\">\n",
       "  <thead>\n",
       "    <tr style=\"text-align: right;\">\n",
       "      <th></th>\n",
       "      <th>column</th>\n",
       "      <th>gain</th>\n",
       "    </tr>\n",
       "  </thead>\n",
       "  <tbody>\n",
       "    <tr>\n",
       "      <th>0</th>\n",
       "      <td>outlook</td>\n",
       "      <td>0.246</td>\n",
       "    </tr>\n",
       "  </tbody>\n",
       "</table>\n",
       "</div>"
      ],
      "text/plain": [
       "    column   gain\n",
       "0  outlook  0.246"
      ]
     },
     "execution_count": 51,
     "metadata": {},
     "output_type": "execute_result"
    }
   ],
   "source": [
    "Gain[Gain.gain == Gain.gain.max()]"
   ]
  },
  {
   "cell_type": "code",
   "execution_count": null,
   "metadata": {},
   "outputs": [],
   "source": []
  }
 ],
 "metadata": {
  "kernelspec": {
   "display_name": "Python 3",
   "language": "python",
   "name": "python3"
  },
  "language_info": {
   "codemirror_mode": {
    "name": "ipython",
    "version": 3
   },
   "file_extension": ".py",
   "mimetype": "text/x-python",
   "name": "python",
   "nbconvert_exporter": "python",
   "pygments_lexer": "ipython3",
   "version": "3.7.5"
  }
 },
 "nbformat": 4,
 "nbformat_minor": 2
}
