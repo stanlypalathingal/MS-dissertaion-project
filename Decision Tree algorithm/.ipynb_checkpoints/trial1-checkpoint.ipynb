{
 "cells": [
  {
   "cell_type": "code",
   "execution_count": 48,
   "metadata": {},
   "outputs": [
    {
     "data": {
      "application/javascript": [
       "IPython.notebook.set_autosave_interval(20000)"
      ]
     },
     "metadata": {},
     "output_type": "display_data"
    },
    {
     "name": "stdout",
     "output_type": "stream",
     "text": [
      "Autosaving every 20 seconds\n"
     ]
    }
   ],
   "source": [
    "%autosave 20\n",
    "import math \n",
    "import pandas as pd"
   ]
  },
  {
   "cell_type": "code",
   "execution_count": 49,
   "metadata": {},
   "outputs": [
    {
     "data": {
      "text/html": [
       "<div>\n",
       "<style scoped>\n",
       "    .dataframe tbody tr th:only-of-type {\n",
       "        vertical-align: middle;\n",
       "    }\n",
       "\n",
       "    .dataframe tbody tr th {\n",
       "        vertical-align: top;\n",
       "    }\n",
       "\n",
       "    .dataframe thead th {\n",
       "        text-align: right;\n",
       "    }\n",
       "</style>\n",
       "<table border=\"1\" class=\"dataframe\">\n",
       "  <thead>\n",
       "    <tr style=\"text-align: right;\">\n",
       "      <th></th>\n",
       "      <th>outlook</th>\n",
       "      <th>temperature</th>\n",
       "      <th>humidity</th>\n",
       "      <th>windy</th>\n",
       "      <th>play</th>\n",
       "    </tr>\n",
       "  </thead>\n",
       "  <tbody>\n",
       "    <tr>\n",
       "      <th>0</th>\n",
       "      <td>sunny</td>\n",
       "      <td>hot</td>\n",
       "      <td>high</td>\n",
       "      <td>False</td>\n",
       "      <td>no</td>\n",
       "    </tr>\n",
       "    <tr>\n",
       "      <th>1</th>\n",
       "      <td>sunny</td>\n",
       "      <td>hot</td>\n",
       "      <td>high</td>\n",
       "      <td>True</td>\n",
       "      <td>no</td>\n",
       "    </tr>\n",
       "    <tr>\n",
       "      <th>2</th>\n",
       "      <td>overcast</td>\n",
       "      <td>hot</td>\n",
       "      <td>high</td>\n",
       "      <td>False</td>\n",
       "      <td>yes</td>\n",
       "    </tr>\n",
       "    <tr>\n",
       "      <th>3</th>\n",
       "      <td>rainy</td>\n",
       "      <td>mild</td>\n",
       "      <td>high</td>\n",
       "      <td>False</td>\n",
       "      <td>yes</td>\n",
       "    </tr>\n",
       "    <tr>\n",
       "      <th>4</th>\n",
       "      <td>rainy</td>\n",
       "      <td>cool</td>\n",
       "      <td>normal</td>\n",
       "      <td>False</td>\n",
       "      <td>yes</td>\n",
       "    </tr>\n",
       "  </tbody>\n",
       "</table>\n",
       "</div>"
      ],
      "text/plain": [
       "    outlook temperature humidity  windy play\n",
       "0     sunny         hot     high  False   no\n",
       "1     sunny         hot     high   True   no\n",
       "2  overcast         hot     high  False  yes\n",
       "3     rainy        mild     high  False  yes\n",
       "4     rainy        cool   normal  False  yes"
      ]
     },
     "execution_count": 49,
     "metadata": {},
     "output_type": "execute_result"
    },
    {
     "name": "stdout",
     "output_type": "stream",
     "text": [
      "yes : 9\n",
      "No : 5\n"
     ]
    }
   ],
   "source": [
    "#Load the dataset\n",
    "weather=pd.read_csv(\"weather.csv\")\n",
    "weather.head() \n",
    "P,N=weather['play'].value_counts()\n",
    "print(\"yes :\",P)\n",
    "print(\"No :\",N)"
   ]
  },
  {
   "cell_type": "code",
   "execution_count": 129,
   "metadata": {},
   "outputs": [],
   "source": [
    "# Function to calculate information gain\n",
    "def informationGain(p,n):\n",
    "    if(p==0):\n",
    "        return 0\n",
    "    elif(n==0):\n",
    "        return 0    \n",
    "    IG= -(p/(p+n))*math.log2(p/(p+n)) - (n/(p+n))*math.log2(n/(p+n))\n",
    "    return round(IG,3)"
   ]
  },
  {
   "cell_type": "code",
   "execution_count": 130,
   "metadata": {},
   "outputs": [],
   "source": [
    "# to calculate Entropy\n",
    "def entropy(weather):\n",
    "    b='outlook'\n",
    "#     print(weather.outlook.count())\n",
    "    a=(weather.groupby([b,'play'])[\"play\"].count())\n",
    "#     return (a[0])\n",
    "    return a"
   ]
  },
  {
   "cell_type": "code",
   "execution_count": 131,
   "metadata": {},
   "outputs": [],
   "source": [
    "# b='outlook'\n",
    "# weather.loc[b,].groupby(['rainy','play'])[\"play\"].count()"
   ]
  },
  {
   "cell_type": "code",
   "execution_count": 132,
   "metadata": {},
   "outputs": [
    {
     "name": "stdout",
     "output_type": "stream",
     "text": [
      "Total Information Gain :  0.94\n"
     ]
    }
   ],
   "source": [
    "IG=informationGain(P,N)\n",
    "print(\"Total Information Gain : \",IG)"
   ]
  },
  {
   "cell_type": "code",
   "execution_count": 133,
   "metadata": {},
   "outputs": [
    {
     "data": {
      "text/plain": [
       "outlook   play\n",
       "overcast  yes     4\n",
       "rainy     no      2\n",
       "          yes     3\n",
       "sunny     no      3\n",
       "          yes     2\n",
       "Name: play, dtype: int64"
      ]
     },
     "execution_count": 133,
     "metadata": {},
     "output_type": "execute_result"
    }
   ],
   "source": [
    "entropy(weather)"
   ]
  },
  {
   "cell_type": "code",
   "execution_count": 134,
   "metadata": {},
   "outputs": [
    {
     "data": {
      "text/plain": [
       "Index(['outlook', 'temperature', 'humidity', 'windy', 'play'], dtype='object')"
      ]
     },
     "execution_count": 134,
     "metadata": {},
     "output_type": "execute_result"
    }
   ],
   "source": [
    "weather.columns"
   ]
  },
  {
   "cell_type": "code",
   "execution_count": 135,
   "metadata": {},
   "outputs": [
    {
     "name": "stdout",
     "output_type": "stream",
     "text": [
      "['sunny' 'overcast' 'rainy']\n",
      "['hot' 'mild' 'cool']\n",
      "['high' 'normal']\n",
      "[False  True]\n"
     ]
    }
   ],
   "source": [
    "for w in range(0,len(weather.columns)-1):\n",
    "    print(weather.iloc[:,w].unique())"
   ]
  },
  {
   "cell_type": "code",
   "execution_count": 136,
   "metadata": {},
   "outputs": [
    {
     "data": {
      "text/plain": [
       "5"
      ]
     },
     "execution_count": 136,
     "metadata": {},
     "output_type": "execute_result"
    }
   ],
   "source": [
    "len(weather.columns)"
   ]
  },
  {
   "cell_type": "code",
   "execution_count": 137,
   "metadata": {},
   "outputs": [
    {
     "ename": "SyntaxError",
     "evalue": "unexpected EOF while parsing (<ipython-input-137-e46baabc505d>, line 1)",
     "output_type": "error",
     "traceback": [
      "\u001b[1;36m  File \u001b[1;32m\"<ipython-input-137-e46baabc505d>\"\u001b[1;36m, line \u001b[1;32m1\u001b[0m\n\u001b[1;33m    def entropy(ig):\u001b[0m\n\u001b[1;37m                    ^\u001b[0m\n\u001b[1;31mSyntaxError\u001b[0m\u001b[1;31m:\u001b[0m unexpected EOF while parsing\n"
     ]
    }
   ],
   "source": [
    "def entropy(ig):"
   ]
  },
  {
   "cell_type": "code",
   "execution_count": 145,
   "metadata": {},
   "outputs": [
    {
     "name": "stdout",
     "output_type": "stream",
     "text": [
      "outlook\n",
      "sunny\n",
      "2\n",
      "3\n",
      "information gain of  sunny is  0.971\n",
      "overcast\n",
      "4\n",
      "0\n",
      "information gain of  overcast is  0\n",
      "rainy\n",
      "3\n",
      "2\n",
      "information gain of  rainy is  0.971\n",
      "Entropy of  outlook is  0.694\n",
      "Gain of  outlook is  0.246\n",
      "***********\n",
      "temperature\n",
      "hot\n",
      "2\n",
      "2\n",
      "information gain of  hot is  1.0\n",
      "mild\n",
      "4\n",
      "2\n",
      "information gain of  mild is  0.918\n",
      "cool\n",
      "3\n",
      "1\n",
      "information gain of  cool is  0.811\n",
      "Entropy of  temperature is  0.911\n",
      "Gain of  temperature is  0.029\n",
      "***********\n",
      "humidity\n",
      "high\n",
      "3\n",
      "4\n",
      "information gain of  high is  0.985\n",
      "normal\n",
      "6\n",
      "1\n",
      "information gain of  normal is  0.592\n",
      "Entropy of  humidity is  0.788\n",
      "Gain of  humidity is  0.151\n",
      "***********\n",
      "windy\n",
      "False\n",
      "6\n",
      "2\n",
      "information gain of  False is  0.811\n",
      "True\n",
      "3\n",
      "3\n",
      "information gain of  True is  1.0\n",
      "Entropy of  windy is  0.892\n",
      "Gain of  windy is  0.048\n",
      "***********\n"
     ]
    }
   ],
   "source": [
    "for col in range(0,len(weather.columns)-1):\n",
    "#     print(weather.columns[col])\n",
    "    b=weather.columns[col]\n",
    "    print(b)\n",
    "    cmn=[]\n",
    "    \n",
    "    i=0\n",
    "    cmn=weather.iloc[:,col].unique()\n",
    "    ig=[]\n",
    "    p1=[]\n",
    "    n1=[]\n",
    "    \n",
    "    for col1 in range(0,len(cmn)):\n",
    "        p=n=0\n",
    "        print(cmn[col1])\n",
    "#         s=weather.groupby(b).get_group(cmn[col1])[\"play\"]\n",
    "        s=weather.groupby(b).get_group(cmn[col1])\n",
    "#         print(s)\n",
    "\n",
    "        \n",
    "#         p=len(s[s['play']=='yes'])\n",
    "#         n=len(s[s['play']=='no'])\n",
    "        p=len(s[s['play']=='yes'])\n",
    "        n=len(s[s['play']=='no'])    \n",
    "    \n",
    "        print(p)\n",
    "        print(n)\n",
    "#         ig[i]= informationGain(p,n)\n",
    "        ig.append(informationGain(p,n))\n",
    "        p1.append(p)\n",
    "        n1.append(n)\n",
    "        \n",
    "        print(\"information gain of \",cmn[col1], \"is \",ig[col1])\n",
    "\n",
    "    E=0.0\n",
    "    for i in range(0,len(cmn)):\n",
    "        E=E+(((p1[i]+n1[i])/(P+N))*ig[i])\n",
    "        \n",
    "    print(\"Entropy of \", b, \"is \",round(E,3))\n",
    "    print(\"Gain of \",b, \"is \",round(IG-E,3))\n",
    "    print(\"***********\")   \n",
    "#         weather.groupby[b].get_group(cmn[col1])[\"play\"].count()\n",
    "#     print(weather.iloc[:,col].unique())\n",
    "    \n",
    "#     print(weather.groupby([b,'play'])[b].count())"
   ]
  },
  {
   "cell_type": "code",
   "execution_count": 105,
   "metadata": {},
   "outputs": [
    {
     "data": {
      "text/plain": [
       "outlook  play\n",
       "False    no      2\n",
       "         yes     7\n",
       "True     no      3\n",
       "         yes     2\n",
       "Name: outlook, dtype: int64"
      ]
     },
     "execution_count": 105,
     "metadata": {},
     "output_type": "execute_result"
    }
   ],
   "source": [
    "weather.groupby([weather.outlook.str.contains('sunny'),'play'])['outlook'].count()"
   ]
  },
  {
   "cell_type": "code",
   "execution_count": 54,
   "metadata": {},
   "outputs": [
    {
     "data": {
      "text/plain": [
       "0        sunny\n",
       "1        sunny\n",
       "2     overcast\n",
       "3        rainy\n",
       "4        rainy\n",
       "5        rainy\n",
       "6     overcast\n",
       "7        sunny\n",
       "8        sunny\n",
       "9        rainy\n",
       "10       sunny\n",
       "11    overcast\n",
       "12    overcast\n",
       "13       rainy\n",
       "Name: outlook, dtype: object"
      ]
     },
     "execution_count": 54,
     "metadata": {},
     "output_type": "execute_result"
    }
   ],
   "source": [
    "weather.outlook"
   ]
  },
  {
   "cell_type": "code",
   "execution_count": 18,
   "metadata": {},
   "outputs": [
    {
     "data": {
      "text/html": [
       "<div>\n",
       "<style scoped>\n",
       "    .dataframe tbody tr th:only-of-type {\n",
       "        vertical-align: middle;\n",
       "    }\n",
       "\n",
       "    .dataframe tbody tr th {\n",
       "        vertical-align: top;\n",
       "    }\n",
       "\n",
       "    .dataframe thead th {\n",
       "        text-align: right;\n",
       "    }\n",
       "</style>\n",
       "<table border=\"1\" class=\"dataframe\">\n",
       "  <thead>\n",
       "    <tr style=\"text-align: right;\">\n",
       "      <th></th>\n",
       "      <th>outlook</th>\n",
       "      <th>temperature</th>\n",
       "      <th>humidity</th>\n",
       "      <th>windy</th>\n",
       "      <th>play</th>\n",
       "    </tr>\n",
       "  </thead>\n",
       "  <tbody>\n",
       "    <tr>\n",
       "      <th>0</th>\n",
       "      <td>sunny</td>\n",
       "      <td>hot</td>\n",
       "      <td>high</td>\n",
       "      <td>False</td>\n",
       "      <td>no</td>\n",
       "    </tr>\n",
       "    <tr>\n",
       "      <th>1</th>\n",
       "      <td>sunny</td>\n",
       "      <td>hot</td>\n",
       "      <td>high</td>\n",
       "      <td>True</td>\n",
       "      <td>no</td>\n",
       "    </tr>\n",
       "    <tr>\n",
       "      <th>2</th>\n",
       "      <td>overcast</td>\n",
       "      <td>hot</td>\n",
       "      <td>high</td>\n",
       "      <td>False</td>\n",
       "      <td>yes</td>\n",
       "    </tr>\n",
       "    <tr>\n",
       "      <th>3</th>\n",
       "      <td>rainy</td>\n",
       "      <td>mild</td>\n",
       "      <td>high</td>\n",
       "      <td>False</td>\n",
       "      <td>yes</td>\n",
       "    </tr>\n",
       "    <tr>\n",
       "      <th>4</th>\n",
       "      <td>rainy</td>\n",
       "      <td>cool</td>\n",
       "      <td>normal</td>\n",
       "      <td>False</td>\n",
       "      <td>yes</td>\n",
       "    </tr>\n",
       "  </tbody>\n",
       "</table>\n",
       "</div>"
      ],
      "text/plain": [
       "    outlook temperature humidity  windy play\n",
       "0     sunny         hot     high  False   no\n",
       "1     sunny         hot     high   True   no\n",
       "2  overcast         hot     high  False  yes\n",
       "3     rainy        mild     high  False  yes\n",
       "4     rainy        cool   normal  False  yes"
      ]
     },
     "execution_count": 18,
     "metadata": {},
     "output_type": "execute_result"
    },
    {
     "name": "stdout",
     "output_type": "stream",
     "text": [
      "0      no\n",
      "1      no\n",
      "2     yes\n",
      "3     yes\n",
      "4     yes\n",
      "5      no\n",
      "6     yes\n",
      "7      no\n",
      "8     yes\n",
      "9     yes\n",
      "10    yes\n",
      "11    yes\n",
      "12    yes\n",
      "13     no\n",
      "Name: play, dtype: object\n"
     ]
    }
   ],
   "source": [
    "weather=pd.read_csv(\"weather.csv\")\n",
    "weather.head() \n",
    "P=weather['play']\n",
    "print(P)\n"
   ]
  },
  {
   "cell_type": "code",
   "execution_count": null,
   "metadata": {},
   "outputs": [],
   "source": []
  }
 ],
 "metadata": {
  "kernelspec": {
   "display_name": "Python 3",
   "language": "python",
   "name": "python3"
  },
  "language_info": {
   "codemirror_mode": {
    "name": "ipython",
    "version": 3
   },
   "file_extension": ".py",
   "mimetype": "text/x-python",
   "name": "python",
   "nbconvert_exporter": "python",
   "pygments_lexer": "ipython3",
   "version": "3.7.5"
  }
 },
 "nbformat": 4,
 "nbformat_minor": 2
}
