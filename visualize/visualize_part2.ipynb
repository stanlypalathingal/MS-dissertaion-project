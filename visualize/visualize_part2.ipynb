{
 "cells": [
  {
   "cell_type": "code",
   "execution_count": 1,
   "metadata": {},
   "outputs": [
    {
     "data": {
      "application/javascript": [
       "IPython.notebook.set_autosave_interval(20000)"
      ]
     },
     "metadata": {},
     "output_type": "display_data"
    },
    {
     "name": "stdout",
     "output_type": "stream",
     "text": [
      "Autosaving every 20 seconds\n"
     ]
    }
   ],
   "source": [
    "%autosave 20\n",
    "%matplotlib inline\n",
    "import pandas as pd\n",
    "import matplotlib.pyplot as plt"
   ]
  },
  {
   "cell_type": "code",
   "execution_count": 2,
   "metadata": {},
   "outputs": [
    {
     "name": "stdout",
     "output_type": "stream",
     "text": [
      "sample before  (377203, 6)\n"
     ]
    }
   ],
   "source": [
    "df=pd.read_csv(\"C:/Users/HP/OneDrive - Newcastle University/Dissertation/Data_sets/training_data.csv\")\n",
    "df=df.dropna()\n",
    "print(\"sample before \",df.shape)"
   ]
  },
  {
   "cell_type": "code",
   "execution_count": 3,
   "metadata": {},
   "outputs": [],
   "source": [
    "# df.time.head(3)"
   ]
  },
  {
   "cell_type": "code",
   "execution_count": 4,
   "metadata": {},
   "outputs": [],
   "source": [
    "df[\"time\"]=pd.to_datetime(df[\"time\"],infer_datetime_format=True,dayfirst=True)\n",
    "df.to_csv(\"C:/Users/HP/OneDrive - Newcastle University/Dissertation/Data_sets/Data_with_proper_date.csv\",mode='w',index=False)"
   ]
  },
  {
   "cell_type": "code",
   "execution_count": 5,
   "metadata": {},
   "outputs": [
    {
     "data": {
      "text/plain": [
       "(377203, 6)"
      ]
     },
     "execution_count": 5,
     "metadata": {},
     "output_type": "execute_result"
    }
   ],
   "source": [
    "# df[\"Date_new\"]=pd.to_datetime(df[\"time\"],infer_datetime_format=True,dayfirst=True)\n",
    "df=pd.read_csv(\"C:/Users/HP/OneDrive - Newcastle University/Dissertation/Data_sets/Data_with_proper_date.csv\")\n",
    "df[\"time\"]=pd.to_datetime(df[\"time\"],infer_datetime_format=True,dayfirst=True)\n",
    "df.shape"
   ]
  },
  {
   "cell_type": "code",
   "execution_count": 6,
   "metadata": {},
   "outputs": [],
   "source": [
    "df[\"Date\"]=[d.date() for d in df[\"time\"]]\n",
    "df[\"Date\"]=pd.to_datetime(df[\"Date\"],format=\"%Y/%m/%d\")\n",
    "df[\"Time\"]=[d.time() for d in df[\"time\"]]"
   ]
  },
  {
   "cell_type": "code",
   "execution_count": 7,
   "metadata": {},
   "outputs": [],
   "source": [
    "df['Hour']=df['time'].dt.hour"
   ]
  },
  {
   "cell_type": "code",
   "execution_count": 8,
   "metadata": {},
   "outputs": [
    {
     "data": {
      "text/html": [
       "<div>\n",
       "<style scoped>\n",
       "    .dataframe tbody tr th:only-of-type {\n",
       "        vertical-align: middle;\n",
       "    }\n",
       "\n",
       "    .dataframe tbody tr th {\n",
       "        vertical-align: top;\n",
       "    }\n",
       "\n",
       "    .dataframe thead th {\n",
       "        text-align: right;\n",
       "    }\n",
       "</style>\n",
       "<table border=\"1\" class=\"dataframe\">\n",
       "  <thead>\n",
       "    <tr style=\"text-align: right;\">\n",
       "      <th></th>\n",
       "      <th>Sensor</th>\n",
       "      <th>Type</th>\n",
       "      <th>Units</th>\n",
       "      <th>time</th>\n",
       "      <th>Flag</th>\n",
       "      <th>Value</th>\n",
       "      <th>Date</th>\n",
       "      <th>Time</th>\n",
       "      <th>Hour</th>\n",
       "    </tr>\n",
       "  </thead>\n",
       "  <tbody>\n",
       "    <tr>\n",
       "      <th>0</th>\n",
       "      <td>PER_AIRMON_MESH301245</td>\n",
       "      <td>PM2.5</td>\n",
       "      <td>ugm -3</td>\n",
       "      <td>2020-05-21 03:45:00</td>\n",
       "      <td>0.0</td>\n",
       "      <td>5.640000</td>\n",
       "      <td>2020-05-21</td>\n",
       "      <td>03:45:00</td>\n",
       "      <td>3</td>\n",
       "    </tr>\n",
       "    <tr>\n",
       "      <th>1</th>\n",
       "      <td>PER_AIRMON_MESH1911150</td>\n",
       "      <td>PM10</td>\n",
       "      <td>ugm -3</td>\n",
       "      <td>2020-05-30 18:44:00</td>\n",
       "      <td>0.0</td>\n",
       "      <td>6.357000</td>\n",
       "      <td>2020-05-30</td>\n",
       "      <td>18:44:00</td>\n",
       "      <td>18</td>\n",
       "    </tr>\n",
       "    <tr>\n",
       "      <th>2</th>\n",
       "      <td>PER_AIRMON_MESH301245</td>\n",
       "      <td>PM10</td>\n",
       "      <td>ugm -3</td>\n",
       "      <td>2020-05-29 15:19:00</td>\n",
       "      <td>0.0</td>\n",
       "      <td>6.310000</td>\n",
       "      <td>2020-05-29</td>\n",
       "      <td>15:19:00</td>\n",
       "      <td>15</td>\n",
       "    </tr>\n",
       "    <tr>\n",
       "      <th>3</th>\n",
       "      <td>PER_AIRMON_MESH1911150</td>\n",
       "      <td>PM 4</td>\n",
       "      <td>ugm -3</td>\n",
       "      <td>2020-05-24 14:56:00</td>\n",
       "      <td>0.0</td>\n",
       "      <td>0.380000</td>\n",
       "      <td>2020-05-24</td>\n",
       "      <td>14:56:00</td>\n",
       "      <td>14</td>\n",
       "    </tr>\n",
       "    <tr>\n",
       "      <th>4</th>\n",
       "      <td>PER_EMOTE_1309</td>\n",
       "      <td>CO</td>\n",
       "      <td>ugm -3</td>\n",
       "      <td>2020-05-28 06:20:38</td>\n",
       "      <td>0.0</td>\n",
       "      <td>349.812463</td>\n",
       "      <td>2020-05-28</td>\n",
       "      <td>06:20:38</td>\n",
       "      <td>6</td>\n",
       "    </tr>\n",
       "  </tbody>\n",
       "</table>\n",
       "</div>"
      ],
      "text/plain": [
       "                   Sensor   Type   Units                time  Flag  \\\n",
       "0   PER_AIRMON_MESH301245  PM2.5  ugm -3 2020-05-21 03:45:00   0.0   \n",
       "1  PER_AIRMON_MESH1911150   PM10  ugm -3 2020-05-30 18:44:00   0.0   \n",
       "2   PER_AIRMON_MESH301245   PM10  ugm -3 2020-05-29 15:19:00   0.0   \n",
       "3  PER_AIRMON_MESH1911150   PM 4  ugm -3 2020-05-24 14:56:00   0.0   \n",
       "4          PER_EMOTE_1309     CO  ugm -3 2020-05-28 06:20:38   0.0   \n",
       "\n",
       "        Value       Date      Time  Hour  \n",
       "0    5.640000 2020-05-21  03:45:00     3  \n",
       "1    6.357000 2020-05-30  18:44:00    18  \n",
       "2    6.310000 2020-05-29  15:19:00    15  \n",
       "3    0.380000 2020-05-24  14:56:00    14  \n",
       "4  349.812463 2020-05-28  06:20:38     6  "
      ]
     },
     "execution_count": 8,
     "metadata": {},
     "output_type": "execute_result"
    }
   ],
   "source": [
    "df.head()"
   ]
  },
  {
   "cell_type": "code",
   "execution_count": 9,
   "metadata": {},
   "outputs": [
    {
     "data": {
      "text/html": [
       "<div>\n",
       "<style scoped>\n",
       "    .dataframe tbody tr th:only-of-type {\n",
       "        vertical-align: middle;\n",
       "    }\n",
       "\n",
       "    .dataframe tbody tr th {\n",
       "        vertical-align: top;\n",
       "    }\n",
       "\n",
       "    .dataframe thead th {\n",
       "        text-align: right;\n",
       "    }\n",
       "</style>\n",
       "<table border=\"1\" class=\"dataframe\">\n",
       "  <thead>\n",
       "    <tr style=\"text-align: right;\">\n",
       "      <th></th>\n",
       "      <th>Sensor</th>\n",
       "      <th>Type</th>\n",
       "      <th>Units</th>\n",
       "      <th>time</th>\n",
       "      <th>Flag</th>\n",
       "      <th>Value</th>\n",
       "      <th>Date</th>\n",
       "      <th>Time</th>\n",
       "      <th>Hour</th>\n",
       "    </tr>\n",
       "  </thead>\n",
       "  <tbody>\n",
       "    <tr>\n",
       "      <th>17</th>\n",
       "      <td>PER_EMOTE_1309</td>\n",
       "      <td>CO</td>\n",
       "      <td>ugm -3</td>\n",
       "      <td>2020-05-14 11:53:00</td>\n",
       "      <td>0.0</td>\n",
       "      <td>257.791049</td>\n",
       "      <td>2020-05-14</td>\n",
       "      <td>11:53:00</td>\n",
       "      <td>11</td>\n",
       "    </tr>\n",
       "    <tr>\n",
       "      <th>20</th>\n",
       "      <td>PER_AIRMON_MESH1911150</td>\n",
       "      <td>PM2.5</td>\n",
       "      <td>ugm -3</td>\n",
       "      <td>2020-05-14 11:49:00</td>\n",
       "      <td>0.0</td>\n",
       "      <td>3.274000</td>\n",
       "      <td>2020-05-14</td>\n",
       "      <td>11:49:00</td>\n",
       "      <td>11</td>\n",
       "    </tr>\n",
       "    <tr>\n",
       "      <th>31</th>\n",
       "      <td>PER_EMOTE_1309</td>\n",
       "      <td>Humidity</td>\n",
       "      <td>%</td>\n",
       "      <td>2020-05-14 22:11:00</td>\n",
       "      <td>0.0</td>\n",
       "      <td>57.100000</td>\n",
       "      <td>2020-05-14</td>\n",
       "      <td>22:11:00</td>\n",
       "      <td>22</td>\n",
       "    </tr>\n",
       "    <tr>\n",
       "      <th>40</th>\n",
       "      <td>PER_EMOTE_1309</td>\n",
       "      <td>CO</td>\n",
       "      <td>ugm -3</td>\n",
       "      <td>2020-05-14 06:55:00</td>\n",
       "      <td>0.0</td>\n",
       "      <td>341.400232</td>\n",
       "      <td>2020-05-14</td>\n",
       "      <td>06:55:00</td>\n",
       "      <td>6</td>\n",
       "    </tr>\n",
       "    <tr>\n",
       "      <th>55</th>\n",
       "      <td>PER_AIRMON_MESH1911150</td>\n",
       "      <td>PM10</td>\n",
       "      <td>ugm -3</td>\n",
       "      <td>2020-05-14 22:36:00</td>\n",
       "      <td>0.0</td>\n",
       "      <td>6.188000</td>\n",
       "      <td>2020-05-14</td>\n",
       "      <td>22:36:00</td>\n",
       "      <td>22</td>\n",
       "    </tr>\n",
       "  </tbody>\n",
       "</table>\n",
       "</div>"
      ],
      "text/plain": [
       "                    Sensor      Type   Units                time  Flag  \\\n",
       "17          PER_EMOTE_1309        CO  ugm -3 2020-05-14 11:53:00   0.0   \n",
       "20  PER_AIRMON_MESH1911150     PM2.5  ugm -3 2020-05-14 11:49:00   0.0   \n",
       "31          PER_EMOTE_1309  Humidity       % 2020-05-14 22:11:00   0.0   \n",
       "40          PER_EMOTE_1309        CO  ugm -3 2020-05-14 06:55:00   0.0   \n",
       "55  PER_AIRMON_MESH1911150      PM10  ugm -3 2020-05-14 22:36:00   0.0   \n",
       "\n",
       "         Value       Date      Time  Hour  \n",
       "17  257.791049 2020-05-14  11:53:00    11  \n",
       "20    3.274000 2020-05-14  11:49:00    11  \n",
       "31   57.100000 2020-05-14  22:11:00    22  \n",
       "40  341.400232 2020-05-14  06:55:00     6  \n",
       "55    6.188000 2020-05-14  22:36:00    22  "
      ]
     },
     "execution_count": 9,
     "metadata": {},
     "output_type": "execute_result"
    }
   ],
   "source": [
    "df12 = df[(df['Date'] > '2020-05-13') & (df['Date'] <= '2020-05-14')]\n",
    "df12.head()"
   ]
  },
  {
   "cell_type": "code",
   "execution_count": 10,
   "metadata": {},
   "outputs": [
    {
     "data": {
      "text/html": [
       "<div>\n",
       "<style scoped>\n",
       "    .dataframe tbody tr th:only-of-type {\n",
       "        vertical-align: middle;\n",
       "    }\n",
       "\n",
       "    .dataframe tbody tr th {\n",
       "        vertical-align: top;\n",
       "    }\n",
       "\n",
       "    .dataframe thead th {\n",
       "        text-align: right;\n",
       "    }\n",
       "</style>\n",
       "<table border=\"1\" class=\"dataframe\">\n",
       "  <thead>\n",
       "    <tr style=\"text-align: right;\">\n",
       "      <th></th>\n",
       "      <th>Sensor</th>\n",
       "      <th>Type</th>\n",
       "      <th>Units</th>\n",
       "      <th>time</th>\n",
       "      <th>Flag</th>\n",
       "      <th>Value</th>\n",
       "      <th>Date</th>\n",
       "      <th>Time</th>\n",
       "      <th>Hour</th>\n",
       "    </tr>\n",
       "  </thead>\n",
       "  <tbody>\n",
       "    <tr>\n",
       "      <th>38</th>\n",
       "      <td>PER_AIRMON_MESH1911150</td>\n",
       "      <td>NO</td>\n",
       "      <td>ugm -3</td>\n",
       "      <td>2020-05-11 03:15:00</td>\n",
       "      <td>1.0</td>\n",
       "      <td>-7.86875</td>\n",
       "      <td>2020-05-11</td>\n",
       "      <td>03:15:00</td>\n",
       "      <td>3</td>\n",
       "    </tr>\n",
       "    <tr>\n",
       "      <th>126</th>\n",
       "      <td>PER_AIRMON_MESH1911150</td>\n",
       "      <td>NO</td>\n",
       "      <td>ugm -3</td>\n",
       "      <td>2020-05-17 16:30:00</td>\n",
       "      <td>1.0</td>\n",
       "      <td>-11.10000</td>\n",
       "      <td>2020-05-17</td>\n",
       "      <td>16:30:00</td>\n",
       "      <td>16</td>\n",
       "    </tr>\n",
       "    <tr>\n",
       "      <th>371</th>\n",
       "      <td>PER_AIRMON_MESH1911150</td>\n",
       "      <td>NO</td>\n",
       "      <td>ugm -3</td>\n",
       "      <td>2020-05-14 13:45:00</td>\n",
       "      <td>1.0</td>\n",
       "      <td>-10.70500</td>\n",
       "      <td>2020-05-14</td>\n",
       "      <td>13:45:00</td>\n",
       "      <td>13</td>\n",
       "    </tr>\n",
       "    <tr>\n",
       "      <th>445</th>\n",
       "      <td>PER_AIRMON_MESH301245</td>\n",
       "      <td>NO</td>\n",
       "      <td>ugm -3</td>\n",
       "      <td>2020-05-20 21:15:00</td>\n",
       "      <td>1.0</td>\n",
       "      <td>-0.13000</td>\n",
       "      <td>2020-05-20</td>\n",
       "      <td>21:15:00</td>\n",
       "      <td>21</td>\n",
       "    </tr>\n",
       "    <tr>\n",
       "      <th>452</th>\n",
       "      <td>PER_AIRMON_MESH301245</td>\n",
       "      <td>NO</td>\n",
       "      <td>ugm -3</td>\n",
       "      <td>2020-05-28 16:45:00</td>\n",
       "      <td>1.0</td>\n",
       "      <td>-1.01750</td>\n",
       "      <td>2020-05-28</td>\n",
       "      <td>16:45:00</td>\n",
       "      <td>16</td>\n",
       "    </tr>\n",
       "  </tbody>\n",
       "</table>\n",
       "</div>"
      ],
      "text/plain": [
       "                     Sensor Type   Units                time  Flag     Value  \\\n",
       "38   PER_AIRMON_MESH1911150   NO  ugm -3 2020-05-11 03:15:00   1.0  -7.86875   \n",
       "126  PER_AIRMON_MESH1911150   NO  ugm -3 2020-05-17 16:30:00   1.0 -11.10000   \n",
       "371  PER_AIRMON_MESH1911150   NO  ugm -3 2020-05-14 13:45:00   1.0 -10.70500   \n",
       "445   PER_AIRMON_MESH301245   NO  ugm -3 2020-05-20 21:15:00   1.0  -0.13000   \n",
       "452   PER_AIRMON_MESH301245   NO  ugm -3 2020-05-28 16:45:00   1.0  -1.01750   \n",
       "\n",
       "          Date      Time  Hour  \n",
       "38  2020-05-11  03:15:00     3  \n",
       "126 2020-05-17  16:30:00    16  \n",
       "371 2020-05-14  13:45:00    13  \n",
       "445 2020-05-20  21:15:00    21  \n",
       "452 2020-05-28  16:45:00    16  "
      ]
     },
     "execution_count": 10,
     "metadata": {},
     "output_type": "execute_result"
    }
   ],
   "source": [
    "df_false=df[df[\"Flag\"]==1]\n",
    "df_false.head()"
   ]
  },
  {
   "cell_type": "code",
   "execution_count": 11,
   "metadata": {},
   "outputs": [
    {
     "data": {
      "text/plain": [
       "array(['PER_AIRMON_MESH1911150', 'PER_AIRMON_MESH301245',\n",
       "       'PER_EMOTE_1309'], dtype=object)"
      ]
     },
     "execution_count": 11,
     "metadata": {},
     "output_type": "execute_result"
    }
   ],
   "source": [
    "df_false.Sensor.unique()"
   ]
  },
  {
   "cell_type": "code",
   "execution_count": 12,
   "metadata": {},
   "outputs": [
    {
     "data": {
      "text/plain": [
       "array(['NO', 'NO2'], dtype=object)"
      ]
     },
     "execution_count": 12,
     "metadata": {},
     "output_type": "execute_result"
    }
   ],
   "source": [
    "df_false.Type.unique()"
   ]
  },
  {
   "cell_type": "code",
   "execution_count": 13,
   "metadata": {},
   "outputs": [
    {
     "data": {
      "text/plain": [
       "1883"
      ]
     },
     "execution_count": 13,
     "metadata": {},
     "output_type": "execute_result"
    },
    {
     "data": {
      "text/plain": [
       "125"
      ]
     },
     "execution_count": 13,
     "metadata": {},
     "output_type": "execute_result"
    }
   ],
   "source": [
    "len(df_false[df_false[\"Type\"]==\"NO\"])\n",
    "len(df_false[df_false[\"Type\"]==\"NO2\"])"
   ]
  },
  {
   "cell_type": "code",
   "execution_count": 14,
   "metadata": {},
   "outputs": [
    {
     "data": {
      "text/html": [
       "<div>\n",
       "<style scoped>\n",
       "    .dataframe tbody tr th:only-of-type {\n",
       "        vertical-align: middle;\n",
       "    }\n",
       "\n",
       "    .dataframe tbody tr th {\n",
       "        vertical-align: top;\n",
       "    }\n",
       "\n",
       "    .dataframe thead th {\n",
       "        text-align: right;\n",
       "    }\n",
       "</style>\n",
       "<table border=\"1\" class=\"dataframe\">\n",
       "  <thead>\n",
       "    <tr style=\"text-align: right;\">\n",
       "      <th></th>\n",
       "      <th>Sensor</th>\n",
       "      <th>Type</th>\n",
       "      <th>Units</th>\n",
       "      <th>time</th>\n",
       "      <th>Flag</th>\n",
       "      <th>Value</th>\n",
       "      <th>Date</th>\n",
       "      <th>Time</th>\n",
       "      <th>Hour</th>\n",
       "    </tr>\n",
       "  </thead>\n",
       "  <tbody>\n",
       "    <tr>\n",
       "      <th>0</th>\n",
       "      <td>PER_AIRMON_MESH301245</td>\n",
       "      <td>PM2.5</td>\n",
       "      <td>ugm -3</td>\n",
       "      <td>2020-05-21 03:45:00</td>\n",
       "      <td>0.0</td>\n",
       "      <td>5.640000</td>\n",
       "      <td>2020-05-21</td>\n",
       "      <td>03:45:00</td>\n",
       "      <td>3</td>\n",
       "    </tr>\n",
       "    <tr>\n",
       "      <th>1</th>\n",
       "      <td>PER_AIRMON_MESH1911150</td>\n",
       "      <td>PM10</td>\n",
       "      <td>ugm -3</td>\n",
       "      <td>2020-05-30 18:44:00</td>\n",
       "      <td>0.0</td>\n",
       "      <td>6.357000</td>\n",
       "      <td>2020-05-30</td>\n",
       "      <td>18:44:00</td>\n",
       "      <td>18</td>\n",
       "    </tr>\n",
       "    <tr>\n",
       "      <th>2</th>\n",
       "      <td>PER_AIRMON_MESH301245</td>\n",
       "      <td>PM10</td>\n",
       "      <td>ugm -3</td>\n",
       "      <td>2020-05-29 15:19:00</td>\n",
       "      <td>0.0</td>\n",
       "      <td>6.310000</td>\n",
       "      <td>2020-05-29</td>\n",
       "      <td>15:19:00</td>\n",
       "      <td>15</td>\n",
       "    </tr>\n",
       "    <tr>\n",
       "      <th>3</th>\n",
       "      <td>PER_AIRMON_MESH1911150</td>\n",
       "      <td>PM 4</td>\n",
       "      <td>ugm -3</td>\n",
       "      <td>2020-05-24 14:56:00</td>\n",
       "      <td>0.0</td>\n",
       "      <td>0.380000</td>\n",
       "      <td>2020-05-24</td>\n",
       "      <td>14:56:00</td>\n",
       "      <td>14</td>\n",
       "    </tr>\n",
       "    <tr>\n",
       "      <th>4</th>\n",
       "      <td>PER_EMOTE_1309</td>\n",
       "      <td>CO</td>\n",
       "      <td>ugm -3</td>\n",
       "      <td>2020-05-28 06:20:38</td>\n",
       "      <td>0.0</td>\n",
       "      <td>349.812463</td>\n",
       "      <td>2020-05-28</td>\n",
       "      <td>06:20:38</td>\n",
       "      <td>6</td>\n",
       "    </tr>\n",
       "  </tbody>\n",
       "</table>\n",
       "</div>"
      ],
      "text/plain": [
       "                   Sensor   Type   Units                time  Flag  \\\n",
       "0   PER_AIRMON_MESH301245  PM2.5  ugm -3 2020-05-21 03:45:00   0.0   \n",
       "1  PER_AIRMON_MESH1911150   PM10  ugm -3 2020-05-30 18:44:00   0.0   \n",
       "2   PER_AIRMON_MESH301245   PM10  ugm -3 2020-05-29 15:19:00   0.0   \n",
       "3  PER_AIRMON_MESH1911150   PM 4  ugm -3 2020-05-24 14:56:00   0.0   \n",
       "4          PER_EMOTE_1309     CO  ugm -3 2020-05-28 06:20:38   0.0   \n",
       "\n",
       "        Value       Date      Time  Hour  \n",
       "0    5.640000 2020-05-21  03:45:00     3  \n",
       "1    6.357000 2020-05-30  18:44:00    18  \n",
       "2    6.310000 2020-05-29  15:19:00    15  \n",
       "3    0.380000 2020-05-24  14:56:00    14  \n",
       "4  349.812463 2020-05-28  06:20:38     6  "
      ]
     },
     "execution_count": 14,
     "metadata": {},
     "output_type": "execute_result"
    }
   ],
   "source": [
    "df.head()"
   ]
  },
  {
   "cell_type": "code",
   "execution_count": 15,
   "metadata": {},
   "outputs": [],
   "source": [
    "# fig, ax = plt.subplots(figsize=(15, 8))\n",
    "# plt.rcParams['agg.path.chunksize'] = 10000\n",
    "# # Add x-axis and y-axis\n",
    "# ax.plot(df['Type'],df['Value'])\n",
    "# ax.legend(df['Type'])"
   ]
  },
  {
   "cell_type": "code",
   "execution_count": 16,
   "metadata": {},
   "outputs": [
    {
     "data": {
      "text/html": [
       "<div>\n",
       "<style scoped>\n",
       "    .dataframe tbody tr th:only-of-type {\n",
       "        vertical-align: middle;\n",
       "    }\n",
       "\n",
       "    .dataframe tbody tr th {\n",
       "        vertical-align: top;\n",
       "    }\n",
       "\n",
       "    .dataframe thead th {\n",
       "        text-align: right;\n",
       "    }\n",
       "</style>\n",
       "<table border=\"1\" class=\"dataframe\">\n",
       "  <thead>\n",
       "    <tr style=\"text-align: right;\">\n",
       "      <th></th>\n",
       "      <th>Sensor</th>\n",
       "      <th>Type</th>\n",
       "      <th>Units</th>\n",
       "      <th>time</th>\n",
       "      <th>Flag</th>\n",
       "      <th>Value</th>\n",
       "      <th>Date</th>\n",
       "      <th>Time</th>\n",
       "      <th>Hour</th>\n",
       "    </tr>\n",
       "  </thead>\n",
       "  <tbody>\n",
       "    <tr>\n",
       "      <th>4</th>\n",
       "      <td>PER_EMOTE_1309</td>\n",
       "      <td>CO</td>\n",
       "      <td>ugm -3</td>\n",
       "      <td>2020-05-28 06:20:38</td>\n",
       "      <td>0.0</td>\n",
       "      <td>349.812463</td>\n",
       "      <td>2020-05-28</td>\n",
       "      <td>06:20:38</td>\n",
       "      <td>6</td>\n",
       "    </tr>\n",
       "    <tr>\n",
       "      <th>6</th>\n",
       "      <td>PER_EMOTE_1309</td>\n",
       "      <td>CO</td>\n",
       "      <td>ugm -3</td>\n",
       "      <td>2020-05-19 09:25:21</td>\n",
       "      <td>0.0</td>\n",
       "      <td>533.156084</td>\n",
       "      <td>2020-05-19</td>\n",
       "      <td>09:25:21</td>\n",
       "      <td>9</td>\n",
       "    </tr>\n",
       "    <tr>\n",
       "      <th>17</th>\n",
       "      <td>PER_EMOTE_1309</td>\n",
       "      <td>CO</td>\n",
       "      <td>ugm -3</td>\n",
       "      <td>2020-05-14 11:53:00</td>\n",
       "      <td>0.0</td>\n",
       "      <td>257.791049</td>\n",
       "      <td>2020-05-14</td>\n",
       "      <td>11:53:00</td>\n",
       "      <td>11</td>\n",
       "    </tr>\n",
       "    <tr>\n",
       "      <th>19</th>\n",
       "      <td>PER_EMOTE_1309</td>\n",
       "      <td>CO</td>\n",
       "      <td>ugm -3</td>\n",
       "      <td>2020-05-17 11:32:17</td>\n",
       "      <td>0.0</td>\n",
       "      <td>327.744630</td>\n",
       "      <td>2020-05-17</td>\n",
       "      <td>11:32:17</td>\n",
       "      <td>11</td>\n",
       "    </tr>\n",
       "    <tr>\n",
       "      <th>22</th>\n",
       "      <td>PER_EMOTE_1309</td>\n",
       "      <td>CO</td>\n",
       "      <td>ugm -3</td>\n",
       "      <td>2020-05-17 21:24:18</td>\n",
       "      <td>0.0</td>\n",
       "      <td>367.877002</td>\n",
       "      <td>2020-05-17</td>\n",
       "      <td>21:24:18</td>\n",
       "      <td>21</td>\n",
       "    </tr>\n",
       "  </tbody>\n",
       "</table>\n",
       "</div>"
      ],
      "text/plain": [
       "            Sensor Type   Units                time  Flag       Value  \\\n",
       "4   PER_EMOTE_1309   CO  ugm -3 2020-05-28 06:20:38   0.0  349.812463   \n",
       "6   PER_EMOTE_1309   CO  ugm -3 2020-05-19 09:25:21   0.0  533.156084   \n",
       "17  PER_EMOTE_1309   CO  ugm -3 2020-05-14 11:53:00   0.0  257.791049   \n",
       "19  PER_EMOTE_1309   CO  ugm -3 2020-05-17 11:32:17   0.0  327.744630   \n",
       "22  PER_EMOTE_1309   CO  ugm -3 2020-05-17 21:24:18   0.0  367.877002   \n",
       "\n",
       "         Date      Time  Hour  \n",
       "4  2020-05-28  06:20:38     6  \n",
       "6  2020-05-19  09:25:21     9  \n",
       "17 2020-05-14  11:53:00    11  \n",
       "19 2020-05-17  11:32:17    11  \n",
       "22 2020-05-17  21:24:18    21  "
      ]
     },
     "execution_count": 16,
     "metadata": {},
     "output_type": "execute_result"
    }
   ],
   "source": [
    "newdf=df.loc[df[\"Type\"]==\"CO\"]\n",
    "newdf.head()"
   ]
  },
  {
   "cell_type": "code",
   "execution_count": 17,
   "metadata": {},
   "outputs": [
    {
     "data": {
      "text/plain": [
       "[<matplotlib.lines.Line2D at 0x1eb22b72808>]"
      ]
     },
     "execution_count": 17,
     "metadata": {},
     "output_type": "execute_result"
    },
    {
     "data": {
      "text/plain": [
       "[Text(0, 0.5, 'count'),\n",
       " Text(0.5, 0, 'Date'),\n",
       " Text(0.5, 1.0, 'Daily count of data')]"
      ]
     },
     "execution_count": 17,
     "metadata": {},
     "output_type": "execute_result"
    },
    {
     "name": "stderr",
     "output_type": "stream",
     "text": [
      "No handles with labels found to put in legend.\n"
     ]
    },
    {
     "data": {
      "text/plain": [
       "<matplotlib.legend.Legend at 0x1eb23791bc8>"
      ]
     },
     "execution_count": 17,
     "metadata": {},
     "output_type": "execute_result"
    },
    {
     "data": {
      "image/png": "[encoded data removed]",
      "text/plain": [
       "<Figure size 1080x360 with 1 Axes>"
      ]
     },
     "metadata": {
      "needs_background": "light"
     },
     "output_type": "display_data"
    }
   ],
   "source": [
    "df_Date_count= df.groupby(\"Date\")[\"Date\"].count()\n",
    "fig,ax= plt.subplots(figsize=(15,5))\n",
    "pd.plotting.register_matplotlib_converters()\n",
    "# plt.rcParams['agg.path.chunksize'] = 1000\n",
    "# df_Date_count.plot()\n",
    "plt.plot(df_Date_count,marker='o')\n",
    "# ax.annotate()\n",
    "# plt.text()\n",
    "ax.set(title=\"Daily count of data\",  xlabel=\"Date\", ylabel=\"count\")\n",
    "plt.legend()\n",
    "plt.grid()\n",
    "plt.show()\n",
    "# ax.legend(newdf['Type'])"
   ]
  },
  {
   "cell_type": "code",
   "execution_count": 18,
   "metadata": {},
   "outputs": [
    {
     "data": {
      "text/plain": [
       "Date\n",
       "2020-05-11    16397\n",
       "2020-05-12    17383\n",
       "2020-05-13    19867\n",
       "2020-05-14    19995\n",
       "2020-05-15    19895\n",
       "2020-05-16    20040\n",
       "2020-05-17    33408\n",
       "2020-05-18    19281\n",
       "2020-05-19    19910\n",
       "2020-05-20     7598\n",
       "Name: Date, dtype: int64"
      ]
     },
     "execution_count": 18,
     "metadata": {},
     "output_type": "execute_result"
    }
   ],
   "source": [
    "df_Date_count.head(10)"
   ]
  },
  {
   "cell_type": "code",
   "execution_count": 19,
   "metadata": {
    "scrolled": true
   },
   "outputs": [
    {
     "data": {
      "text/html": [
       "<div>\n",
       "<style scoped>\n",
       "    .dataframe tbody tr th:only-of-type {\n",
       "        vertical-align: middle;\n",
       "    }\n",
       "\n",
       "    .dataframe tbody tr th {\n",
       "        vertical-align: top;\n",
       "    }\n",
       "\n",
       "    .dataframe thead th {\n",
       "        text-align: right;\n",
       "    }\n",
       "</style>\n",
       "<table border=\"1\" class=\"dataframe\">\n",
       "  <thead>\n",
       "    <tr style=\"text-align: right;\">\n",
       "      <th></th>\n",
       "      <th>Date</th>\n",
       "      <th>Sensor</th>\n",
       "      <th>count</th>\n",
       "    </tr>\n",
       "  </thead>\n",
       "  <tbody>\n",
       "    <tr>\n",
       "      <th>0</th>\n",
       "      <td>2020-05-11</td>\n",
       "      <td>PER_AIRMON_MESH1911150</td>\n",
       "      <td>5785</td>\n",
       "    </tr>\n",
       "    <tr>\n",
       "      <th>1</th>\n",
       "      <td>2020-05-11</td>\n",
       "      <td>PER_AIRMON_MESH301245</td>\n",
       "      <td>5218</td>\n",
       "    </tr>\n",
       "    <tr>\n",
       "      <th>2</th>\n",
       "      <td>2020-05-11</td>\n",
       "      <td>PER_EMOTE_1309</td>\n",
       "      <td>5394</td>\n",
       "    </tr>\n",
       "    <tr>\n",
       "      <th>3</th>\n",
       "      <td>2020-05-12</td>\n",
       "      <td>PER_AIRMON_MESH1911150</td>\n",
       "      <td>5864</td>\n",
       "    </tr>\n",
       "    <tr>\n",
       "      <th>4</th>\n",
       "      <td>2020-05-12</td>\n",
       "      <td>PER_AIRMON_MESH301245</td>\n",
       "      <td>3908</td>\n",
       "    </tr>\n",
       "    <tr>\n",
       "      <th>...</th>\n",
       "      <td>...</td>\n",
       "      <td>...</td>\n",
       "      <td>...</td>\n",
       "    </tr>\n",
       "    <tr>\n",
       "      <th>58</th>\n",
       "      <td>2020-05-30</td>\n",
       "      <td>PER_AIRMON_MESH301245</td>\n",
       "      <td>5736</td>\n",
       "    </tr>\n",
       "    <tr>\n",
       "      <th>59</th>\n",
       "      <td>2020-05-30</td>\n",
       "      <td>PER_EMOTE_1309</td>\n",
       "      <td>6678</td>\n",
       "    </tr>\n",
       "    <tr>\n",
       "      <th>60</th>\n",
       "      <td>2020-05-31</td>\n",
       "      <td>PER_AIRMON_MESH1911150</td>\n",
       "      <td>5778</td>\n",
       "    </tr>\n",
       "    <tr>\n",
       "      <th>61</th>\n",
       "      <td>2020-05-31</td>\n",
       "      <td>PER_AIRMON_MESH301245</td>\n",
       "      <td>5424</td>\n",
       "    </tr>\n",
       "    <tr>\n",
       "      <th>62</th>\n",
       "      <td>2020-05-31</td>\n",
       "      <td>PER_EMOTE_1309</td>\n",
       "      <td>6756</td>\n",
       "    </tr>\n",
       "  </tbody>\n",
       "</table>\n",
       "<p>63 rows × 3 columns</p>\n",
       "</div>"
      ],
      "text/plain": [
       "         Date                  Sensor  count\n",
       "0  2020-05-11  PER_AIRMON_MESH1911150   5785\n",
       "1  2020-05-11   PER_AIRMON_MESH301245   5218\n",
       "2  2020-05-11          PER_EMOTE_1309   5394\n",
       "3  2020-05-12  PER_AIRMON_MESH1911150   5864\n",
       "4  2020-05-12   PER_AIRMON_MESH301245   3908\n",
       "..        ...                     ...    ...\n",
       "58 2020-05-30   PER_AIRMON_MESH301245   5736\n",
       "59 2020-05-30          PER_EMOTE_1309   6678\n",
       "60 2020-05-31  PER_AIRMON_MESH1911150   5778\n",
       "61 2020-05-31   PER_AIRMON_MESH301245   5424\n",
       "62 2020-05-31          PER_EMOTE_1309   6756\n",
       "\n",
       "[63 rows x 3 columns]"
      ]
     },
     "execution_count": 19,
     "metadata": {},
     "output_type": "execute_result"
    }
   ],
   "source": [
    "df.groupby([\"Date\",\"Sensor\"])[\"Date\"].count().reset_index(name=\"count\")"
   ]
  },
  {
   "cell_type": "code",
   "execution_count": 20,
   "metadata": {},
   "outputs": [],
   "source": [
    "# daily_sensor_count[daily_sensor_count.Date=='2020-06-03']"
   ]
  },
  {
   "cell_type": "code",
   "execution_count": 21,
   "metadata": {},
   "outputs": [
    {
     "data": {
      "text/html": [
       "<div>\n",
       "<style scoped>\n",
       "    .dataframe tbody tr th:only-of-type {\n",
       "        vertical-align: middle;\n",
       "    }\n",
       "\n",
       "    .dataframe tbody tr th {\n",
       "        vertical-align: top;\n",
       "    }\n",
       "\n",
       "    .dataframe thead th {\n",
       "        text-align: right;\n",
       "    }\n",
       "</style>\n",
       "<table border=\"1\" class=\"dataframe\">\n",
       "  <thead>\n",
       "    <tr style=\"text-align: right;\">\n",
       "      <th></th>\n",
       "      <th>Date</th>\n",
       "      <th>Sensor</th>\n",
       "      <th>count</th>\n",
       "    </tr>\n",
       "  </thead>\n",
       "  <tbody>\n",
       "    <tr>\n",
       "      <th>0</th>\n",
       "      <td>2020-05-11</td>\n",
       "      <td>PER_AIRMON_MESH1911150</td>\n",
       "      <td>5785</td>\n",
       "    </tr>\n",
       "    <tr>\n",
       "      <th>1</th>\n",
       "      <td>2020-05-11</td>\n",
       "      <td>PER_AIRMON_MESH301245</td>\n",
       "      <td>5218</td>\n",
       "    </tr>\n",
       "    <tr>\n",
       "      <th>2</th>\n",
       "      <td>2020-05-11</td>\n",
       "      <td>PER_EMOTE_1309</td>\n",
       "      <td>5394</td>\n",
       "    </tr>\n",
       "    <tr>\n",
       "      <th>3</th>\n",
       "      <td>2020-05-12</td>\n",
       "      <td>PER_AIRMON_MESH1911150</td>\n",
       "      <td>5864</td>\n",
       "    </tr>\n",
       "    <tr>\n",
       "      <th>4</th>\n",
       "      <td>2020-05-12</td>\n",
       "      <td>PER_AIRMON_MESH301245</td>\n",
       "      <td>3908</td>\n",
       "    </tr>\n",
       "  </tbody>\n",
       "</table>\n",
       "</div>"
      ],
      "text/plain": [
       "        Date                  Sensor  count\n",
       "0 2020-05-11  PER_AIRMON_MESH1911150   5785\n",
       "1 2020-05-11   PER_AIRMON_MESH301245   5218\n",
       "2 2020-05-11          PER_EMOTE_1309   5394\n",
       "3 2020-05-12  PER_AIRMON_MESH1911150   5864\n",
       "4 2020-05-12   PER_AIRMON_MESH301245   3908"
      ]
     },
     "execution_count": 21,
     "metadata": {},
     "output_type": "execute_result"
    }
   ],
   "source": [
    "daily_sensor_count=df.groupby([\"Date\",\"Sensor\"])[\"Date\"].count().reset_index(name=\"count\")\n",
    "daily_sensor_count.head()"
   ]
  },
  {
   "cell_type": "code",
   "execution_count": 22,
   "metadata": {},
   "outputs": [],
   "source": [
    "def combinedPlot(c1,c2,position):\n",
    "    fig, ax = plt.subplots(figsize=(10,5))\n",
    "    df.groupby([c1,c2])[c1].count().unstack().plot(ax=ax,kind=\"bar\",stacked=True)\n",
    "    ax.legend(loc=position,ncol=2, fancybox=True, shadow=True)\n",
    "    plt.xticks(rotation=80)\n",
    "    plt.xlabel(c1)\n",
    "    plt.ylabel(\"count\")\n",
    "    plt.title(c2+\" wrt \"+c1)\n",
    "    plt.show()\n",
    "\n",
    "#     df.groupby([\"Date\",\"Sensor\"])[\"Date\"].count().reset_index(name=\"count\")"
   ]
  },
  {
   "cell_type": "code",
   "execution_count": 23,
   "metadata": {
    "scrolled": true
   },
   "outputs": [
    {
     "data": {
      "image/png": "[encoded data removed]",
      "text/plain": [
       "<Figure size 720x360 with 1 Axes>"
      ]
     },
     "metadata": {
      "needs_background": "light"
     },
     "output_type": "display_data"
    }
   ],
   "source": [
    "combinedPlot(\"Date\",\"Sensor\",\"upper right\")"
   ]
  },
  {
   "cell_type": "code",
   "execution_count": 24,
   "metadata": {},
   "outputs": [
    {
     "data": {
      "image/png": "[encoded data removed]",
      "text/plain": [
       "<Figure size 720x360 with 1 Axes>"
      ]
     },
     "metadata": {
      "needs_background": "light"
     },
     "output_type": "display_data"
    }
   ],
   "source": [
    "combinedPlot(\"Date\",\"Type\",\"upper center\")"
   ]
  },
  {
   "cell_type": "code",
   "execution_count": 25,
   "metadata": {},
   "outputs": [],
   "source": [
    "def individualTypePlot(c1,c2,position):\n",
    "    fig, ax = plt.subplots(figsize=(10,6))\n",
    "    newdf=df.loc[df[c2]==\"CO\"]\n",
    "    \n",
    "    df.groupby([c1,c2])[c1].count().unstack().plot(ax=ax,kind=\"bar\",stacked=True)\n",
    "    ax.legend(loc=position,ncol=2, fancybox=True, shadow=True)\n",
    "    plt.xticks(rotation=80)\n",
    "    plt.xlabel(c1)\n",
    "    plt.ylabel(c2)\n",
    "    plt.title(c2+\" wrt \"+c1)\n",
    "    plt.show()"
   ]
  },
  {
   "cell_type": "code",
   "execution_count": 26,
   "metadata": {},
   "outputs": [
    {
     "data": {
      "text/html": [
       "<div>\n",
       "<style scoped>\n",
       "    .dataframe tbody tr th:only-of-type {\n",
       "        vertical-align: middle;\n",
       "    }\n",
       "\n",
       "    .dataframe tbody tr th {\n",
       "        vertical-align: top;\n",
       "    }\n",
       "\n",
       "    .dataframe thead th {\n",
       "        text-align: right;\n",
       "    }\n",
       "</style>\n",
       "<table border=\"1\" class=\"dataframe\">\n",
       "  <thead>\n",
       "    <tr style=\"text-align: right;\">\n",
       "      <th></th>\n",
       "      <th>Sensor</th>\n",
       "      <th>Type</th>\n",
       "      <th>Units</th>\n",
       "      <th>time</th>\n",
       "      <th>Flag</th>\n",
       "      <th>Value</th>\n",
       "      <th>Date</th>\n",
       "      <th>Time</th>\n",
       "      <th>Hour</th>\n",
       "    </tr>\n",
       "  </thead>\n",
       "  <tbody>\n",
       "    <tr>\n",
       "      <th>4</th>\n",
       "      <td>PER_EMOTE_1309</td>\n",
       "      <td>CO</td>\n",
       "      <td>ugm -3</td>\n",
       "      <td>2020-05-28 06:20:38</td>\n",
       "      <td>0.0</td>\n",
       "      <td>349.812463</td>\n",
       "      <td>2020-05-28</td>\n",
       "      <td>06:20:38</td>\n",
       "      <td>6</td>\n",
       "    </tr>\n",
       "    <tr>\n",
       "      <th>6</th>\n",
       "      <td>PER_EMOTE_1309</td>\n",
       "      <td>CO</td>\n",
       "      <td>ugm -3</td>\n",
       "      <td>2020-05-19 09:25:21</td>\n",
       "      <td>0.0</td>\n",
       "      <td>533.156084</td>\n",
       "      <td>2020-05-19</td>\n",
       "      <td>09:25:21</td>\n",
       "      <td>9</td>\n",
       "    </tr>\n",
       "  </tbody>\n",
       "</table>\n",
       "</div>"
      ],
      "text/plain": [
       "           Sensor Type   Units                time  Flag       Value  \\\n",
       "4  PER_EMOTE_1309   CO  ugm -3 2020-05-28 06:20:38   0.0  349.812463   \n",
       "6  PER_EMOTE_1309   CO  ugm -3 2020-05-19 09:25:21   0.0  533.156084   \n",
       "\n",
       "        Date      Time  Hour  \n",
       "4 2020-05-28  06:20:38     6  \n",
       "6 2020-05-19  09:25:21     9  "
      ]
     },
     "execution_count": 26,
     "metadata": {},
     "output_type": "execute_result"
    }
   ],
   "source": [
    "newdf=df.loc[df[\"Type\"]==\"CO\"]\n",
    "newdf.head(2)"
   ]
  },
  {
   "cell_type": "code",
   "execution_count": 27,
   "metadata": {},
   "outputs": [
    {
     "data": {
      "text/html": [
       "<div>\n",
       "<style scoped>\n",
       "    .dataframe tbody tr th:only-of-type {\n",
       "        vertical-align: middle;\n",
       "    }\n",
       "\n",
       "    .dataframe tbody tr th {\n",
       "        vertical-align: top;\n",
       "    }\n",
       "\n",
       "    .dataframe thead th {\n",
       "        text-align: right;\n",
       "    }\n",
       "</style>\n",
       "<table border=\"1\" class=\"dataframe\">\n",
       "  <thead>\n",
       "    <tr style=\"text-align: right;\">\n",
       "      <th></th>\n",
       "      <th>Hour</th>\n",
       "      <th>Type</th>\n",
       "      <th>Value</th>\n",
       "    </tr>\n",
       "  </thead>\n",
       "  <tbody>\n",
       "    <tr>\n",
       "      <th>4</th>\n",
       "      <td>6</td>\n",
       "      <td>CO</td>\n",
       "      <td>349.812463</td>\n",
       "    </tr>\n",
       "    <tr>\n",
       "      <th>6</th>\n",
       "      <td>9</td>\n",
       "      <td>CO</td>\n",
       "      <td>533.156084</td>\n",
       "    </tr>\n",
       "    <tr>\n",
       "      <th>17</th>\n",
       "      <td>11</td>\n",
       "      <td>CO</td>\n",
       "      <td>257.791049</td>\n",
       "    </tr>\n",
       "    <tr>\n",
       "      <th>19</th>\n",
       "      <td>11</td>\n",
       "      <td>CO</td>\n",
       "      <td>327.744630</td>\n",
       "    </tr>\n",
       "    <tr>\n",
       "      <th>22</th>\n",
       "      <td>21</td>\n",
       "      <td>CO</td>\n",
       "      <td>367.877002</td>\n",
       "    </tr>\n",
       "  </tbody>\n",
       "</table>\n",
       "</div>"
      ],
      "text/plain": [
       "    Hour Type       Value\n",
       "4      6   CO  349.812463\n",
       "6      9   CO  533.156084\n",
       "17    11   CO  257.791049\n",
       "19    11   CO  327.744630\n",
       "22    21   CO  367.877002"
      ]
     },
     "execution_count": 27,
     "metadata": {},
     "output_type": "execute_result"
    }
   ],
   "source": [
    "newdf_1=newdf[[\"Hour\",\"Type\",\"Value\"]]\n",
    "newdf_1.head()"
   ]
  },
  {
   "cell_type": "code",
   "execution_count": 28,
   "metadata": {},
   "outputs": [],
   "source": [
    "# newdf_1.plot(x=\"Hour\",y=\"Value\")"
   ]
  },
  {
   "cell_type": "code",
   "execution_count": 29,
   "metadata": {},
   "outputs": [
    {
     "data": {
      "text/html": [
       "<div>\n",
       "<style scoped>\n",
       "    .dataframe tbody tr th:only-of-type {\n",
       "        vertical-align: middle;\n",
       "    }\n",
       "\n",
       "    .dataframe tbody tr th {\n",
       "        vertical-align: top;\n",
       "    }\n",
       "\n",
       "    .dataframe thead th {\n",
       "        text-align: right;\n",
       "    }\n",
       "</style>\n",
       "<table border=\"1\" class=\"dataframe\">\n",
       "  <thead>\n",
       "    <tr style=\"text-align: right;\">\n",
       "      <th></th>\n",
       "      <th>Type</th>\n",
       "      <th>Value</th>\n",
       "    </tr>\n",
       "    <tr>\n",
       "      <th>Hour</th>\n",
       "      <th></th>\n",
       "      <th></th>\n",
       "    </tr>\n",
       "  </thead>\n",
       "  <tbody>\n",
       "    <tr>\n",
       "      <th>6</th>\n",
       "      <td>CO</td>\n",
       "      <td>349.812463</td>\n",
       "    </tr>\n",
       "    <tr>\n",
       "      <th>9</th>\n",
       "      <td>CO</td>\n",
       "      <td>533.156084</td>\n",
       "    </tr>\n",
       "    <tr>\n",
       "      <th>11</th>\n",
       "      <td>CO</td>\n",
       "      <td>257.791049</td>\n",
       "    </tr>\n",
       "    <tr>\n",
       "      <th>11</th>\n",
       "      <td>CO</td>\n",
       "      <td>327.744630</td>\n",
       "    </tr>\n",
       "    <tr>\n",
       "      <th>21</th>\n",
       "      <td>CO</td>\n",
       "      <td>367.877002</td>\n",
       "    </tr>\n",
       "    <tr>\n",
       "      <th>...</th>\n",
       "      <td>...</td>\n",
       "      <td>...</td>\n",
       "    </tr>\n",
       "    <tr>\n",
       "      <th>16</th>\n",
       "      <td>CO</td>\n",
       "      <td>331.220938</td>\n",
       "    </tr>\n",
       "    <tr>\n",
       "      <th>10</th>\n",
       "      <td>CO</td>\n",
       "      <td>293.084744</td>\n",
       "    </tr>\n",
       "    <tr>\n",
       "      <th>5</th>\n",
       "      <td>CO</td>\n",
       "      <td>303.519399</td>\n",
       "    </tr>\n",
       "    <tr>\n",
       "      <th>14</th>\n",
       "      <td>CO</td>\n",
       "      <td>276.507016</td>\n",
       "    </tr>\n",
       "    <tr>\n",
       "      <th>12</th>\n",
       "      <td>CO</td>\n",
       "      <td>318.743829</td>\n",
       "    </tr>\n",
       "  </tbody>\n",
       "</table>\n",
       "<p>26440 rows × 2 columns</p>\n",
       "</div>"
      ],
      "text/plain": [
       "     Type       Value\n",
       "Hour                 \n",
       "6      CO  349.812463\n",
       "9      CO  533.156084\n",
       "11     CO  257.791049\n",
       "11     CO  327.744630\n",
       "21     CO  367.877002\n",
       "...   ...         ...\n",
       "16     CO  331.220938\n",
       "10     CO  293.084744\n",
       "5      CO  303.519399\n",
       "14     CO  276.507016\n",
       "12     CO  318.743829\n",
       "\n",
       "[26440 rows x 2 columns]"
      ]
     },
     "execution_count": 29,
     "metadata": {},
     "output_type": "execute_result"
    }
   ],
   "source": [
    "newdf_1.set_index(\"Hour\")"
   ]
  },
  {
   "cell_type": "code",
   "execution_count": 40,
   "metadata": {},
   "outputs": [
    {
     "data": {
      "text/plain": [
       "<matplotlib.axes._subplots.AxesSubplot at 0x1eb22e0c7c8>"
      ]
     },
     "execution_count": 40,
     "metadata": {},
     "output_type": "execute_result"
    },
    {
     "data": {
      "image/png": "[encoded data removed]",
      "text/plain": [
       "<Figure size 792x288 with 1 Axes>"
      ]
     },
     "metadata": {},
     "output_type": "display_data"
    }
   ],
   "source": [
    "import seaborn as sns\n",
    "# Use seaborn style defaults and set the default figure size\n",
    "sns.set(rc={'figure.figsize':(11, 4)})\n",
    "newdf_1[\"Value\"].plot(linewidth=0.5)"
   ]
  },
  {
   "cell_type": "code",
   "execution_count": 31,
   "metadata": {},
   "outputs": [],
   "source": [
    "df_123=df.drop([\"Flag\"],axis=1)\n",
    "n=df_123.groupby([\"Date\",\"Hour\",\"Type\"]).mean()"
   ]
  },
  {
   "cell_type": "code",
   "execution_count": 32,
   "metadata": {},
   "outputs": [
    {
     "data": {
      "text/html": [
       "<div>\n",
       "<style scoped>\n",
       "    .dataframe tbody tr th:only-of-type {\n",
       "        vertical-align: middle;\n",
       "    }\n",
       "\n",
       "    .dataframe tbody tr th {\n",
       "        vertical-align: top;\n",
       "    }\n",
       "\n",
       "    .dataframe thead th {\n",
       "        text-align: right;\n",
       "    }\n",
       "</style>\n",
       "<table border=\"1\" class=\"dataframe\">\n",
       "  <thead>\n",
       "    <tr style=\"text-align: right;\">\n",
       "      <th></th>\n",
       "      <th></th>\n",
       "      <th></th>\n",
       "      <th>Value</th>\n",
       "    </tr>\n",
       "    <tr>\n",
       "      <th>Date</th>\n",
       "      <th>Hour</th>\n",
       "      <th>Type</th>\n",
       "      <th></th>\n",
       "    </tr>\n",
       "  </thead>\n",
       "  <tbody>\n",
       "    <tr>\n",
       "      <th rowspan=\"5\" valign=\"top\">2020-05-11</th>\n",
       "      <th rowspan=\"5\" valign=\"top\">1</th>\n",
       "      <th>CO</th>\n",
       "      <td>61.967400</td>\n",
       "    </tr>\n",
       "    <tr>\n",
       "      <th>Humidity</th>\n",
       "      <td>64.608163</td>\n",
       "    </tr>\n",
       "    <tr>\n",
       "      <th>NO</th>\n",
       "      <td>17.896063</td>\n",
       "    </tr>\n",
       "    <tr>\n",
       "      <th>NO2</th>\n",
       "      <td>5.144135</td>\n",
       "    </tr>\n",
       "    <tr>\n",
       "      <th>O3</th>\n",
       "      <td>31.924167</td>\n",
       "    </tr>\n",
       "  </tbody>\n",
       "</table>\n",
       "</div>"
      ],
      "text/plain": [
       "                              Value\n",
       "Date       Hour Type               \n",
       "2020-05-11 1    CO        61.967400\n",
       "                Humidity  64.608163\n",
       "                NO        17.896063\n",
       "                NO2        5.144135\n",
       "                O3        31.924167"
      ]
     },
     "execution_count": 32,
     "metadata": {},
     "output_type": "execute_result"
    }
   ],
   "source": [
    "n.head()"
   ]
  },
  {
   "cell_type": "code",
   "execution_count": 33,
   "metadata": {},
   "outputs": [],
   "source": [
    "df_123=df.drop([\"Flag\"],axis=1)\n",
    "o=df_123.loc[df_123[\"Date\"]==\"2020-05-11\"]\n",
    "p=o.groupby([\"Hour\",\"Type\"])[\"Value\"].mean()"
   ]
  },
  {
   "cell_type": "code",
   "execution_count": 34,
   "metadata": {},
   "outputs": [
    {
     "data": {
      "text/plain": [
       "Hour  Type    \n",
       "1     CO          61.967400\n",
       "      Humidity    64.608163\n",
       "      NO          17.896063\n",
       "      NO2          5.144135\n",
       "      O3          31.924167\n",
       "Name: Value, dtype: float64"
      ]
     },
     "execution_count": 34,
     "metadata": {},
     "output_type": "execute_result"
    }
   ],
   "source": [
    "p.head()\n",
    "q=p.unstack()"
   ]
  },
  {
   "cell_type": "code",
   "execution_count": 35,
   "metadata": {},
   "outputs": [
    {
     "data": {
      "text/html": [
       "<div>\n",
       "<style scoped>\n",
       "    .dataframe tbody tr th:only-of-type {\n",
       "        vertical-align: middle;\n",
       "    }\n",
       "\n",
       "    .dataframe tbody tr th {\n",
       "        vertical-align: top;\n",
       "    }\n",
       "\n",
       "    .dataframe thead th {\n",
       "        text-align: right;\n",
       "    }\n",
       "</style>\n",
       "<table border=\"1\" class=\"dataframe\">\n",
       "  <thead>\n",
       "    <tr style=\"text-align: right;\">\n",
       "      <th>Type</th>\n",
       "      <th>CO</th>\n",
       "      <th>Humidity</th>\n",
       "      <th>NO</th>\n",
       "      <th>NO2</th>\n",
       "      <th>O3</th>\n",
       "      <th>PM 4</th>\n",
       "      <th>PM1</th>\n",
       "      <th>PM10</th>\n",
       "      <th>PM2.5</th>\n",
       "      <th>Pressure</th>\n",
       "      <th>Sound</th>\n",
       "      <th>Temperature</th>\n",
       "    </tr>\n",
       "    <tr>\n",
       "      <th>Hour</th>\n",
       "      <th></th>\n",
       "      <th></th>\n",
       "      <th></th>\n",
       "      <th></th>\n",
       "      <th></th>\n",
       "      <th></th>\n",
       "      <th></th>\n",
       "      <th></th>\n",
       "      <th></th>\n",
       "      <th></th>\n",
       "      <th></th>\n",
       "      <th></th>\n",
       "    </tr>\n",
       "  </thead>\n",
       "  <tbody>\n",
       "    <tr>\n",
       "      <th>1</th>\n",
       "      <td>61.967400</td>\n",
       "      <td>64.608163</td>\n",
       "      <td>17.896063</td>\n",
       "      <td>5.144135</td>\n",
       "      <td>31.924167</td>\n",
       "      <td>4.165364</td>\n",
       "      <td>2.024900</td>\n",
       "      <td>9.123345</td>\n",
       "      <td>4.156318</td>\n",
       "      <td>1026.716667</td>\n",
       "      <td>57.6</td>\n",
       "      <td>4.773469</td>\n",
       "    </tr>\n",
       "    <tr>\n",
       "      <th>2</th>\n",
       "      <td>56.758223</td>\n",
       "      <td>66.585294</td>\n",
       "      <td>14.824185</td>\n",
       "      <td>5.419156</td>\n",
       "      <td>31.774500</td>\n",
       "      <td>4.288750</td>\n",
       "      <td>2.096795</td>\n",
       "      <td>9.323562</td>\n",
       "      <td>4.267179</td>\n",
       "      <td>1026.787500</td>\n",
       "      <td>NaN</td>\n",
       "      <td>4.597059</td>\n",
       "    </tr>\n",
       "    <tr>\n",
       "      <th>3</th>\n",
       "      <td>58.115334</td>\n",
       "      <td>67.461765</td>\n",
       "      <td>30.029513</td>\n",
       "      <td>2.977916</td>\n",
       "      <td>32.361000</td>\n",
       "      <td>3.997679</td>\n",
       "      <td>1.950804</td>\n",
       "      <td>8.922509</td>\n",
       "      <td>4.056938</td>\n",
       "      <td>1026.837500</td>\n",
       "      <td>NaN</td>\n",
       "      <td>4.344118</td>\n",
       "    </tr>\n",
       "    <tr>\n",
       "      <th>4</th>\n",
       "      <td>46.773823</td>\n",
       "      <td>65.250000</td>\n",
       "      <td>15.916232</td>\n",
       "      <td>2.300215</td>\n",
       "      <td>33.000750</td>\n",
       "      <td>4.019286</td>\n",
       "      <td>1.968286</td>\n",
       "      <td>8.884143</td>\n",
       "      <td>4.088152</td>\n",
       "      <td>1026.875000</td>\n",
       "      <td>NaN</td>\n",
       "      <td>4.710294</td>\n",
       "    </tr>\n",
       "    <tr>\n",
       "      <th>5</th>\n",
       "      <td>60.183490</td>\n",
       "      <td>66.489552</td>\n",
       "      <td>16.874679</td>\n",
       "      <td>2.627687</td>\n",
       "      <td>31.424375</td>\n",
       "      <td>4.103571</td>\n",
       "      <td>2.112991</td>\n",
       "      <td>9.332893</td>\n",
       "      <td>4.168375</td>\n",
       "      <td>1026.812500</td>\n",
       "      <td>NaN</td>\n",
       "      <td>4.632836</td>\n",
       "    </tr>\n",
       "  </tbody>\n",
       "</table>\n",
       "</div>"
      ],
      "text/plain": [
       "Type         CO   Humidity         NO       NO2         O3      PM 4  \\\n",
       "Hour                                                                   \n",
       "1     61.967400  64.608163  17.896063  5.144135  31.924167  4.165364   \n",
       "2     56.758223  66.585294  14.824185  5.419156  31.774500  4.288750   \n",
       "3     58.115334  67.461765  30.029513  2.977916  32.361000  3.997679   \n",
       "4     46.773823  65.250000  15.916232  2.300215  33.000750  4.019286   \n",
       "5     60.183490  66.489552  16.874679  2.627687  31.424375  4.103571   \n",
       "\n",
       "Type       PM1      PM10     PM2.5     Pressure  Sound  Temperature  \n",
       "Hour                                                                 \n",
       "1     2.024900  9.123345  4.156318  1026.716667   57.6     4.773469  \n",
       "2     2.096795  9.323562  4.267179  1026.787500    NaN     4.597059  \n",
       "3     1.950804  8.922509  4.056938  1026.837500    NaN     4.344118  \n",
       "4     1.968286  8.884143  4.088152  1026.875000    NaN     4.710294  \n",
       "5     2.112991  9.332893  4.168375  1026.812500    NaN     4.632836  "
      ]
     },
     "execution_count": 35,
     "metadata": {},
     "output_type": "execute_result"
    },
    {
     "data": {
      "text/plain": [
       "<matplotlib.legend.Legend at 0x1eb240cbac8>"
      ]
     },
     "execution_count": 35,
     "metadata": {},
     "output_type": "execute_result"
    },
    {
     "data": {
      "image/png": "[encoded data removed]",
      "text/plain": [
       "<Figure size 1008x432 with 1 Axes>"
      ]
     },
     "metadata": {
      "needs_background": "light"
     },
     "output_type": "display_data"
    }
   ],
   "source": [
    "q.head()\n",
    "# q.plot()\n",
    "# plt.show()\n",
    "# fig, ax = plt.subplots(figsize=(12,5))\n",
    "# _=plt.plot(q,label=(\"CO\",\"Humidity\",\"NO\"));\n",
    "# ax.legend()\n",
    "# # ax.plot(q);\n",
    "# plt.show()\n",
    "\n",
    "\n",
    "fig, ax = plt.subplots(figsize=(14,6))\n",
    "o=df.loc[df[\"Date\"]==\"2020-05-12\"]\n",
    "_=o.groupby([\"Hour\",\"Type\"])[\"Value\"].mean().unstack().plot(ax=ax)\n",
    "_=ax.set_xticks([i for i in range(0,24)])\n",
    "ax.grid()\n",
    "ax.legend(loc=\"center left\",ncol=3, fancybox=True, shadow=True)\n",
    "# df.groupby([c1,c2])[c1].count().unstack().plot(ax=ax,kind=\"bar\",stacked=True)\n",
    "# ax.legend(loc=position,ncol=2, fancybox=True, shadow=True)"
   ]
  },
  {
   "cell_type": "code",
   "execution_count": 36,
   "metadata": {},
   "outputs": [],
   "source": [
    "def hourly_plot(date,type_data):\n",
    "    fig, ax = plt.subplots(figsize=(14,5))\n",
    "    o=df.loc[df[\"Date\"]==date]\n",
    "    q=o.groupby([\"Hour\",\"Type\"])[\"Value\"].mean().unstack()\n",
    "    for i in range(0,len(type_data)):\n",
    "        ax.plot(q[type_data[i]],label=type_data[i])\n",
    "    ax.legend(loc=\"upper left\",ncol=3, fancybox=True, shadow=True)\n",
    "    plt.xlabel(\"Hour\")\n",
    "    ax.grid()\n",
    "    plt.ylabel(\"Value\")\n",
    "    plt.title(\"Various types wrt hours of \"+date )\n",
    "    ax.set_xticks([i for i in range(0,24)])"
   ]
  },
  {
   "cell_type": "code",
   "execution_count": 37,
   "metadata": {},
   "outputs": [
    {
     "data": {
      "image/png": "[encoded data removed]",
      "text/plain": [
       "<Figure size 1008x360 with 1 Axes>"
      ]
     },
     "metadata": {
      "needs_background": "light"
     },
     "output_type": "display_data"
    }
   ],
   "source": [
    "cols=[\"CO\",\"Humidity\",\"NO\",\"NO2\",\"O3\",\"PM 4\",\"PM2.5\",\"PM10\",\"PM1\",\"Temperature\",\"Sound\"]\n",
    "# cols=df.Type.unique().tolist()\n",
    "hourly_plot(\"2020-05-12\",cols)\n",
    "plt.show()"
   ]
  },
  {
   "cell_type": "code",
   "execution_count": 38,
   "metadata": {},
   "outputs": [],
   "source": [
    "# df.drop(df[df[\"Date\"]==\"2020-05-31\"].index, inplace = True)\n",
    "# df.drop(df[df['Age'] < 25].index, inplace = True) "
   ]
  },
  {
   "cell_type": "code",
   "execution_count": 39,
   "metadata": {},
   "outputs": [
    {
     "data": {
      "text/plain": [
       "(377203, 9)"
      ]
     },
     "execution_count": 39,
     "metadata": {},
     "output_type": "execute_result"
    }
   ],
   "source": [
    "df.shape"
   ]
  },
  {
   "cell_type": "code",
   "execution_count": 42,
   "metadata": {},
   "outputs": [
    {
     "data": {
      "text/html": [
       "<div>\n",
       "<style scoped>\n",
       "    .dataframe tbody tr th:only-of-type {\n",
       "        vertical-align: middle;\n",
       "    }\n",
       "\n",
       "    .dataframe tbody tr th {\n",
       "        vertical-align: top;\n",
       "    }\n",
       "\n",
       "    .dataframe thead th {\n",
       "        text-align: right;\n",
       "    }\n",
       "</style>\n",
       "<table border=\"1\" class=\"dataframe\">\n",
       "  <thead>\n",
       "    <tr style=\"text-align: right;\">\n",
       "      <th></th>\n",
       "      <th>Sensor</th>\n",
       "      <th>Type</th>\n",
       "      <th>Units</th>\n",
       "      <th>time</th>\n",
       "      <th>Flag</th>\n",
       "      <th>Value</th>\n",
       "      <th>Date</th>\n",
       "      <th>Time</th>\n",
       "      <th>Hour</th>\n",
       "    </tr>\n",
       "  </thead>\n",
       "  <tbody>\n",
       "    <tr>\n",
       "      <th>21</th>\n",
       "      <td>PER_EMOTE_1309</td>\n",
       "      <td>Temperature</td>\n",
       "      <td>Celsius</td>\n",
       "      <td>2020-05-17 06:35:00</td>\n",
       "      <td>0.0</td>\n",
       "      <td>10.5</td>\n",
       "      <td>2020-05-17</td>\n",
       "      <td>06:35:00</td>\n",
       "      <td>6</td>\n",
       "    </tr>\n",
       "    <tr>\n",
       "      <th>24</th>\n",
       "      <td>PER_EMOTE_1309</td>\n",
       "      <td>Temperature</td>\n",
       "      <td>Celsius</td>\n",
       "      <td>2020-05-11 03:41:00</td>\n",
       "      <td>0.0</td>\n",
       "      <td>4.3</td>\n",
       "      <td>2020-05-11</td>\n",
       "      <td>03:41:00</td>\n",
       "      <td>3</td>\n",
       "    </tr>\n",
       "    <tr>\n",
       "      <th>34</th>\n",
       "      <td>PER_EMOTE_1309</td>\n",
       "      <td>Temperature</td>\n",
       "      <td>Celsius</td>\n",
       "      <td>2020-05-22 22:21:28</td>\n",
       "      <td>0.0</td>\n",
       "      <td>12.7</td>\n",
       "      <td>2020-05-22</td>\n",
       "      <td>22:21:28</td>\n",
       "      <td>22</td>\n",
       "    </tr>\n",
       "    <tr>\n",
       "      <th>41</th>\n",
       "      <td>PER_EMOTE_1309</td>\n",
       "      <td>Temperature</td>\n",
       "      <td>Celsius</td>\n",
       "      <td>2020-05-20 00:23:22</td>\n",
       "      <td>0.0</td>\n",
       "      <td>14.4</td>\n",
       "      <td>2020-05-20</td>\n",
       "      <td>00:23:22</td>\n",
       "      <td>0</td>\n",
       "    </tr>\n",
       "    <tr>\n",
       "      <th>52</th>\n",
       "      <td>PER_EMOTE_1309</td>\n",
       "      <td>Temperature</td>\n",
       "      <td>Celsius</td>\n",
       "      <td>2020-05-30 16:21:43</td>\n",
       "      <td>0.0</td>\n",
       "      <td>21.9</td>\n",
       "      <td>2020-05-30</td>\n",
       "      <td>16:21:43</td>\n",
       "      <td>16</td>\n",
       "    </tr>\n",
       "  </tbody>\n",
       "</table>\n",
       "</div>"
      ],
      "text/plain": [
       "            Sensor         Type    Units                time  Flag  Value  \\\n",
       "21  PER_EMOTE_1309  Temperature  Celsius 2020-05-17 06:35:00   0.0   10.5   \n",
       "24  PER_EMOTE_1309  Temperature  Celsius 2020-05-11 03:41:00   0.0    4.3   \n",
       "34  PER_EMOTE_1309  Temperature  Celsius 2020-05-22 22:21:28   0.0   12.7   \n",
       "41  PER_EMOTE_1309  Temperature  Celsius 2020-05-20 00:23:22   0.0   14.4   \n",
       "52  PER_EMOTE_1309  Temperature  Celsius 2020-05-30 16:21:43   0.0   21.9   \n",
       "\n",
       "         Date      Time  Hour  \n",
       "21 2020-05-17  06:35:00     6  \n",
       "24 2020-05-11  03:41:00     3  \n",
       "34 2020-05-22  22:21:28    22  \n",
       "41 2020-05-20  00:23:22     0  \n",
       "52 2020-05-30  16:21:43    16  "
      ]
     },
     "execution_count": 42,
     "metadata": {},
     "output_type": "execute_result"
    }
   ],
   "source": [
    "newdf=df.loc[df[\"Type\"]==\"Temperature\"]\n",
    "newdf.head()"
   ]
  },
  {
   "cell_type": "code",
   "execution_count": 47,
   "metadata": {},
   "outputs": [
    {
     "data": {
      "text/html": [
       "<div>\n",
       "<style scoped>\n",
       "    .dataframe tbody tr th:only-of-type {\n",
       "        vertical-align: middle;\n",
       "    }\n",
       "\n",
       "    .dataframe tbody tr th {\n",
       "        vertical-align: top;\n",
       "    }\n",
       "\n",
       "    .dataframe thead th {\n",
       "        text-align: right;\n",
       "    }\n",
       "</style>\n",
       "<table border=\"1\" class=\"dataframe\">\n",
       "  <thead>\n",
       "    <tr style=\"text-align: right;\">\n",
       "      <th></th>\n",
       "      <th>Time</th>\n",
       "      <th>Value</th>\n",
       "    </tr>\n",
       "  </thead>\n",
       "  <tbody>\n",
       "    <tr>\n",
       "      <th>21</th>\n",
       "      <td>06:35:00</td>\n",
       "      <td>10.5</td>\n",
       "    </tr>\n",
       "    <tr>\n",
       "      <th>24</th>\n",
       "      <td>03:41:00</td>\n",
       "      <td>4.3</td>\n",
       "    </tr>\n",
       "    <tr>\n",
       "      <th>34</th>\n",
       "      <td>22:21:28</td>\n",
       "      <td>12.7</td>\n",
       "    </tr>\n",
       "    <tr>\n",
       "      <th>41</th>\n",
       "      <td>00:23:22</td>\n",
       "      <td>14.4</td>\n",
       "    </tr>\n",
       "    <tr>\n",
       "      <th>52</th>\n",
       "      <td>16:21:43</td>\n",
       "      <td>21.9</td>\n",
       "    </tr>\n",
       "  </tbody>\n",
       "</table>\n",
       "</div>"
      ],
      "text/plain": [
       "        Time  Value\n",
       "21  06:35:00   10.5\n",
       "24  03:41:00    4.3\n",
       "34  22:21:28   12.7\n",
       "41  00:23:22   14.4\n",
       "52  16:21:43   21.9"
      ]
     },
     "execution_count": 47,
     "metadata": {},
     "output_type": "execute_result"
    }
   ],
   "source": [
    "newdf_1=newdf[[\"Time\",\"Value\"]]\n",
    "newdf_1.head()"
   ]
  },
  {
   "cell_type": "code",
   "execution_count": 48,
   "metadata": {},
   "outputs": [
    {
     "data": {
      "text/plain": [
       "<matplotlib.axes._subplots.AxesSubplot at 0x1eb257c19c8>"
      ]
     },
     "execution_count": 48,
     "metadata": {},
     "output_type": "execute_result"
    },
    {
     "data": {
      "image/png": "[encoded data removed]",
      "text/plain": [
       "<Figure size 792x288 with 1 Axes>"
      ]
     },
     "metadata": {},
     "output_type": "display_data"
    }
   ],
   "source": [
    "newdf_1[\"Value\"].plot(linewidth=0.5)"
   ]
  },
  {
   "cell_type": "code",
   "execution_count": 49,
   "metadata": {},
   "outputs": [
    {
     "data": {
      "text/plain": [
       "[<matplotlib.lines.Line2D at 0x1eb2580dbc8>,\n",
       " <matplotlib.lines.Line2D at 0x1eb2582e808>]"
      ]
     },
     "execution_count": 49,
     "metadata": {},
     "output_type": "execute_result"
    },
    {
     "data": {
      "image/png": "[encoded data removed]",
      "text/plain": [
       "<Figure size 792x288 with 1 Axes>"
      ]
     },
     "metadata": {},
     "output_type": "display_data"
    }
   ],
   "source": [
    "plt.plot(newdf_1)"
   ]
  },
  {
   "cell_type": "code",
   "execution_count": null,
   "metadata": {},
   "outputs": [],
   "source": []
  }
 ],
 "metadata": {
  "kernelspec": {
   "display_name": "Python 3",
   "language": "python",
   "name": "python3"
  },
  "language_info": {
   "codemirror_mode": {
    "name": "ipython",
    "version": 3
   },
   "file_extension": ".py",
   "mimetype": "text/x-python",
   "name": "python",
   "nbconvert_exporter": "python",
   "pygments_lexer": "ipython3",
   "version": "3.7.5"
  }
 },
 "nbformat": 4,
 "nbformat_minor": 2
}
