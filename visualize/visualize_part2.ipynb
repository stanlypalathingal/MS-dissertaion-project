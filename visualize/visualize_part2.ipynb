{
 "cells": [
  {
   "cell_type": "code",
   "execution_count": 1,
   "metadata": {},
   "outputs": [
    {
     "data": {
      "application/javascript": [
       "IPython.notebook.set_autosave_interval(20000)"
      ]
     },
     "metadata": {},
     "output_type": "display_data"
    },
    {
     "name": "stdout",
     "output_type": "stream",
     "text": [
      "Autosaving every 20 seconds\n"
     ]
    }
   ],
   "source": [
    "%autosave 20\n",
    "%matplotlib inline\n",
    "import pandas as pd\n",
    "import matplotlib.pyplot as plt"
   ]
  },
  {
   "cell_type": "code",
   "execution_count": 2,
   "metadata": {},
   "outputs": [
    {
     "name": "stdout",
     "output_type": "stream",
     "text": [
      "sample before  (535529, 6)\n"
     ]
    }
   ],
   "source": [
    "df=pd.read_csv(\"C:/Users/HP/OneDrive - Newcastle University/Dissertation/Data_sets/Sample dataset values1.csv\")\n",
    "df=df.dropna()\n",
    "print(\"sample before \",df.shape)"
   ]
  },
  {
   "cell_type": "code",
   "execution_count": 3,
   "metadata": {},
   "outputs": [
    {
     "data": {
      "text/plain": [
       "0    2020-06-04 08:25:00\n",
       "1    2020-05-29 00:40:40\n",
       "2       13/05/2020 04:30\n",
       "Name: time, dtype: object"
      ]
     },
     "execution_count": 3,
     "metadata": {},
     "output_type": "execute_result"
    }
   ],
   "source": [
    "df.time.head(3)"
   ]
  },
  {
   "cell_type": "code",
   "execution_count": 4,
   "metadata": {},
   "outputs": [],
   "source": [
    "df[\"time\"]=pd.to_datetime(df[\"time\"],infer_datetime_format=True,dayfirst=True)\n",
    "df.to_csv(\"C:/Users/HP/OneDrive - Newcastle University/Dissertation/Data_sets/Data_with_proper_date.csv\",mode='w',index=False)"
   ]
  },
  {
   "cell_type": "code",
   "execution_count": 5,
   "metadata": {},
   "outputs": [],
   "source": [
    "# df[\"Date_new\"]=pd.to_datetime(df[\"time\"],infer_datetime_format=True,dayfirst=True)\n",
    "df=pd.read_csv(\"C:/Users/HP/OneDrive - Newcastle University/Dissertation/Data_sets/Data_with_proper_date.csv\")\n",
    "df[\"time\"]=pd.to_datetime(df[\"time\"],infer_datetime_format=True,dayfirst=True)\n"
   ]
  },
  {
   "cell_type": "code",
   "execution_count": 6,
   "metadata": {},
   "outputs": [],
   "source": [
    "df[\"Date\"]=[d.date() for d in df[\"time\"]]\n",
    "df[\"Date\"]=pd.to_datetime(df[\"Date\"],format=\"%Y/%m/%d\")\n",
    "df[\"Time\"]=[d.time() for d in df[\"time\"]]"
   ]
  },
  {
   "cell_type": "code",
   "execution_count": 7,
   "metadata": {},
   "outputs": [],
   "source": [
    "df['Hour']=df['time'].dt.hour"
   ]
  },
  {
   "cell_type": "code",
   "execution_count": 8,
   "metadata": {},
   "outputs": [
    {
     "data": {
      "text/html": [
       "<div>\n",
       "<style scoped>\n",
       "    .dataframe tbody tr th:only-of-type {\n",
       "        vertical-align: middle;\n",
       "    }\n",
       "\n",
       "    .dataframe tbody tr th {\n",
       "        vertical-align: top;\n",
       "    }\n",
       "\n",
       "    .dataframe thead th {\n",
       "        text-align: right;\n",
       "    }\n",
       "</style>\n",
       "<table border=\"1\" class=\"dataframe\">\n",
       "  <thead>\n",
       "    <tr style=\"text-align: right;\">\n",
       "      <th></th>\n",
       "      <th>Sensor</th>\n",
       "      <th>Type</th>\n",
       "      <th>Units</th>\n",
       "      <th>time</th>\n",
       "      <th>Flag</th>\n",
       "      <th>Value</th>\n",
       "      <th>Date</th>\n",
       "      <th>Time</th>\n",
       "      <th>Hour</th>\n",
       "    </tr>\n",
       "  </thead>\n",
       "  <tbody>\n",
       "    <tr>\n",
       "      <th>0</th>\n",
       "      <td>PER_AIRMON_MESH1911150</td>\n",
       "      <td>PM1</td>\n",
       "      <td>ugm -3</td>\n",
       "      <td>2020-06-04 08:25:00</td>\n",
       "      <td>0.0</td>\n",
       "      <td>1.7250</td>\n",
       "      <td>2020-06-04</td>\n",
       "      <td>08:25:00</td>\n",
       "      <td>8</td>\n",
       "    </tr>\n",
       "    <tr>\n",
       "      <th>1</th>\n",
       "      <td>PER_EMOTE_1309</td>\n",
       "      <td>Temperature</td>\n",
       "      <td>Celsius</td>\n",
       "      <td>2020-05-29 00:40:40</td>\n",
       "      <td>0.0</td>\n",
       "      <td>16.5000</td>\n",
       "      <td>2020-05-29</td>\n",
       "      <td>00:40:40</td>\n",
       "      <td>0</td>\n",
       "    </tr>\n",
       "    <tr>\n",
       "      <th>2</th>\n",
       "      <td>PER_AIRMON_MESH1911150</td>\n",
       "      <td>NO2</td>\n",
       "      <td>ugm -3</td>\n",
       "      <td>2020-05-13 04:30:00</td>\n",
       "      <td>0.0</td>\n",
       "      <td>18.1232</td>\n",
       "      <td>2020-05-13</td>\n",
       "      <td>04:30:00</td>\n",
       "      <td>4</td>\n",
       "    </tr>\n",
       "    <tr>\n",
       "      <th>3</th>\n",
       "      <td>PER_EMOTE_1309</td>\n",
       "      <td>Humidity</td>\n",
       "      <td>%</td>\n",
       "      <td>2020-05-13 03:41:00</td>\n",
       "      <td>0.0</td>\n",
       "      <td>68.2000</td>\n",
       "      <td>2020-05-13</td>\n",
       "      <td>03:41:00</td>\n",
       "      <td>3</td>\n",
       "    </tr>\n",
       "    <tr>\n",
       "      <th>4</th>\n",
       "      <td>PER_EMOTE_1309</td>\n",
       "      <td>Sound</td>\n",
       "      <td>db</td>\n",
       "      <td>2020-05-15 17:16:00</td>\n",
       "      <td>0.0</td>\n",
       "      <td>71.0000</td>\n",
       "      <td>2020-05-15</td>\n",
       "      <td>17:16:00</td>\n",
       "      <td>17</td>\n",
       "    </tr>\n",
       "  </tbody>\n",
       "</table>\n",
       "</div>"
      ],
      "text/plain": [
       "                   Sensor         Type    Units                time  Flag  \\\n",
       "0  PER_AIRMON_MESH1911150          PM1   ugm -3 2020-06-04 08:25:00   0.0   \n",
       "1          PER_EMOTE_1309  Temperature  Celsius 2020-05-29 00:40:40   0.0   \n",
       "2  PER_AIRMON_MESH1911150          NO2   ugm -3 2020-05-13 04:30:00   0.0   \n",
       "3          PER_EMOTE_1309     Humidity        % 2020-05-13 03:41:00   0.0   \n",
       "4          PER_EMOTE_1309        Sound       db 2020-05-15 17:16:00   0.0   \n",
       "\n",
       "     Value       Date      Time  Hour  \n",
       "0   1.7250 2020-06-04  08:25:00     8  \n",
       "1  16.5000 2020-05-29  00:40:40     0  \n",
       "2  18.1232 2020-05-13  04:30:00     4  \n",
       "3  68.2000 2020-05-13  03:41:00     3  \n",
       "4  71.0000 2020-05-15  17:16:00    17  "
      ]
     },
     "execution_count": 8,
     "metadata": {},
     "output_type": "execute_result"
    }
   ],
   "source": [
    "df.head()"
   ]
  },
  {
   "cell_type": "code",
   "execution_count": 9,
   "metadata": {},
   "outputs": [
    {
     "data": {
      "text/html": [
       "<div>\n",
       "<style scoped>\n",
       "    .dataframe tbody tr th:only-of-type {\n",
       "        vertical-align: middle;\n",
       "    }\n",
       "\n",
       "    .dataframe tbody tr th {\n",
       "        vertical-align: top;\n",
       "    }\n",
       "\n",
       "    .dataframe thead th {\n",
       "        text-align: right;\n",
       "    }\n",
       "</style>\n",
       "<table border=\"1\" class=\"dataframe\">\n",
       "  <thead>\n",
       "    <tr style=\"text-align: right;\">\n",
       "      <th></th>\n",
       "      <th>Sensor</th>\n",
       "      <th>Type</th>\n",
       "      <th>Units</th>\n",
       "      <th>time</th>\n",
       "      <th>Flag</th>\n",
       "      <th>Value</th>\n",
       "      <th>Date</th>\n",
       "      <th>Time</th>\n",
       "      <th>Hour</th>\n",
       "    </tr>\n",
       "  </thead>\n",
       "  <tbody>\n",
       "    <tr>\n",
       "      <th>5</th>\n",
       "      <td>PER_AIRMON_MESH301245</td>\n",
       "      <td>PM1</td>\n",
       "      <td>ugm -3</td>\n",
       "      <td>2020-05-14 02:47:00</td>\n",
       "      <td>0.0</td>\n",
       "      <td>3.560000</td>\n",
       "      <td>2020-05-14</td>\n",
       "      <td>02:47:00</td>\n",
       "      <td>2</td>\n",
       "    </tr>\n",
       "    <tr>\n",
       "      <th>76</th>\n",
       "      <td>PER_AIRMON_MESH1911150</td>\n",
       "      <td>PM1</td>\n",
       "      <td>ugm -3</td>\n",
       "      <td>2020-05-14 22:32:00</td>\n",
       "      <td>0.0</td>\n",
       "      <td>2.598000</td>\n",
       "      <td>2020-05-14</td>\n",
       "      <td>22:32:00</td>\n",
       "      <td>22</td>\n",
       "    </tr>\n",
       "    <tr>\n",
       "      <th>78</th>\n",
       "      <td>PER_AIRMON_MESH301245</td>\n",
       "      <td>PM10</td>\n",
       "      <td>ugm -3</td>\n",
       "      <td>2020-05-14 12:20:00</td>\n",
       "      <td>0.0</td>\n",
       "      <td>6.900000</td>\n",
       "      <td>2020-05-14</td>\n",
       "      <td>12:20:00</td>\n",
       "      <td>12</td>\n",
       "    </tr>\n",
       "    <tr>\n",
       "      <th>104</th>\n",
       "      <td>PER_EMOTE_1309</td>\n",
       "      <td>NO2</td>\n",
       "      <td>ugm -3</td>\n",
       "      <td>2020-05-14 05:41:00</td>\n",
       "      <td>0.0</td>\n",
       "      <td>19.266184</td>\n",
       "      <td>2020-05-14</td>\n",
       "      <td>05:41:00</td>\n",
       "      <td>5</td>\n",
       "    </tr>\n",
       "    <tr>\n",
       "      <th>110</th>\n",
       "      <td>PER_AIRMON_MESH301245</td>\n",
       "      <td>PM2.5</td>\n",
       "      <td>ugm -3</td>\n",
       "      <td>2020-05-14 16:38:00</td>\n",
       "      <td>0.0</td>\n",
       "      <td>1.410000</td>\n",
       "      <td>2020-05-14</td>\n",
       "      <td>16:38:00</td>\n",
       "      <td>16</td>\n",
       "    </tr>\n",
       "  </tbody>\n",
       "</table>\n",
       "</div>"
      ],
      "text/plain": [
       "                     Sensor   Type   Units                time  Flag  \\\n",
       "5     PER_AIRMON_MESH301245    PM1  ugm -3 2020-05-14 02:47:00   0.0   \n",
       "76   PER_AIRMON_MESH1911150    PM1  ugm -3 2020-05-14 22:32:00   0.0   \n",
       "78    PER_AIRMON_MESH301245   PM10  ugm -3 2020-05-14 12:20:00   0.0   \n",
       "104          PER_EMOTE_1309    NO2  ugm -3 2020-05-14 05:41:00   0.0   \n",
       "110   PER_AIRMON_MESH301245  PM2.5  ugm -3 2020-05-14 16:38:00   0.0   \n",
       "\n",
       "         Value       Date      Time  Hour  \n",
       "5     3.560000 2020-05-14  02:47:00     2  \n",
       "76    2.598000 2020-05-14  22:32:00    22  \n",
       "78    6.900000 2020-05-14  12:20:00    12  \n",
       "104  19.266184 2020-05-14  05:41:00     5  \n",
       "110   1.410000 2020-05-14  16:38:00    16  "
      ]
     },
     "execution_count": 9,
     "metadata": {},
     "output_type": "execute_result"
    }
   ],
   "source": [
    "df12 = df[(df['Date'] > '2020-05-13') & (df['Date'] <= '2020-05-14')]\n",
    "df12.head()"
   ]
  },
  {
   "cell_type": "code",
   "execution_count": 10,
   "metadata": {},
   "outputs": [
    {
     "data": {
      "text/html": [
       "<div>\n",
       "<style scoped>\n",
       "    .dataframe tbody tr th:only-of-type {\n",
       "        vertical-align: middle;\n",
       "    }\n",
       "\n",
       "    .dataframe tbody tr th {\n",
       "        vertical-align: top;\n",
       "    }\n",
       "\n",
       "    .dataframe thead th {\n",
       "        text-align: right;\n",
       "    }\n",
       "</style>\n",
       "<table border=\"1\" class=\"dataframe\">\n",
       "  <thead>\n",
       "    <tr style=\"text-align: right;\">\n",
       "      <th></th>\n",
       "      <th>Sensor</th>\n",
       "      <th>Type</th>\n",
       "      <th>Units</th>\n",
       "      <th>time</th>\n",
       "      <th>Flag</th>\n",
       "      <th>Value</th>\n",
       "      <th>Date</th>\n",
       "      <th>Time</th>\n",
       "      <th>Hour</th>\n",
       "    </tr>\n",
       "  </thead>\n",
       "  <tbody>\n",
       "    <tr>\n",
       "      <th>995</th>\n",
       "      <td>PER_EMOTE_1309</td>\n",
       "      <td>NO2</td>\n",
       "      <td>ugm -3</td>\n",
       "      <td>2020-06-04 05:13:52</td>\n",
       "      <td>1.0</td>\n",
       "      <td>1.000000e-10</td>\n",
       "      <td>2020-06-04</td>\n",
       "      <td>05:13:52</td>\n",
       "      <td>5</td>\n",
       "    </tr>\n",
       "    <tr>\n",
       "      <th>1057</th>\n",
       "      <td>PER_AIRMON_MESH1911150</td>\n",
       "      <td>NO</td>\n",
       "      <td>ugm -3</td>\n",
       "      <td>2020-05-16 21:00:00</td>\n",
       "      <td>1.0</td>\n",
       "      <td>-1.062375e+01</td>\n",
       "      <td>2020-05-16</td>\n",
       "      <td>21:00:00</td>\n",
       "      <td>21</td>\n",
       "    </tr>\n",
       "    <tr>\n",
       "      <th>1136</th>\n",
       "      <td>PER_AIRMON_MESH1911150</td>\n",
       "      <td>NO</td>\n",
       "      <td>ugm -3</td>\n",
       "      <td>2020-06-03 06:30:00</td>\n",
       "      <td>1.0</td>\n",
       "      <td>-2.402500e+00</td>\n",
       "      <td>2020-06-03</td>\n",
       "      <td>06:30:00</td>\n",
       "      <td>6</td>\n",
       "    </tr>\n",
       "    <tr>\n",
       "      <th>1138</th>\n",
       "      <td>PER_AIRMON_MESH1911150</td>\n",
       "      <td>NO</td>\n",
       "      <td>ugm -3</td>\n",
       "      <td>2020-05-21 04:30:00</td>\n",
       "      <td>1.0</td>\n",
       "      <td>-1.073250e+01</td>\n",
       "      <td>2020-05-21</td>\n",
       "      <td>04:30:00</td>\n",
       "      <td>4</td>\n",
       "    </tr>\n",
       "    <tr>\n",
       "      <th>1150</th>\n",
       "      <td>PER_AIRMON_MESH1911150</td>\n",
       "      <td>NO</td>\n",
       "      <td>ugm -3</td>\n",
       "      <td>2020-06-02 17:45:00</td>\n",
       "      <td>1.0</td>\n",
       "      <td>-1.194625e+01</td>\n",
       "      <td>2020-06-02</td>\n",
       "      <td>17:45:00</td>\n",
       "      <td>17</td>\n",
       "    </tr>\n",
       "  </tbody>\n",
       "</table>\n",
       "</div>"
      ],
      "text/plain": [
       "                      Sensor Type   Units                time  Flag  \\\n",
       "995           PER_EMOTE_1309  NO2  ugm -3 2020-06-04 05:13:52   1.0   \n",
       "1057  PER_AIRMON_MESH1911150   NO  ugm -3 2020-05-16 21:00:00   1.0   \n",
       "1136  PER_AIRMON_MESH1911150   NO  ugm -3 2020-06-03 06:30:00   1.0   \n",
       "1138  PER_AIRMON_MESH1911150   NO  ugm -3 2020-05-21 04:30:00   1.0   \n",
       "1150  PER_AIRMON_MESH1911150   NO  ugm -3 2020-06-02 17:45:00   1.0   \n",
       "\n",
       "             Value       Date      Time  Hour  \n",
       "995   1.000000e-10 2020-06-04  05:13:52     5  \n",
       "1057 -1.062375e+01 2020-05-16  21:00:00    21  \n",
       "1136 -2.402500e+00 2020-06-03  06:30:00     6  \n",
       "1138 -1.073250e+01 2020-05-21  04:30:00     4  \n",
       "1150 -1.194625e+01 2020-06-02  17:45:00    17  "
      ]
     },
     "execution_count": 10,
     "metadata": {},
     "output_type": "execute_result"
    }
   ],
   "source": [
    "df_false=df[df[\"Flag\"]==1]\n",
    "df_false.head()"
   ]
  },
  {
   "cell_type": "code",
   "execution_count": 11,
   "metadata": {},
   "outputs": [
    {
     "data": {
      "text/plain": [
       "array(['PER_EMOTE_1309', 'PER_AIRMON_MESH1911150',\n",
       "       'PER_AIRMON_MESH301245'], dtype=object)"
      ]
     },
     "execution_count": 11,
     "metadata": {},
     "output_type": "execute_result"
    }
   ],
   "source": [
    "df_false.Sensor.unique()"
   ]
  },
  {
   "cell_type": "code",
   "execution_count": 12,
   "metadata": {},
   "outputs": [
    {
     "data": {
      "text/plain": [
       "array(['NO2', 'NO'], dtype=object)"
      ]
     },
     "execution_count": 12,
     "metadata": {},
     "output_type": "execute_result"
    }
   ],
   "source": [
    "df_false.Type.unique()"
   ]
  },
  {
   "cell_type": "code",
   "execution_count": 13,
   "metadata": {},
   "outputs": [
    {
     "data": {
      "text/plain": [
       "2564"
      ]
     },
     "execution_count": 13,
     "metadata": {},
     "output_type": "execute_result"
    },
    {
     "data": {
      "text/plain": [
       "378"
      ]
     },
     "execution_count": 13,
     "metadata": {},
     "output_type": "execute_result"
    }
   ],
   "source": [
    "len(df_false[df_false[\"Type\"]==\"NO\"])\n",
    "len(df_false[df_false[\"Type\"]==\"NO2\"])"
   ]
  },
  {
   "cell_type": "code",
   "execution_count": 14,
   "metadata": {},
   "outputs": [
    {
     "data": {
      "text/html": [
       "<div>\n",
       "<style scoped>\n",
       "    .dataframe tbody tr th:only-of-type {\n",
       "        vertical-align: middle;\n",
       "    }\n",
       "\n",
       "    .dataframe tbody tr th {\n",
       "        vertical-align: top;\n",
       "    }\n",
       "\n",
       "    .dataframe thead th {\n",
       "        text-align: right;\n",
       "    }\n",
       "</style>\n",
       "<table border=\"1\" class=\"dataframe\">\n",
       "  <thead>\n",
       "    <tr style=\"text-align: right;\">\n",
       "      <th></th>\n",
       "      <th>Sensor</th>\n",
       "      <th>Type</th>\n",
       "      <th>Units</th>\n",
       "      <th>time</th>\n",
       "      <th>Flag</th>\n",
       "      <th>Value</th>\n",
       "      <th>Date</th>\n",
       "      <th>Time</th>\n",
       "      <th>Hour</th>\n",
       "    </tr>\n",
       "  </thead>\n",
       "  <tbody>\n",
       "    <tr>\n",
       "      <th>0</th>\n",
       "      <td>PER_AIRMON_MESH1911150</td>\n",
       "      <td>PM1</td>\n",
       "      <td>ugm -3</td>\n",
       "      <td>2020-06-04 08:25:00</td>\n",
       "      <td>0.0</td>\n",
       "      <td>1.7250</td>\n",
       "      <td>2020-06-04</td>\n",
       "      <td>08:25:00</td>\n",
       "      <td>8</td>\n",
       "    </tr>\n",
       "    <tr>\n",
       "      <th>1</th>\n",
       "      <td>PER_EMOTE_1309</td>\n",
       "      <td>Temperature</td>\n",
       "      <td>Celsius</td>\n",
       "      <td>2020-05-29 00:40:40</td>\n",
       "      <td>0.0</td>\n",
       "      <td>16.5000</td>\n",
       "      <td>2020-05-29</td>\n",
       "      <td>00:40:40</td>\n",
       "      <td>0</td>\n",
       "    </tr>\n",
       "    <tr>\n",
       "      <th>2</th>\n",
       "      <td>PER_AIRMON_MESH1911150</td>\n",
       "      <td>NO2</td>\n",
       "      <td>ugm -3</td>\n",
       "      <td>2020-05-13 04:30:00</td>\n",
       "      <td>0.0</td>\n",
       "      <td>18.1232</td>\n",
       "      <td>2020-05-13</td>\n",
       "      <td>04:30:00</td>\n",
       "      <td>4</td>\n",
       "    </tr>\n",
       "    <tr>\n",
       "      <th>3</th>\n",
       "      <td>PER_EMOTE_1309</td>\n",
       "      <td>Humidity</td>\n",
       "      <td>%</td>\n",
       "      <td>2020-05-13 03:41:00</td>\n",
       "      <td>0.0</td>\n",
       "      <td>68.2000</td>\n",
       "      <td>2020-05-13</td>\n",
       "      <td>03:41:00</td>\n",
       "      <td>3</td>\n",
       "    </tr>\n",
       "    <tr>\n",
       "      <th>4</th>\n",
       "      <td>PER_EMOTE_1309</td>\n",
       "      <td>Sound</td>\n",
       "      <td>db</td>\n",
       "      <td>2020-05-15 17:16:00</td>\n",
       "      <td>0.0</td>\n",
       "      <td>71.0000</td>\n",
       "      <td>2020-05-15</td>\n",
       "      <td>17:16:00</td>\n",
       "      <td>17</td>\n",
       "    </tr>\n",
       "  </tbody>\n",
       "</table>\n",
       "</div>"
      ],
      "text/plain": [
       "                   Sensor         Type    Units                time  Flag  \\\n",
       "0  PER_AIRMON_MESH1911150          PM1   ugm -3 2020-06-04 08:25:00   0.0   \n",
       "1          PER_EMOTE_1309  Temperature  Celsius 2020-05-29 00:40:40   0.0   \n",
       "2  PER_AIRMON_MESH1911150          NO2   ugm -3 2020-05-13 04:30:00   0.0   \n",
       "3          PER_EMOTE_1309     Humidity        % 2020-05-13 03:41:00   0.0   \n",
       "4          PER_EMOTE_1309        Sound       db 2020-05-15 17:16:00   0.0   \n",
       "\n",
       "     Value       Date      Time  Hour  \n",
       "0   1.7250 2020-06-04  08:25:00     8  \n",
       "1  16.5000 2020-05-29  00:40:40     0  \n",
       "2  18.1232 2020-05-13  04:30:00     4  \n",
       "3  68.2000 2020-05-13  03:41:00     3  \n",
       "4  71.0000 2020-05-15  17:16:00    17  "
      ]
     },
     "execution_count": 14,
     "metadata": {},
     "output_type": "execute_result"
    }
   ],
   "source": [
    "df.head()"
   ]
  },
  {
   "cell_type": "code",
   "execution_count": 15,
   "metadata": {},
   "outputs": [],
   "source": [
    "# fig, ax = plt.subplots(figsize=(15, 8))\n",
    "# plt.rcParams['agg.path.chunksize'] = 10000\n",
    "# # Add x-axis and y-axis\n",
    "# ax.plot(df['Type'],df['Value'])\n",
    "# ax.legend(df['Type'])"
   ]
  },
  {
   "cell_type": "code",
   "execution_count": 16,
   "metadata": {},
   "outputs": [
    {
     "data": {
      "text/html": [
       "<div>\n",
       "<style scoped>\n",
       "    .dataframe tbody tr th:only-of-type {\n",
       "        vertical-align: middle;\n",
       "    }\n",
       "\n",
       "    .dataframe tbody tr th {\n",
       "        vertical-align: top;\n",
       "    }\n",
       "\n",
       "    .dataframe thead th {\n",
       "        text-align: right;\n",
       "    }\n",
       "</style>\n",
       "<table border=\"1\" class=\"dataframe\">\n",
       "  <thead>\n",
       "    <tr style=\"text-align: right;\">\n",
       "      <th></th>\n",
       "      <th>Sensor</th>\n",
       "      <th>Type</th>\n",
       "      <th>Units</th>\n",
       "      <th>time</th>\n",
       "      <th>Flag</th>\n",
       "      <th>Value</th>\n",
       "      <th>Date</th>\n",
       "      <th>Time</th>\n",
       "      <th>Hour</th>\n",
       "    </tr>\n",
       "  </thead>\n",
       "  <tbody>\n",
       "    <tr>\n",
       "      <th>51</th>\n",
       "      <td>PER_EMOTE_1309</td>\n",
       "      <td>CO</td>\n",
       "      <td>ugm -3</td>\n",
       "      <td>2020-06-06 11:02:56</td>\n",
       "      <td>0.0</td>\n",
       "      <td>270.577054</td>\n",
       "      <td>2020-06-06</td>\n",
       "      <td>11:02:56</td>\n",
       "      <td>11</td>\n",
       "    </tr>\n",
       "    <tr>\n",
       "      <th>89</th>\n",
       "      <td>PER_EMOTE_1309</td>\n",
       "      <td>CO</td>\n",
       "      <td>ugm -3</td>\n",
       "      <td>2020-05-21 06:41:25</td>\n",
       "      <td>0.0</td>\n",
       "      <td>322.458252</td>\n",
       "      <td>2020-05-21</td>\n",
       "      <td>06:41:25</td>\n",
       "      <td>6</td>\n",
       "    </tr>\n",
       "    <tr>\n",
       "      <th>105</th>\n",
       "      <td>PER_EMOTE_1309</td>\n",
       "      <td>CO</td>\n",
       "      <td>ugm -3</td>\n",
       "      <td>2020-05-17 14:24:17</td>\n",
       "      <td>0.0</td>\n",
       "      <td>314.089315</td>\n",
       "      <td>2020-05-17</td>\n",
       "      <td>14:24:17</td>\n",
       "      <td>14</td>\n",
       "    </tr>\n",
       "    <tr>\n",
       "      <th>134</th>\n",
       "      <td>PER_EMOTE_1309</td>\n",
       "      <td>CO</td>\n",
       "      <td>ugm -3</td>\n",
       "      <td>2020-05-15 20:38:00</td>\n",
       "      <td>0.0</td>\n",
       "      <td>283.346188</td>\n",
       "      <td>2020-05-15</td>\n",
       "      <td>20:38:00</td>\n",
       "      <td>20</td>\n",
       "    </tr>\n",
       "    <tr>\n",
       "      <th>148</th>\n",
       "      <td>PER_EMOTE_1309</td>\n",
       "      <td>CO</td>\n",
       "      <td>ugm -3</td>\n",
       "      <td>2020-05-17 15:30:17</td>\n",
       "      <td>0.0</td>\n",
       "      <td>333.613730</td>\n",
       "      <td>2020-05-17</td>\n",
       "      <td>15:30:17</td>\n",
       "      <td>15</td>\n",
       "    </tr>\n",
       "  </tbody>\n",
       "</table>\n",
       "</div>"
      ],
      "text/plain": [
       "             Sensor Type   Units                time  Flag       Value  \\\n",
       "51   PER_EMOTE_1309   CO  ugm -3 2020-06-06 11:02:56   0.0  270.577054   \n",
       "89   PER_EMOTE_1309   CO  ugm -3 2020-05-21 06:41:25   0.0  322.458252   \n",
       "105  PER_EMOTE_1309   CO  ugm -3 2020-05-17 14:24:17   0.0  314.089315   \n",
       "134  PER_EMOTE_1309   CO  ugm -3 2020-05-15 20:38:00   0.0  283.346188   \n",
       "148  PER_EMOTE_1309   CO  ugm -3 2020-05-17 15:30:17   0.0  333.613730   \n",
       "\n",
       "          Date      Time  Hour  \n",
       "51  2020-06-06  11:02:56    11  \n",
       "89  2020-05-21  06:41:25     6  \n",
       "105 2020-05-17  14:24:17    14  \n",
       "134 2020-05-15  20:38:00    20  \n",
       "148 2020-05-17  15:30:17    15  "
      ]
     },
     "execution_count": 16,
     "metadata": {},
     "output_type": "execute_result"
    }
   ],
   "source": [
    "newdf=df.loc[df[\"Type\"]==\"CO\"]\n",
    "newdf.head()"
   ]
  },
  {
   "cell_type": "code",
   "execution_count": 17,
   "metadata": {},
   "outputs": [
    {
     "data": {
      "text/plain": [
       "[<matplotlib.lines.Line2D at 0x2521e6c6bc8>]"
      ]
     },
     "execution_count": 17,
     "metadata": {},
     "output_type": "execute_result"
    },
    {
     "data": {
      "text/plain": [
       "[Text(0, 0.5, 'count'),\n",
       " Text(0.5, 0, 'Date'),\n",
       " Text(0.5, 1.0, 'Daily count of data')]"
      ]
     },
     "execution_count": 17,
     "metadata": {},
     "output_type": "execute_result"
    },
    {
     "name": "stderr",
     "output_type": "stream",
     "text": [
      "No handles with labels found to put in legend.\n"
     ]
    },
    {
     "data": {
      "text/plain": [
       "<matplotlib.legend.Legend at 0x2521baebd08>"
      ]
     },
     "execution_count": 17,
     "metadata": {},
     "output_type": "execute_result"
    },
    {
     "data": {
      "image/png": "[encoded data removed]",
      "text/plain": [
       "<Figure size 1080x360 with 1 Axes>"
      ]
     },
     "metadata": {
      "needs_background": "light"
     },
     "output_type": "display_data"
    }
   ],
   "source": [
    "df_Date_count= df.groupby(\"Date\")[\"Date\"].count()\n",
    "fig,ax= plt.subplots(figsize=(15,5))\n",
    "pd.plotting.register_matplotlib_converters()\n",
    "# plt.rcParams['agg.path.chunksize'] = 1000\n",
    "# df_Date_count.plot()\n",
    "plt.plot(df_Date_count,marker='o')\n",
    "# ax.annotate()\n",
    "# plt.text()\n",
    "ax.set(title=\"Daily count of data\",  xlabel=\"Date\", ylabel=\"count\")\n",
    "plt.legend()\n",
    "plt.grid()\n",
    "plt.show()\n",
    "# ax.legend(newdf['Type'])"
   ]
  },
  {
   "cell_type": "code",
   "execution_count": 18,
   "metadata": {},
   "outputs": [
    {
     "data": {
      "text/plain": [
       "Date\n",
       "2020-05-11    16397\n",
       "2020-05-12    17383\n",
       "2020-05-13    19867\n",
       "2020-05-14    19995\n",
       "2020-05-15    19895\n",
       "2020-05-16    20040\n",
       "2020-05-17    33408\n",
       "2020-05-18    19281\n",
       "2020-05-19    19910\n",
       "2020-05-20     7598\n",
       "Name: Date, dtype: int64"
      ]
     },
     "execution_count": 18,
     "metadata": {},
     "output_type": "execute_result"
    }
   ],
   "source": [
    "df_Date_count.head(10)"
   ]
  },
  {
   "cell_type": "code",
   "execution_count": 19,
   "metadata": {
    "scrolled": true
   },
   "outputs": [
    {
     "data": {
      "text/html": [
       "<div>\n",
       "<style scoped>\n",
       "    .dataframe tbody tr th:only-of-type {\n",
       "        vertical-align: middle;\n",
       "    }\n",
       "\n",
       "    .dataframe tbody tr th {\n",
       "        vertical-align: top;\n",
       "    }\n",
       "\n",
       "    .dataframe thead th {\n",
       "        text-align: right;\n",
       "    }\n",
       "</style>\n",
       "<table border=\"1\" class=\"dataframe\">\n",
       "  <thead>\n",
       "    <tr style=\"text-align: right;\">\n",
       "      <th></th>\n",
       "      <th>Date</th>\n",
       "      <th>Sensor</th>\n",
       "      <th>count</th>\n",
       "    </tr>\n",
       "  </thead>\n",
       "  <tbody>\n",
       "    <tr>\n",
       "      <th>0</th>\n",
       "      <td>2020-05-11</td>\n",
       "      <td>PER_AIRMON_MESH1911150</td>\n",
       "      <td>5785</td>\n",
       "    </tr>\n",
       "    <tr>\n",
       "      <th>1</th>\n",
       "      <td>2020-05-11</td>\n",
       "      <td>PER_AIRMON_MESH301245</td>\n",
       "      <td>5218</td>\n",
       "    </tr>\n",
       "    <tr>\n",
       "      <th>2</th>\n",
       "      <td>2020-05-11</td>\n",
       "      <td>PER_EMOTE_1309</td>\n",
       "      <td>5394</td>\n",
       "    </tr>\n",
       "    <tr>\n",
       "      <th>3</th>\n",
       "      <td>2020-05-12</td>\n",
       "      <td>PER_AIRMON_MESH1911150</td>\n",
       "      <td>5864</td>\n",
       "    </tr>\n",
       "    <tr>\n",
       "      <th>4</th>\n",
       "      <td>2020-05-12</td>\n",
       "      <td>PER_AIRMON_MESH301245</td>\n",
       "      <td>3908</td>\n",
       "    </tr>\n",
       "    <tr>\n",
       "      <th>...</th>\n",
       "      <td>...</td>\n",
       "      <td>...</td>\n",
       "      <td>...</td>\n",
       "    </tr>\n",
       "    <tr>\n",
       "      <th>85</th>\n",
       "      <td>2020-06-08</td>\n",
       "      <td>PER_AIRMON_MESH301245</td>\n",
       "      <td>5934</td>\n",
       "    </tr>\n",
       "    <tr>\n",
       "      <th>86</th>\n",
       "      <td>2020-06-08</td>\n",
       "      <td>PER_EMOTE_1309</td>\n",
       "      <td>6462</td>\n",
       "    </tr>\n",
       "    <tr>\n",
       "      <th>87</th>\n",
       "      <td>2020-06-09</td>\n",
       "      <td>PER_AIRMON_MESH1911150</td>\n",
       "      <td>4731</td>\n",
       "    </tr>\n",
       "    <tr>\n",
       "      <th>88</th>\n",
       "      <td>2020-06-09</td>\n",
       "      <td>PER_AIRMON_MESH301245</td>\n",
       "      <td>4990</td>\n",
       "    </tr>\n",
       "    <tr>\n",
       "      <th>89</th>\n",
       "      <td>2020-06-09</td>\n",
       "      <td>PER_EMOTE_1309</td>\n",
       "      <td>6156</td>\n",
       "    </tr>\n",
       "  </tbody>\n",
       "</table>\n",
       "<p>90 rows × 3 columns</p>\n",
       "</div>"
      ],
      "text/plain": [
       "         Date                  Sensor  count\n",
       "0  2020-05-11  PER_AIRMON_MESH1911150   5785\n",
       "1  2020-05-11   PER_AIRMON_MESH301245   5218\n",
       "2  2020-05-11          PER_EMOTE_1309   5394\n",
       "3  2020-05-12  PER_AIRMON_MESH1911150   5864\n",
       "4  2020-05-12   PER_AIRMON_MESH301245   3908\n",
       "..        ...                     ...    ...\n",
       "85 2020-06-08   PER_AIRMON_MESH301245   5934\n",
       "86 2020-06-08          PER_EMOTE_1309   6462\n",
       "87 2020-06-09  PER_AIRMON_MESH1911150   4731\n",
       "88 2020-06-09   PER_AIRMON_MESH301245   4990\n",
       "89 2020-06-09          PER_EMOTE_1309   6156\n",
       "\n",
       "[90 rows x 3 columns]"
      ]
     },
     "execution_count": 19,
     "metadata": {},
     "output_type": "execute_result"
    }
   ],
   "source": [
    "df.groupby([\"Date\",\"Sensor\"])[\"Date\"].count().reset_index(name=\"count\")"
   ]
  },
  {
   "cell_type": "code",
   "execution_count": 20,
   "metadata": {},
   "outputs": [],
   "source": [
    "# daily_sensor_count[daily_sensor_count.Date=='2020-06-03']"
   ]
  },
  {
   "cell_type": "code",
   "execution_count": 21,
   "metadata": {},
   "outputs": [
    {
     "data": {
      "text/html": [
       "<div>\n",
       "<style scoped>\n",
       "    .dataframe tbody tr th:only-of-type {\n",
       "        vertical-align: middle;\n",
       "    }\n",
       "\n",
       "    .dataframe tbody tr th {\n",
       "        vertical-align: top;\n",
       "    }\n",
       "\n",
       "    .dataframe thead th {\n",
       "        text-align: right;\n",
       "    }\n",
       "</style>\n",
       "<table border=\"1\" class=\"dataframe\">\n",
       "  <thead>\n",
       "    <tr style=\"text-align: right;\">\n",
       "      <th></th>\n",
       "      <th>Date</th>\n",
       "      <th>Sensor</th>\n",
       "      <th>count</th>\n",
       "    </tr>\n",
       "  </thead>\n",
       "  <tbody>\n",
       "    <tr>\n",
       "      <th>0</th>\n",
       "      <td>2020-05-11</td>\n",
       "      <td>PER_AIRMON_MESH1911150</td>\n",
       "      <td>5785</td>\n",
       "    </tr>\n",
       "    <tr>\n",
       "      <th>1</th>\n",
       "      <td>2020-05-11</td>\n",
       "      <td>PER_AIRMON_MESH301245</td>\n",
       "      <td>5218</td>\n",
       "    </tr>\n",
       "    <tr>\n",
       "      <th>2</th>\n",
       "      <td>2020-05-11</td>\n",
       "      <td>PER_EMOTE_1309</td>\n",
       "      <td>5394</td>\n",
       "    </tr>\n",
       "    <tr>\n",
       "      <th>3</th>\n",
       "      <td>2020-05-12</td>\n",
       "      <td>PER_AIRMON_MESH1911150</td>\n",
       "      <td>5864</td>\n",
       "    </tr>\n",
       "    <tr>\n",
       "      <th>4</th>\n",
       "      <td>2020-05-12</td>\n",
       "      <td>PER_AIRMON_MESH301245</td>\n",
       "      <td>3908</td>\n",
       "    </tr>\n",
       "  </tbody>\n",
       "</table>\n",
       "</div>"
      ],
      "text/plain": [
       "        Date                  Sensor  count\n",
       "0 2020-05-11  PER_AIRMON_MESH1911150   5785\n",
       "1 2020-05-11   PER_AIRMON_MESH301245   5218\n",
       "2 2020-05-11          PER_EMOTE_1309   5394\n",
       "3 2020-05-12  PER_AIRMON_MESH1911150   5864\n",
       "4 2020-05-12   PER_AIRMON_MESH301245   3908"
      ]
     },
     "execution_count": 21,
     "metadata": {},
     "output_type": "execute_result"
    }
   ],
   "source": [
    "daily_sensor_count=df.groupby([\"Date\",\"Sensor\"])[\"Date\"].count().reset_index(name=\"count\")\n",
    "daily_sensor_count.head()"
   ]
  },
  {
   "cell_type": "code",
   "execution_count": 45,
   "metadata": {},
   "outputs": [],
   "source": [
    "def combinedPlot(c1,c2,position):\n",
    "    fig, ax = plt.subplots(figsize=(10,5))\n",
    "    df.groupby([c1,c2])[c1].count().unstack().plot(ax=ax,kind=\"bar\",stacked=True)\n",
    "    ax.legend(loc=position,ncol=2, fancybox=True, shadow=True)\n",
    "    plt.xticks(rotation=80)\n",
    "    plt.xlabel(c1)\n",
    "    plt.ylabel(c2)\n",
    "    plt.title(c2+\" wrt \"+c1)\n",
    "    plt.show()\n",
    "\n",
    "#     df.groupby([\"Date\",\"Sensor\"])[\"Date\"].count().reset_index(name=\"count\")"
   ]
  },
  {
   "cell_type": "code",
   "execution_count": 46,
   "metadata": {
    "scrolled": true
   },
   "outputs": [
    {
     "data": {
      "image/png": "[encoded data removed]",
      "text/plain": [
       "<Figure size 720x360 with 1 Axes>"
      ]
     },
     "metadata": {
      "needs_background": "light"
     },
     "output_type": "display_data"
    }
   ],
   "source": [
    "combinedPlot(\"Date\",\"Sensor\",\"upper center\")"
   ]
  },
  {
   "cell_type": "code",
   "execution_count": 47,
   "metadata": {},
   "outputs": [
    {
     "data": {
      "image/png": "[encoded data removed]",
      "text/plain": [
       "<Figure size 720x360 with 1 Axes>"
      ]
     },
     "metadata": {
      "needs_background": "light"
     },
     "output_type": "display_data"
    }
   ],
   "source": [
    "combinedPlot(\"Date\",\"Type\",\"upper center\")"
   ]
  },
  {
   "cell_type": "code",
   "execution_count": 48,
   "metadata": {},
   "outputs": [],
   "source": [
    "def individualTypePlot(c1,c2,position):\n",
    "    fig, ax = plt.subplots(figsize=(10,6))\n",
    "    newdf=df.loc[df[c2]==\"CO\"]\n",
    "    \n",
    "    df.groupby([c1,c2])[c1].count().unstack().plot(ax=ax,kind=\"bar\",stacked=True)\n",
    "    ax.legend(loc=position,ncol=2, fancybox=True, shadow=True)\n",
    "    plt.xticks(rotation=80)\n",
    "    plt.xlabel(c1)\n",
    "    plt.ylabel(c2)\n",
    "    plt.title(c2+\" wrt \"+c1)\n",
    "    plt.show()"
   ]
  },
  {
   "cell_type": "code",
   "execution_count": 26,
   "metadata": {},
   "outputs": [
    {
     "data": {
      "text/html": [
       "<div>\n",
       "<style scoped>\n",
       "    .dataframe tbody tr th:only-of-type {\n",
       "        vertical-align: middle;\n",
       "    }\n",
       "\n",
       "    .dataframe tbody tr th {\n",
       "        vertical-align: top;\n",
       "    }\n",
       "\n",
       "    .dataframe thead th {\n",
       "        text-align: right;\n",
       "    }\n",
       "</style>\n",
       "<table border=\"1\" class=\"dataframe\">\n",
       "  <thead>\n",
       "    <tr style=\"text-align: right;\">\n",
       "      <th></th>\n",
       "      <th>Sensor</th>\n",
       "      <th>Type</th>\n",
       "      <th>Units</th>\n",
       "      <th>time</th>\n",
       "      <th>Flag</th>\n",
       "      <th>Value</th>\n",
       "      <th>Date</th>\n",
       "      <th>Time</th>\n",
       "      <th>Hour</th>\n",
       "    </tr>\n",
       "  </thead>\n",
       "  <tbody>\n",
       "    <tr>\n",
       "      <th>51</th>\n",
       "      <td>PER_EMOTE_1309</td>\n",
       "      <td>CO</td>\n",
       "      <td>ugm -3</td>\n",
       "      <td>2020-06-06 11:02:56</td>\n",
       "      <td>0.0</td>\n",
       "      <td>270.577054</td>\n",
       "      <td>2020-06-06</td>\n",
       "      <td>11:02:56</td>\n",
       "      <td>11</td>\n",
       "    </tr>\n",
       "    <tr>\n",
       "      <th>89</th>\n",
       "      <td>PER_EMOTE_1309</td>\n",
       "      <td>CO</td>\n",
       "      <td>ugm -3</td>\n",
       "      <td>2020-05-21 06:41:25</td>\n",
       "      <td>0.0</td>\n",
       "      <td>322.458252</td>\n",
       "      <td>2020-05-21</td>\n",
       "      <td>06:41:25</td>\n",
       "      <td>6</td>\n",
       "    </tr>\n",
       "  </tbody>\n",
       "</table>\n",
       "</div>"
      ],
      "text/plain": [
       "            Sensor Type   Units                time  Flag       Value  \\\n",
       "51  PER_EMOTE_1309   CO  ugm -3 2020-06-06 11:02:56   0.0  270.577054   \n",
       "89  PER_EMOTE_1309   CO  ugm -3 2020-05-21 06:41:25   0.0  322.458252   \n",
       "\n",
       "         Date      Time  Hour  \n",
       "51 2020-06-06  11:02:56    11  \n",
       "89 2020-05-21  06:41:25     6  "
      ]
     },
     "execution_count": 26,
     "metadata": {},
     "output_type": "execute_result"
    }
   ],
   "source": [
    "newdf=df.loc[df[\"Type\"]==\"CO\"]\n",
    "newdf.head(2)"
   ]
  },
  {
   "cell_type": "code",
   "execution_count": 27,
   "metadata": {},
   "outputs": [
    {
     "data": {
      "text/html": [
       "<div>\n",
       "<style scoped>\n",
       "    .dataframe tbody tr th:only-of-type {\n",
       "        vertical-align: middle;\n",
       "    }\n",
       "\n",
       "    .dataframe tbody tr th {\n",
       "        vertical-align: top;\n",
       "    }\n",
       "\n",
       "    .dataframe thead th {\n",
       "        text-align: right;\n",
       "    }\n",
       "</style>\n",
       "<table border=\"1\" class=\"dataframe\">\n",
       "  <thead>\n",
       "    <tr style=\"text-align: right;\">\n",
       "      <th></th>\n",
       "      <th>Hour</th>\n",
       "      <th>Type</th>\n",
       "      <th>Value</th>\n",
       "    </tr>\n",
       "  </thead>\n",
       "  <tbody>\n",
       "    <tr>\n",
       "      <th>51</th>\n",
       "      <td>11</td>\n",
       "      <td>CO</td>\n",
       "      <td>270.577054</td>\n",
       "    </tr>\n",
       "    <tr>\n",
       "      <th>89</th>\n",
       "      <td>6</td>\n",
       "      <td>CO</td>\n",
       "      <td>322.458252</td>\n",
       "    </tr>\n",
       "    <tr>\n",
       "      <th>105</th>\n",
       "      <td>14</td>\n",
       "      <td>CO</td>\n",
       "      <td>314.089315</td>\n",
       "    </tr>\n",
       "    <tr>\n",
       "      <th>134</th>\n",
       "      <td>20</td>\n",
       "      <td>CO</td>\n",
       "      <td>283.346188</td>\n",
       "    </tr>\n",
       "    <tr>\n",
       "      <th>148</th>\n",
       "      <td>15</td>\n",
       "      <td>CO</td>\n",
       "      <td>333.613730</td>\n",
       "    </tr>\n",
       "  </tbody>\n",
       "</table>\n",
       "</div>"
      ],
      "text/plain": [
       "     Hour Type       Value\n",
       "51     11   CO  270.577054\n",
       "89      6   CO  322.458252\n",
       "105    14   CO  314.089315\n",
       "134    20   CO  283.346188\n",
       "148    15   CO  333.613730"
      ]
     },
     "execution_count": 27,
     "metadata": {},
     "output_type": "execute_result"
    }
   ],
   "source": [
    "newdf_1=newdf[[\"Hour\",\"Type\",\"Value\"]]\n",
    "newdf_1.head()"
   ]
  },
  {
   "cell_type": "code",
   "execution_count": 28,
   "metadata": {},
   "outputs": [],
   "source": [
    "# newdf_1.plot(x=\"Hour\",y=\"Value\")"
   ]
  },
  {
   "cell_type": "code",
   "execution_count": 29,
   "metadata": {},
   "outputs": [
    {
     "data": {
      "text/html": [
       "<div>\n",
       "<style scoped>\n",
       "    .dataframe tbody tr th:only-of-type {\n",
       "        vertical-align: middle;\n",
       "    }\n",
       "\n",
       "    .dataframe tbody tr th {\n",
       "        vertical-align: top;\n",
       "    }\n",
       "\n",
       "    .dataframe thead th {\n",
       "        text-align: right;\n",
       "    }\n",
       "</style>\n",
       "<table border=\"1\" class=\"dataframe\">\n",
       "  <thead>\n",
       "    <tr style=\"text-align: right;\">\n",
       "      <th></th>\n",
       "      <th>Type</th>\n",
       "      <th>Value</th>\n",
       "    </tr>\n",
       "    <tr>\n",
       "      <th>Hour</th>\n",
       "      <th></th>\n",
       "      <th></th>\n",
       "    </tr>\n",
       "  </thead>\n",
       "  <tbody>\n",
       "    <tr>\n",
       "      <th>11</th>\n",
       "      <td>CO</td>\n",
       "      <td>270.577054</td>\n",
       "    </tr>\n",
       "    <tr>\n",
       "      <th>6</th>\n",
       "      <td>CO</td>\n",
       "      <td>322.458252</td>\n",
       "    </tr>\n",
       "    <tr>\n",
       "      <th>14</th>\n",
       "      <td>CO</td>\n",
       "      <td>314.089315</td>\n",
       "    </tr>\n",
       "    <tr>\n",
       "      <th>20</th>\n",
       "      <td>CO</td>\n",
       "      <td>283.346188</td>\n",
       "    </tr>\n",
       "    <tr>\n",
       "      <th>15</th>\n",
       "      <td>CO</td>\n",
       "      <td>333.613730</td>\n",
       "    </tr>\n",
       "    <tr>\n",
       "      <th>...</th>\n",
       "      <td>...</td>\n",
       "      <td>...</td>\n",
       "    </tr>\n",
       "    <tr>\n",
       "      <th>5</th>\n",
       "      <td>CO</td>\n",
       "      <td>319.817638</td>\n",
       "    </tr>\n",
       "    <tr>\n",
       "      <th>19</th>\n",
       "      <td>CO</td>\n",
       "      <td>300.159931</td>\n",
       "    </tr>\n",
       "    <tr>\n",
       "      <th>14</th>\n",
       "      <td>CO</td>\n",
       "      <td>346.714196</td>\n",
       "    </tr>\n",
       "    <tr>\n",
       "      <th>0</th>\n",
       "      <td>CO</td>\n",
       "      <td>511.131005</td>\n",
       "    </tr>\n",
       "    <tr>\n",
       "      <th>15</th>\n",
       "      <td>CO</td>\n",
       "      <td>263.416487</td>\n",
       "    </tr>\n",
       "  </tbody>\n",
       "</table>\n",
       "<p>36824 rows × 2 columns</p>\n",
       "</div>"
      ],
      "text/plain": [
       "     Type       Value\n",
       "Hour                 \n",
       "11     CO  270.577054\n",
       "6      CO  322.458252\n",
       "14     CO  314.089315\n",
       "20     CO  283.346188\n",
       "15     CO  333.613730\n",
       "...   ...         ...\n",
       "5      CO  319.817638\n",
       "19     CO  300.159931\n",
       "14     CO  346.714196\n",
       "0      CO  511.131005\n",
       "15     CO  263.416487\n",
       "\n",
       "[36824 rows x 2 columns]"
      ]
     },
     "execution_count": 29,
     "metadata": {},
     "output_type": "execute_result"
    }
   ],
   "source": [
    "newdf_1.set_index(\"Hour\")"
   ]
  },
  {
   "cell_type": "code",
   "execution_count": 30,
   "metadata": {},
   "outputs": [],
   "source": [
    "# import seaborn as sns\n",
    "# # Use seaborn style defaults and set the default figure size\n",
    "# sns.set(rc={'figure.figsize':(11, 4)})\n",
    "# newdf_1[\"Value\"].plot(linewidth=0.5)"
   ]
  },
  {
   "cell_type": "code",
   "execution_count": 33,
   "metadata": {},
   "outputs": [],
   "source": [
    "df_123=df.drop([\"Flag\"],axis=1)\n",
    "n=df_123.groupby([\"Date\",\"Hour\",\"Type\"]).mean()"
   ]
  },
  {
   "cell_type": "code",
   "execution_count": 34,
   "metadata": {},
   "outputs": [
    {
     "data": {
      "text/html": [
       "<div>\n",
       "<style scoped>\n",
       "    .dataframe tbody tr th:only-of-type {\n",
       "        vertical-align: middle;\n",
       "    }\n",
       "\n",
       "    .dataframe tbody tr th {\n",
       "        vertical-align: top;\n",
       "    }\n",
       "\n",
       "    .dataframe thead th {\n",
       "        text-align: right;\n",
       "    }\n",
       "</style>\n",
       "<table border=\"1\" class=\"dataframe\">\n",
       "  <thead>\n",
       "    <tr style=\"text-align: right;\">\n",
       "      <th></th>\n",
       "      <th></th>\n",
       "      <th></th>\n",
       "      <th>Value</th>\n",
       "    </tr>\n",
       "    <tr>\n",
       "      <th>Date</th>\n",
       "      <th>Hour</th>\n",
       "      <th>Type</th>\n",
       "      <th></th>\n",
       "    </tr>\n",
       "  </thead>\n",
       "  <tbody>\n",
       "    <tr>\n",
       "      <th rowspan=\"5\" valign=\"top\">2020-05-11</th>\n",
       "      <th rowspan=\"5\" valign=\"top\">1</th>\n",
       "      <th>CO</th>\n",
       "      <td>61.967400</td>\n",
       "    </tr>\n",
       "    <tr>\n",
       "      <th>Humidity</th>\n",
       "      <td>64.608163</td>\n",
       "    </tr>\n",
       "    <tr>\n",
       "      <th>NO</th>\n",
       "      <td>17.896063</td>\n",
       "    </tr>\n",
       "    <tr>\n",
       "      <th>NO2</th>\n",
       "      <td>5.144135</td>\n",
       "    </tr>\n",
       "    <tr>\n",
       "      <th>O3</th>\n",
       "      <td>31.924167</td>\n",
       "    </tr>\n",
       "  </tbody>\n",
       "</table>\n",
       "</div>"
      ],
      "text/plain": [
       "                              Value\n",
       "Date       Hour Type               \n",
       "2020-05-11 1    CO        61.967400\n",
       "                Humidity  64.608163\n",
       "                NO        17.896063\n",
       "                NO2        5.144135\n",
       "                O3        31.924167"
      ]
     },
     "execution_count": 34,
     "metadata": {},
     "output_type": "execute_result"
    }
   ],
   "source": [
    "n.head()"
   ]
  },
  {
   "cell_type": "code",
   "execution_count": 35,
   "metadata": {},
   "outputs": [],
   "source": [
    "df_123=df.drop([\"Flag\"],axis=1)\n",
    "o=df_123.loc[df_123[\"Date\"]==\"2020-05-11\"]\n",
    "p=o.groupby([\"Hour\",\"Type\"])[\"Value\"].mean()"
   ]
  },
  {
   "cell_type": "code",
   "execution_count": 36,
   "metadata": {},
   "outputs": [
    {
     "data": {
      "text/plain": [
       "Hour  Type    \n",
       "1     CO          61.967400\n",
       "      Humidity    64.608163\n",
       "      NO          17.896063\n",
       "      NO2          5.144135\n",
       "      O3          31.924167\n",
       "Name: Value, dtype: float64"
      ]
     },
     "execution_count": 36,
     "metadata": {},
     "output_type": "execute_result"
    }
   ],
   "source": [
    "p.head()\n",
    "q=p.unstack()"
   ]
  },
  {
   "cell_type": "code",
   "execution_count": 54,
   "metadata": {},
   "outputs": [
    {
     "data": {
      "text/html": [
       "<div>\n",
       "<style scoped>\n",
       "    .dataframe tbody tr th:only-of-type {\n",
       "        vertical-align: middle;\n",
       "    }\n",
       "\n",
       "    .dataframe tbody tr th {\n",
       "        vertical-align: top;\n",
       "    }\n",
       "\n",
       "    .dataframe thead th {\n",
       "        text-align: right;\n",
       "    }\n",
       "</style>\n",
       "<table border=\"1\" class=\"dataframe\">\n",
       "  <thead>\n",
       "    <tr style=\"text-align: right;\">\n",
       "      <th>Type</th>\n",
       "      <th>CO</th>\n",
       "      <th>Humidity</th>\n",
       "      <th>NO</th>\n",
       "      <th>NO2</th>\n",
       "      <th>O3</th>\n",
       "      <th>PM 4</th>\n",
       "      <th>PM1</th>\n",
       "      <th>PM10</th>\n",
       "      <th>PM2.5</th>\n",
       "      <th>Pressure</th>\n",
       "      <th>Sound</th>\n",
       "      <th>Temperature</th>\n",
       "    </tr>\n",
       "    <tr>\n",
       "      <th>Hour</th>\n",
       "      <th></th>\n",
       "      <th></th>\n",
       "      <th></th>\n",
       "      <th></th>\n",
       "      <th></th>\n",
       "      <th></th>\n",
       "      <th></th>\n",
       "      <th></th>\n",
       "      <th></th>\n",
       "      <th></th>\n",
       "      <th></th>\n",
       "      <th></th>\n",
       "    </tr>\n",
       "  </thead>\n",
       "  <tbody>\n",
       "    <tr>\n",
       "      <th>1</th>\n",
       "      <td>61.967400</td>\n",
       "      <td>64.608163</td>\n",
       "      <td>17.896063</td>\n",
       "      <td>5.144135</td>\n",
       "      <td>31.924167</td>\n",
       "      <td>4.165364</td>\n",
       "      <td>2.024900</td>\n",
       "      <td>9.123345</td>\n",
       "      <td>4.156318</td>\n",
       "      <td>1026.716667</td>\n",
       "      <td>57.6</td>\n",
       "      <td>4.773469</td>\n",
       "    </tr>\n",
       "    <tr>\n",
       "      <th>2</th>\n",
       "      <td>56.758223</td>\n",
       "      <td>66.585294</td>\n",
       "      <td>14.824185</td>\n",
       "      <td>5.419156</td>\n",
       "      <td>31.774500</td>\n",
       "      <td>4.288750</td>\n",
       "      <td>2.096795</td>\n",
       "      <td>9.323562</td>\n",
       "      <td>4.267179</td>\n",
       "      <td>1026.787500</td>\n",
       "      <td>NaN</td>\n",
       "      <td>4.597059</td>\n",
       "    </tr>\n",
       "    <tr>\n",
       "      <th>3</th>\n",
       "      <td>58.115334</td>\n",
       "      <td>67.461765</td>\n",
       "      <td>30.029513</td>\n",
       "      <td>2.977916</td>\n",
       "      <td>32.361000</td>\n",
       "      <td>3.997679</td>\n",
       "      <td>1.950804</td>\n",
       "      <td>8.922509</td>\n",
       "      <td>4.056937</td>\n",
       "      <td>1026.837500</td>\n",
       "      <td>NaN</td>\n",
       "      <td>4.344118</td>\n",
       "    </tr>\n",
       "    <tr>\n",
       "      <th>4</th>\n",
       "      <td>46.773823</td>\n",
       "      <td>65.250000</td>\n",
       "      <td>15.916232</td>\n",
       "      <td>2.300215</td>\n",
       "      <td>33.000750</td>\n",
       "      <td>4.019286</td>\n",
       "      <td>1.968286</td>\n",
       "      <td>8.884143</td>\n",
       "      <td>4.088152</td>\n",
       "      <td>1026.875000</td>\n",
       "      <td>NaN</td>\n",
       "      <td>4.710294</td>\n",
       "    </tr>\n",
       "    <tr>\n",
       "      <th>5</th>\n",
       "      <td>60.183490</td>\n",
       "      <td>66.489552</td>\n",
       "      <td>16.874679</td>\n",
       "      <td>2.627687</td>\n",
       "      <td>31.424375</td>\n",
       "      <td>4.103571</td>\n",
       "      <td>2.112991</td>\n",
       "      <td>9.332893</td>\n",
       "      <td>4.168375</td>\n",
       "      <td>1026.812500</td>\n",
       "      <td>NaN</td>\n",
       "      <td>4.632836</td>\n",
       "    </tr>\n",
       "  </tbody>\n",
       "</table>\n",
       "</div>"
      ],
      "text/plain": [
       "Type         CO   Humidity         NO       NO2         O3      PM 4  \\\n",
       "Hour                                                                   \n",
       "1     61.967400  64.608163  17.896063  5.144135  31.924167  4.165364   \n",
       "2     56.758223  66.585294  14.824185  5.419156  31.774500  4.288750   \n",
       "3     58.115334  67.461765  30.029513  2.977916  32.361000  3.997679   \n",
       "4     46.773823  65.250000  15.916232  2.300215  33.000750  4.019286   \n",
       "5     60.183490  66.489552  16.874679  2.627687  31.424375  4.103571   \n",
       "\n",
       "Type       PM1      PM10     PM2.5     Pressure  Sound  Temperature  \n",
       "Hour                                                                 \n",
       "1     2.024900  9.123345  4.156318  1026.716667   57.6     4.773469  \n",
       "2     2.096795  9.323562  4.267179  1026.787500    NaN     4.597059  \n",
       "3     1.950804  8.922509  4.056937  1026.837500    NaN     4.344118  \n",
       "4     1.968286  8.884143  4.088152  1026.875000    NaN     4.710294  \n",
       "5     2.112991  9.332893  4.168375  1026.812500    NaN     4.632836  "
      ]
     },
     "execution_count": 54,
     "metadata": {},
     "output_type": "execute_result"
    },
    {
     "data": {
      "text/plain": [
       "<matplotlib.legend.Legend at 0x2521eebc748>"
      ]
     },
     "execution_count": 54,
     "metadata": {},
     "output_type": "execute_result"
    },
    {
     "data": {
      "image/png": "[encoded data removed]",
      "text/plain": [
       "<Figure size 1008x432 with 1 Axes>"
      ]
     },
     "metadata": {
      "needs_background": "light"
     },
     "output_type": "display_data"
    }
   ],
   "source": [
    "q.head()\n",
    "# q.plot()\n",
    "# plt.show()\n",
    "# fig, ax = plt.subplots(figsize=(12,5))\n",
    "# _=plt.plot(q,label=(\"CO\",\"Humidity\",\"NO\"));\n",
    "# ax.legend()\n",
    "# # ax.plot(q);\n",
    "# plt.show()\n",
    "\n",
    "\n",
    "fig, ax = plt.subplots(figsize=(14,6))\n",
    "o=df.loc[df[\"Date\"]==\"2020-06-01\"]\n",
    "_=o.groupby([\"Hour\",\"Type\"])[\"Value\"].mean().unstack().plot(ax=ax)\n",
    "_=ax.set_xticks([i for i in range(0,24)])\n",
    "ax.grid()\n",
    "ax.legend(loc=\"center left\",ncol=3, fancybox=True, shadow=True)\n",
    "# df.groupby([c1,c2])[c1].count().unstack().plot(ax=ax,kind=\"bar\",stacked=True)\n",
    "# ax.legend(loc=position,ncol=2, fancybox=True, shadow=True)"
   ]
  },
  {
   "cell_type": "code",
   "execution_count": 55,
   "metadata": {},
   "outputs": [],
   "source": [
    "def hourly_plot(date,type_data):\n",
    "    fig, ax = plt.subplots(figsize=(14,5))\n",
    "    o=df.loc[df[\"Date\"]==date]\n",
    "    q=o.groupby([\"Hour\",\"Type\"])[\"Value\"].mean().unstack()\n",
    "    for i in range(0,len(type_data)):\n",
    "        ax.plot(q[type_data[i]],label=type_data[i])\n",
    "    ax.legend(loc=\"upper left\",ncol=3, fancybox=True, shadow=True)\n",
    "    plt.xlabel(\"Hour\")\n",
    "    ax.grid()\n",
    "    plt.ylabel(\"Value\")\n",
    "    plt.title(\"Various types wrt hours of \"+date )\n",
    "    ax.set_xticks([i for i in range(0,24)])"
   ]
  },
  {
   "cell_type": "code",
   "execution_count": 56,
   "metadata": {},
   "outputs": [
    {
     "data": {
      "image/png": "[encoded data removed]",
      "text/plain": [
       "<Figure size 1008x360 with 1 Axes>"
      ]
     },
     "metadata": {
      "needs_background": "light"
     },
     "output_type": "display_data"
    }
   ],
   "source": [
    "cols=[\"CO\",\"Humidity\",\"NO\",\"NO2\",\"O3\",\"PM 4\",\"PM2.5\",\"PM10\",\"PM1\",\"Temperature\",\"Sound\"]\n",
    "hourly_plot(\"2020-05-12\",cols)\n",
    "plt.show()"
   ]
  },
  {
   "cell_type": "code",
   "execution_count": null,
   "metadata": {},
   "outputs": [],
   "source": []
  }
 ],
 "metadata": {
  "kernelspec": {
   "display_name": "Python 3",
   "language": "python",
   "name": "python3"
  },
  "language_info": {
   "codemirror_mode": {
    "name": "ipython",
    "version": 3
   },
   "file_extension": ".py",
   "mimetype": "text/x-python",
   "name": "python",
   "nbconvert_exporter": "python",
   "pygments_lexer": "ipython3",
   "version": "3.7.5"
  }
 },
 "nbformat": 4,
 "nbformat_minor": 2
}
